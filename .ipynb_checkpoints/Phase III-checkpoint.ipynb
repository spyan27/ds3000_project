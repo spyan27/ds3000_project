{
 "cells": [
  {
   "cell_type": "markdown",
   "id": "22b8f5ef-93e0-4d62-ab9e-715ea637adcc",
   "metadata": {},
   "source": [
    "# Phase III: First ML Proof of Concept\n",
    "## College Admissions Exploration \n",
    "\n",
    "- Team\n",
    "- John Rotondo, Spring Yan, Anne Hu, Evan Li"
   ]
  },
  {
   "cell_type": "markdown",
   "id": "0c54a9d1-8be1-4246-a0ab-f4061fb2b832",
   "metadata": {},
   "source": [
    "Each **project group** will submit a single **jupyter notebook** which contains:\n",
    "\n",
    "1. (3%) The implementation (using NumPy) of your first ML model as a function call to the cleaned data\n",
    "2. (2%) A discussion of the preliminary results:\n",
    "   - This may include checking of assumptions, generated plots/tables, measures of fit, or other attributes of the analysis\n",
    "   - It does not have to be fully correct, but as a proof of concept must demonstrate that the group is close to completing the analysis"
   ]
  },
  {
   "cell_type": "code",
   "execution_count": 2,
   "id": "4181c652-b6d7-4b26-9a63-b335a2da69c0",
   "metadata": {},
   "outputs": [
    {
     "ename": "ImportError",
     "evalue": "cannot import name 'key' from 'secret' (/Users/springyan/ds3000_project/secret.py)",
     "output_type": "error",
     "traceback": [
      "\u001b[0;31m---------------------------------------------------------------------------\u001b[0m",
      "\u001b[0;31mImportError\u001b[0m                               Traceback (most recent call last)",
      "Cell \u001b[0;32mIn[2], line 1\u001b[0m\n\u001b[0;32m----> 1\u001b[0m \u001b[38;5;28;01mfrom\u001b[39;00m \u001b[38;5;21;01msecret\u001b[39;00m \u001b[38;5;28;01mimport\u001b[39;00m key\n",
      "\u001b[0;31mImportError\u001b[0m: cannot import name 'key' from 'secret' (/Users/springyan/ds3000_project/secret.py)"
     ]
    }
   ],
   "source": [
    "from secret import key"
   ]
  },
  {
   "cell_type": "markdown",
   "id": "2d36ed14-c9d7-450e-b30a-7ab7e52350fc",
   "metadata": {},
   "source": [
    "# ML Model "
   ]
  },
  {
   "cell_type": "code",
   "execution_count": null,
   "id": "f7b10e56-4fb0-4069-aa2c-7aae1943f953",
   "metadata": {},
   "outputs": [],
   "source": [
    "# ---- fetch data & clean data here!"
   ]
  },
  {
   "cell_type": "code",
   "execution_count": null,
   "id": "09096dc4-9456-4051-b89f-880c68f7447c",
   "metadata": {},
   "outputs": [],
   "source": []
  },
  {
   "cell_type": "code",
   "execution_count": null,
   "id": "74ae40a4-9a07-40dc-aa78-0088c49223c0",
   "metadata": {},
   "outputs": [],
   "source": []
  },
  {
   "cell_type": "code",
   "execution_count": null,
   "id": "b74e2fdb-32d4-4e0f-abcb-02ecc6b85d7b",
   "metadata": {},
   "outputs": [],
   "source": []
  },
  {
   "cell_type": "code",
   "execution_count": null,
   "id": "cdab23c0-bffe-4054-8378-f4fb4cb95dba",
   "metadata": {},
   "outputs": [],
   "source": []
  },
  {
   "cell_type": "markdown",
   "id": "44769f48-614c-4c6d-8d0c-ced0609186ab",
   "metadata": {},
   "source": [
    "# Dicussion of Results"
   ]
  },
  {
   "cell_type": "code",
   "execution_count": null,
   "id": "de0f84f3-8945-46a6-b474-edc6dac78e29",
   "metadata": {},
   "outputs": [],
   "source": []
  },
  {
   "cell_type": "code",
   "execution_count": null,
   "id": "1bb769f8-e167-4a96-8cfe-6cb69ab21f3c",
   "metadata": {},
   "outputs": [],
   "source": []
  },
  {
   "cell_type": "code",
   "execution_count": null,
   "id": "85c4e00f-1af2-4052-afc1-8a5cc0e866d2",
   "metadata": {},
   "outputs": [],
   "source": []
  }
 ],
 "metadata": {
  "kernelspec": {
   "display_name": "Python 3 (ipykernel)",
   "language": "python",
   "name": "python3"
  },
  "language_info": {
   "codemirror_mode": {
    "name": "ipython",
    "version": 3
   },
   "file_extension": ".py",
   "mimetype": "text/x-python",
   "name": "python",
   "nbconvert_exporter": "python",
   "pygments_lexer": "ipython3",
   "version": "3.11.10"
  }
 },
 "nbformat": 4,
 "nbformat_minor": 5
}
