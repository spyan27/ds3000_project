{
 "cells": [
  {
   "cell_type": "markdown",
   "id": "4939929c",
   "metadata": {},
   "source": [
    "# Phase II: Data Curation, Exploratory Analysis and Plotting\n",
    "## Project Title Here\n",
    "\n",
    "- Team\n",
    "- John Rotondo, Spring Yan, Anne Hu, Evan Li"
   ]
  },
  {
   "cell_type": "markdown",
   "id": "709b10b9",
   "metadata": {},
   "source": [
    "## Project Goal:\n",
    "\n",
    "We are using the College Scorecard API to gather data on various colleges. The program we are designing will allow students to input their ACT or SAT scores along with their major of interest and any other needed information. Based on this input, the program will generate a customized list of colleges categorized as reach schools, target schools, and safety schools. These categories are based on the student’s academic profile and the best fit for the chosen major, helping students make informed decisions about which colleges to apply to."
   ]
  },
  {
   "cell_type": "markdown",
   "id": "c25d2059",
   "metadata": {},
   "source": [
    "## Pipeline Overview:\n",
    "\n",
    "From the College Scorecard API:\n",
    "\n",
    "- We use `get_school_id` and `find_school` to find the unique ID from a given school name and get the relevant data from the find_school function.\n",
    "- Rely heavily on refining the url that calls the api by adding in specfic fields and ranges\n",
    "- Build `get_pages_data` to gather all relevant data from the api and create a workaround the page limits the api sets by default\n",
    "- Then, finally have the `build_df` function that converts the json response from the api to an easy to work with dictionary, with the specified parameters to then turn into a Pandas dataframe.\n",
    "\n",
    "NOTE: There is some repetitive code across the `find_school` and `get_pages_data` functions due to the nature of the api and for ease of use in phase 3 if we want to retrive data for a given school directly. "
   ]
  },
  {
   "cell_type": "markdown",
   "id": "bc170a78",
   "metadata": {},
   "source": [
    "### Pipeline:"
   ]
  },
  {
   "cell_type": "markdown",
   "id": "d7a6e5f5",
   "metadata": {},
   "source": [
    "#### 0. Imports:"
   ]
  },
  {
   "cell_type": "code",
   "execution_count": 80,
   "id": "915d699a",
   "metadata": {},
   "outputs": [],
   "source": [
    "import requests\n",
    "import os\n",
    "import random\n",
    "import time\n",
    "import json\n",
    "import pandas as pd\n",
    "import numpy as np\n",
    "from bs4 import BeautifulSoup\n",
    "\n",
    "# For plotting\n",
    "import matplotlib.pyplot as plt\n",
    "import seaborn as sns\n",
    "import plotly.express as px"
   ]
  },
  {
   "cell_type": "markdown",
   "id": "e65216d9",
   "metadata": {},
   "source": [
    "#### 1. Intializing API key and base url:"
   ]
  },
  {
   "cell_type": "code",
   "execution_count": 4,
   "id": "1d04036c-25e3-48c1-a655-210658281faa",
   "metadata": {},
   "outputs": [],
   "source": [
    "# this is the API key for college scorecard\n",
    "key = 'eKqjIMsTr8NFbXbKmGecMsA1oebkdIPd3TlGeEGY'\n",
    "\n",
    "# this is the URL and the key used to get access to the API.\n",
    "url = 'https://api.data.gov/ed/collegescorecard/v1/schools'"
   ]
  },
  {
   "cell_type": "markdown",
   "id": "92f5ca52-318c-4aaa-a133-fc56cf153352",
   "metadata": {},
   "source": [
    "#### 2. Fetching Data on School-Name Basis:"
   ]
  },
  {
   "cell_type": "code",
   "execution_count": 5,
   "id": "bac1707c-358d-41f3-be66-d27a5ade7dcf",
   "metadata": {},
   "outputs": [],
   "source": [
    "\n",
    "def get_school_ids(schools: tuple[str]) -> dict:\n",
    "    \"\"\"\n",
    "    Gets the school ids from College ScoreCard\n",
    "    Params:\n",
    "        Schools (tuple(str)) is a collection of the school names you want the ids for\n",
    "    Return:\n",
    "        A Dictionary where the key is the name of the school and the ids are the values\n",
    "    \"\"\"\n",
    "    dc = {}\n",
    "    for school in schools:\n",
    "        params = {\n",
    "            'school.name': school,\n",
    "            'fields': 'id,school.name,school.city,school.state',\n",
    "            'api_key': 'eKqjIMsTr8NFbXbKmGecMsA1oebkdIPd3TlGeEGY'\n",
    "        }\n",
    "        response = requests.get('https://api.data.gov/ed/collegescorecard/v1/schools', params=params)\n",
    "        data = response.json()\n",
    "\n",
    "        if 'results' in data:\n",
    "            for result in data['results']:\n",
    "                school_name = result.get('school.name', 'N/A')\n",
    "                if school_name != school:\n",
    "                    continue\n",
    "                dc[school] = result.get('id')\n",
    "        else:\n",
    "            raise ValueError(school + \"data not found\")\n",
    "    return dc\n"
   ]
  },
  {
   "cell_type": "code",
   "execution_count": 6,
   "id": "838e88fd",
   "metadata": {},
   "outputs": [
    {
     "name": "stdout",
     "output_type": "stream",
     "text": [
      "{'Northeastern University': 167358, 'Northwestern University': 147767}\n",
      "   School ID              School Name    City  SAT Average  ACT Average\n",
      "0     167358  Northeastern University  Boston         1505           34\n"
     ]
    }
   ],
   "source": [
    "def find_school(schoolID: str):\n",
    "    \"\"\"\n",
    "    Finds a school based on id and returns a dataframe containing its relevant details\n",
    "\n",
    "    Args:\n",
    "        school (str) the name of the school\n",
    "    \n",
    "    Returns:\n",
    "        returns a dataframe containing details for that school\n",
    "    \"\"\"\n",
    "    school_info = []\n",
    "    \n",
    "    # This is the URL and the key used to get access to the API.\n",
    "    url = 'https://api.data.gov/ed/collegescorecard/v1/schools'\n",
    "    key = 'eKqjIMsTr8NFbXbKmGecMsA1oebkdIPd3TlGeEGY'\n",
    "    \n",
    "    # Parameters for the API request\n",
    "    api_req = {\n",
    "        'api_key': key,\n",
    "        'id': schoolID,\n",
    "        'fields': 'id,school.name,school.city,latest.admissions.sat_scores.average.overall,latest.admissions.act_scores.midpoint.cumulative'\n",
    "    }\n",
    "\n",
    "    # Gets the data from the College Scorecard API and turns it into json format\n",
    "    response = requests.get(url, params=api_req)\n",
    "\n",
    "    data = response.json()\n",
    "    \n",
    "    # Appending data to list for a school in the results\n",
    "    for x in data.get('results', []):\n",
    "        school_info.append({\n",
    "            'School ID': x.get('id'),\n",
    "            'School Name': x.get('school.name'),\n",
    "            'City': x.get('school.city'),\n",
    "            'SAT Average': x.get('latest.admissions.sat_scores.average.overall'),\n",
    "            'ACT Average': x.get('latest.admissions.act_scores.midpoint.cumulative')\n",
    "        })\n",
    "    # Turn the list to a DataFrame\n",
    "    df = pd.DataFrame(school_info)\n",
    "    return df\n",
    "\n",
    "ids = get_school_ids((\"Northeastern University\", \"Northwestern University\"))\n",
    "print(ids)\n",
    "df = find_school('167358')\n",
    "print(df)"
   ]
  },
  {
   "cell_type": "markdown",
   "id": "ad4feefe-69b5-4635-9f1e-28c9a2cf7daa",
   "metadata": {},
   "source": [
    "#### 3. Gathering data across page limits and for all schools within a specified student population size:"
   ]
  },
  {
   "cell_type": "code",
   "execution_count": 78,
   "id": "17544858-bcb4-4c34-8cc0-2351fed3c6d9",
   "metadata": {},
   "outputs": [],
   "source": [
    "def get_pages_data(key, student_size=10000):\n",
    "    \"\"\"Gets the api response and applies filter on student size, making sure to go through all the pages of data \n",
    "    Params:\n",
    "    - key = api key \n",
    "    - student_size = minimum threshold (int)\n",
    "    Returns:\n",
    "    A list with the api response stored \"\"\"\n",
    "    # Base URL for the College Scorecard API\n",
    "    base_url = \"https://api.data.gov/ed/collegescorecard/v1/schools\"\n",
    "    \n",
    "    # Parameters for the API call\n",
    "    params = {\n",
    "        'api_key': key,\n",
    "        'per_page': 100,  # Number of records per page (max is usually 100)\n",
    "        'page': 0,  # Start at the first page\n",
    "        f'student.size__range': f'{student_size}..'  # Filter for schools with more than 50,000 students\n",
    "    }\n",
    "    \n",
    "    # List to store all school data\n",
    "    all_schools = []\n",
    "    \n",
    "    # Loop through pages until there are no more results\n",
    "    while True:\n",
    "        # Increment the page number\n",
    "        params['page'] += 1\n",
    "        \n",
    "        # Make the API request\n",
    "        response = requests.get(base_url, params=params)\n",
    "        \n",
    "        # Check the response status\n",
    "        if response.status_code != 200:\n",
    "            print(f\"Error: {response.status_code}, {response.text}\")\n",
    "            break\n",
    "    \n",
    "        # Get the JSON data\n",
    "        data = response.json()\n",
    "        \n",
    "        # Check if there are results\n",
    "        if 'results' in data and len(data['results']) > 0:\n",
    "            # Append the results to the all_schools list\n",
    "            all_schools.extend(data['results'])\n",
    "            print(f\"Retrieved {len(data['results'])} records from page {params['page']}\")\n",
    "        else:\n",
    "            # If there are no more results, break the loop\n",
    "            print(f\"No more records found on page {params['page']}. Stopping.\")\n",
    "            break\n",
    "    \n",
    "    # Print the total number of schools retrieved\n",
    "    print(f\"Total schools retrieved: {len(all_schools)}\")\n",
    "    return all_schools"
   ]
  },
  {
   "cell_type": "code",
   "execution_count": 8,
   "id": "352afe87-094a-4328-b218-6679dbf6e24c",
   "metadata": {
    "scrolled": true
   },
   "outputs": [
    {
     "name": "stdout",
     "output_type": "stream",
     "text": [
      "Retrieved 100 records from page 1\n",
      "Retrieved 100 records from page 2\n",
      "Retrieved 100 records from page 3\n",
      "Retrieved 100 records from page 4\n",
      "Retrieved 100 records from page 5\n",
      "Retrieved 100 records from page 6\n",
      "Retrieved 19 records from page 7\n",
      "No more records found on page 8. Stopping.\n",
      "Total schools retrieved: 619\n"
     ]
    }
   ],
   "source": [
    "data_dct = get_pages_data(key, 5000)"
   ]
  },
  {
   "cell_type": "code",
   "execution_count": null,
   "id": "634f7229-4bcc-47ed-815c-a24f330f9ba9",
   "metadata": {},
   "outputs": [],
   "source": [
    "### 4. Converting the JSON response into an easy to use data dictionary "
   ]
  },
  {
   "cell_type": "code",
   "execution_count": 79,
   "id": "161f4737-1252-482d-a3c6-6d34288e13d8",
   "metadata": {},
   "outputs": [],
   "source": [
    "from collections import defaultdict \n",
    "\n",
    "def get_all_sat_scores(data_dct):\n",
    "    \"\"\"\n",
    "    Extracts all valid SAT scores from the dataset and returns their rounded average for schools that do not require test scores.\n",
    "    \"\"\"\n",
    "    # iterates through all schools' SAT scores that are not None and stores them in a list\n",
    "    sat_scores = [\n",
    "        school['latest']['admissions']['sat_scores']['average']['overall']\n",
    "        for school in data_dct\n",
    "        if school['latest']['admissions']['sat_scores']['average']['overall'] is not None\n",
    "    ]\n",
    "    \n",
    "    if len(sat_scores) > 0:\n",
    "        avg_sat = round(sum(sat_scores) / len(sat_scores))\n",
    "    else:\n",
    "        avg_sat = None\n",
    "\n",
    "    return avg_sat\n",
    "\n",
    "def get_all_act_scores(data_dct):\n",
    "    \"\"\"\n",
    "    Extracts all valid ACT midpoint scores from the dataset and returns their rounded average.\n",
    "    \"\"\"\n",
    "    # iterates through all schools' ACT scores that are not None and stores them in a list\n",
    "    act_scores = [\n",
    "        school['latest']['admissions']['act_scores']['midpoint']['cumulative']\n",
    "        for school in data_dct\n",
    "        if school['latest']['admissions']['act_scores']['midpoint']['cumulative'] is not None\n",
    "    ]\n",
    "\n",
    "    if len(act_scores) > 0:\n",
    "        avg_act = round(sum(act_scores) / len(act_scores))\n",
    "    else:\n",
    "        avg_act = None\n",
    "\n",
    "    return avg_act\n",
    "\n",
    "def build_df(data_dct):\n",
    "    \"\"\"\n",
    "    \n",
    "    \"\"\"\n",
    "\n",
    "    # initialize dictionary to store college data\n",
    "    colleges_dct = defaultdict(list)\n",
    "\n",
    "    # gets the average SAT and ACT scores across all schools in the data set for missing values\n",
    "    overall_avg_sat = get_all_sat_scores(data_dct)\n",
    "    overall_avg_act = get_all_act_scores(data_dct)\n",
    "\n",
    "    # loop over each \"school\" in the data_dct\n",
    "    for i in range(len(data_dct)):\n",
    "        school_data = data_dct[i]['latest']['school']\n",
    "        student_data = data_dct[i]['latest']['student']\n",
    "        admin_data = data_dct[i]['latest']['admissions']\n",
    "\n",
    "        # append school data\n",
    "        colleges_dct['name'].append(school_data.get('name'))\n",
    "        colleges_dct['city'].append(school_data.get('city'))\n",
    "        colleges_dct['state'].append(school_data.get('state'))\n",
    "\n",
    "        # append student data\n",
    "        colleges_dct['size'].append(student_data.get('size'))\n",
    "\n",
    "        # append admissions data\n",
    "        colleges_dct['admin_rate'].append(admin_data.get('admission_rate', {}).get('overall'))\n",
    "\n",
    "        # appends test requirement status based on integers given (0-5)\n",
    "        test_requirement = admin_data.get('test_requirements')\n",
    "        if test_requirement == 0:\n",
    "            colleges_dct['test_requirement'].append('No Test Req.')\n",
    "        elif test_requirement == 1:\n",
    "            colleges_dct['test_requirement'].append('Optional')\n",
    "        elif test_requirement == 2:\n",
    "            colleges_dct['test_requirement'].append('Considered')\n",
    "        elif test_requirement == 3:\n",
    "            colleges_dct['test_requirement'].append('Req. for some programs')\n",
    "        else:\n",
    "            colleges_dct['test_requirement'].append('Required')\n",
    "\n",
    "        # if a school does not require test scores appends average of data set ACT test scores\n",
    "        midpoint_act = admin_data.get('act_scores', {}).get('midpoint', {}).get('cumulative')\n",
    "        if midpoint_act is None:\n",
    "            colleges_dct['midpoint_ACT'].append(overall_avg_act)\n",
    "        else:\n",
    "            colleges_dct['midpoint_ACT'].append(round(midpoint_act))\n",
    "\n",
    "        # if a school does not require test scores appends average of data set SAT test scores\n",
    "        average_sat = admin_data.get('sat_scores', {}).get('average', {}).get('overall')\n",
    "        if average_sat is None:\n",
    "            colleges_dct['avg_SAT'].append(overall_avg_sat)\n",
    "        else:\n",
    "            colleges_dct['avg_SAT'].append(round(average_sat))\n",
    "\n",
    "    return colleges_dct"
   ]
  },
  {
   "cell_type": "code",
   "execution_count": 80,
   "id": "d3f04c13-2819-4b9a-8bee-3616b340be6b",
   "metadata": {},
   "outputs": [
    {
     "data": {
      "text/html": [
       "<div>\n",
       "<style scoped>\n",
       "    .dataframe tbody tr th:only-of-type {\n",
       "        vertical-align: middle;\n",
       "    }\n",
       "\n",
       "    .dataframe tbody tr th {\n",
       "        vertical-align: top;\n",
       "    }\n",
       "\n",
       "    .dataframe thead th {\n",
       "        text-align: right;\n",
       "    }\n",
       "</style>\n",
       "<table border=\"1\" class=\"dataframe\">\n",
       "  <thead>\n",
       "    <tr style=\"text-align: right;\">\n",
       "      <th></th>\n",
       "      <th>name</th>\n",
       "      <th>city</th>\n",
       "      <th>state</th>\n",
       "      <th>size</th>\n",
       "      <th>admin_rate</th>\n",
       "      <th>test_requirement</th>\n",
       "      <th>midpoint_ACT</th>\n",
       "      <th>avg_SAT</th>\n",
       "    </tr>\n",
       "  </thead>\n",
       "  <tbody>\n",
       "    <tr>\n",
       "      <th>0</th>\n",
       "      <td>Ohlone College</td>\n",
       "      <td>Fremont</td>\n",
       "      <td>CA</td>\n",
       "      <td>6420</td>\n",
       "      <td>NaN</td>\n",
       "      <td>No Test Req.</td>\n",
       "      <td>26</td>\n",
       "      <td>1213</td>\n",
       "    </tr>\n",
       "    <tr>\n",
       "      <th>1</th>\n",
       "      <td>Orange Coast College</td>\n",
       "      <td>Costa Mesa</td>\n",
       "      <td>CA</td>\n",
       "      <td>15636</td>\n",
       "      <td>NaN</td>\n",
       "      <td>No Test Req.</td>\n",
       "      <td>26</td>\n",
       "      <td>1213</td>\n",
       "    </tr>\n",
       "    <tr>\n",
       "      <th>2</th>\n",
       "      <td>Oxnard College</td>\n",
       "      <td>Oxnard</td>\n",
       "      <td>CA</td>\n",
       "      <td>5635</td>\n",
       "      <td>NaN</td>\n",
       "      <td>No Test Req.</td>\n",
       "      <td>26</td>\n",
       "      <td>1213</td>\n",
       "    </tr>\n",
       "    <tr>\n",
       "      <th>3</th>\n",
       "      <td>Palomar College</td>\n",
       "      <td>San Marcos</td>\n",
       "      <td>CA</td>\n",
       "      <td>15057</td>\n",
       "      <td>NaN</td>\n",
       "      <td>No Test Req.</td>\n",
       "      <td>26</td>\n",
       "      <td>1213</td>\n",
       "    </tr>\n",
       "    <tr>\n",
       "      <th>4</th>\n",
       "      <td>Pasadena City College</td>\n",
       "      <td>Pasadena</td>\n",
       "      <td>CA</td>\n",
       "      <td>19504</td>\n",
       "      <td>NaN</td>\n",
       "      <td>No Test Req.</td>\n",
       "      <td>26</td>\n",
       "      <td>1213</td>\n",
       "    </tr>\n",
       "    <tr>\n",
       "      <th>...</th>\n",
       "      <td>...</td>\n",
       "      <td>...</td>\n",
       "      <td>...</td>\n",
       "      <td>...</td>\n",
       "      <td>...</td>\n",
       "      <td>...</td>\n",
       "      <td>...</td>\n",
       "      <td>...</td>\n",
       "    </tr>\n",
       "    <tr>\n",
       "      <th>614</th>\n",
       "      <td>Clovis Community College</td>\n",
       "      <td>Fresno</td>\n",
       "      <td>CA</td>\n",
       "      <td>6448</td>\n",
       "      <td>NaN</td>\n",
       "      <td>No Test Req.</td>\n",
       "      <td>26</td>\n",
       "      <td>1213</td>\n",
       "    </tr>\n",
       "    <tr>\n",
       "      <th>615</th>\n",
       "      <td>Purdue University Global</td>\n",
       "      <td>West Lafayette</td>\n",
       "      <td>IN</td>\n",
       "      <td>33339</td>\n",
       "      <td>NaN</td>\n",
       "      <td>No Test Req.</td>\n",
       "      <td>26</td>\n",
       "      <td>1213</td>\n",
       "    </tr>\n",
       "    <tr>\n",
       "      <th>616</th>\n",
       "      <td>Purdue University Northwest</td>\n",
       "      <td>Hammond</td>\n",
       "      <td>IN</td>\n",
       "      <td>6083</td>\n",
       "      <td>0.7282</td>\n",
       "      <td>Required</td>\n",
       "      <td>23</td>\n",
       "      <td>1055</td>\n",
       "    </tr>\n",
       "    <tr>\n",
       "      <th>617</th>\n",
       "      <td>Commonwealth University of Pennsylvania</td>\n",
       "      <td>Bloomsburg</td>\n",
       "      <td>PA</td>\n",
       "      <td>9778</td>\n",
       "      <td>0.9396</td>\n",
       "      <td>Required</td>\n",
       "      <td>26</td>\n",
       "      <td>1067</td>\n",
       "    </tr>\n",
       "    <tr>\n",
       "      <th>618</th>\n",
       "      <td>Pennsylvania Western University</td>\n",
       "      <td>California</td>\n",
       "      <td>PA</td>\n",
       "      <td>9203</td>\n",
       "      <td>0.9362</td>\n",
       "      <td>Required</td>\n",
       "      <td>26</td>\n",
       "      <td>1057</td>\n",
       "    </tr>\n",
       "  </tbody>\n",
       "</table>\n",
       "<p>619 rows × 8 columns</p>\n",
       "</div>"
      ],
      "text/plain": [
       "                                        name            city state   size  \\\n",
       "0                             Ohlone College         Fremont    CA   6420   \n",
       "1                       Orange Coast College      Costa Mesa    CA  15636   \n",
       "2                             Oxnard College          Oxnard    CA   5635   \n",
       "3                            Palomar College      San Marcos    CA  15057   \n",
       "4                      Pasadena City College        Pasadena    CA  19504   \n",
       "..                                       ...             ...   ...    ...   \n",
       "614                 Clovis Community College          Fresno    CA   6448   \n",
       "615                 Purdue University Global  West Lafayette    IN  33339   \n",
       "616              Purdue University Northwest         Hammond    IN   6083   \n",
       "617  Commonwealth University of Pennsylvania      Bloomsburg    PA   9778   \n",
       "618          Pennsylvania Western University      California    PA   9203   \n",
       "\n",
       "     admin_rate test_requirement  midpoint_ACT  avg_SAT  \n",
       "0           NaN     No Test Req.            26     1213  \n",
       "1           NaN     No Test Req.            26     1213  \n",
       "2           NaN     No Test Req.            26     1213  \n",
       "3           NaN     No Test Req.            26     1213  \n",
       "4           NaN     No Test Req.            26     1213  \n",
       "..          ...              ...           ...      ...  \n",
       "614         NaN     No Test Req.            26     1213  \n",
       "615         NaN     No Test Req.            26     1213  \n",
       "616      0.7282         Required            23     1055  \n",
       "617      0.9396         Required            26     1067  \n",
       "618      0.9362         Required            26     1057  \n",
       "\n",
       "[619 rows x 8 columns]"
      ]
     },
     "execution_count": 80,
     "metadata": {},
     "output_type": "execute_result"
    }
   ],
   "source": [
    "college_df = pd.DataFrame(build_df(data_dct))\n",
    "college_df"
   ]
  },
  {
   "cell_type": "markdown",
   "id": "fd6c4aec",
   "metadata": {},
   "source": [
    "#### 4. Cleaning the Data:"
   ]
  },
  {
   "cell_type": "code",
   "execution_count": 39,
   "id": "45e276e9",
   "metadata": {},
   "outputs": [],
   "source": [
    "# drop the none values for ploting purposes \n",
    "college_no_nan = college_df.drop(columns=['reading_SAT', 'writing_SAT', 'math_SAT'], axis=1).dropna()"
   ]
  },
  {
   "cell_type": "markdown",
   "id": "4b9b1ffb",
   "metadata": {},
   "source": [
    "## Plotting:"
   ]
  },
  {
   "cell_type": "code",
   "execution_count": 40,
   "id": "3dcaf8ec",
   "metadata": {},
   "outputs": [],
   "source": [
    "# for this we can plot the student population for each school on the recommended list"
   ]
  },
  {
   "cell_type": "code",
   "execution_count": 41,
   "id": "f04707a4-a478-417d-8841-3e24cff48c7f",
   "metadata": {},
   "outputs": [
    {
     "data": {
      "application/vnd.plotly.v1+json": {
       "config": {
        "plotlyServerURL": "https://plot.ly"
       },
       "data": [
        {
         "hovertemplate": "<b>%{hovertext}</b><br><br>admin_rate=%{x}<br>avg_SAT=%{y}<br>size=%{marker.color}<extra></extra>",
         "hovertext": [
          "University of San Francisco",
          "Santa Clara University",
          "University of Southern California",
          "University of Colorado Denver/Anschutz Medical Campus",
          "University of Colorado Boulder",
          "Colorado School of Mines",
          "Colorado State University-Fort Collins",
          "University of Denver",
          "Colorado Mesa University",
          "Metropolitan State University of Denver",
          "University of Northern Colorado",
          "Central Connecticut State University",
          "University of Connecticut",
          "Yale University",
          "University of Delaware",
          "American University",
          "George Washington University",
          "Georgetown University",
          "Howard University",
          "University of Central Florida",
          "Embry-Riddle Aeronautical University-Daytona Beach",
          "Florida Agricultural and Mechanical University",
          "Florida Atlantic University",
          "Florida International University",
          "Florida State University",
          "University of Florida",
          "University of Miami",
          "University of North Florida",
          "Nova Southeastern University",
          "Saint Leo University",
          "University of South Florida",
          "The University of West Florida",
          "Columbus State University",
          "Emory University",
          "Georgia Institute of Technology-Main Campus",
          "Georgia College & State University",
          "Georgia Southern University",
          "Georgia State University",
          "University of Georgia",
          "Valdosta State University",
          "University of West Georgia",
          "University of Hawaii at Manoa",
          "University of Idaho",
          "Brigham Young University-Idaho",
          "University of Chicago",
          "University of Illinois Chicago",
          "University of Illinois Urbana-Champaign",
          "Illinois State University",
          "Loyola University Chicago",
          "Northwestern University",
          "Southern Illinois University-Carbondale",
          "Southern Illinois University-Edwardsville",
          "Ball State University",
          "Purdue University Fort Wayne",
          "Indiana University-Purdue University-Indianapolis",
          "University of Southern Indiana",
          "Indiana University-Bloomington",
          "University of Notre Dame",
          "Iowa State University",
          "University of Iowa",
          "University of Northern Iowa",
          "University of Kansas",
          "Wichita State University",
          "Eastern Kentucky University",
          "University of Kentucky",
          "University of Louisville",
          "Murray State University",
          "Northern Kentucky University",
          "Louisiana State University and Agricultural & Mechanical College",
          "Louisiana Tech University",
          "University of Louisiana at Monroe",
          "Northwestern State University of Louisiana",
          "Southern University and A & M College",
          "Tulane University of Louisiana",
          "University of Maine",
          "Bowie State University",
          "University of Maryland-Baltimore County",
          "University of Maryland-College Park",
          "Morgan State University",
          "Towson University",
          "Boston College",
          "Boston University",
          "Bridgewater State University",
          "Harvard University",
          "University of Massachusetts-Lowell",
          "University of Massachusetts-Amherst",
          "University of Massachusetts-Boston",
          "Northeastern University",
          "University of Massachusetts-Dartmouth",
          "Tufts University",
          "Central Michigan University",
          "Eastern Michigan University",
          "Ferris State University",
          "Michigan State University",
          "Michigan Technological University",
          "University of Michigan-Dearborn",
          "Oakland University",
          "Saginaw Valley State University",
          "Wayne State University",
          "Western Michigan University",
          "Minnesota State University-Mankato",
          "University of Minnesota-Twin Cities",
          "University of Minnesota-Duluth",
          "Saint Cloud State University",
          "University of St Thomas",
          "Winona State University",
          "University of Mississippi",
          "Mississippi State University",
          "University of Southern Mississippi",
          "University of Missouri-Columbia",
          "University of Missouri-Kansas City",
          "Missouri University of Science and Technology",
          "University of Missouri-St Louis",
          "Saint Louis University",
          "Missouri State University-Springfield",
          "Washington University in St Louis",
          "Montana State University",
          "University of Nebraska at Omaha",
          "University of Nebraska-Lincoln",
          "University of New Hampshire-Main Campus",
          "Rowan University",
          "Kean University",
          "New Jersey Institute of Technology",
          "Princeton University",
          "Rutgers University-New Brunswick",
          "Seton Hall University",
          "Stockton University",
          "The College of New Jersey",
          "University of New Mexico-Main Campus",
          "New Mexico State University-Main Campus",
          "Adelphi University",
          "Columbia University in the City of New York",
          "Cornell University",
          "Fordham University",
          "Hofstra University",
          "Long Island University",
          "Marist College",
          "Mercy College",
          "New York University",
          "Pace University",
          "Rensselaer Polytechnic Institute",
          "Rochester Institute of Technology",
          "University of Rochester",
          "St. John's University-New York",
          "Farmingdale State College",
          "SUNY at Albany",
          "Binghamton University",
          "University at Buffalo",
          "Stony Brook University",
          "SUNY Brockport",
          "State University of New York at New Paltz",
          "State University of New York at Oswego",
          "Syracuse University",
          "Appalachian State University",
          "Duke University",
          "Fayetteville State University",
          "North Carolina A & T State University",
          "University of North Carolina at Chapel Hill",
          "University of North Carolina at Charlotte",
          "University of North Carolina at Greensboro",
          "North Carolina Central University",
          "North Carolina State University at Raleigh",
          "University of North Carolina Wilmington",
          "Western Carolina University",
          "North Dakota State University-Main Campus",
          "Bowling Green State University-Main Campus",
          "Case Western Reserve University",
          "University of Cincinnati-Main Campus",
          "Cleveland State University",
          "University of Dayton",
          "Kent State University at Kent",
          "Miami University-Oxford",
          "Ohio State University-Main Campus",
          "Ohio University-Main Campus",
          "University of Toledo",
          "Wright State University-Main Campus",
          "Youngstown State University",
          "University of Central Oklahoma",
          "Oklahoma State University-Main Campus",
          "University of Oklahoma-Norman Campus",
          "Carnegie Mellon University",
          "Drexel University",
          "Duquesne University",
          "Indiana University of Pennsylvania-Main Campus",
          "Kutztown University of Pennsylvania",
          "Lehigh University",
          "University of Pennsylvania",
          "University of Pittsburgh-Pittsburgh Campus",
          "Slippery Rock University of Pennsylvania",
          "Villanova University",
          "West Chester University of Pennsylvania",
          "Brown University",
          "University of Rhode Island",
          "College of Charleston",
          "Clemson University",
          "University of South Carolina-Columbia",
          "Coastal Carolina University",
          "South Dakota State University",
          "University of South Dakota",
          "Austin Peay State University",
          "Belmont University",
          "East Tennessee State University",
          "Middle Tennessee State University",
          "The University of Tennessee-Chattanooga",
          "The University of Tennessee-Knoxville",
          "Vanderbilt University",
          "Angelo State University",
          "Baylor University",
          "Texas A & M University-Corpus Christi",
          "Texas A & M University-Commerce",
          "University of Houston-Clear Lake",
          "University of Houston",
          "Lamar University",
          "Texas A & M International University",
          "University of North Texas",
          "Prairie View A & M University",
          "Sam Houston State University",
          "Southern Methodist University",
          "Stephen F Austin State University",
          "Texas State University",
          "Tarleton State University",
          "Texas A & M University-College Station",
          "The University of Texas at Arlington",
          "The University of Texas at Austin",
          "The University of Texas at Tyler",
          "Texas Christian University",
          "The University of Texas at San Antonio",
          "Texas Southern University",
          "Texas Tech University",
          "Texas Woman's University",
          "West Texas A & M University",
          "Brigham Young University",
          "Utah State University",
          "University of Utah",
          "University of Vermont",
          "William & Mary",
          "George Mason University",
          "James Madison University",
          "Norfolk State University",
          "Old Dominion University",
          "Radford University",
          "Virginia Polytechnic Institute and State University",
          "Virginia Commonwealth University",
          "University of Virginia-Main Campus",
          "Gonzaga University",
          "Western Washington University",
          "West Virginia University",
          "Marquette University",
          "University of Wisconsin-Whitewater",
          "University of Wisconsin-Eau Claire",
          "University of Wisconsin-Green Bay",
          "University of Wisconsin-La Crosse",
          "University of Wisconsin-Oshkosh",
          "University of Wisconsin-Stout",
          "University of Wisconsin-Madison",
          "University of Wisconsin-Milwaukee",
          "University of Wisconsin-Platteville",
          "University of Wisconsin-Stevens Point",
          "Stanford University",
          "Purdue University-Main Campus",
          "Florida Gulf Coast University",
          "Texas A&M University-San Antonio",
          "Augusta University",
          "Middle Georgia State University",
          "University of North Georgia",
          "Kennesaw State University",
          "Purdue University Northwest"
         ],
         "legendgroup": "",
         "marker": {
          "color": [
           5980,
           6103,
           20505,
           10922,
           30598,
           5662,
           25150,
           5986,
           7654,
           14947,
           6024,
           7500,
           18768,
           6639,
           18665,
           7669,
           10798,
           7343,
           9243,
           57874,
           7155,
           7436,
           23074,
           39277,
           32691,
           33673,
           12215,
           13866,
           6885,
           6717,
           36763,
           8806,
           5637,
           7017,
           17379,
           5185,
           20996,
           28439,
           30566,
           7277,
           7939,
           13915,
           7120,
           42213,
           7511,
           21567,
           34031,
           18019,
           11626,
           8837,
           7922,
           9283,
           13466,
           5482,
           17278,
           5491,
           35401,
           8917,
           24994,
           21545,
           7571,
           18539,
           10304,
           11215,
           22115,
           13822,
           6588,
           8677,
           27729,
           7434,
           5032,
           6243,
           5171,
           8490,
           8720,
           5289,
           10557,
           29982,
           7599,
           16734,
           9751,
           17668,
           7911,
           7973,
           11985,
           24111,
           11749,
           16172,
           5331,
           6747,
           10297,
           11206,
           8390,
           39021,
           5633,
           5962,
           12626,
           6211,
           15669,
           13264,
           11354,
           30560,
           7754,
           5395,
           5868,
           5254,
           17157,
           18154,
           10149,
           23206,
           6479,
           5453,
           5378,
           7332,
           13332,
           7801,
           14343,
           11866,
           19097,
           11396,
           14914,
           10524,
           8365,
           5527,
           36090,
           5874,
           8105,
           6840,
           15642,
           11065,
           5004,
           8902,
           15676,
           9843,
           6051,
           5751,
           5069,
           5510,
           29136,
           7766,
           5886,
           13152,
           6569,
           10081,
           8915,
           12175,
           14398,
           20569,
           17406,
           5107,
           5990,
           5957,
           15071,
           18467,
           6570,
           5218,
           11553,
           19921,
           23063,
           13862,
           5101,
           25109,
           13960,
           9809,
           9795,
           12223,
           5927,
           27880,
           9502,
           8349,
           19179,
           16721,
           45140,
           17611,
           10787,
           6327,
           7741,
           10400,
           20362,
           20842,
           7005,
           13933,
           5087,
           6611,
           6334,
           5612,
           10572,
           19954,
           6707,
           6926,
           14014,
           7222,
           13828,
           9667,
           22467,
           26840,
           9495,
           8627,
           5265,
           7054,
           7349,
           9772,
           16239,
           9820,
           26905,
           7144,
           5314,
           15134,
           7818,
           7317,
           6343,
           37080,
           8075,
           6459,
           33023,
           8103,
           18184,
           7044,
           8961,
           33834,
           11880,
           56792,
           30503,
           40980,
           6568,
           10510,
           29112,
           6830,
           32346,
           8876,
           6828,
           31411,
           20573,
           25392,
           11326,
           6778,
           26447,
           19968,
           5328,
           18152,
           5945,
           30339,
           20552,
           17103,
           5018,
           13686,
           18370,
           7290,
           8893,
           9138,
           6305,
           9137,
           7812,
           6176,
           35184,
           17076,
           5920,
           6995,
           7761,
           38438,
           13788,
           6404,
           5098,
           6589,
           15815,
           38051,
           6083
          ],
          "coloraxis": "coloraxis",
          "symbol": "circle"
         },
         "mode": "markers",
         "name": "",
         "orientation": "v",
         "showlegend": false,
         "type": "scatter",
         "x": [
          0.7118,
          0.5211,
          0.1202,
          0.7458,
          0.8073,
          0.58,
          0.9077,
          0.7768,
          0.8176,
          0.9791,
          0.7854,
          0.7671,
          0.5451,
          0.0457,
          0.7381,
          0.4063,
          0.4898,
          0.1223,
          0.5343,
          0.4104,
          0.6453,
          0.3293,
          0.8132,
          0.6386,
          0.2504,
          0.2335,
          0.1894,
          0.705,
          0.758,
          0.801,
          0.4393,
          0.4803,
          0.878,
          0.1135,
          0.1713,
          0.7995,
          0.8889,
          0.6678,
          0.4255,
          0.8947,
          0.8012,
          0.7277,
          0.7385,
          0.9556,
          0.0543,
          0.7869,
          0.4482,
          0.8624,
          0.7915,
          0.0721,
          0.915,
          0.9751,
          0.6895,
          0.8066,
          0.8289,
          0.9444,
          0.8241,
          0.1291,
          0.9022,
          0.86,
          0.9495,
          0.8784,
          0.9485,
          0.6431,
          0.9489,
          0.8154,
          0.8398,
          0.8601,
          0.7572,
          0.6237,
          0.7011,
          0.9793,
          0.539,
          0.1145,
          0.9396,
          0.8654,
          0.8055,
          0.4461,
          0.8538,
          0.786,
          0.1666,
          0.1437,
          0.8771,
          0.0324,
          0.8595,
          0.6352,
          0.8076,
          0.068,
          0.9552,
          0.0969,
          0.7895,
          0.8323,
          0.8788,
          0.8795,
          0.9368,
          0.541,
          0.9005,
          0.7637,
          0.7532,
          0.8455,
          0.7068,
          0.7491,
          0.807,
          0.9528,
          0.77,
          0.7375,
          0.9738,
          0.7519,
          0.9884,
          0.7913,
          0.6948,
          0.8149,
          0.5111,
          0.8471,
          0.9256,
          0.1176,
          0.7333,
          0.8586,
          0.7864,
          0.8699,
          0.7694,
          0.826,
          0.6599,
          0.057,
          0.6629,
          0.7507,
          0.8554,
          0.6443,
          0.9607,
          0.7805,
          0.7278,
          0.0395,
          0.0747,
          0.5413,
          0.6933,
          0.9265,
          0.6285,
          0.8586,
          0.1246,
          0.8293,
          0.6451,
          0.6717,
          0.3891,
          0.8467,
          0.7317,
          0.679,
          0.4175,
          0.6771,
          0.4914,
          0.6794,
          0.5827,
          0.8256,
          0.5175,
          0.8308,
          0.0635,
          0.8124,
          0.5639,
          0.1711,
          0.7964,
          0.9194,
          0.8438,
          0.4717,
          0.6883,
          0.8484,
          0.9568,
          0.7866,
          0.2741,
          0.8622,
          0.8532,
          0.7405,
          0.8802,
          0.8792,
          0.5272,
          0.8652,
          0.9223,
          0.9522,
          0.806,
          0.6994,
          0.7063,
          0.7292,
          0.113,
          0.7961,
          0.8749,
          0.9194,
          0.9614,
          0.3698,
          0.065,
          0.4914,
          0.7433,
          0.2339,
          0.8785,
          0.0506,
          0.7639,
          0.7569,
          0.4298,
          0.6405,
          0.7863,
          0.8608,
          0.9946,
          0.9382,
          0.9627,
          0.8526,
          0.7254,
          0.8265,
          0.6841,
          0.0667,
          0.7914,
          0.4588,
          0.8797,
          0.8645,
          0.6937,
          0.6624,
          0.8373,
          0.4788,
          0.7913,
          0.7607,
          0.8463,
          0.5225,
          0.8951,
          0.877,
          0.8706,
          0.6265,
          0.808,
          0.3135,
          0.9387,
          0.561,
          0.869,
          0.968,
          0.6734,
          0.9363,
          0.9163,
          0.6667,
          0.9373,
          0.8913,
          0.5979,
          0.335,
          0.9,
          0.7831,
          0.895,
          0.9514,
          0.9334,
          0.5698,
          0.91,
          0.1866,
          0.6974,
          0.9269,
          0.8838,
          0.8721,
          0.8238,
          0.7662,
          0.8962,
          0.7425,
          0.8852,
          0.8631,
          0.4906,
          0.8632,
          0.8543,
          0.8905,
          0.0368,
          0.527,
          0.7439,
          0.9609,
          0.8553,
          0.9971,
          0.6963,
          0.6785,
          0.7282
         ],
         "xaxis": "x",
         "y": [
          1323,
          1379,
          1520,
          1150,
          1301,
          1403,
          1199,
          1348,
          1062,
          1025,
          1106,
          1061,
          1340,
          1547,
          1290,
          1386,
          1420,
          1507,
          1164,
          1281,
          1237,
          1077,
          1112,
          1154,
          1309,
          1397,
          1409,
          1104,
          1164,
          1102,
          1235,
          1166,
          1020,
          1493,
          1480,
          1144,
          1057,
          1127,
          1335,
          1027,
          1026,
          1113,
          1129,
          1107,
          1532,
          1232,
          1440,
          1111,
          1308,
          1526,
          1068,
          1080,
          1191,
          1101,
          1157,
          1139,
          1322,
          1515,
          1197,
          1222,
          1121,
          1192,
          1118,
          1051,
          1189,
          1153,
          1109,
          1123,
          1221,
          1190,
          1132,
          1089,
          940,
          1443,
          1202,
          910,
          1295,
          1461,
          971,
          1138,
          1500,
          1454,
          1110,
          1553,
          1255,
          1376,
          1198,
          1505,
          1149,
          1513,
          1104,
          1056,
          1032,
          1273,
          1245,
          1156,
          1140,
          1073,
          1147,
          1105,
          1090,
          1355,
          1220,
          1093,
          1290,
          1121,
          1199,
          1215,
          1150,
          1249,
          1231,
          1320,
          1146,
          1340,
          1147,
          1525,
          1158,
          1120,
          1192,
          1217,
          1197,
          1016,
          1325,
          1546,
          1374,
          1317,
          1150,
          1283,
          1090,
          1031,
          1233,
          1540,
          1527,
          1411,
          1285,
          1219,
          1288,
          1124,
          1527,
          1220,
          1457,
          1370,
          1473,
          1218,
          1081,
          1193,
          1426,
          1288,
          1410,
          1156,
          1254,
          1174,
          1359,
          1187,
          1554,
          915,
          1050,
          1449,
          1162,
          1190,
          976,
          1370,
          1266,
          1127,
          1120,
          1116,
          1487,
          1252,
          1020,
          1284,
          1093,
          1312,
          1386,
          1188,
          1199,
          1050,
          1082,
          1090,
          1145,
          1240,
          1546,
          1333,
          1257,
          1061,
          1140,
          1418,
          1546,
          1380,
          1060,
          1454,
          1165,
          1547,
          1178,
          1239,
          1341,
          1304,
          1105,
          1121,
          1122,
          1089,
          1269,
          1114,
          1120,
          1147,
          1299,
          1546,
          1038,
          1347,
          1090,
          1050,
          1082,
          1241,
          936,
          1006,
          1127,
          957,
          1056,
          1444,
          1067,
          1090,
          1061,
          1281,
          1112,
          1373,
          1114,
          1307,
          1111,
          922,
          1198,
          1041,
          1050,
          1376,
          1187,
          1236,
          1358,
          1465,
          1255,
          1241,
          949,
          1172,
          1057,
          1337,
          1170,
          1487,
          1329,
          1257,
          1116,
          1302,
          1090,
          1190,
          1090,
          1190,
          1050,
          1120,
          1374,
          1090,
          1150,
          1120,
          1553,
          1354,
          1114,
          954,
          1105,
          1020,
          1083,
          1133,
          1055
         ],
         "yaxis": "y"
        }
       ],
       "layout": {
        "autosize": true,
        "coloraxis": {
         "colorbar": {
          "title": {
           "text": "size"
          }
         },
         "colorscale": [
          [
           0,
           "#0d0887"
          ],
          [
           0.1111111111111111,
           "#46039f"
          ],
          [
           0.2222222222222222,
           "#7201a8"
          ],
          [
           0.3333333333333333,
           "#9c179e"
          ],
          [
           0.4444444444444444,
           "#bd3786"
          ],
          [
           0.5555555555555556,
           "#d8576b"
          ],
          [
           0.6666666666666666,
           "#ed7953"
          ],
          [
           0.7777777777777778,
           "#fb9f3a"
          ],
          [
           0.8888888888888888,
           "#fdca26"
          ],
          [
           1,
           "#f0f921"
          ]
         ]
        },
        "legend": {
         "tracegroupgap": 0
        },
        "template": {
         "data": {
          "bar": [
           {
            "error_x": {
             "color": "#2a3f5f"
            },
            "error_y": {
             "color": "#2a3f5f"
            },
            "marker": {
             "line": {
              "color": "#E5ECF6",
              "width": 0.5
             },
             "pattern": {
              "fillmode": "overlay",
              "size": 10,
              "solidity": 0.2
             }
            },
            "type": "bar"
           }
          ],
          "barpolar": [
           {
            "marker": {
             "line": {
              "color": "#E5ECF6",
              "width": 0.5
             },
             "pattern": {
              "fillmode": "overlay",
              "size": 10,
              "solidity": 0.2
             }
            },
            "type": "barpolar"
           }
          ],
          "carpet": [
           {
            "aaxis": {
             "endlinecolor": "#2a3f5f",
             "gridcolor": "white",
             "linecolor": "white",
             "minorgridcolor": "white",
             "startlinecolor": "#2a3f5f"
            },
            "baxis": {
             "endlinecolor": "#2a3f5f",
             "gridcolor": "white",
             "linecolor": "white",
             "minorgridcolor": "white",
             "startlinecolor": "#2a3f5f"
            },
            "type": "carpet"
           }
          ],
          "choropleth": [
           {
            "colorbar": {
             "outlinewidth": 0,
             "ticks": ""
            },
            "type": "choropleth"
           }
          ],
          "contour": [
           {
            "colorbar": {
             "outlinewidth": 0,
             "ticks": ""
            },
            "colorscale": [
             [
              0,
              "#0d0887"
             ],
             [
              0.1111111111111111,
              "#46039f"
             ],
             [
              0.2222222222222222,
              "#7201a8"
             ],
             [
              0.3333333333333333,
              "#9c179e"
             ],
             [
              0.4444444444444444,
              "#bd3786"
             ],
             [
              0.5555555555555556,
              "#d8576b"
             ],
             [
              0.6666666666666666,
              "#ed7953"
             ],
             [
              0.7777777777777778,
              "#fb9f3a"
             ],
             [
              0.8888888888888888,
              "#fdca26"
             ],
             [
              1,
              "#f0f921"
             ]
            ],
            "type": "contour"
           }
          ],
          "contourcarpet": [
           {
            "colorbar": {
             "outlinewidth": 0,
             "ticks": ""
            },
            "type": "contourcarpet"
           }
          ],
          "heatmap": [
           {
            "colorbar": {
             "outlinewidth": 0,
             "ticks": ""
            },
            "colorscale": [
             [
              0,
              "#0d0887"
             ],
             [
              0.1111111111111111,
              "#46039f"
             ],
             [
              0.2222222222222222,
              "#7201a8"
             ],
             [
              0.3333333333333333,
              "#9c179e"
             ],
             [
              0.4444444444444444,
              "#bd3786"
             ],
             [
              0.5555555555555556,
              "#d8576b"
             ],
             [
              0.6666666666666666,
              "#ed7953"
             ],
             [
              0.7777777777777778,
              "#fb9f3a"
             ],
             [
              0.8888888888888888,
              "#fdca26"
             ],
             [
              1,
              "#f0f921"
             ]
            ],
            "type": "heatmap"
           }
          ],
          "heatmapgl": [
           {
            "colorbar": {
             "outlinewidth": 0,
             "ticks": ""
            },
            "colorscale": [
             [
              0,
              "#0d0887"
             ],
             [
              0.1111111111111111,
              "#46039f"
             ],
             [
              0.2222222222222222,
              "#7201a8"
             ],
             [
              0.3333333333333333,
              "#9c179e"
             ],
             [
              0.4444444444444444,
              "#bd3786"
             ],
             [
              0.5555555555555556,
              "#d8576b"
             ],
             [
              0.6666666666666666,
              "#ed7953"
             ],
             [
              0.7777777777777778,
              "#fb9f3a"
             ],
             [
              0.8888888888888888,
              "#fdca26"
             ],
             [
              1,
              "#f0f921"
             ]
            ],
            "type": "heatmapgl"
           }
          ],
          "histogram": [
           {
            "marker": {
             "pattern": {
              "fillmode": "overlay",
              "size": 10,
              "solidity": 0.2
             }
            },
            "type": "histogram"
           }
          ],
          "histogram2d": [
           {
            "colorbar": {
             "outlinewidth": 0,
             "ticks": ""
            },
            "colorscale": [
             [
              0,
              "#0d0887"
             ],
             [
              0.1111111111111111,
              "#46039f"
             ],
             [
              0.2222222222222222,
              "#7201a8"
             ],
             [
              0.3333333333333333,
              "#9c179e"
             ],
             [
              0.4444444444444444,
              "#bd3786"
             ],
             [
              0.5555555555555556,
              "#d8576b"
             ],
             [
              0.6666666666666666,
              "#ed7953"
             ],
             [
              0.7777777777777778,
              "#fb9f3a"
             ],
             [
              0.8888888888888888,
              "#fdca26"
             ],
             [
              1,
              "#f0f921"
             ]
            ],
            "type": "histogram2d"
           }
          ],
          "histogram2dcontour": [
           {
            "colorbar": {
             "outlinewidth": 0,
             "ticks": ""
            },
            "colorscale": [
             [
              0,
              "#0d0887"
             ],
             [
              0.1111111111111111,
              "#46039f"
             ],
             [
              0.2222222222222222,
              "#7201a8"
             ],
             [
              0.3333333333333333,
              "#9c179e"
             ],
             [
              0.4444444444444444,
              "#bd3786"
             ],
             [
              0.5555555555555556,
              "#d8576b"
             ],
             [
              0.6666666666666666,
              "#ed7953"
             ],
             [
              0.7777777777777778,
              "#fb9f3a"
             ],
             [
              0.8888888888888888,
              "#fdca26"
             ],
             [
              1,
              "#f0f921"
             ]
            ],
            "type": "histogram2dcontour"
           }
          ],
          "mesh3d": [
           {
            "colorbar": {
             "outlinewidth": 0,
             "ticks": ""
            },
            "type": "mesh3d"
           }
          ],
          "parcoords": [
           {
            "line": {
             "colorbar": {
              "outlinewidth": 0,
              "ticks": ""
             }
            },
            "type": "parcoords"
           }
          ],
          "pie": [
           {
            "automargin": true,
            "type": "pie"
           }
          ],
          "scatter": [
           {
            "fillpattern": {
             "fillmode": "overlay",
             "size": 10,
             "solidity": 0.2
            },
            "type": "scatter"
           }
          ],
          "scatter3d": [
           {
            "line": {
             "colorbar": {
              "outlinewidth": 0,
              "ticks": ""
             }
            },
            "marker": {
             "colorbar": {
              "outlinewidth": 0,
              "ticks": ""
             }
            },
            "type": "scatter3d"
           }
          ],
          "scattercarpet": [
           {
            "marker": {
             "colorbar": {
              "outlinewidth": 0,
              "ticks": ""
             }
            },
            "type": "scattercarpet"
           }
          ],
          "scattergeo": [
           {
            "marker": {
             "colorbar": {
              "outlinewidth": 0,
              "ticks": ""
             }
            },
            "type": "scattergeo"
           }
          ],
          "scattergl": [
           {
            "marker": {
             "colorbar": {
              "outlinewidth": 0,
              "ticks": ""
             }
            },
            "type": "scattergl"
           }
          ],
          "scattermapbox": [
           {
            "marker": {
             "colorbar": {
              "outlinewidth": 0,
              "ticks": ""
             }
            },
            "type": "scattermapbox"
           }
          ],
          "scatterpolar": [
           {
            "marker": {
             "colorbar": {
              "outlinewidth": 0,
              "ticks": ""
             }
            },
            "type": "scatterpolar"
           }
          ],
          "scatterpolargl": [
           {
            "marker": {
             "colorbar": {
              "outlinewidth": 0,
              "ticks": ""
             }
            },
            "type": "scatterpolargl"
           }
          ],
          "scatterternary": [
           {
            "marker": {
             "colorbar": {
              "outlinewidth": 0,
              "ticks": ""
             }
            },
            "type": "scatterternary"
           }
          ],
          "surface": [
           {
            "colorbar": {
             "outlinewidth": 0,
             "ticks": ""
            },
            "colorscale": [
             [
              0,
              "#0d0887"
             ],
             [
              0.1111111111111111,
              "#46039f"
             ],
             [
              0.2222222222222222,
              "#7201a8"
             ],
             [
              0.3333333333333333,
              "#9c179e"
             ],
             [
              0.4444444444444444,
              "#bd3786"
             ],
             [
              0.5555555555555556,
              "#d8576b"
             ],
             [
              0.6666666666666666,
              "#ed7953"
             ],
             [
              0.7777777777777778,
              "#fb9f3a"
             ],
             [
              0.8888888888888888,
              "#fdca26"
             ],
             [
              1,
              "#f0f921"
             ]
            ],
            "type": "surface"
           }
          ],
          "table": [
           {
            "cells": {
             "fill": {
              "color": "#EBF0F8"
             },
             "line": {
              "color": "white"
             }
            },
            "header": {
             "fill": {
              "color": "#C8D4E3"
             },
             "line": {
              "color": "white"
             }
            },
            "type": "table"
           }
          ]
         },
         "layout": {
          "annotationdefaults": {
           "arrowcolor": "#2a3f5f",
           "arrowhead": 0,
           "arrowwidth": 1
          },
          "autotypenumbers": "strict",
          "coloraxis": {
           "colorbar": {
            "outlinewidth": 0,
            "ticks": ""
           }
          },
          "colorscale": {
           "diverging": [
            [
             0,
             "#8e0152"
            ],
            [
             0.1,
             "#c51b7d"
            ],
            [
             0.2,
             "#de77ae"
            ],
            [
             0.3,
             "#f1b6da"
            ],
            [
             0.4,
             "#fde0ef"
            ],
            [
             0.5,
             "#f7f7f7"
            ],
            [
             0.6,
             "#e6f5d0"
            ],
            [
             0.7,
             "#b8e186"
            ],
            [
             0.8,
             "#7fbc41"
            ],
            [
             0.9,
             "#4d9221"
            ],
            [
             1,
             "#276419"
            ]
           ],
           "sequential": [
            [
             0,
             "#0d0887"
            ],
            [
             0.1111111111111111,
             "#46039f"
            ],
            [
             0.2222222222222222,
             "#7201a8"
            ],
            [
             0.3333333333333333,
             "#9c179e"
            ],
            [
             0.4444444444444444,
             "#bd3786"
            ],
            [
             0.5555555555555556,
             "#d8576b"
            ],
            [
             0.6666666666666666,
             "#ed7953"
            ],
            [
             0.7777777777777778,
             "#fb9f3a"
            ],
            [
             0.8888888888888888,
             "#fdca26"
            ],
            [
             1,
             "#f0f921"
            ]
           ],
           "sequentialminus": [
            [
             0,
             "#0d0887"
            ],
            [
             0.1111111111111111,
             "#46039f"
            ],
            [
             0.2222222222222222,
             "#7201a8"
            ],
            [
             0.3333333333333333,
             "#9c179e"
            ],
            [
             0.4444444444444444,
             "#bd3786"
            ],
            [
             0.5555555555555556,
             "#d8576b"
            ],
            [
             0.6666666666666666,
             "#ed7953"
            ],
            [
             0.7777777777777778,
             "#fb9f3a"
            ],
            [
             0.8888888888888888,
             "#fdca26"
            ],
            [
             1,
             "#f0f921"
            ]
           ]
          },
          "colorway": [
           "#636efa",
           "#EF553B",
           "#00cc96",
           "#ab63fa",
           "#FFA15A",
           "#19d3f3",
           "#FF6692",
           "#B6E880",
           "#FF97FF",
           "#FECB52"
          ],
          "font": {
           "color": "#2a3f5f"
          },
          "geo": {
           "bgcolor": "white",
           "lakecolor": "white",
           "landcolor": "#E5ECF6",
           "showlakes": true,
           "showland": true,
           "subunitcolor": "white"
          },
          "hoverlabel": {
           "align": "left"
          },
          "hovermode": "closest",
          "mapbox": {
           "style": "light"
          },
          "paper_bgcolor": "white",
          "plot_bgcolor": "#E5ECF6",
          "polar": {
           "angularaxis": {
            "gridcolor": "white",
            "linecolor": "white",
            "ticks": ""
           },
           "bgcolor": "#E5ECF6",
           "radialaxis": {
            "gridcolor": "white",
            "linecolor": "white",
            "ticks": ""
           }
          },
          "scene": {
           "xaxis": {
            "backgroundcolor": "#E5ECF6",
            "gridcolor": "white",
            "gridwidth": 2,
            "linecolor": "white",
            "showbackground": true,
            "ticks": "",
            "zerolinecolor": "white"
           },
           "yaxis": {
            "backgroundcolor": "#E5ECF6",
            "gridcolor": "white",
            "gridwidth": 2,
            "linecolor": "white",
            "showbackground": true,
            "ticks": "",
            "zerolinecolor": "white"
           },
           "zaxis": {
            "backgroundcolor": "#E5ECF6",
            "gridcolor": "white",
            "gridwidth": 2,
            "linecolor": "white",
            "showbackground": true,
            "ticks": "",
            "zerolinecolor": "white"
           }
          },
          "shapedefaults": {
           "line": {
            "color": "#2a3f5f"
           }
          },
          "ternary": {
           "aaxis": {
            "gridcolor": "white",
            "linecolor": "white",
            "ticks": ""
           },
           "baxis": {
            "gridcolor": "white",
            "linecolor": "white",
            "ticks": ""
           },
           "bgcolor": "#E5ECF6",
           "caxis": {
            "gridcolor": "white",
            "linecolor": "white",
            "ticks": ""
           }
          },
          "title": {
           "x": 0.05
          },
          "xaxis": {
           "automargin": true,
           "gridcolor": "white",
           "linecolor": "white",
           "ticks": "",
           "title": {
            "standoff": 15
           },
           "zerolinecolor": "white",
           "zerolinewidth": 2
          },
          "yaxis": {
           "automargin": true,
           "gridcolor": "white",
           "linecolor": "white",
           "ticks": "",
           "title": {
            "standoff": 15
           },
           "zerolinecolor": "white",
           "zerolinewidth": 2
          }
         }
        },
        "title": {
         "text": "Admission Rate vs Average SAT Score"
        },
        "xaxis": {
         "anchor": "y",
         "autorange": true,
         "domain": [
          0,
          1
         ],
         "range": [
          -0.02702753591641273,
          1.0565275359164128
         ],
         "title": {
          "text": "admin_rate"
         },
         "type": "linear"
        },
        "yaxis": {
         "anchor": "x",
         "autorange": true,
         "domain": [
          0,
          1
         ],
         "range": [
          856.8543689320388,
          1607.1456310679612
         ],
         "title": {
          "text": "avg_SAT"
         },
         "type": "linear"
        }
       }
      },
      "image/png": "[encoded data removed]",
      "text/html": [
       "<div>                            <div id=\"df9625c3-b999-4d93-bbcd-f58b30ff5f4d\" class=\"plotly-graph-div\" style=\"height:525px; width:100%;\"></div>            <script type=\"text/javascript\">                require([\"plotly\"], function(Plotly) {                    window.PLOTLYENV=window.PLOTLYENV || {};                                    if (document.getElementById(\"df9625c3-b999-4d93-bbcd-f58b30ff5f4d\")) {                    Plotly.newPlot(                        \"df9625c3-b999-4d93-bbcd-f58b30ff5f4d\",                        [{\"hovertemplate\":\"\\u003cb\\u003e%{hovertext}\\u003c\\u002fb\\u003e\\u003cbr\\u003e\\u003cbr\\u003eadmin_rate=%{x}\\u003cbr\\u003eavg_SAT=%{y}\\u003cbr\\u003esize=%{marker.color}\\u003cextra\\u003e\\u003c\\u002fextra\\u003e\",\"hovertext\":[\"University of San Francisco\",\"Santa Clara University\",\"University of Southern California\",\"University of Colorado Denver\\u002fAnschutz Medical Campus\",\"University of Colorado Boulder\",\"Colorado School of Mines\",\"Colorado State University-Fort Collins\",\"University of Denver\",\"Colorado Mesa University\",\"Metropolitan State University of Denver\",\"University of Northern Colorado\",\"Central Connecticut State University\",\"University of Connecticut\",\"Yale University\",\"University of Delaware\",\"American University\",\"George Washington University\",\"Georgetown University\",\"Howard University\",\"University of Central Florida\",\"Embry-Riddle Aeronautical University-Daytona Beach\",\"Florida Agricultural and Mechanical University\",\"Florida Atlantic University\",\"Florida International University\",\"Florida State University\",\"University of Florida\",\"University of Miami\",\"University of North Florida\",\"Nova Southeastern University\",\"Saint Leo University\",\"University of South Florida\",\"The University of West Florida\",\"Columbus State University\",\"Emory University\",\"Georgia Institute of Technology-Main Campus\",\"Georgia College & State University\",\"Georgia Southern University\",\"Georgia State University\",\"University of Georgia\",\"Valdosta State University\",\"University of West Georgia\",\"University of Hawaii at Manoa\",\"University of Idaho\",\"Brigham Young University-Idaho\",\"University of Chicago\",\"University of Illinois Chicago\",\"University of Illinois Urbana-Champaign\",\"Illinois State University\",\"Loyola University Chicago\",\"Northwestern University\",\"Southern Illinois University-Carbondale\",\"Southern Illinois University-Edwardsville\",\"Ball State University\",\"Purdue University Fort Wayne\",\"Indiana University-Purdue University-Indianapolis\",\"University of Southern Indiana\",\"Indiana University-Bloomington\",\"University of Notre Dame\",\"Iowa State University\",\"University of Iowa\",\"University of Northern Iowa\",\"University of Kansas\",\"Wichita State University\",\"Eastern Kentucky University\",\"University of Kentucky\",\"University of Louisville\",\"Murray State University\",\"Northern Kentucky University\",\"Louisiana State University and Agricultural & Mechanical College\",\"Louisiana Tech University\",\"University of Louisiana at Monroe\",\"Northwestern State University of Louisiana\",\"Southern University and A & M College\",\"Tulane University of Louisiana\",\"University of Maine\",\"Bowie State University\",\"University of Maryland-Baltimore County\",\"University of Maryland-College Park\",\"Morgan State University\",\"Towson University\",\"Boston College\",\"Boston University\",\"Bridgewater State University\",\"Harvard University\",\"University of Massachusetts-Lowell\",\"University of Massachusetts-Amherst\",\"University of Massachusetts-Boston\",\"Northeastern University\",\"University of Massachusetts-Dartmouth\",\"Tufts University\",\"Central Michigan University\",\"Eastern Michigan University\",\"Ferris State University\",\"Michigan State University\",\"Michigan Technological University\",\"University of Michigan-Dearborn\",\"Oakland University\",\"Saginaw Valley State University\",\"Wayne State University\",\"Western Michigan University\",\"Minnesota State University-Mankato\",\"University of Minnesota-Twin Cities\",\"University of Minnesota-Duluth\",\"Saint Cloud State University\",\"University of St Thomas\",\"Winona State University\",\"University of Mississippi\",\"Mississippi State University\",\"University of Southern Mississippi\",\"University of Missouri-Columbia\",\"University of Missouri-Kansas City\",\"Missouri University of Science and Technology\",\"University of Missouri-St Louis\",\"Saint Louis University\",\"Missouri State University-Springfield\",\"Washington University in St Louis\",\"Montana State University\",\"University of Nebraska at Omaha\",\"University of Nebraska-Lincoln\",\"University of New Hampshire-Main Campus\",\"Rowan University\",\"Kean University\",\"New Jersey Institute of Technology\",\"Princeton University\",\"Rutgers University-New Brunswick\",\"Seton Hall University\",\"Stockton University\",\"The College of New Jersey\",\"University of New Mexico-Main Campus\",\"New Mexico State University-Main Campus\",\"Adelphi University\",\"Columbia University in the City of New York\",\"Cornell University\",\"Fordham University\",\"Hofstra University\",\"Long Island University\",\"Marist College\",\"Mercy College\",\"New York University\",\"Pace University\",\"Rensselaer Polytechnic Institute\",\"Rochester Institute of Technology\",\"University of Rochester\",\"St. John's University-New York\",\"Farmingdale State College\",\"SUNY at Albany\",\"Binghamton University\",\"University at Buffalo\",\"Stony Brook University\",\"SUNY Brockport\",\"State University of New York at New Paltz\",\"State University of New York at Oswego\",\"Syracuse University\",\"Appalachian State University\",\"Duke University\",\"Fayetteville State University\",\"North Carolina A & T State University\",\"University of North Carolina at Chapel Hill\",\"University of North Carolina at Charlotte\",\"University of North Carolina at Greensboro\",\"North Carolina Central University\",\"North Carolina State University at Raleigh\",\"University of North Carolina Wilmington\",\"Western Carolina University\",\"North Dakota State University-Main Campus\",\"Bowling Green State University-Main Campus\",\"Case Western Reserve University\",\"University of Cincinnati-Main Campus\",\"Cleveland State University\",\"University of Dayton\",\"Kent State University at Kent\",\"Miami University-Oxford\",\"Ohio State University-Main Campus\",\"Ohio University-Main Campus\",\"University of Toledo\",\"Wright State University-Main Campus\",\"Youngstown State University\",\"University of Central Oklahoma\",\"Oklahoma State University-Main Campus\",\"University of Oklahoma-Norman Campus\",\"Carnegie Mellon University\",\"Drexel University\",\"Duquesne University\",\"Indiana University of Pennsylvania-Main Campus\",\"Kutztown University of Pennsylvania\",\"Lehigh University\",\"University of Pennsylvania\",\"University of Pittsburgh-Pittsburgh Campus\",\"Slippery Rock University of Pennsylvania\",\"Villanova University\",\"West Chester University of Pennsylvania\",\"Brown University\",\"University of Rhode Island\",\"College of Charleston\",\"Clemson University\",\"University of South Carolina-Columbia\",\"Coastal Carolina University\",\"South Dakota State University\",\"University of South Dakota\",\"Austin Peay State University\",\"Belmont University\",\"East Tennessee State University\",\"Middle Tennessee State University\",\"The University of Tennessee-Chattanooga\",\"The University of Tennessee-Knoxville\",\"Vanderbilt University\",\"Angelo State University\",\"Baylor University\",\"Texas A & M University-Corpus Christi\",\"Texas A & M University-Commerce\",\"University of Houston-Clear Lake\",\"University of Houston\",\"Lamar University\",\"Texas A & M International University\",\"University of North Texas\",\"Prairie View A & M University\",\"Sam Houston State University\",\"Southern Methodist University\",\"Stephen F Austin State University\",\"Texas State University\",\"Tarleton State University\",\"Texas A & M University-College Station\",\"The University of Texas at Arlington\",\"The University of Texas at Austin\",\"The University of Texas at Tyler\",\"Texas Christian University\",\"The University of Texas at San Antonio\",\"Texas Southern University\",\"Texas Tech University\",\"Texas Woman's University\",\"West Texas A & M University\",\"Brigham Young University\",\"Utah State University\",\"University of Utah\",\"University of Vermont\",\"William & Mary\",\"George Mason University\",\"James Madison University\",\"Norfolk State University\",\"Old Dominion University\",\"Radford University\",\"Virginia Polytechnic Institute and State University\",\"Virginia Commonwealth University\",\"University of Virginia-Main Campus\",\"Gonzaga University\",\"Western Washington University\",\"West Virginia University\",\"Marquette University\",\"University of Wisconsin-Whitewater\",\"University of Wisconsin-Eau Claire\",\"University of Wisconsin-Green Bay\",\"University of Wisconsin-La Crosse\",\"University of Wisconsin-Oshkosh\",\"University of Wisconsin-Stout\",\"University of Wisconsin-Madison\",\"University of Wisconsin-Milwaukee\",\"University of Wisconsin-Platteville\",\"University of Wisconsin-Stevens Point\",\"Stanford University\",\"Purdue University-Main Campus\",\"Florida Gulf Coast University\",\"Texas A&M University-San Antonio\",\"Augusta University\",\"Middle Georgia State University\",\"University of North Georgia\",\"Kennesaw State University\",\"Purdue University Northwest\"],\"legendgroup\":\"\",\"marker\":{\"color\":[5980,6103,20505,10922,30598,5662,25150,5986,7654,14947,6024,7500,18768,6639,18665,7669,10798,7343,9243,57874,7155,7436,23074,39277,32691,33673,12215,13866,6885,6717,36763,8806,5637,7017,17379,5185,20996,28439,30566,7277,7939,13915,7120,42213,7511,21567,34031,18019,11626,8837,7922,9283,13466,5482,17278,5491,35401,8917,24994,21545,7571,18539,10304,11215,22115,13822,6588,8677,27729,7434,5032,6243,5171,8490,8720,5289,10557,29982,7599,16734,9751,17668,7911,7973,11985,24111,11749,16172,5331,6747,10297,11206,8390,39021,5633,5962,12626,6211,15669,13264,11354,30560,7754,5395,5868,5254,17157,18154,10149,23206,6479,5453,5378,7332,13332,7801,14343,11866,19097,11396,14914,10524,8365,5527,36090,5874,8105,6840,15642,11065,5004,8902,15676,9843,6051,5751,5069,5510,29136,7766,5886,13152,6569,10081,8915,12175,14398,20569,17406,5107,5990,5957,15071,18467,6570,5218,11553,19921,23063,13862,5101,25109,13960,9809,9795,12223,5927,27880,9502,8349,19179,16721,45140,17611,10787,6327,7741,10400,20362,20842,7005,13933,5087,6611,6334,5612,10572,19954,6707,6926,14014,7222,13828,9667,22467,26840,9495,8627,5265,7054,7349,9772,16239,9820,26905,7144,5314,15134,7818,7317,6343,37080,8075,6459,33023,8103,18184,7044,8961,33834,11880,56792,30503,40980,6568,10510,29112,6830,32346,8876,6828,31411,20573,25392,11326,6778,26447,19968,5328,18152,5945,30339,20552,17103,5018,13686,18370,7290,8893,9138,6305,9137,7812,6176,35184,17076,5920,6995,7761,38438,13788,6404,5098,6589,15815,38051,6083],\"coloraxis\":\"coloraxis\",\"symbol\":\"circle\"},\"mode\":\"markers\",\"name\":\"\",\"orientation\":\"v\",\"showlegend\":false,\"x\":[0.7118,0.5211,0.1202,0.7458,0.8073,0.58,0.9077,0.7768,0.8176,0.9791,0.7854,0.7671,0.5451,0.0457,0.7381,0.4063,0.4898,0.1223,0.5343,0.4104,0.6453,0.3293,0.8132,0.6386,0.2504,0.2335,0.1894,0.705,0.758,0.801,0.4393,0.4803,0.878,0.1135,0.1713,0.7995,0.8889,0.6678,0.4255,0.8947,0.8012,0.7277,0.7385,0.9556,0.0543,0.7869,0.4482,0.8624,0.7915,0.0721,0.915,0.9751,0.6895,0.8066,0.8289,0.9444,0.8241,0.1291,0.9022,0.86,0.9495,0.8784,0.9485,0.6431,0.9489,0.8154,0.8398,0.8601,0.7572,0.6237,0.7011,0.9793,0.539,0.1145,0.9396,0.8654,0.8055,0.4461,0.8538,0.786,0.1666,0.1437,0.8771,0.0324,0.8595,0.6352,0.8076,0.068,0.9552,0.0969,0.7895,0.8323,0.8788,0.8795,0.9368,0.541,0.9005,0.7637,0.7532,0.8455,0.7068,0.7491,0.807,0.9528,0.77,0.7375,0.9738,0.7519,0.9884,0.7913,0.6948,0.8149,0.5111,0.8471,0.9256,0.1176,0.7333,0.8586,0.7864,0.8699,0.7694,0.826,0.6599,0.057,0.6629,0.7507,0.8554,0.6443,0.9607,0.7805,0.7278,0.0395,0.0747,0.5413,0.6933,0.9265,0.6285,0.8586,0.1246,0.8293,0.6451,0.6717,0.3891,0.8467,0.7317,0.679,0.4175,0.6771,0.4914,0.6794,0.5827,0.8256,0.5175,0.8308,0.0635,0.8124,0.5639,0.1711,0.7964,0.9194,0.8438,0.4717,0.6883,0.8484,0.9568,0.7866,0.2741,0.8622,0.8532,0.7405,0.8802,0.8792,0.5272,0.8652,0.9223,0.9522,0.806,0.6994,0.7063,0.7292,0.113,0.7961,0.8749,0.9194,0.9614,0.3698,0.065,0.4914,0.7433,0.2339,0.8785,0.0506,0.7639,0.7569,0.4298,0.6405,0.7863,0.8608,0.9946,0.9382,0.9627,0.8526,0.7254,0.8265,0.6841,0.0667,0.7914,0.4588,0.8797,0.8645,0.6937,0.6624,0.8373,0.4788,0.7913,0.7607,0.8463,0.5225,0.8951,0.877,0.8706,0.6265,0.808,0.3135,0.9387,0.561,0.869,0.968,0.6734,0.9363,0.9163,0.6667,0.9373,0.8913,0.5979,0.335,0.9,0.7831,0.895,0.9514,0.9334,0.5698,0.91,0.1866,0.6974,0.9269,0.8838,0.8721,0.8238,0.7662,0.8962,0.7425,0.8852,0.8631,0.4906,0.8632,0.8543,0.8905,0.0368,0.527,0.7439,0.9609,0.8553,0.9971,0.6963,0.6785,0.7282],\"xaxis\":\"x\",\"y\":[1323.0,1379.0,1520.0,1150.0,1301.0,1403.0,1199.0,1348.0,1062.0,1025.0,1106.0,1061.0,1340.0,1547.0,1290.0,1386.0,1420.0,1507.0,1164.0,1281.0,1237.0,1077.0,1112.0,1154.0,1309.0,1397.0,1409.0,1104.0,1164.0,1102.0,1235.0,1166.0,1020.0,1493.0,1480.0,1144.0,1057.0,1127.0,1335.0,1027.0,1026.0,1113.0,1129.0,1107.0,1532.0,1232.0,1440.0,1111.0,1308.0,1526.0,1068.0,1080.0,1191.0,1101.0,1157.0,1139.0,1322.0,1515.0,1197.0,1222.0,1121.0,1192.0,1118.0,1051.0,1189.0,1153.0,1109.0,1123.0,1221.0,1190.0,1132.0,1089.0,940.0,1443.0,1202.0,910.0,1295.0,1461.0,971.0,1138.0,1500.0,1454.0,1110.0,1553.0,1255.0,1376.0,1198.0,1505.0,1149.0,1513.0,1104.0,1056.0,1032.0,1273.0,1245.0,1156.0,1140.0,1073.0,1147.0,1105.0,1090.0,1355.0,1220.0,1093.0,1290.0,1121.0,1199.0,1215.0,1150.0,1249.0,1231.0,1320.0,1146.0,1340.0,1147.0,1525.0,1158.0,1120.0,1192.0,1217.0,1197.0,1016.0,1325.0,1546.0,1374.0,1317.0,1150.0,1283.0,1090.0,1031.0,1233.0,1540.0,1527.0,1411.0,1285.0,1219.0,1288.0,1124.0,1527.0,1220.0,1457.0,1370.0,1473.0,1218.0,1081.0,1193.0,1426.0,1288.0,1410.0,1156.0,1254.0,1174.0,1359.0,1187.0,1554.0,915.0,1050.0,1449.0,1162.0,1190.0,976.0,1370.0,1266.0,1127.0,1120.0,1116.0,1487.0,1252.0,1020.0,1284.0,1093.0,1312.0,1386.0,1188.0,1199.0,1050.0,1082.0,1090.0,1145.0,1240.0,1546.0,1333.0,1257.0,1061.0,1140.0,1418.0,1546.0,1380.0,1060.0,1454.0,1165.0,1547.0,1178.0,1239.0,1341.0,1304.0,1105.0,1121.0,1122.0,1089.0,1269.0,1114.0,1120.0,1147.0,1299.0,1546.0,1038.0,1347.0,1090.0,1050.0,1082.0,1241.0,936.0,1006.0,1127.0,957.0,1056.0,1444.0,1067.0,1090.0,1061.0,1281.0,1112.0,1373.0,1114.0,1307.0,1111.0,922.0,1198.0,1041.0,1050.0,1376.0,1187.0,1236.0,1358.0,1465.0,1255.0,1241.0,949.0,1172.0,1057.0,1337.0,1170.0,1487.0,1329.0,1257.0,1116.0,1302.0,1090.0,1190.0,1090.0,1190.0,1050.0,1120.0,1374.0,1090.0,1150.0,1120.0,1553.0,1354.0,1114.0,954.0,1105.0,1020.0,1083.0,1133.0,1055.0],\"yaxis\":\"y\",\"type\":\"scatter\"}],                        {\"template\":{\"data\":{\"histogram2dcontour\":[{\"type\":\"histogram2dcontour\",\"colorbar\":{\"outlinewidth\":0,\"ticks\":\"\"},\"colorscale\":[[0.0,\"#0d0887\"],[0.1111111111111111,\"#46039f\"],[0.2222222222222222,\"#7201a8\"],[0.3333333333333333,\"#9c179e\"],[0.4444444444444444,\"#bd3786\"],[0.5555555555555556,\"#d8576b\"],[0.6666666666666666,\"#ed7953\"],[0.7777777777777778,\"#fb9f3a\"],[0.8888888888888888,\"#fdca26\"],[1.0,\"#f0f921\"]]}],\"choropleth\":[{\"type\":\"choropleth\",\"colorbar\":{\"outlinewidth\":0,\"ticks\":\"\"}}],\"histogram2d\":[{\"type\":\"histogram2d\",\"colorbar\":{\"outlinewidth\":0,\"ticks\":\"\"},\"colorscale\":[[0.0,\"#0d0887\"],[0.1111111111111111,\"#46039f\"],[0.2222222222222222,\"#7201a8\"],[0.3333333333333333,\"#9c179e\"],[0.4444444444444444,\"#bd3786\"],[0.5555555555555556,\"#d8576b\"],[0.6666666666666666,\"#ed7953\"],[0.7777777777777778,\"#fb9f3a\"],[0.8888888888888888,\"#fdca26\"],[1.0,\"#f0f921\"]]}],\"heatmap\":[{\"type\":\"heatmap\",\"colorbar\":{\"outlinewidth\":0,\"ticks\":\"\"},\"colorscale\":[[0.0,\"#0d0887\"],[0.1111111111111111,\"#46039f\"],[0.2222222222222222,\"#7201a8\"],[0.3333333333333333,\"#9c179e\"],[0.4444444444444444,\"#bd3786\"],[0.5555555555555556,\"#d8576b\"],[0.6666666666666666,\"#ed7953\"],[0.7777777777777778,\"#fb9f3a\"],[0.8888888888888888,\"#fdca26\"],[1.0,\"#f0f921\"]]}],\"heatmapgl\":[{\"type\":\"heatmapgl\",\"colorbar\":{\"outlinewidth\":0,\"ticks\":\"\"},\"colorscale\":[[0.0,\"#0d0887\"],[0.1111111111111111,\"#46039f\"],[0.2222222222222222,\"#7201a8\"],[0.3333333333333333,\"#9c179e\"],[0.4444444444444444,\"#bd3786\"],[0.5555555555555556,\"#d8576b\"],[0.6666666666666666,\"#ed7953\"],[0.7777777777777778,\"#fb9f3a\"],[0.8888888888888888,\"#fdca26\"],[1.0,\"#f0f921\"]]}],\"contourcarpet\":[{\"type\":\"contourcarpet\",\"colorbar\":{\"outlinewidth\":0,\"ticks\":\"\"}}],\"contour\":[{\"type\":\"contour\",\"colorbar\":{\"outlinewidth\":0,\"ticks\":\"\"},\"colorscale\":[[0.0,\"#0d0887\"],[0.1111111111111111,\"#46039f\"],[0.2222222222222222,\"#7201a8\"],[0.3333333333333333,\"#9c179e\"],[0.4444444444444444,\"#bd3786\"],[0.5555555555555556,\"#d8576b\"],[0.6666666666666666,\"#ed7953\"],[0.7777777777777778,\"#fb9f3a\"],[0.8888888888888888,\"#fdca26\"],[1.0,\"#f0f921\"]]}],\"surface\":[{\"type\":\"surface\",\"colorbar\":{\"outlinewidth\":0,\"ticks\":\"\"},\"colorscale\":[[0.0,\"#0d0887\"],[0.1111111111111111,\"#46039f\"],[0.2222222222222222,\"#7201a8\"],[0.3333333333333333,\"#9c179e\"],[0.4444444444444444,\"#bd3786\"],[0.5555555555555556,\"#d8576b\"],[0.6666666666666666,\"#ed7953\"],[0.7777777777777778,\"#fb9f3a\"],[0.8888888888888888,\"#fdca26\"],[1.0,\"#f0f921\"]]}],\"mesh3d\":[{\"type\":\"mesh3d\",\"colorbar\":{\"outlinewidth\":0,\"ticks\":\"\"}}],\"scatter\":[{\"fillpattern\":{\"fillmode\":\"overlay\",\"size\":10,\"solidity\":0.2},\"type\":\"scatter\"}],\"parcoords\":[{\"type\":\"parcoords\",\"line\":{\"colorbar\":{\"outlinewidth\":0,\"ticks\":\"\"}}}],\"scatterpolargl\":[{\"type\":\"scatterpolargl\",\"marker\":{\"colorbar\":{\"outlinewidth\":0,\"ticks\":\"\"}}}],\"bar\":[{\"error_x\":{\"color\":\"#2a3f5f\"},\"error_y\":{\"color\":\"#2a3f5f\"},\"marker\":{\"line\":{\"color\":\"#E5ECF6\",\"width\":0.5},\"pattern\":{\"fillmode\":\"overlay\",\"size\":10,\"solidity\":0.2}},\"type\":\"bar\"}],\"scattergeo\":[{\"type\":\"scattergeo\",\"marker\":{\"colorbar\":{\"outlinewidth\":0,\"ticks\":\"\"}}}],\"scatterpolar\":[{\"type\":\"scatterpolar\",\"marker\":{\"colorbar\":{\"outlinewidth\":0,\"ticks\":\"\"}}}],\"histogram\":[{\"marker\":{\"pattern\":{\"fillmode\":\"overlay\",\"size\":10,\"solidity\":0.2}},\"type\":\"histogram\"}],\"scattergl\":[{\"type\":\"scattergl\",\"marker\":{\"colorbar\":{\"outlinewidth\":0,\"ticks\":\"\"}}}],\"scatter3d\":[{\"type\":\"scatter3d\",\"line\":{\"colorbar\":{\"outlinewidth\":0,\"ticks\":\"\"}},\"marker\":{\"colorbar\":{\"outlinewidth\":0,\"ticks\":\"\"}}}],\"scattermapbox\":[{\"type\":\"scattermapbox\",\"marker\":{\"colorbar\":{\"outlinewidth\":0,\"ticks\":\"\"}}}],\"scatterternary\":[{\"type\":\"scatterternary\",\"marker\":{\"colorbar\":{\"outlinewidth\":0,\"ticks\":\"\"}}}],\"scattercarpet\":[{\"type\":\"scattercarpet\",\"marker\":{\"colorbar\":{\"outlinewidth\":0,\"ticks\":\"\"}}}],\"carpet\":[{\"aaxis\":{\"endlinecolor\":\"#2a3f5f\",\"gridcolor\":\"white\",\"linecolor\":\"white\",\"minorgridcolor\":\"white\",\"startlinecolor\":\"#2a3f5f\"},\"baxis\":{\"endlinecolor\":\"#2a3f5f\",\"gridcolor\":\"white\",\"linecolor\":\"white\",\"minorgridcolor\":\"white\",\"startlinecolor\":\"#2a3f5f\"},\"type\":\"carpet\"}],\"table\":[{\"cells\":{\"fill\":{\"color\":\"#EBF0F8\"},\"line\":{\"color\":\"white\"}},\"header\":{\"fill\":{\"color\":\"#C8D4E3\"},\"line\":{\"color\":\"white\"}},\"type\":\"table\"}],\"barpolar\":[{\"marker\":{\"line\":{\"color\":\"#E5ECF6\",\"width\":0.5},\"pattern\":{\"fillmode\":\"overlay\",\"size\":10,\"solidity\":0.2}},\"type\":\"barpolar\"}],\"pie\":[{\"automargin\":true,\"type\":\"pie\"}]},\"layout\":{\"autotypenumbers\":\"strict\",\"colorway\":[\"#636efa\",\"#EF553B\",\"#00cc96\",\"#ab63fa\",\"#FFA15A\",\"#19d3f3\",\"#FF6692\",\"#B6E880\",\"#FF97FF\",\"#FECB52\"],\"font\":{\"color\":\"#2a3f5f\"},\"hovermode\":\"closest\",\"hoverlabel\":{\"align\":\"left\"},\"paper_bgcolor\":\"white\",\"plot_bgcolor\":\"#E5ECF6\",\"polar\":{\"bgcolor\":\"#E5ECF6\",\"angularaxis\":{\"gridcolor\":\"white\",\"linecolor\":\"white\",\"ticks\":\"\"},\"radialaxis\":{\"gridcolor\":\"white\",\"linecolor\":\"white\",\"ticks\":\"\"}},\"ternary\":{\"bgcolor\":\"#E5ECF6\",\"aaxis\":{\"gridcolor\":\"white\",\"linecolor\":\"white\",\"ticks\":\"\"},\"baxis\":{\"gridcolor\":\"white\",\"linecolor\":\"white\",\"ticks\":\"\"},\"caxis\":{\"gridcolor\":\"white\",\"linecolor\":\"white\",\"ticks\":\"\"}},\"coloraxis\":{\"colorbar\":{\"outlinewidth\":0,\"ticks\":\"\"}},\"colorscale\":{\"sequential\":[[0.0,\"#0d0887\"],[0.1111111111111111,\"#46039f\"],[0.2222222222222222,\"#7201a8\"],[0.3333333333333333,\"#9c179e\"],[0.4444444444444444,\"#bd3786\"],[0.5555555555555556,\"#d8576b\"],[0.6666666666666666,\"#ed7953\"],[0.7777777777777778,\"#fb9f3a\"],[0.8888888888888888,\"#fdca26\"],[1.0,\"#f0f921\"]],\"sequentialminus\":[[0.0,\"#0d0887\"],[0.1111111111111111,\"#46039f\"],[0.2222222222222222,\"#7201a8\"],[0.3333333333333333,\"#9c179e\"],[0.4444444444444444,\"#bd3786\"],[0.5555555555555556,\"#d8576b\"],[0.6666666666666666,\"#ed7953\"],[0.7777777777777778,\"#fb9f3a\"],[0.8888888888888888,\"#fdca26\"],[1.0,\"#f0f921\"]],\"diverging\":[[0,\"#8e0152\"],[0.1,\"#c51b7d\"],[0.2,\"#de77ae\"],[0.3,\"#f1b6da\"],[0.4,\"#fde0ef\"],[0.5,\"#f7f7f7\"],[0.6,\"#e6f5d0\"],[0.7,\"#b8e186\"],[0.8,\"#7fbc41\"],[0.9,\"#4d9221\"],[1,\"#276419\"]]},\"xaxis\":{\"gridcolor\":\"white\",\"linecolor\":\"white\",\"ticks\":\"\",\"title\":{\"standoff\":15},\"zerolinecolor\":\"white\",\"automargin\":true,\"zerolinewidth\":2},\"yaxis\":{\"gridcolor\":\"white\",\"linecolor\":\"white\",\"ticks\":\"\",\"title\":{\"standoff\":15},\"zerolinecolor\":\"white\",\"automargin\":true,\"zerolinewidth\":2},\"scene\":{\"xaxis\":{\"backgroundcolor\":\"#E5ECF6\",\"gridcolor\":\"white\",\"linecolor\":\"white\",\"showbackground\":true,\"ticks\":\"\",\"zerolinecolor\":\"white\",\"gridwidth\":2},\"yaxis\":{\"backgroundcolor\":\"#E5ECF6\",\"gridcolor\":\"white\",\"linecolor\":\"white\",\"showbackground\":true,\"ticks\":\"\",\"zerolinecolor\":\"white\",\"gridwidth\":2},\"zaxis\":{\"backgroundcolor\":\"#E5ECF6\",\"gridcolor\":\"white\",\"linecolor\":\"white\",\"showbackground\":true,\"ticks\":\"\",\"zerolinecolor\":\"white\",\"gridwidth\":2}},\"shapedefaults\":{\"line\":{\"color\":\"#2a3f5f\"}},\"annotationdefaults\":{\"arrowcolor\":\"#2a3f5f\",\"arrowhead\":0,\"arrowwidth\":1},\"geo\":{\"bgcolor\":\"white\",\"landcolor\":\"#E5ECF6\",\"subunitcolor\":\"white\",\"showland\":true,\"showlakes\":true,\"lakecolor\":\"white\"},\"title\":{\"x\":0.05},\"mapbox\":{\"style\":\"light\"}}},\"xaxis\":{\"anchor\":\"y\",\"domain\":[0.0,1.0],\"title\":{\"text\":\"admin_rate\"}},\"yaxis\":{\"anchor\":\"x\",\"domain\":[0.0,1.0],\"title\":{\"text\":\"avg_SAT\"}},\"coloraxis\":{\"colorbar\":{\"title\":{\"text\":\"size\"}},\"colorscale\":[[0.0,\"#0d0887\"],[0.1111111111111111,\"#46039f\"],[0.2222222222222222,\"#7201a8\"],[0.3333333333333333,\"#9c179e\"],[0.4444444444444444,\"#bd3786\"],[0.5555555555555556,\"#d8576b\"],[0.6666666666666666,\"#ed7953\"],[0.7777777777777778,\"#fb9f3a\"],[0.8888888888888888,\"#fdca26\"],[1.0,\"#f0f921\"]]},\"legend\":{\"tracegroupgap\":0},\"title\":{\"text\":\"Admission Rate vs Average SAT Score\"}},                        {\"responsive\": true}                    ).then(function(){\n",
       "                            \n",
       "var gd = document.getElementById('df9625c3-b999-4d93-bbcd-f58b30ff5f4d');\n",
       "var x = new MutationObserver(function (mutations, observer) {{\n",
       "        var display = window.getComputedStyle(gd).display;\n",
       "        if (!display || display === 'none') {{\n",
       "            console.log([gd, 'removed!']);\n",
       "            Plotly.purge(gd);\n",
       "            observer.disconnect();\n",
       "        }}\n",
       "}});\n",
       "\n",
       "// Listen for the removal of the full notebook cells\n",
       "var notebookContainer = gd.closest('#notebook-container');\n",
       "if (notebookContainer) {{\n",
       "    x.observe(notebookContainer, {childList: true});\n",
       "}}\n",
       "\n",
       "// Listen for the clearing of the current output cell\n",
       "var outputEl = gd.closest('.output');\n",
       "if (outputEl) {{\n",
       "    x.observe(outputEl, {childList: true});\n",
       "}}\n",
       "\n",
       "                        })                };                });            </script>        </div>"
      ]
     },
     "metadata": {},
     "output_type": "display_data"
    }
   ],
   "source": [
    "# ----- just a test plot using plotly \n",
    "import plotly.express as px\n",
    "\n",
    "# plot to see relationship between average SAT scores and admissions rate for colleges \n",
    "fig = px.scatter(college_no_nan, x='admin_rate', y='avg_SAT', color='size', hover_name='name', title=\"Admission Rate vs Average SAT Score\")\n",
    "\n",
    "fig.show()"
   ]
  },
  {
   "cell_type": "code",
   "execution_count": 45,
   "id": "408323ae-2d82-48ee-813e-f3b4f488119a",
   "metadata": {},
   "outputs": [
    {
     "data": {
      "application/vnd.plotly.v1+json": {
       "config": {
        "plotlyServerURL": "https://plot.ly"
       },
       "data": [
        {
         "coloraxis": "coloraxis",
         "geo": "geo",
         "hovertemplate": "state=%{location}<br>Average SAT Score=%{z}<extra></extra>",
         "locationmode": "USA-states",
         "locations": [
          "AL",
          "AZ",
          "CA",
          "CO",
          "CT",
          "DC",
          "DE",
          "FL",
          "GA",
          "HI",
          "IA",
          "ID",
          "IL",
          "IN",
          "KS",
          "KY",
          "LA",
          "MA",
          "MD",
          "ME",
          "MI",
          "MN",
          "MO",
          "MS",
          "MT",
          "NC",
          "ND",
          "NE",
          "NH",
          "NJ",
          "NM",
          "NV",
          "NY",
          "OH",
          "OK",
          "OR",
          "PA",
          "PR",
          "RI",
          "SC",
          "SD",
          "TN",
          "TX",
          "UT",
          "VA",
          "VT",
          "WA",
          "WI",
          "WV",
          "WY"
         ],
         "name": "",
         "type": "choropleth",
         "z": [
          null,
          null,
          1443.75,
          1197.111111111111,
          1291,
          1369.25,
          1290,
          1207.2,
          1145.2666666666667,
          1113,
          1180,
          1118,
          1260.3,
          1229.25,
          1120.3333333333333,
          1118.8333333333333,
          1157.857142857143,
          1361.3,
          1223.5714285714287,
          1202,
          1158,
          1188.4285714285713,
          1233.6666666666667,
          1188,
          1158,
          1210.3333333333333,
          1120,
          1156,
          1217,
          1243.8,
          1060.5,
          1092,
          1304.0833333333333,
          1198.6923076923076,
          1158.3333333333333,
          1271,
          1256.25,
          null,
          1362.5,
          1247.25,
          1121.5,
          1207.111111111111,
          1113.3,
          1266.3333333333333,
          1237,
          1358,
          1302.6666666666667,
          1160.5454545454545,
          1116,
          null
         ]
        }
       ],
       "layout": {
        "autosize": true,
        "coloraxis": {
         "colorbar": {
          "title": {
           "text": "Average SAT Score"
          }
         },
         "colorscale": [
          [
           0,
           "#440154"
          ],
          [
           0.1111111111111111,
           "#482878"
          ],
          [
           0.2222222222222222,
           "#3e4989"
          ],
          [
           0.3333333333333333,
           "#31688e"
          ],
          [
           0.4444444444444444,
           "#26828e"
          ],
          [
           0.5555555555555556,
           "#1f9e89"
          ],
          [
           0.6666666666666666,
           "#35b779"
          ],
          [
           0.7777777777777778,
           "#6ece58"
          ],
          [
           0.8888888888888888,
           "#b5de2b"
          ],
          [
           1,
           "#fde725"
          ]
         ]
        },
        "geo": {
         "center": {
          "lat": 37.32442939009991,
          "lon": -110.38988112522712
         },
         "domain": {
          "x": [
           0,
           1
          ],
          "y": [
           0,
           1
          ]
         },
         "projection": {
          "scale": 0.9794205766911694
         },
         "scope": "usa"
        },
        "legend": {
         "tracegroupgap": 0
        },
        "template": {
         "data": {
          "bar": [
           {
            "error_x": {
             "color": "#2a3f5f"
            },
            "error_y": {
             "color": "#2a3f5f"
            },
            "marker": {
             "line": {
              "color": "#E5ECF6",
              "width": 0.5
             },
             "pattern": {
              "fillmode": "overlay",
              "size": 10,
              "solidity": 0.2
             }
            },
            "type": "bar"
           }
          ],
          "barpolar": [
           {
            "marker": {
             "line": {
              "color": "#E5ECF6",
              "width": 0.5
             },
             "pattern": {
              "fillmode": "overlay",
              "size": 10,
              "solidity": 0.2
             }
            },
            "type": "barpolar"
           }
          ],
          "carpet": [
           {
            "aaxis": {
             "endlinecolor": "#2a3f5f",
             "gridcolor": "white",
             "linecolor": "white",
             "minorgridcolor": "white",
             "startlinecolor": "#2a3f5f"
            },
            "baxis": {
             "endlinecolor": "#2a3f5f",
             "gridcolor": "white",
             "linecolor": "white",
             "minorgridcolor": "white",
             "startlinecolor": "#2a3f5f"
            },
            "type": "carpet"
           }
          ],
          "choropleth": [
           {
            "colorbar": {
             "outlinewidth": 0,
             "ticks": ""
            },
            "type": "choropleth"
           }
          ],
          "contour": [
           {
            "colorbar": {
             "outlinewidth": 0,
             "ticks": ""
            },
            "colorscale": [
             [
              0,
              "#0d0887"
             ],
             [
              0.1111111111111111,
              "#46039f"
             ],
             [
              0.2222222222222222,
              "#7201a8"
             ],
             [
              0.3333333333333333,
              "#9c179e"
             ],
             [
              0.4444444444444444,
              "#bd3786"
             ],
             [
              0.5555555555555556,
              "#d8576b"
             ],
             [
              0.6666666666666666,
              "#ed7953"
             ],
             [
              0.7777777777777778,
              "#fb9f3a"
             ],
             [
              0.8888888888888888,
              "#fdca26"
             ],
             [
              1,
              "#f0f921"
             ]
            ],
            "type": "contour"
           }
          ],
          "contourcarpet": [
           {
            "colorbar": {
             "outlinewidth": 0,
             "ticks": ""
            },
            "type": "contourcarpet"
           }
          ],
          "heatmap": [
           {
            "colorbar": {
             "outlinewidth": 0,
             "ticks": ""
            },
            "colorscale": [
             [
              0,
              "#0d0887"
             ],
             [
              0.1111111111111111,
              "#46039f"
             ],
             [
              0.2222222222222222,
              "#7201a8"
             ],
             [
              0.3333333333333333,
              "#9c179e"
             ],
             [
              0.4444444444444444,
              "#bd3786"
             ],
             [
              0.5555555555555556,
              "#d8576b"
             ],
             [
              0.6666666666666666,
              "#ed7953"
             ],
             [
              0.7777777777777778,
              "#fb9f3a"
             ],
             [
              0.8888888888888888,
              "#fdca26"
             ],
             [
              1,
              "#f0f921"
             ]
            ],
            "type": "heatmap"
           }
          ],
          "heatmapgl": [
           {
            "colorbar": {
             "outlinewidth": 0,
             "ticks": ""
            },
            "colorscale": [
             [
              0,
              "#0d0887"
             ],
             [
              0.1111111111111111,
              "#46039f"
             ],
             [
              0.2222222222222222,
              "#7201a8"
             ],
             [
              0.3333333333333333,
              "#9c179e"
             ],
             [
              0.4444444444444444,
              "#bd3786"
             ],
             [
              0.5555555555555556,
              "#d8576b"
             ],
             [
              0.6666666666666666,
              "#ed7953"
             ],
             [
              0.7777777777777778,
              "#fb9f3a"
             ],
             [
              0.8888888888888888,
              "#fdca26"
             ],
             [
              1,
              "#f0f921"
             ]
            ],
            "type": "heatmapgl"
           }
          ],
          "histogram": [
           {
            "marker": {
             "pattern": {
              "fillmode": "overlay",
              "size": 10,
              "solidity": 0.2
             }
            },
            "type": "histogram"
           }
          ],
          "histogram2d": [
           {
            "colorbar": {
             "outlinewidth": 0,
             "ticks": ""
            },
            "colorscale": [
             [
              0,
              "#0d0887"
             ],
             [
              0.1111111111111111,
              "#46039f"
             ],
             [
              0.2222222222222222,
              "#7201a8"
             ],
             [
              0.3333333333333333,
              "#9c179e"
             ],
             [
              0.4444444444444444,
              "#bd3786"
             ],
             [
              0.5555555555555556,
              "#d8576b"
             ],
             [
              0.6666666666666666,
              "#ed7953"
             ],
             [
              0.7777777777777778,
              "#fb9f3a"
             ],
             [
              0.8888888888888888,
              "#fdca26"
             ],
             [
              1,
              "#f0f921"
             ]
            ],
            "type": "histogram2d"
           }
          ],
          "histogram2dcontour": [
           {
            "colorbar": {
             "outlinewidth": 0,
             "ticks": ""
            },
            "colorscale": [
             [
              0,
              "#0d0887"
             ],
             [
              0.1111111111111111,
              "#46039f"
             ],
             [
              0.2222222222222222,
              "#7201a8"
             ],
             [
              0.3333333333333333,
              "#9c179e"
             ],
             [
              0.4444444444444444,
              "#bd3786"
             ],
             [
              0.5555555555555556,
              "#d8576b"
             ],
             [
              0.6666666666666666,
              "#ed7953"
             ],
             [
              0.7777777777777778,
              "#fb9f3a"
             ],
             [
              0.8888888888888888,
              "#fdca26"
             ],
             [
              1,
              "#f0f921"
             ]
            ],
            "type": "histogram2dcontour"
           }
          ],
          "mesh3d": [
           {
            "colorbar": {
             "outlinewidth": 0,
             "ticks": ""
            },
            "type": "mesh3d"
           }
          ],
          "parcoords": [
           {
            "line": {
             "colorbar": {
              "outlinewidth": 0,
              "ticks": ""
             }
            },
            "type": "parcoords"
           }
          ],
          "pie": [
           {
            "automargin": true,
            "type": "pie"
           }
          ],
          "scatter": [
           {
            "fillpattern": {
             "fillmode": "overlay",
             "size": 10,
             "solidity": 0.2
            },
            "type": "scatter"
           }
          ],
          "scatter3d": [
           {
            "line": {
             "colorbar": {
              "outlinewidth": 0,
              "ticks": ""
             }
            },
            "marker": {
             "colorbar": {
              "outlinewidth": 0,
              "ticks": ""
             }
            },
            "type": "scatter3d"
           }
          ],
          "scattercarpet": [
           {
            "marker": {
             "colorbar": {
              "outlinewidth": 0,
              "ticks": ""
             }
            },
            "type": "scattercarpet"
           }
          ],
          "scattergeo": [
           {
            "marker": {
             "colorbar": {
              "outlinewidth": 0,
              "ticks": ""
             }
            },
            "type": "scattergeo"
           }
          ],
          "scattergl": [
           {
            "marker": {
             "colorbar": {
              "outlinewidth": 0,
              "ticks": ""
             }
            },
            "type": "scattergl"
           }
          ],
          "scattermapbox": [
           {
            "marker": {
             "colorbar": {
              "outlinewidth": 0,
              "ticks": ""
             }
            },
            "type": "scattermapbox"
           }
          ],
          "scatterpolar": [
           {
            "marker": {
             "colorbar": {
              "outlinewidth": 0,
              "ticks": ""
             }
            },
            "type": "scatterpolar"
           }
          ],
          "scatterpolargl": [
           {
            "marker": {
             "colorbar": {
              "outlinewidth": 0,
              "ticks": ""
             }
            },
            "type": "scatterpolargl"
           }
          ],
          "scatterternary": [
           {
            "marker": {
             "colorbar": {
              "outlinewidth": 0,
              "ticks": ""
             }
            },
            "type": "scatterternary"
           }
          ],
          "surface": [
           {
            "colorbar": {
             "outlinewidth": 0,
             "ticks": ""
            },
            "colorscale": [
             [
              0,
              "#0d0887"
             ],
             [
              0.1111111111111111,
              "#46039f"
             ],
             [
              0.2222222222222222,
              "#7201a8"
             ],
             [
              0.3333333333333333,
              "#9c179e"
             ],
             [
              0.4444444444444444,
              "#bd3786"
             ],
             [
              0.5555555555555556,
              "#d8576b"
             ],
             [
              0.6666666666666666,
              "#ed7953"
             ],
             [
              0.7777777777777778,
              "#fb9f3a"
             ],
             [
              0.8888888888888888,
              "#fdca26"
             ],
             [
              1,
              "#f0f921"
             ]
            ],
            "type": "surface"
           }
          ],
          "table": [
           {
            "cells": {
             "fill": {
              "color": "#EBF0F8"
             },
             "line": {
              "color": "white"
             }
            },
            "header": {
             "fill": {
              "color": "#C8D4E3"
             },
             "line": {
              "color": "white"
             }
            },
            "type": "table"
           }
          ]
         },
         "layout": {
          "annotationdefaults": {
           "arrowcolor": "#2a3f5f",
           "arrowhead": 0,
           "arrowwidth": 1
          },
          "autotypenumbers": "strict",
          "coloraxis": {
           "colorbar": {
            "outlinewidth": 0,
            "ticks": ""
           }
          },
          "colorscale": {
           "diverging": [
            [
             0,
             "#8e0152"
            ],
            [
             0.1,
             "#c51b7d"
            ],
            [
             0.2,
             "#de77ae"
            ],
            [
             0.3,
             "#f1b6da"
            ],
            [
             0.4,
             "#fde0ef"
            ],
            [
             0.5,
             "#f7f7f7"
            ],
            [
             0.6,
             "#e6f5d0"
            ],
            [
             0.7,
             "#b8e186"
            ],
            [
             0.8,
             "#7fbc41"
            ],
            [
             0.9,
             "#4d9221"
            ],
            [
             1,
             "#276419"
            ]
           ],
           "sequential": [
            [
             0,
             "#0d0887"
            ],
            [
             0.1111111111111111,
             "#46039f"
            ],
            [
             0.2222222222222222,
             "#7201a8"
            ],
            [
             0.3333333333333333,
             "#9c179e"
            ],
            [
             0.4444444444444444,
             "#bd3786"
            ],
            [
             0.5555555555555556,
             "#d8576b"
            ],
            [
             0.6666666666666666,
             "#ed7953"
            ],
            [
             0.7777777777777778,
             "#fb9f3a"
            ],
            [
             0.8888888888888888,
             "#fdca26"
            ],
            [
             1,
             "#f0f921"
            ]
           ],
           "sequentialminus": [
            [
             0,
             "#0d0887"
            ],
            [
             0.1111111111111111,
             "#46039f"
            ],
            [
             0.2222222222222222,
             "#7201a8"
            ],
            [
             0.3333333333333333,
             "#9c179e"
            ],
            [
             0.4444444444444444,
             "#bd3786"
            ],
            [
             0.5555555555555556,
             "#d8576b"
            ],
            [
             0.6666666666666666,
             "#ed7953"
            ],
            [
             0.7777777777777778,
             "#fb9f3a"
            ],
            [
             0.8888888888888888,
             "#fdca26"
            ],
            [
             1,
             "#f0f921"
            ]
           ]
          },
          "colorway": [
           "#636efa",
           "#EF553B",
           "#00cc96",
           "#ab63fa",
           "#FFA15A",
           "#19d3f3",
           "#FF6692",
           "#B6E880",
           "#FF97FF",
           "#FECB52"
          ],
          "font": {
           "color": "#2a3f5f"
          },
          "geo": {
           "bgcolor": "white",
           "lakecolor": "white",
           "landcolor": "#E5ECF6",
           "showlakes": true,
           "showland": true,
           "subunitcolor": "white"
          },
          "hoverlabel": {
           "align": "left"
          },
          "hovermode": "closest",
          "mapbox": {
           "style": "light"
          },
          "paper_bgcolor": "white",
          "plot_bgcolor": "#E5ECF6",
          "polar": {
           "angularaxis": {
            "gridcolor": "white",
            "linecolor": "white",
            "ticks": ""
           },
           "bgcolor": "#E5ECF6",
           "radialaxis": {
            "gridcolor": "white",
            "linecolor": "white",
            "ticks": ""
           }
          },
          "scene": {
           "xaxis": {
            "backgroundcolor": "#E5ECF6",
            "gridcolor": "white",
            "gridwidth": 2,
            "linecolor": "white",
            "showbackground": true,
            "ticks": "",
            "zerolinecolor": "white"
           },
           "yaxis": {
            "backgroundcolor": "#E5ECF6",
            "gridcolor": "white",
            "gridwidth": 2,
            "linecolor": "white",
            "showbackground": true,
            "ticks": "",
            "zerolinecolor": "white"
           },
           "zaxis": {
            "backgroundcolor": "#E5ECF6",
            "gridcolor": "white",
            "gridwidth": 2,
            "linecolor": "white",
            "showbackground": true,
            "ticks": "",
            "zerolinecolor": "white"
           }
          },
          "shapedefaults": {
           "line": {
            "color": "#2a3f5f"
           }
          },
          "ternary": {
           "aaxis": {
            "gridcolor": "white",
            "linecolor": "white",
            "ticks": ""
           },
           "baxis": {
            "gridcolor": "white",
            "linecolor": "white",
            "ticks": ""
           },
           "bgcolor": "#E5ECF6",
           "caxis": {
            "gridcolor": "white",
            "linecolor": "white",
            "ticks": ""
           }
          },
          "title": {
           "x": 0.05
          },
          "xaxis": {
           "automargin": true,
           "gridcolor": "white",
           "linecolor": "white",
           "ticks": "",
           "title": {
            "standoff": 15
           },
           "zerolinecolor": "white",
           "zerolinewidth": 2
          },
          "yaxis": {
           "automargin": true,
           "gridcolor": "white",
           "linecolor": "white",
           "ticks": "",
           "title": {
            "standoff": 15
           },
           "zerolinecolor": "white",
           "zerolinewidth": 2
          }
         }
        },
        "title": {
         "text": "Average SAT Scores by State"
        }
       }
      },
      "image/png": "[encoded data removed]",
      "text/html": [
       "<div>                            <div id=\"f69c0c6e-5f7c-44ca-beac-3a99d84b4338\" class=\"plotly-graph-div\" style=\"height:525px; width:100%;\"></div>            <script type=\"text/javascript\">                require([\"plotly\"], function(Plotly) {                    window.PLOTLYENV=window.PLOTLYENV || {};                                    if (document.getElementById(\"f69c0c6e-5f7c-44ca-beac-3a99d84b4338\")) {                    Plotly.newPlot(                        \"f69c0c6e-5f7c-44ca-beac-3a99d84b4338\",                        [{\"coloraxis\":\"coloraxis\",\"geo\":\"geo\",\"hovertemplate\":\"state=%{location}\\u003cbr\\u003eAverage SAT Score=%{z}\\u003cextra\\u003e\\u003c\\u002fextra\\u003e\",\"locationmode\":\"USA-states\",\"locations\":[\"AL\",\"AZ\",\"CA\",\"CO\",\"CT\",\"DC\",\"DE\",\"FL\",\"GA\",\"HI\",\"IA\",\"ID\",\"IL\",\"IN\",\"KS\",\"KY\",\"LA\",\"MA\",\"MD\",\"ME\",\"MI\",\"MN\",\"MO\",\"MS\",\"MT\",\"NC\",\"ND\",\"NE\",\"NH\",\"NJ\",\"NM\",\"NV\",\"NY\",\"OH\",\"OK\",\"OR\",\"PA\",\"PR\",\"RI\",\"SC\",\"SD\",\"TN\",\"TX\",\"UT\",\"VA\",\"VT\",\"WA\",\"WI\",\"WV\",\"WY\"],\"name\":\"\",\"z\":[null,null,1443.75,1197.111111111111,1291.0,1369.25,1290.0,1207.2,1145.2666666666667,1113.0,1180.0,1118.0,1260.3,1229.25,1120.3333333333333,1118.8333333333333,1157.857142857143,1361.3,1223.5714285714287,1202.0,1158.0,1188.4285714285713,1233.6666666666667,1188.0,1158.0,1210.3333333333333,1120.0,1156.0,1217.0,1243.8,1060.5,1092.0,1304.0833333333333,1198.6923076923076,1158.3333333333333,1271.0,1256.25,null,1362.5,1247.25,1121.5,1207.111111111111,1113.3,1266.3333333333333,1237.0,1358.0,1302.6666666666667,1160.5454545454545,1116.0,null],\"type\":\"choropleth\"}],                        {\"template\":{\"data\":{\"histogram2dcontour\":[{\"type\":\"histogram2dcontour\",\"colorbar\":{\"outlinewidth\":0,\"ticks\":\"\"},\"colorscale\":[[0.0,\"#0d0887\"],[0.1111111111111111,\"#46039f\"],[0.2222222222222222,\"#7201a8\"],[0.3333333333333333,\"#9c179e\"],[0.4444444444444444,\"#bd3786\"],[0.5555555555555556,\"#d8576b\"],[0.6666666666666666,\"#ed7953\"],[0.7777777777777778,\"#fb9f3a\"],[0.8888888888888888,\"#fdca26\"],[1.0,\"#f0f921\"]]}],\"choropleth\":[{\"type\":\"choropleth\",\"colorbar\":{\"outlinewidth\":0,\"ticks\":\"\"}}],\"histogram2d\":[{\"type\":\"histogram2d\",\"colorbar\":{\"outlinewidth\":0,\"ticks\":\"\"},\"colorscale\":[[0.0,\"#0d0887\"],[0.1111111111111111,\"#46039f\"],[0.2222222222222222,\"#7201a8\"],[0.3333333333333333,\"#9c179e\"],[0.4444444444444444,\"#bd3786\"],[0.5555555555555556,\"#d8576b\"],[0.6666666666666666,\"#ed7953\"],[0.7777777777777778,\"#fb9f3a\"],[0.8888888888888888,\"#fdca26\"],[1.0,\"#f0f921\"]]}],\"heatmap\":[{\"type\":\"heatmap\",\"colorbar\":{\"outlinewidth\":0,\"ticks\":\"\"},\"colorscale\":[[0.0,\"#0d0887\"],[0.1111111111111111,\"#46039f\"],[0.2222222222222222,\"#7201a8\"],[0.3333333333333333,\"#9c179e\"],[0.4444444444444444,\"#bd3786\"],[0.5555555555555556,\"#d8576b\"],[0.6666666666666666,\"#ed7953\"],[0.7777777777777778,\"#fb9f3a\"],[0.8888888888888888,\"#fdca26\"],[1.0,\"#f0f921\"]]}],\"heatmapgl\":[{\"type\":\"heatmapgl\",\"colorbar\":{\"outlinewidth\":0,\"ticks\":\"\"},\"colorscale\":[[0.0,\"#0d0887\"],[0.1111111111111111,\"#46039f\"],[0.2222222222222222,\"#7201a8\"],[0.3333333333333333,\"#9c179e\"],[0.4444444444444444,\"#bd3786\"],[0.5555555555555556,\"#d8576b\"],[0.6666666666666666,\"#ed7953\"],[0.7777777777777778,\"#fb9f3a\"],[0.8888888888888888,\"#fdca26\"],[1.0,\"#f0f921\"]]}],\"contourcarpet\":[{\"type\":\"contourcarpet\",\"colorbar\":{\"outlinewidth\":0,\"ticks\":\"\"}}],\"contour\":[{\"type\":\"contour\",\"colorbar\":{\"outlinewidth\":0,\"ticks\":\"\"},\"colorscale\":[[0.0,\"#0d0887\"],[0.1111111111111111,\"#46039f\"],[0.2222222222222222,\"#7201a8\"],[0.3333333333333333,\"#9c179e\"],[0.4444444444444444,\"#bd3786\"],[0.5555555555555556,\"#d8576b\"],[0.6666666666666666,\"#ed7953\"],[0.7777777777777778,\"#fb9f3a\"],[0.8888888888888888,\"#fdca26\"],[1.0,\"#f0f921\"]]}],\"surface\":[{\"type\":\"surface\",\"colorbar\":{\"outlinewidth\":0,\"ticks\":\"\"},\"colorscale\":[[0.0,\"#0d0887\"],[0.1111111111111111,\"#46039f\"],[0.2222222222222222,\"#7201a8\"],[0.3333333333333333,\"#9c179e\"],[0.4444444444444444,\"#bd3786\"],[0.5555555555555556,\"#d8576b\"],[0.6666666666666666,\"#ed7953\"],[0.7777777777777778,\"#fb9f3a\"],[0.8888888888888888,\"#fdca26\"],[1.0,\"#f0f921\"]]}],\"mesh3d\":[{\"type\":\"mesh3d\",\"colorbar\":{\"outlinewidth\":0,\"ticks\":\"\"}}],\"scatter\":[{\"fillpattern\":{\"fillmode\":\"overlay\",\"size\":10,\"solidity\":0.2},\"type\":\"scatter\"}],\"parcoords\":[{\"type\":\"parcoords\",\"line\":{\"colorbar\":{\"outlinewidth\":0,\"ticks\":\"\"}}}],\"scatterpolargl\":[{\"type\":\"scatterpolargl\",\"marker\":{\"colorbar\":{\"outlinewidth\":0,\"ticks\":\"\"}}}],\"bar\":[{\"error_x\":{\"color\":\"#2a3f5f\"},\"error_y\":{\"color\":\"#2a3f5f\"},\"marker\":{\"line\":{\"color\":\"#E5ECF6\",\"width\":0.5},\"pattern\":{\"fillmode\":\"overlay\",\"size\":10,\"solidity\":0.2}},\"type\":\"bar\"}],\"scattergeo\":[{\"type\":\"scattergeo\",\"marker\":{\"colorbar\":{\"outlinewidth\":0,\"ticks\":\"\"}}}],\"scatterpolar\":[{\"type\":\"scatterpolar\",\"marker\":{\"colorbar\":{\"outlinewidth\":0,\"ticks\":\"\"}}}],\"histogram\":[{\"marker\":{\"pattern\":{\"fillmode\":\"overlay\",\"size\":10,\"solidity\":0.2}},\"type\":\"histogram\"}],\"scattergl\":[{\"type\":\"scattergl\",\"marker\":{\"colorbar\":{\"outlinewidth\":0,\"ticks\":\"\"}}}],\"scatter3d\":[{\"type\":\"scatter3d\",\"line\":{\"colorbar\":{\"outlinewidth\":0,\"ticks\":\"\"}},\"marker\":{\"colorbar\":{\"outlinewidth\":0,\"ticks\":\"\"}}}],\"scattermapbox\":[{\"type\":\"scattermapbox\",\"marker\":{\"colorbar\":{\"outlinewidth\":0,\"ticks\":\"\"}}}],\"scatterternary\":[{\"type\":\"scatterternary\",\"marker\":{\"colorbar\":{\"outlinewidth\":0,\"ticks\":\"\"}}}],\"scattercarpet\":[{\"type\":\"scattercarpet\",\"marker\":{\"colorbar\":{\"outlinewidth\":0,\"ticks\":\"\"}}}],\"carpet\":[{\"aaxis\":{\"endlinecolor\":\"#2a3f5f\",\"gridcolor\":\"white\",\"linecolor\":\"white\",\"minorgridcolor\":\"white\",\"startlinecolor\":\"#2a3f5f\"},\"baxis\":{\"endlinecolor\":\"#2a3f5f\",\"gridcolor\":\"white\",\"linecolor\":\"white\",\"minorgridcolor\":\"white\",\"startlinecolor\":\"#2a3f5f\"},\"type\":\"carpet\"}],\"table\":[{\"cells\":{\"fill\":{\"color\":\"#EBF0F8\"},\"line\":{\"color\":\"white\"}},\"header\":{\"fill\":{\"color\":\"#C8D4E3\"},\"line\":{\"color\":\"white\"}},\"type\":\"table\"}],\"barpolar\":[{\"marker\":{\"line\":{\"color\":\"#E5ECF6\",\"width\":0.5},\"pattern\":{\"fillmode\":\"overlay\",\"size\":10,\"solidity\":0.2}},\"type\":\"barpolar\"}],\"pie\":[{\"automargin\":true,\"type\":\"pie\"}]},\"layout\":{\"autotypenumbers\":\"strict\",\"colorway\":[\"#636efa\",\"#EF553B\",\"#00cc96\",\"#ab63fa\",\"#FFA15A\",\"#19d3f3\",\"#FF6692\",\"#B6E880\",\"#FF97FF\",\"#FECB52\"],\"font\":{\"color\":\"#2a3f5f\"},\"hovermode\":\"closest\",\"hoverlabel\":{\"align\":\"left\"},\"paper_bgcolor\":\"white\",\"plot_bgcolor\":\"#E5ECF6\",\"polar\":{\"bgcolor\":\"#E5ECF6\",\"angularaxis\":{\"gridcolor\":\"white\",\"linecolor\":\"white\",\"ticks\":\"\"},\"radialaxis\":{\"gridcolor\":\"white\",\"linecolor\":\"white\",\"ticks\":\"\"}},\"ternary\":{\"bgcolor\":\"#E5ECF6\",\"aaxis\":{\"gridcolor\":\"white\",\"linecolor\":\"white\",\"ticks\":\"\"},\"baxis\":{\"gridcolor\":\"white\",\"linecolor\":\"white\",\"ticks\":\"\"},\"caxis\":{\"gridcolor\":\"white\",\"linecolor\":\"white\",\"ticks\":\"\"}},\"coloraxis\":{\"colorbar\":{\"outlinewidth\":0,\"ticks\":\"\"}},\"colorscale\":{\"sequential\":[[0.0,\"#0d0887\"],[0.1111111111111111,\"#46039f\"],[0.2222222222222222,\"#7201a8\"],[0.3333333333333333,\"#9c179e\"],[0.4444444444444444,\"#bd3786\"],[0.5555555555555556,\"#d8576b\"],[0.6666666666666666,\"#ed7953\"],[0.7777777777777778,\"#fb9f3a\"],[0.8888888888888888,\"#fdca26\"],[1.0,\"#f0f921\"]],\"sequentialminus\":[[0.0,\"#0d0887\"],[0.1111111111111111,\"#46039f\"],[0.2222222222222222,\"#7201a8\"],[0.3333333333333333,\"#9c179e\"],[0.4444444444444444,\"#bd3786\"],[0.5555555555555556,\"#d8576b\"],[0.6666666666666666,\"#ed7953\"],[0.7777777777777778,\"#fb9f3a\"],[0.8888888888888888,\"#fdca26\"],[1.0,\"#f0f921\"]],\"diverging\":[[0,\"#8e0152\"],[0.1,\"#c51b7d\"],[0.2,\"#de77ae\"],[0.3,\"#f1b6da\"],[0.4,\"#fde0ef\"],[0.5,\"#f7f7f7\"],[0.6,\"#e6f5d0\"],[0.7,\"#b8e186\"],[0.8,\"#7fbc41\"],[0.9,\"#4d9221\"],[1,\"#276419\"]]},\"xaxis\":{\"gridcolor\":\"white\",\"linecolor\":\"white\",\"ticks\":\"\",\"title\":{\"standoff\":15},\"zerolinecolor\":\"white\",\"automargin\":true,\"zerolinewidth\":2},\"yaxis\":{\"gridcolor\":\"white\",\"linecolor\":\"white\",\"ticks\":\"\",\"title\":{\"standoff\":15},\"zerolinecolor\":\"white\",\"automargin\":true,\"zerolinewidth\":2},\"scene\":{\"xaxis\":{\"backgroundcolor\":\"#E5ECF6\",\"gridcolor\":\"white\",\"linecolor\":\"white\",\"showbackground\":true,\"ticks\":\"\",\"zerolinecolor\":\"white\",\"gridwidth\":2},\"yaxis\":{\"backgroundcolor\":\"#E5ECF6\",\"gridcolor\":\"white\",\"linecolor\":\"white\",\"showbackground\":true,\"ticks\":\"\",\"zerolinecolor\":\"white\",\"gridwidth\":2},\"zaxis\":{\"backgroundcolor\":\"#E5ECF6\",\"gridcolor\":\"white\",\"linecolor\":\"white\",\"showbackground\":true,\"ticks\":\"\",\"zerolinecolor\":\"white\",\"gridwidth\":2}},\"shapedefaults\":{\"line\":{\"color\":\"#2a3f5f\"}},\"annotationdefaults\":{\"arrowcolor\":\"#2a3f5f\",\"arrowhead\":0,\"arrowwidth\":1},\"geo\":{\"bgcolor\":\"white\",\"landcolor\":\"#E5ECF6\",\"subunitcolor\":\"white\",\"showland\":true,\"showlakes\":true,\"lakecolor\":\"white\"},\"title\":{\"x\":0.05},\"mapbox\":{\"style\":\"light\"}}},\"geo\":{\"domain\":{\"x\":[0.0,1.0],\"y\":[0.0,1.0]},\"center\":{},\"scope\":\"usa\"},\"coloraxis\":{\"colorbar\":{\"title\":{\"text\":\"Average SAT Score\"}},\"colorscale\":[[0.0,\"#440154\"],[0.1111111111111111,\"#482878\"],[0.2222222222222222,\"#3e4989\"],[0.3333333333333333,\"#31688e\"],[0.4444444444444444,\"#26828e\"],[0.5555555555555556,\"#1f9e89\"],[0.6666666666666666,\"#35b779\"],[0.7777777777777778,\"#6ece58\"],[0.8888888888888888,\"#b5de2b\"],[1.0,\"#fde725\"]]},\"legend\":{\"tracegroupgap\":0},\"title\":{\"text\":\"Average SAT Scores by State\"}},                        {\"responsive\": true}                    ).then(function(){\n",
       "                            \n",
       "var gd = document.getElementById('f69c0c6e-5f7c-44ca-beac-3a99d84b4338');\n",
       "var x = new MutationObserver(function (mutations, observer) {{\n",
       "        var display = window.getComputedStyle(gd).display;\n",
       "        if (!display || display === 'none') {{\n",
       "            console.log([gd, 'removed!']);\n",
       "            Plotly.purge(gd);\n",
       "            observer.disconnect();\n",
       "        }}\n",
       "}});\n",
       "\n",
       "// Listen for the removal of the full notebook cells\n",
       "var notebookContainer = gd.closest('#notebook-container');\n",
       "if (notebookContainer) {{\n",
       "    x.observe(notebookContainer, {childList: true});\n",
       "}}\n",
       "\n",
       "// Listen for the clearing of the current output cell\n",
       "var outputEl = gd.closest('.output');\n",
       "if (outputEl) {{\n",
       "    x.observe(outputEl, {childList: true});\n",
       "}}\n",
       "\n",
       "                        })                };                });            </script>        </div>"
      ]
     },
     "metadata": {},
     "output_type": "display_data"
    }
   ],
   "source": [
    "# plot to see average test scores depending what state a college is in - could be helpful to students deciding whether to stay in-state or out-of-state\n",
    "\n",
    "group_df = college_df.groupby(by=\"state\")[['avg_SAT', 'reading_SAT', 'writing_SAT', 'math_SAT']].mean().reset_index()\n",
    "\n",
    "score_fig = px.choropleth(group_df, locations=\"state\", locationmode=\"USA-states\", color=\"avg_SAT\", color_continuous_scale=\"Viridis\",\n",
    "                          scope=\"usa\",labels={'avg_SAT': 'Average SAT Score'}, title=\"Average SAT Scores by State\")\n",
    "score_fig.show()\n"
   ]
  },
  {
   "cell_type": "code",
   "execution_count": 46,
   "id": "dfece6e7-ed78-4504-8487-52d7342856a3",
   "metadata": {},
   "outputs": [
    {
     "data": {
      "image/png": "[encoded data removed]",
      "text/plain": [
       "<Figure size 1000x600 with 1 Axes>"
      ]
     },
     "metadata": {},
     "output_type": "display_data"
    }
   ],
   "source": [
    "#Answer the question: Is there an advantage to choosing one admission test over the other? (SAT or ACT)\n",
    "#Boxplot with data normalization.\n",
    "\n",
    "test_categories = [\"Average SAT\", \"Average ACT\"]\n",
    "SAT_scores = college_no_nan[\"avg_SAT\"].tolist()\n",
    "ACT_scores = college_no_nan[\"midpoint_ACT\"].tolist()\n",
    "test_scores = [SAT_scores , ACT_scores]\n",
    "\n",
    "#Normalize with list comprehension.\n",
    "normalized_scores = [(np.array(score) - np.min(score)) / (np.max(score) - np.min(score)) for score in test_scores]\n",
    "\n",
    "#Create the barplot\n",
    "plt.figure(figsize=(10, 6))\n",
    "plt.boxplot(normalized_scores, tick_labels=test_categories)\n",
    "plt.title('Boxplot of normalized comparison of college average accepted SAT and ACT scores')\n",
    "plt.xlabel('Test name')\n",
    "plt.ylabel('Value')\n",
    "plt.show()"
   ]
  },
  {
   "cell_type": "code",
   "execution_count": 49,
   "id": "563371b9-ba35-4079-83b0-17de7544d17e",
   "metadata": {},
   "outputs": [
    {
     "data": {
      "image/png": "[encoded data removed]",
      "text/plain": [
       "<Figure size 1000x600 with 1 Axes>"
      ]
     },
     "metadata": {},
     "output_type": "display_data"
    }
   ],
   "source": [
    "#Answer the question: Which SAT subsection is the most important to excel on?\n",
    "#Boxplot with normalization\n",
    "# ---- drop all NaN values for this box plot \n",
    "\n",
    "plot_df = college_df.dropna()\n",
    "test_categories = [\"Writing SAT\", \"Reading SAT\" , \"Math SAT\"]\n",
    "writing_SAT = plot_df[\"writing_SAT\"].tolist()\n",
    "reading_SAT = plot_df[\"reading_SAT\"].tolist()\n",
    "math_SAT = plot_df[\"math_SAT\"].tolist()\n",
    "SAT_scores = [writing_SAT , reading_SAT ,math_SAT ]\n",
    "\n",
    "#Normalize with list comprehension.\n",
    "normalized_scores = [(np.array(score) - np.min(score)) / (np.max(score) - np.min(score)) for score in SAT_scores]\n",
    "\n",
    "#Create the barplot\n",
    "plt.figure(figsize=(10, 6))\n",
    "plt.boxplot(normalized_scores, tick_labels=test_categories)\n",
    "plt.title('Boxplot of normalized comparison of college average SAT categories')\n",
    "plt.xlabel('Test subcategory')\n",
    "plt.ylabel('Value')\n",
    "plt.show()"
   ]
  },
  {
   "cell_type": "code",
   "execution_count": 72,
   "id": "716ed205-0015-4557-9391-14980c19d552",
   "metadata": {},
   "outputs": [
    {
     "data": {
      "application/vnd.plotly.v1+json": {
       "config": {
        "plotlyServerURL": "https://plot.ly"
       },
       "data": [
        {
         "alignmentgroup": "True",
         "hovertemplate": "test_requirement_label=%{x}<br>avg_SAT=%{y}<extra></extra>",
         "legendgroup": "",
         "marker": {
          "color": "#636efa",
          "pattern": {
           "shape": ""
          }
         },
         "name": "",
         "offsetgroup": "",
         "orientation": "v",
         "showlegend": false,
         "textposition": "auto",
         "type": "bar",
         "x": [
          null,
          "Required",
          null,
          "Considered but not required"
         ],
         "xaxis": "x",
         "y": [
          null,
          1170.8918918918919,
          null,
          1218.8721804511279
         ],
         "yaxis": "y"
        }
       ],
       "layout": {
        "autosize": true,
        "barmode": "relative",
        "legend": {
         "tracegroupgap": 0
        },
        "template": {
         "data": {
          "bar": [
           {
            "error_x": {
             "color": "#2a3f5f"
            },
            "error_y": {
             "color": "#2a3f5f"
            },
            "marker": {
             "line": {
              "color": "#E5ECF6",
              "width": 0.5
             },
             "pattern": {
              "fillmode": "overlay",
              "size": 10,
              "solidity": 0.2
             }
            },
            "type": "bar"
           }
          ],
          "barpolar": [
           {
            "marker": {
             "line": {
              "color": "#E5ECF6",
              "width": 0.5
             },
             "pattern": {
              "fillmode": "overlay",
              "size": 10,
              "solidity": 0.2
             }
            },
            "type": "barpolar"
           }
          ],
          "carpet": [
           {
            "aaxis": {
             "endlinecolor": "#2a3f5f",
             "gridcolor": "white",
             "linecolor": "white",
             "minorgridcolor": "white",
             "startlinecolor": "#2a3f5f"
            },
            "baxis": {
             "endlinecolor": "#2a3f5f",
             "gridcolor": "white",
             "linecolor": "white",
             "minorgridcolor": "white",
             "startlinecolor": "#2a3f5f"
            },
            "type": "carpet"
           }
          ],
          "choropleth": [
           {
            "colorbar": {
             "outlinewidth": 0,
             "ticks": ""
            },
            "type": "choropleth"
           }
          ],
          "contour": [
           {
            "colorbar": {
             "outlinewidth": 0,
             "ticks": ""
            },
            "colorscale": [
             [
              0,
              "#0d0887"
             ],
             [
              0.1111111111111111,
              "#46039f"
             ],
             [
              0.2222222222222222,
              "#7201a8"
             ],
             [
              0.3333333333333333,
              "#9c179e"
             ],
             [
              0.4444444444444444,
              "#bd3786"
             ],
             [
              0.5555555555555556,
              "#d8576b"
             ],
             [
              0.6666666666666666,
              "#ed7953"
             ],
             [
              0.7777777777777778,
              "#fb9f3a"
             ],
             [
              0.8888888888888888,
              "#fdca26"
             ],
             [
              1,
              "#f0f921"
             ]
            ],
            "type": "contour"
           }
          ],
          "contourcarpet": [
           {
            "colorbar": {
             "outlinewidth": 0,
             "ticks": ""
            },
            "type": "contourcarpet"
           }
          ],
          "heatmap": [
           {
            "colorbar": {
             "outlinewidth": 0,
             "ticks": ""
            },
            "colorscale": [
             [
              0,
              "#0d0887"
             ],
             [
              0.1111111111111111,
              "#46039f"
             ],
             [
              0.2222222222222222,
              "#7201a8"
             ],
             [
              0.3333333333333333,
              "#9c179e"
             ],
             [
              0.4444444444444444,
              "#bd3786"
             ],
             [
              0.5555555555555556,
              "#d8576b"
             ],
             [
              0.6666666666666666,
              "#ed7953"
             ],
             [
              0.7777777777777778,
              "#fb9f3a"
             ],
             [
              0.8888888888888888,
              "#fdca26"
             ],
             [
              1,
              "#f0f921"
             ]
            ],
            "type": "heatmap"
           }
          ],
          "heatmapgl": [
           {
            "colorbar": {
             "outlinewidth": 0,
             "ticks": ""
            },
            "colorscale": [
             [
              0,
              "#0d0887"
             ],
             [
              0.1111111111111111,
              "#46039f"
             ],
             [
              0.2222222222222222,
              "#7201a8"
             ],
             [
              0.3333333333333333,
              "#9c179e"
             ],
             [
              0.4444444444444444,
              "#bd3786"
             ],
             [
              0.5555555555555556,
              "#d8576b"
             ],
             [
              0.6666666666666666,
              "#ed7953"
             ],
             [
              0.7777777777777778,
              "#fb9f3a"
             ],
             [
              0.8888888888888888,
              "#fdca26"
             ],
             [
              1,
              "#f0f921"
             ]
            ],
            "type": "heatmapgl"
           }
          ],
          "histogram": [
           {
            "marker": {
             "pattern": {
              "fillmode": "overlay",
              "size": 10,
              "solidity": 0.2
             }
            },
            "type": "histogram"
           }
          ],
          "histogram2d": [
           {
            "colorbar": {
             "outlinewidth": 0,
             "ticks": ""
            },
            "colorscale": [
             [
              0,
              "#0d0887"
             ],
             [
              0.1111111111111111,
              "#46039f"
             ],
             [
              0.2222222222222222,
              "#7201a8"
             ],
             [
              0.3333333333333333,
              "#9c179e"
             ],
             [
              0.4444444444444444,
              "#bd3786"
             ],
             [
              0.5555555555555556,
              "#d8576b"
             ],
             [
              0.6666666666666666,
              "#ed7953"
             ],
             [
              0.7777777777777778,
              "#fb9f3a"
             ],
             [
              0.8888888888888888,
              "#fdca26"
             ],
             [
              1,
              "#f0f921"
             ]
            ],
            "type": "histogram2d"
           }
          ],
          "histogram2dcontour": [
           {
            "colorbar": {
             "outlinewidth": 0,
             "ticks": ""
            },
            "colorscale": [
             [
              0,
              "#0d0887"
             ],
             [
              0.1111111111111111,
              "#46039f"
             ],
             [
              0.2222222222222222,
              "#7201a8"
             ],
             [
              0.3333333333333333,
              "#9c179e"
             ],
             [
              0.4444444444444444,
              "#bd3786"
             ],
             [
              0.5555555555555556,
              "#d8576b"
             ],
             [
              0.6666666666666666,
              "#ed7953"
             ],
             [
              0.7777777777777778,
              "#fb9f3a"
             ],
             [
              0.8888888888888888,
              "#fdca26"
             ],
             [
              1,
              "#f0f921"
             ]
            ],
            "type": "histogram2dcontour"
           }
          ],
          "mesh3d": [
           {
            "colorbar": {
             "outlinewidth": 0,
             "ticks": ""
            },
            "type": "mesh3d"
           }
          ],
          "parcoords": [
           {
            "line": {
             "colorbar": {
              "outlinewidth": 0,
              "ticks": ""
             }
            },
            "type": "parcoords"
           }
          ],
          "pie": [
           {
            "automargin": true,
            "type": "pie"
           }
          ],
          "scatter": [
           {
            "fillpattern": {
             "fillmode": "overlay",
             "size": 10,
             "solidity": 0.2
            },
            "type": "scatter"
           }
          ],
          "scatter3d": [
           {
            "line": {
             "colorbar": {
              "outlinewidth": 0,
              "ticks": ""
             }
            },
            "marker": {
             "colorbar": {
              "outlinewidth": 0,
              "ticks": ""
             }
            },
            "type": "scatter3d"
           }
          ],
          "scattercarpet": [
           {
            "marker": {
             "colorbar": {
              "outlinewidth": 0,
              "ticks": ""
             }
            },
            "type": "scattercarpet"
           }
          ],
          "scattergeo": [
           {
            "marker": {
             "colorbar": {
              "outlinewidth": 0,
              "ticks": ""
             }
            },
            "type": "scattergeo"
           }
          ],
          "scattergl": [
           {
            "marker": {
             "colorbar": {
              "outlinewidth": 0,
              "ticks": ""
             }
            },
            "type": "scattergl"
           }
          ],
          "scattermapbox": [
           {
            "marker": {
             "colorbar": {
              "outlinewidth": 0,
              "ticks": ""
             }
            },
            "type": "scattermapbox"
           }
          ],
          "scatterpolar": [
           {
            "marker": {
             "colorbar": {
              "outlinewidth": 0,
              "ticks": ""
             }
            },
            "type": "scatterpolar"
           }
          ],
          "scatterpolargl": [
           {
            "marker": {
             "colorbar": {
              "outlinewidth": 0,
              "ticks": ""
             }
            },
            "type": "scatterpolargl"
           }
          ],
          "scatterternary": [
           {
            "marker": {
             "colorbar": {
              "outlinewidth": 0,
              "ticks": ""
             }
            },
            "type": "scatterternary"
           }
          ],
          "surface": [
           {
            "colorbar": {
             "outlinewidth": 0,
             "ticks": ""
            },
            "colorscale": [
             [
              0,
              "#0d0887"
             ],
             [
              0.1111111111111111,
              "#46039f"
             ],
             [
              0.2222222222222222,
              "#7201a8"
             ],
             [
              0.3333333333333333,
              "#9c179e"
             ],
             [
              0.4444444444444444,
              "#bd3786"
             ],
             [
              0.5555555555555556,
              "#d8576b"
             ],
             [
              0.6666666666666666,
              "#ed7953"
             ],
             [
              0.7777777777777778,
              "#fb9f3a"
             ],
             [
              0.8888888888888888,
              "#fdca26"
             ],
             [
              1,
              "#f0f921"
             ]
            ],
            "type": "surface"
           }
          ],
          "table": [
           {
            "cells": {
             "fill": {
              "color": "#EBF0F8"
             },
             "line": {
              "color": "white"
             }
            },
            "header": {
             "fill": {
              "color": "#C8D4E3"
             },
             "line": {
              "color": "white"
             }
            },
            "type": "table"
           }
          ]
         },
         "layout": {
          "annotationdefaults": {
           "arrowcolor": "#2a3f5f",
           "arrowhead": 0,
           "arrowwidth": 1
          },
          "autotypenumbers": "strict",
          "coloraxis": {
           "colorbar": {
            "outlinewidth": 0,
            "ticks": ""
           }
          },
          "colorscale": {
           "diverging": [
            [
             0,
             "#8e0152"
            ],
            [
             0.1,
             "#c51b7d"
            ],
            [
             0.2,
             "#de77ae"
            ],
            [
             0.3,
             "#f1b6da"
            ],
            [
             0.4,
             "#fde0ef"
            ],
            [
             0.5,
             "#f7f7f7"
            ],
            [
             0.6,
             "#e6f5d0"
            ],
            [
             0.7,
             "#b8e186"
            ],
            [
             0.8,
             "#7fbc41"
            ],
            [
             0.9,
             "#4d9221"
            ],
            [
             1,
             "#276419"
            ]
           ],
           "sequential": [
            [
             0,
             "#0d0887"
            ],
            [
             0.1111111111111111,
             "#46039f"
            ],
            [
             0.2222222222222222,
             "#7201a8"
            ],
            [
             0.3333333333333333,
             "#9c179e"
            ],
            [
             0.4444444444444444,
             "#bd3786"
            ],
            [
             0.5555555555555556,
             "#d8576b"
            ],
            [
             0.6666666666666666,
             "#ed7953"
            ],
            [
             0.7777777777777778,
             "#fb9f3a"
            ],
            [
             0.8888888888888888,
             "#fdca26"
            ],
            [
             1,
             "#f0f921"
            ]
           ],
           "sequentialminus": [
            [
             0,
             "#0d0887"
            ],
            [
             0.1111111111111111,
             "#46039f"
            ],
            [
             0.2222222222222222,
             "#7201a8"
            ],
            [
             0.3333333333333333,
             "#9c179e"
            ],
            [
             0.4444444444444444,
             "#bd3786"
            ],
            [
             0.5555555555555556,
             "#d8576b"
            ],
            [
             0.6666666666666666,
             "#ed7953"
            ],
            [
             0.7777777777777778,
             "#fb9f3a"
            ],
            [
             0.8888888888888888,
             "#fdca26"
            ],
            [
             1,
             "#f0f921"
            ]
           ]
          },
          "colorway": [
           "#636efa",
           "#EF553B",
           "#00cc96",
           "#ab63fa",
           "#FFA15A",
           "#19d3f3",
           "#FF6692",
           "#B6E880",
           "#FF97FF",
           "#FECB52"
          ],
          "font": {
           "color": "#2a3f5f"
          },
          "geo": {
           "bgcolor": "white",
           "lakecolor": "white",
           "landcolor": "#E5ECF6",
           "showlakes": true,
           "showland": true,
           "subunitcolor": "white"
          },
          "hoverlabel": {
           "align": "left"
          },
          "hovermode": "closest",
          "mapbox": {
           "style": "light"
          },
          "paper_bgcolor": "white",
          "plot_bgcolor": "#E5ECF6",
          "polar": {
           "angularaxis": {
            "gridcolor": "white",
            "linecolor": "white",
            "ticks": ""
           },
           "bgcolor": "#E5ECF6",
           "radialaxis": {
            "gridcolor": "white",
            "linecolor": "white",
            "ticks": ""
           }
          },
          "scene": {
           "xaxis": {
            "backgroundcolor": "#E5ECF6",
            "gridcolor": "white",
            "gridwidth": 2,
            "linecolor": "white",
            "showbackground": true,
            "ticks": "",
            "zerolinecolor": "white"
           },
           "yaxis": {
            "backgroundcolor": "#E5ECF6",
            "gridcolor": "white",
            "gridwidth": 2,
            "linecolor": "white",
            "showbackground": true,
            "ticks": "",
            "zerolinecolor": "white"
           },
           "zaxis": {
            "backgroundcolor": "#E5ECF6",
            "gridcolor": "white",
            "gridwidth": 2,
            "linecolor": "white",
            "showbackground": true,
            "ticks": "",
            "zerolinecolor": "white"
           }
          },
          "shapedefaults": {
           "line": {
            "color": "#2a3f5f"
           }
          },
          "ternary": {
           "aaxis": {
            "gridcolor": "white",
            "linecolor": "white",
            "ticks": ""
           },
           "baxis": {
            "gridcolor": "white",
            "linecolor": "white",
            "ticks": ""
           },
           "bgcolor": "#E5ECF6",
           "caxis": {
            "gridcolor": "white",
            "linecolor": "white",
            "ticks": ""
           }
          },
          "title": {
           "x": 0.05
          },
          "xaxis": {
           "automargin": true,
           "gridcolor": "white",
           "linecolor": "white",
           "ticks": "",
           "title": {
            "standoff": 15
           },
           "zerolinecolor": "white",
           "zerolinewidth": 2
          },
          "yaxis": {
           "automargin": true,
           "gridcolor": "white",
           "linecolor": "white",
           "ticks": "",
           "title": {
            "standoff": 15
           },
           "zerolinecolor": "white",
           "zerolinewidth": 2
          }
         }
        },
        "title": {
         "text": "Average SAT Scores Among Different Test Requirements"
        },
        "xaxis": {
         "anchor": "y",
         "autorange": true,
         "domain": [
          0,
          1
         ],
         "range": [
          -0.5,
          1.5
         ],
         "title": {
          "text": "test_requirement_label"
         },
         "type": "category"
        },
        "yaxis": {
         "anchor": "x",
         "autorange": true,
         "domain": [
          0,
          1
         ],
         "range": [
          0,
          1283.0233478432924
         ],
         "title": {
          "text": "avg_SAT"
         },
         "type": "linear"
        }
       }
      },
      "image/png": "[encoded data removed]",
      "text/html": [
       "<div>                            <div id=\"a56cb769-a606-4fba-834b-d36b7ca13030\" class=\"plotly-graph-div\" style=\"height:525px; width:100%;\"></div>            <script type=\"text/javascript\">                require([\"plotly\"], function(Plotly) {                    window.PLOTLYENV=window.PLOTLYENV || {};                                    if (document.getElementById(\"a56cb769-a606-4fba-834b-d36b7ca13030\")) {                    Plotly.newPlot(                        \"a56cb769-a606-4fba-834b-d36b7ca13030\",                        [{\"alignmentgroup\":\"True\",\"hovertemplate\":\"test_requirement_label=%{x}\\u003cbr\\u003eavg_SAT=%{y}\\u003cextra\\u003e\\u003c\\u002fextra\\u003e\",\"legendgroup\":\"\",\"marker\":{\"color\":\"#636efa\",\"pattern\":{\"shape\":\"\"}},\"name\":\"\",\"offsetgroup\":\"\",\"orientation\":\"v\",\"showlegend\":false,\"textposition\":\"auto\",\"x\":[null,\"Required\",null,\"Considered but not required\"],\"xaxis\":\"x\",\"y\":[null,1170.8918918918919,null,1218.8721804511279],\"yaxis\":\"y\",\"type\":\"bar\"}],                        {\"template\":{\"data\":{\"histogram2dcontour\":[{\"type\":\"histogram2dcontour\",\"colorbar\":{\"outlinewidth\":0,\"ticks\":\"\"},\"colorscale\":[[0.0,\"#0d0887\"],[0.1111111111111111,\"#46039f\"],[0.2222222222222222,\"#7201a8\"],[0.3333333333333333,\"#9c179e\"],[0.4444444444444444,\"#bd3786\"],[0.5555555555555556,\"#d8576b\"],[0.6666666666666666,\"#ed7953\"],[0.7777777777777778,\"#fb9f3a\"],[0.8888888888888888,\"#fdca26\"],[1.0,\"#f0f921\"]]}],\"choropleth\":[{\"type\":\"choropleth\",\"colorbar\":{\"outlinewidth\":0,\"ticks\":\"\"}}],\"histogram2d\":[{\"type\":\"histogram2d\",\"colorbar\":{\"outlinewidth\":0,\"ticks\":\"\"},\"colorscale\":[[0.0,\"#0d0887\"],[0.1111111111111111,\"#46039f\"],[0.2222222222222222,\"#7201a8\"],[0.3333333333333333,\"#9c179e\"],[0.4444444444444444,\"#bd3786\"],[0.5555555555555556,\"#d8576b\"],[0.6666666666666666,\"#ed7953\"],[0.7777777777777778,\"#fb9f3a\"],[0.8888888888888888,\"#fdca26\"],[1.0,\"#f0f921\"]]}],\"heatmap\":[{\"type\":\"heatmap\",\"colorbar\":{\"outlinewidth\":0,\"ticks\":\"\"},\"colorscale\":[[0.0,\"#0d0887\"],[0.1111111111111111,\"#46039f\"],[0.2222222222222222,\"#7201a8\"],[0.3333333333333333,\"#9c179e\"],[0.4444444444444444,\"#bd3786\"],[0.5555555555555556,\"#d8576b\"],[0.6666666666666666,\"#ed7953\"],[0.7777777777777778,\"#fb9f3a\"],[0.8888888888888888,\"#fdca26\"],[1.0,\"#f0f921\"]]}],\"heatmapgl\":[{\"type\":\"heatmapgl\",\"colorbar\":{\"outlinewidth\":0,\"ticks\":\"\"},\"colorscale\":[[0.0,\"#0d0887\"],[0.1111111111111111,\"#46039f\"],[0.2222222222222222,\"#7201a8\"],[0.3333333333333333,\"#9c179e\"],[0.4444444444444444,\"#bd3786\"],[0.5555555555555556,\"#d8576b\"],[0.6666666666666666,\"#ed7953\"],[0.7777777777777778,\"#fb9f3a\"],[0.8888888888888888,\"#fdca26\"],[1.0,\"#f0f921\"]]}],\"contourcarpet\":[{\"type\":\"contourcarpet\",\"colorbar\":{\"outlinewidth\":0,\"ticks\":\"\"}}],\"contour\":[{\"type\":\"contour\",\"colorbar\":{\"outlinewidth\":0,\"ticks\":\"\"},\"colorscale\":[[0.0,\"#0d0887\"],[0.1111111111111111,\"#46039f\"],[0.2222222222222222,\"#7201a8\"],[0.3333333333333333,\"#9c179e\"],[0.4444444444444444,\"#bd3786\"],[0.5555555555555556,\"#d8576b\"],[0.6666666666666666,\"#ed7953\"],[0.7777777777777778,\"#fb9f3a\"],[0.8888888888888888,\"#fdca26\"],[1.0,\"#f0f921\"]]}],\"surface\":[{\"type\":\"surface\",\"colorbar\":{\"outlinewidth\":0,\"ticks\":\"\"},\"colorscale\":[[0.0,\"#0d0887\"],[0.1111111111111111,\"#46039f\"],[0.2222222222222222,\"#7201a8\"],[0.3333333333333333,\"#9c179e\"],[0.4444444444444444,\"#bd3786\"],[0.5555555555555556,\"#d8576b\"],[0.6666666666666666,\"#ed7953\"],[0.7777777777777778,\"#fb9f3a\"],[0.8888888888888888,\"#fdca26\"],[1.0,\"#f0f921\"]]}],\"mesh3d\":[{\"type\":\"mesh3d\",\"colorbar\":{\"outlinewidth\":0,\"ticks\":\"\"}}],\"scatter\":[{\"fillpattern\":{\"fillmode\":\"overlay\",\"size\":10,\"solidity\":0.2},\"type\":\"scatter\"}],\"parcoords\":[{\"type\":\"parcoords\",\"line\":{\"colorbar\":{\"outlinewidth\":0,\"ticks\":\"\"}}}],\"scatterpolargl\":[{\"type\":\"scatterpolargl\",\"marker\":{\"colorbar\":{\"outlinewidth\":0,\"ticks\":\"\"}}}],\"bar\":[{\"error_x\":{\"color\":\"#2a3f5f\"},\"error_y\":{\"color\":\"#2a3f5f\"},\"marker\":{\"line\":{\"color\":\"#E5ECF6\",\"width\":0.5},\"pattern\":{\"fillmode\":\"overlay\",\"size\":10,\"solidity\":0.2}},\"type\":\"bar\"}],\"scattergeo\":[{\"type\":\"scattergeo\",\"marker\":{\"colorbar\":{\"outlinewidth\":0,\"ticks\":\"\"}}}],\"scatterpolar\":[{\"type\":\"scatterpolar\",\"marker\":{\"colorbar\":{\"outlinewidth\":0,\"ticks\":\"\"}}}],\"histogram\":[{\"marker\":{\"pattern\":{\"fillmode\":\"overlay\",\"size\":10,\"solidity\":0.2}},\"type\":\"histogram\"}],\"scattergl\":[{\"type\":\"scattergl\",\"marker\":{\"colorbar\":{\"outlinewidth\":0,\"ticks\":\"\"}}}],\"scatter3d\":[{\"type\":\"scatter3d\",\"line\":{\"colorbar\":{\"outlinewidth\":0,\"ticks\":\"\"}},\"marker\":{\"colorbar\":{\"outlinewidth\":0,\"ticks\":\"\"}}}],\"scattermapbox\":[{\"type\":\"scattermapbox\",\"marker\":{\"colorbar\":{\"outlinewidth\":0,\"ticks\":\"\"}}}],\"scatterternary\":[{\"type\":\"scatterternary\",\"marker\":{\"colorbar\":{\"outlinewidth\":0,\"ticks\":\"\"}}}],\"scattercarpet\":[{\"type\":\"scattercarpet\",\"marker\":{\"colorbar\":{\"outlinewidth\":0,\"ticks\":\"\"}}}],\"carpet\":[{\"aaxis\":{\"endlinecolor\":\"#2a3f5f\",\"gridcolor\":\"white\",\"linecolor\":\"white\",\"minorgridcolor\":\"white\",\"startlinecolor\":\"#2a3f5f\"},\"baxis\":{\"endlinecolor\":\"#2a3f5f\",\"gridcolor\":\"white\",\"linecolor\":\"white\",\"minorgridcolor\":\"white\",\"startlinecolor\":\"#2a3f5f\"},\"type\":\"carpet\"}],\"table\":[{\"cells\":{\"fill\":{\"color\":\"#EBF0F8\"},\"line\":{\"color\":\"white\"}},\"header\":{\"fill\":{\"color\":\"#C8D4E3\"},\"line\":{\"color\":\"white\"}},\"type\":\"table\"}],\"barpolar\":[{\"marker\":{\"line\":{\"color\":\"#E5ECF6\",\"width\":0.5},\"pattern\":{\"fillmode\":\"overlay\",\"size\":10,\"solidity\":0.2}},\"type\":\"barpolar\"}],\"pie\":[{\"automargin\":true,\"type\":\"pie\"}]},\"layout\":{\"autotypenumbers\":\"strict\",\"colorway\":[\"#636efa\",\"#EF553B\",\"#00cc96\",\"#ab63fa\",\"#FFA15A\",\"#19d3f3\",\"#FF6692\",\"#B6E880\",\"#FF97FF\",\"#FECB52\"],\"font\":{\"color\":\"#2a3f5f\"},\"hovermode\":\"closest\",\"hoverlabel\":{\"align\":\"left\"},\"paper_bgcolor\":\"white\",\"plot_bgcolor\":\"#E5ECF6\",\"polar\":{\"bgcolor\":\"#E5ECF6\",\"angularaxis\":{\"gridcolor\":\"white\",\"linecolor\":\"white\",\"ticks\":\"\"},\"radialaxis\":{\"gridcolor\":\"white\",\"linecolor\":\"white\",\"ticks\":\"\"}},\"ternary\":{\"bgcolor\":\"#E5ECF6\",\"aaxis\":{\"gridcolor\":\"white\",\"linecolor\":\"white\",\"ticks\":\"\"},\"baxis\":{\"gridcolor\":\"white\",\"linecolor\":\"white\",\"ticks\":\"\"},\"caxis\":{\"gridcolor\":\"white\",\"linecolor\":\"white\",\"ticks\":\"\"}},\"coloraxis\":{\"colorbar\":{\"outlinewidth\":0,\"ticks\":\"\"}},\"colorscale\":{\"sequential\":[[0.0,\"#0d0887\"],[0.1111111111111111,\"#46039f\"],[0.2222222222222222,\"#7201a8\"],[0.3333333333333333,\"#9c179e\"],[0.4444444444444444,\"#bd3786\"],[0.5555555555555556,\"#d8576b\"],[0.6666666666666666,\"#ed7953\"],[0.7777777777777778,\"#fb9f3a\"],[0.8888888888888888,\"#fdca26\"],[1.0,\"#f0f921\"]],\"sequentialminus\":[[0.0,\"#0d0887\"],[0.1111111111111111,\"#46039f\"],[0.2222222222222222,\"#7201a8\"],[0.3333333333333333,\"#9c179e\"],[0.4444444444444444,\"#bd3786\"],[0.5555555555555556,\"#d8576b\"],[0.6666666666666666,\"#ed7953\"],[0.7777777777777778,\"#fb9f3a\"],[0.8888888888888888,\"#fdca26\"],[1.0,\"#f0f921\"]],\"diverging\":[[0,\"#8e0152\"],[0.1,\"#c51b7d\"],[0.2,\"#de77ae\"],[0.3,\"#f1b6da\"],[0.4,\"#fde0ef\"],[0.5,\"#f7f7f7\"],[0.6,\"#e6f5d0\"],[0.7,\"#b8e186\"],[0.8,\"#7fbc41\"],[0.9,\"#4d9221\"],[1,\"#276419\"]]},\"xaxis\":{\"gridcolor\":\"white\",\"linecolor\":\"white\",\"ticks\":\"\",\"title\":{\"standoff\":15},\"zerolinecolor\":\"white\",\"automargin\":true,\"zerolinewidth\":2},\"yaxis\":{\"gridcolor\":\"white\",\"linecolor\":\"white\",\"ticks\":\"\",\"title\":{\"standoff\":15},\"zerolinecolor\":\"white\",\"automargin\":true,\"zerolinewidth\":2},\"scene\":{\"xaxis\":{\"backgroundcolor\":\"#E5ECF6\",\"gridcolor\":\"white\",\"linecolor\":\"white\",\"showbackground\":true,\"ticks\":\"\",\"zerolinecolor\":\"white\",\"gridwidth\":2},\"yaxis\":{\"backgroundcolor\":\"#E5ECF6\",\"gridcolor\":\"white\",\"linecolor\":\"white\",\"showbackground\":true,\"ticks\":\"\",\"zerolinecolor\":\"white\",\"gridwidth\":2},\"zaxis\":{\"backgroundcolor\":\"#E5ECF6\",\"gridcolor\":\"white\",\"linecolor\":\"white\",\"showbackground\":true,\"ticks\":\"\",\"zerolinecolor\":\"white\",\"gridwidth\":2}},\"shapedefaults\":{\"line\":{\"color\":\"#2a3f5f\"}},\"annotationdefaults\":{\"arrowcolor\":\"#2a3f5f\",\"arrowhead\":0,\"arrowwidth\":1},\"geo\":{\"bgcolor\":\"white\",\"landcolor\":\"#E5ECF6\",\"subunitcolor\":\"white\",\"showland\":true,\"showlakes\":true,\"lakecolor\":\"white\"},\"title\":{\"x\":0.05},\"mapbox\":{\"style\":\"light\"}}},\"xaxis\":{\"anchor\":\"y\",\"domain\":[0.0,1.0],\"title\":{\"text\":\"test_requirement_label\"}},\"yaxis\":{\"anchor\":\"x\",\"domain\":[0.0,1.0],\"title\":{\"text\":\"avg_SAT\"}},\"legend\":{\"tracegroupgap\":0},\"title\":{\"text\":\"Average SAT Scores Among Different Test Requirements\"},\"barmode\":\"relative\"},                        {\"responsive\": true}                    ).then(function(){\n",
       "                            \n",
       "var gd = document.getElementById('a56cb769-a606-4fba-834b-d36b7ca13030');\n",
       "var x = new MutationObserver(function (mutations, observer) {{\n",
       "        var display = window.getComputedStyle(gd).display;\n",
       "        if (!display || display === 'none') {{\n",
       "            console.log([gd, 'removed!']);\n",
       "            Plotly.purge(gd);\n",
       "            observer.disconnect();\n",
       "        }}\n",
       "}});\n",
       "\n",
       "// Listen for the removal of the full notebook cells\n",
       "var notebookContainer = gd.closest('#notebook-container');\n",
       "if (notebookContainer) {{\n",
       "    x.observe(notebookContainer, {childList: true});\n",
       "}}\n",
       "\n",
       "// Listen for the clearing of the current output cell\n",
       "var outputEl = gd.closest('.output');\n",
       "if (outputEl) {{\n",
       "    x.observe(outputEl, {childList: true});\n",
       "}}\n",
       "\n",
       "                        })                };                });            </script>        </div>"
      ]
     },
     "metadata": {},
     "output_type": "display_data"
    }
   ],
   "source": [
    "# compare the different test requirements amongst \n",
    "group_req_df = college_df.groupby(by='test_requirement')[['avg_SAT', 'midpoint_ACT']].mean().reset_index()\n",
    "\n",
    "# ---- mapping the numeric to the correct string labels (from API documentation)\n",
    "test_requirement_mapping = {\n",
    "    1: \"Required\",\n",
    "    5: \"Considered but not required\"\n",
    "}\n",
    "\n",
    "# Answer the question: How does the test requirement influence the average test scores?\n",
    "\n",
    "# (1) SAT Scores\n",
    "group_req_df['test_requirement_label'] = group_req_df['test_requirement'].map(test_requirement_mapping)\n",
    "group_req_df\n",
    "\n",
    "bar_fig = px.bar(group_req_df, x=\"test_requirement_label\", y=\"avg_SAT\", title=\"Average SAT Scores Among Different Test Requirements\")\n",
    "bar_fig.show()"
   ]
  },
  {
   "cell_type": "code",
   "execution_count": 75,
   "id": "6ad673dc-e18e-459a-86d0-cc29704c3e6b",
   "metadata": {},
   "outputs": [
    {
     "data": {
      "application/vnd.plotly.v1+json": {
       "config": {
        "plotlyServerURL": "https://plot.ly"
       },
       "data": [
        {
         "alignmentgroup": "True",
         "hovertemplate": "test_requirement_label=%{x}<br>midpoint_ACT=%{y}<extra></extra>",
         "legendgroup": "",
         "marker": {
          "color": "#636efa",
          "pattern": {
           "shape": ""
          }
         },
         "name": "",
         "offsetgroup": "",
         "orientation": "v",
         "showlegend": false,
         "textposition": "auto",
         "type": "bar",
         "x": [
          null,
          "Required",
          null,
          "Considered but not required"
         ],
         "xaxis": "x",
         "y": [
          null,
          24.37837837837838,
          23.5,
          26.04201680672269
         ],
         "yaxis": "y"
        }
       ],
       "layout": {
        "autosize": true,
        "barmode": "relative",
        "legend": {
         "tracegroupgap": 0
        },
        "template": {
         "data": {
          "bar": [
           {
            "error_x": {
             "color": "#2a3f5f"
            },
            "error_y": {
             "color": "#2a3f5f"
            },
            "marker": {
             "line": {
              "color": "#E5ECF6",
              "width": 0.5
             },
             "pattern": {
              "fillmode": "overlay",
              "size": 10,
              "solidity": 0.2
             }
            },
            "type": "bar"
           }
          ],
          "barpolar": [
           {
            "marker": {
             "line": {
              "color": "#E5ECF6",
              "width": 0.5
             },
             "pattern": {
              "fillmode": "overlay",
              "size": 10,
              "solidity": 0.2
             }
            },
            "type": "barpolar"
           }
          ],
          "carpet": [
           {
            "aaxis": {
             "endlinecolor": "#2a3f5f",
             "gridcolor": "white",
             "linecolor": "white",
             "minorgridcolor": "white",
             "startlinecolor": "#2a3f5f"
            },
            "baxis": {
             "endlinecolor": "#2a3f5f",
             "gridcolor": "white",
             "linecolor": "white",
             "minorgridcolor": "white",
             "startlinecolor": "#2a3f5f"
            },
            "type": "carpet"
           }
          ],
          "choropleth": [
           {
            "colorbar": {
             "outlinewidth": 0,
             "ticks": ""
            },
            "type": "choropleth"
           }
          ],
          "contour": [
           {
            "colorbar": {
             "outlinewidth": 0,
             "ticks": ""
            },
            "colorscale": [
             [
              0,
              "#0d0887"
             ],
             [
              0.1111111111111111,
              "#46039f"
             ],
             [
              0.2222222222222222,
              "#7201a8"
             ],
             [
              0.3333333333333333,
              "#9c179e"
             ],
             [
              0.4444444444444444,
              "#bd3786"
             ],
             [
              0.5555555555555556,
              "#d8576b"
             ],
             [
              0.6666666666666666,
              "#ed7953"
             ],
             [
              0.7777777777777778,
              "#fb9f3a"
             ],
             [
              0.8888888888888888,
              "#fdca26"
             ],
             [
              1,
              "#f0f921"
             ]
            ],
            "type": "contour"
           }
          ],
          "contourcarpet": [
           {
            "colorbar": {
             "outlinewidth": 0,
             "ticks": ""
            },
            "type": "contourcarpet"
           }
          ],
          "heatmap": [
           {
            "colorbar": {
             "outlinewidth": 0,
             "ticks": ""
            },
            "colorscale": [
             [
              0,
              "#0d0887"
             ],
             [
              0.1111111111111111,
              "#46039f"
             ],
             [
              0.2222222222222222,
              "#7201a8"
             ],
             [
              0.3333333333333333,
              "#9c179e"
             ],
             [
              0.4444444444444444,
              "#bd3786"
             ],
             [
              0.5555555555555556,
              "#d8576b"
             ],
             [
              0.6666666666666666,
              "#ed7953"
             ],
             [
              0.7777777777777778,
              "#fb9f3a"
             ],
             [
              0.8888888888888888,
              "#fdca26"
             ],
             [
              1,
              "#f0f921"
             ]
            ],
            "type": "heatmap"
           }
          ],
          "heatmapgl": [
           {
            "colorbar": {
             "outlinewidth": 0,
             "ticks": ""
            },
            "colorscale": [
             [
              0,
              "#0d0887"
             ],
             [
              0.1111111111111111,
              "#46039f"
             ],
             [
              0.2222222222222222,
              "#7201a8"
             ],
             [
              0.3333333333333333,
              "#9c179e"
             ],
             [
              0.4444444444444444,
              "#bd3786"
             ],
             [
              0.5555555555555556,
              "#d8576b"
             ],
             [
              0.6666666666666666,
              "#ed7953"
             ],
             [
              0.7777777777777778,
              "#fb9f3a"
             ],
             [
              0.8888888888888888,
              "#fdca26"
             ],
             [
              1,
              "#f0f921"
             ]
            ],
            "type": "heatmapgl"
           }
          ],
          "histogram": [
           {
            "marker": {
             "pattern": {
              "fillmode": "overlay",
              "size": 10,
              "solidity": 0.2
             }
            },
            "type": "histogram"
           }
          ],
          "histogram2d": [
           {
            "colorbar": {
             "outlinewidth": 0,
             "ticks": ""
            },
            "colorscale": [
             [
              0,
              "#0d0887"
             ],
             [
              0.1111111111111111,
              "#46039f"
             ],
             [
              0.2222222222222222,
              "#7201a8"
             ],
             [
              0.3333333333333333,
              "#9c179e"
             ],
             [
              0.4444444444444444,
              "#bd3786"
             ],
             [
              0.5555555555555556,
              "#d8576b"
             ],
             [
              0.6666666666666666,
              "#ed7953"
             ],
             [
              0.7777777777777778,
              "#fb9f3a"
             ],
             [
              0.8888888888888888,
              "#fdca26"
             ],
             [
              1,
              "#f0f921"
             ]
            ],
            "type": "histogram2d"
           }
          ],
          "histogram2dcontour": [
           {
            "colorbar": {
             "outlinewidth": 0,
             "ticks": ""
            },
            "colorscale": [
             [
              0,
              "#0d0887"
             ],
             [
              0.1111111111111111,
              "#46039f"
             ],
             [
              0.2222222222222222,
              "#7201a8"
             ],
             [
              0.3333333333333333,
              "#9c179e"
             ],
             [
              0.4444444444444444,
              "#bd3786"
             ],
             [
              0.5555555555555556,
              "#d8576b"
             ],
             [
              0.6666666666666666,
              "#ed7953"
             ],
             [
              0.7777777777777778,
              "#fb9f3a"
             ],
             [
              0.8888888888888888,
              "#fdca26"
             ],
             [
              1,
              "#f0f921"
             ]
            ],
            "type": "histogram2dcontour"
           }
          ],
          "mesh3d": [
           {
            "colorbar": {
             "outlinewidth": 0,
             "ticks": ""
            },
            "type": "mesh3d"
           }
          ],
          "parcoords": [
           {
            "line": {
             "colorbar": {
              "outlinewidth": 0,
              "ticks": ""
             }
            },
            "type": "parcoords"
           }
          ],
          "pie": [
           {
            "automargin": true,
            "type": "pie"
           }
          ],
          "scatter": [
           {
            "fillpattern": {
             "fillmode": "overlay",
             "size": 10,
             "solidity": 0.2
            },
            "type": "scatter"
           }
          ],
          "scatter3d": [
           {
            "line": {
             "colorbar": {
              "outlinewidth": 0,
              "ticks": ""
             }
            },
            "marker": {
             "colorbar": {
              "outlinewidth": 0,
              "ticks": ""
             }
            },
            "type": "scatter3d"
           }
          ],
          "scattercarpet": [
           {
            "marker": {
             "colorbar": {
              "outlinewidth": 0,
              "ticks": ""
             }
            },
            "type": "scattercarpet"
           }
          ],
          "scattergeo": [
           {
            "marker": {
             "colorbar": {
              "outlinewidth": 0,
              "ticks": ""
             }
            },
            "type": "scattergeo"
           }
          ],
          "scattergl": [
           {
            "marker": {
             "colorbar": {
              "outlinewidth": 0,
              "ticks": ""
             }
            },
            "type": "scattergl"
           }
          ],
          "scattermapbox": [
           {
            "marker": {
             "colorbar": {
              "outlinewidth": 0,
              "ticks": ""
             }
            },
            "type": "scattermapbox"
           }
          ],
          "scatterpolar": [
           {
            "marker": {
             "colorbar": {
              "outlinewidth": 0,
              "ticks": ""
             }
            },
            "type": "scatterpolar"
           }
          ],
          "scatterpolargl": [
           {
            "marker": {
             "colorbar": {
              "outlinewidth": 0,
              "ticks": ""
             }
            },
            "type": "scatterpolargl"
           }
          ],
          "scatterternary": [
           {
            "marker": {
             "colorbar": {
              "outlinewidth": 0,
              "ticks": ""
             }
            },
            "type": "scatterternary"
           }
          ],
          "surface": [
           {
            "colorbar": {
             "outlinewidth": 0,
             "ticks": ""
            },
            "colorscale": [
             [
              0,
              "#0d0887"
             ],
             [
              0.1111111111111111,
              "#46039f"
             ],
             [
              0.2222222222222222,
              "#7201a8"
             ],
             [
              0.3333333333333333,
              "#9c179e"
             ],
             [
              0.4444444444444444,
              "#bd3786"
             ],
             [
              0.5555555555555556,
              "#d8576b"
             ],
             [
              0.6666666666666666,
              "#ed7953"
             ],
             [
              0.7777777777777778,
              "#fb9f3a"
             ],
             [
              0.8888888888888888,
              "#fdca26"
             ],
             [
              1,
              "#f0f921"
             ]
            ],
            "type": "surface"
           }
          ],
          "table": [
           {
            "cells": {
             "fill": {
              "color": "#EBF0F8"
             },
             "line": {
              "color": "white"
             }
            },
            "header": {
             "fill": {
              "color": "#C8D4E3"
             },
             "line": {
              "color": "white"
             }
            },
            "type": "table"
           }
          ]
         },
         "layout": {
          "annotationdefaults": {
           "arrowcolor": "#2a3f5f",
           "arrowhead": 0,
           "arrowwidth": 1
          },
          "autotypenumbers": "strict",
          "coloraxis": {
           "colorbar": {
            "outlinewidth": 0,
            "ticks": ""
           }
          },
          "colorscale": {
           "diverging": [
            [
             0,
             "#8e0152"
            ],
            [
             0.1,
             "#c51b7d"
            ],
            [
             0.2,
             "#de77ae"
            ],
            [
             0.3,
             "#f1b6da"
            ],
            [
             0.4,
             "#fde0ef"
            ],
            [
             0.5,
             "#f7f7f7"
            ],
            [
             0.6,
             "#e6f5d0"
            ],
            [
             0.7,
             "#b8e186"
            ],
            [
             0.8,
             "#7fbc41"
            ],
            [
             0.9,
             "#4d9221"
            ],
            [
             1,
             "#276419"
            ]
           ],
           "sequential": [
            [
             0,
             "#0d0887"
            ],
            [
             0.1111111111111111,
             "#46039f"
            ],
            [
             0.2222222222222222,
             "#7201a8"
            ],
            [
             0.3333333333333333,
             "#9c179e"
            ],
            [
             0.4444444444444444,
             "#bd3786"
            ],
            [
             0.5555555555555556,
             "#d8576b"
            ],
            [
             0.6666666666666666,
             "#ed7953"
            ],
            [
             0.7777777777777778,
             "#fb9f3a"
            ],
            [
             0.8888888888888888,
             "#fdca26"
            ],
            [
             1,
             "#f0f921"
            ]
           ],
           "sequentialminus": [
            [
             0,
             "#0d0887"
            ],
            [
             0.1111111111111111,
             "#46039f"
            ],
            [
             0.2222222222222222,
             "#7201a8"
            ],
            [
             0.3333333333333333,
             "#9c179e"
            ],
            [
             0.4444444444444444,
             "#bd3786"
            ],
            [
             0.5555555555555556,
             "#d8576b"
            ],
            [
             0.6666666666666666,
             "#ed7953"
            ],
            [
             0.7777777777777778,
             "#fb9f3a"
            ],
            [
             0.8888888888888888,
             "#fdca26"
            ],
            [
             1,
             "#f0f921"
            ]
           ]
          },
          "colorway": [
           "#636efa",
           "#EF553B",
           "#00cc96",
           "#ab63fa",
           "#FFA15A",
           "#19d3f3",
           "#FF6692",
           "#B6E880",
           "#FF97FF",
           "#FECB52"
          ],
          "font": {
           "color": "#2a3f5f"
          },
          "geo": {
           "bgcolor": "white",
           "lakecolor": "white",
           "landcolor": "#E5ECF6",
           "showlakes": true,
           "showland": true,
           "subunitcolor": "white"
          },
          "hoverlabel": {
           "align": "left"
          },
          "hovermode": "closest",
          "mapbox": {
           "style": "light"
          },
          "paper_bgcolor": "white",
          "plot_bgcolor": "#E5ECF6",
          "polar": {
           "angularaxis": {
            "gridcolor": "white",
            "linecolor": "white",
            "ticks": ""
           },
           "bgcolor": "#E5ECF6",
           "radialaxis": {
            "gridcolor": "white",
            "linecolor": "white",
            "ticks": ""
           }
          },
          "scene": {
           "xaxis": {
            "backgroundcolor": "#E5ECF6",
            "gridcolor": "white",
            "gridwidth": 2,
            "linecolor": "white",
            "showbackground": true,
            "ticks": "",
            "zerolinecolor": "white"
           },
           "yaxis": {
            "backgroundcolor": "#E5ECF6",
            "gridcolor": "white",
            "gridwidth": 2,
            "linecolor": "white",
            "showbackground": true,
            "ticks": "",
            "zerolinecolor": "white"
           },
           "zaxis": {
            "backgroundcolor": "#E5ECF6",
            "gridcolor": "white",
            "gridwidth": 2,
            "linecolor": "white",
            "showbackground": true,
            "ticks": "",
            "zerolinecolor": "white"
           }
          },
          "shapedefaults": {
           "line": {
            "color": "#2a3f5f"
           }
          },
          "ternary": {
           "aaxis": {
            "gridcolor": "white",
            "linecolor": "white",
            "ticks": ""
           },
           "baxis": {
            "gridcolor": "white",
            "linecolor": "white",
            "ticks": ""
           },
           "bgcolor": "#E5ECF6",
           "caxis": {
            "gridcolor": "white",
            "linecolor": "white",
            "ticks": ""
           }
          },
          "title": {
           "x": 0.05
          },
          "xaxis": {
           "automargin": true,
           "gridcolor": "white",
           "linecolor": "white",
           "ticks": "",
           "title": {
            "standoff": 15
           },
           "zerolinecolor": "white",
           "zerolinewidth": 2
          },
          "yaxis": {
           "automargin": true,
           "gridcolor": "white",
           "linecolor": "white",
           "ticks": "",
           "title": {
            "standoff": 15
           },
           "zerolinecolor": "white",
           "zerolinewidth": 2
          }
         }
        },
        "title": {
         "text": "Average SAT Scores Among Different Test Requirements"
        },
        "xaxis": {
         "anchor": "y",
         "autorange": true,
         "domain": [
          0,
          1
         ],
         "range": [
          -0.5,
          1.5
         ],
         "title": {
          "text": "test_requirement_label"
         },
         "type": "category"
        },
        "yaxis": {
         "anchor": "x",
         "autorange": true,
         "domain": [
          0,
          1
         ],
         "range": [
          0,
          27.41264927023441
         ],
         "title": {
          "text": "midpoint_ACT"
         },
         "type": "linear"
        }
       }
      },
      "image/png": "[encoded data removed]",
      "text/html": [
       "<div>                            <div id=\"2942e67e-e499-42fd-943c-5e27d52a8ce8\" class=\"plotly-graph-div\" style=\"height:525px; width:100%;\"></div>            <script type=\"text/javascript\">                require([\"plotly\"], function(Plotly) {                    window.PLOTLYENV=window.PLOTLYENV || {};                                    if (document.getElementById(\"2942e67e-e499-42fd-943c-5e27d52a8ce8\")) {                    Plotly.newPlot(                        \"2942e67e-e499-42fd-943c-5e27d52a8ce8\",                        [{\"alignmentgroup\":\"True\",\"hovertemplate\":\"test_requirement_label=%{x}\\u003cbr\\u003emidpoint_ACT=%{y}\\u003cextra\\u003e\\u003c\\u002fextra\\u003e\",\"legendgroup\":\"\",\"marker\":{\"color\":\"#636efa\",\"pattern\":{\"shape\":\"\"}},\"name\":\"\",\"offsetgroup\":\"\",\"orientation\":\"v\",\"showlegend\":false,\"textposition\":\"auto\",\"x\":[null,\"Required\",null,\"Considered but not required\"],\"xaxis\":\"x\",\"y\":[null,24.37837837837838,23.5,26.04201680672269],\"yaxis\":\"y\",\"type\":\"bar\"}],                        {\"template\":{\"data\":{\"histogram2dcontour\":[{\"type\":\"histogram2dcontour\",\"colorbar\":{\"outlinewidth\":0,\"ticks\":\"\"},\"colorscale\":[[0.0,\"#0d0887\"],[0.1111111111111111,\"#46039f\"],[0.2222222222222222,\"#7201a8\"],[0.3333333333333333,\"#9c179e\"],[0.4444444444444444,\"#bd3786\"],[0.5555555555555556,\"#d8576b\"],[0.6666666666666666,\"#ed7953\"],[0.7777777777777778,\"#fb9f3a\"],[0.8888888888888888,\"#fdca26\"],[1.0,\"#f0f921\"]]}],\"choropleth\":[{\"type\":\"choropleth\",\"colorbar\":{\"outlinewidth\":0,\"ticks\":\"\"}}],\"histogram2d\":[{\"type\":\"histogram2d\",\"colorbar\":{\"outlinewidth\":0,\"ticks\":\"\"},\"colorscale\":[[0.0,\"#0d0887\"],[0.1111111111111111,\"#46039f\"],[0.2222222222222222,\"#7201a8\"],[0.3333333333333333,\"#9c179e\"],[0.4444444444444444,\"#bd3786\"],[0.5555555555555556,\"#d8576b\"],[0.6666666666666666,\"#ed7953\"],[0.7777777777777778,\"#fb9f3a\"],[0.8888888888888888,\"#fdca26\"],[1.0,\"#f0f921\"]]}],\"heatmap\":[{\"type\":\"heatmap\",\"colorbar\":{\"outlinewidth\":0,\"ticks\":\"\"},\"colorscale\":[[0.0,\"#0d0887\"],[0.1111111111111111,\"#46039f\"],[0.2222222222222222,\"#7201a8\"],[0.3333333333333333,\"#9c179e\"],[0.4444444444444444,\"#bd3786\"],[0.5555555555555556,\"#d8576b\"],[0.6666666666666666,\"#ed7953\"],[0.7777777777777778,\"#fb9f3a\"],[0.8888888888888888,\"#fdca26\"],[1.0,\"#f0f921\"]]}],\"heatmapgl\":[{\"type\":\"heatmapgl\",\"colorbar\":{\"outlinewidth\":0,\"ticks\":\"\"},\"colorscale\":[[0.0,\"#0d0887\"],[0.1111111111111111,\"#46039f\"],[0.2222222222222222,\"#7201a8\"],[0.3333333333333333,\"#9c179e\"],[0.4444444444444444,\"#bd3786\"],[0.5555555555555556,\"#d8576b\"],[0.6666666666666666,\"#ed7953\"],[0.7777777777777778,\"#fb9f3a\"],[0.8888888888888888,\"#fdca26\"],[1.0,\"#f0f921\"]]}],\"contourcarpet\":[{\"type\":\"contourcarpet\",\"colorbar\":{\"outlinewidth\":0,\"ticks\":\"\"}}],\"contour\":[{\"type\":\"contour\",\"colorbar\":{\"outlinewidth\":0,\"ticks\":\"\"},\"colorscale\":[[0.0,\"#0d0887\"],[0.1111111111111111,\"#46039f\"],[0.2222222222222222,\"#7201a8\"],[0.3333333333333333,\"#9c179e\"],[0.4444444444444444,\"#bd3786\"],[0.5555555555555556,\"#d8576b\"],[0.6666666666666666,\"#ed7953\"],[0.7777777777777778,\"#fb9f3a\"],[0.8888888888888888,\"#fdca26\"],[1.0,\"#f0f921\"]]}],\"surface\":[{\"type\":\"surface\",\"colorbar\":{\"outlinewidth\":0,\"ticks\":\"\"},\"colorscale\":[[0.0,\"#0d0887\"],[0.1111111111111111,\"#46039f\"],[0.2222222222222222,\"#7201a8\"],[0.3333333333333333,\"#9c179e\"],[0.4444444444444444,\"#bd3786\"],[0.5555555555555556,\"#d8576b\"],[0.6666666666666666,\"#ed7953\"],[0.7777777777777778,\"#fb9f3a\"],[0.8888888888888888,\"#fdca26\"],[1.0,\"#f0f921\"]]}],\"mesh3d\":[{\"type\":\"mesh3d\",\"colorbar\":{\"outlinewidth\":0,\"ticks\":\"\"}}],\"scatter\":[{\"fillpattern\":{\"fillmode\":\"overlay\",\"size\":10,\"solidity\":0.2},\"type\":\"scatter\"}],\"parcoords\":[{\"type\":\"parcoords\",\"line\":{\"colorbar\":{\"outlinewidth\":0,\"ticks\":\"\"}}}],\"scatterpolargl\":[{\"type\":\"scatterpolargl\",\"marker\":{\"colorbar\":{\"outlinewidth\":0,\"ticks\":\"\"}}}],\"bar\":[{\"error_x\":{\"color\":\"#2a3f5f\"},\"error_y\":{\"color\":\"#2a3f5f\"},\"marker\":{\"line\":{\"color\":\"#E5ECF6\",\"width\":0.5},\"pattern\":{\"fillmode\":\"overlay\",\"size\":10,\"solidity\":0.2}},\"type\":\"bar\"}],\"scattergeo\":[{\"type\":\"scattergeo\",\"marker\":{\"colorbar\":{\"outlinewidth\":0,\"ticks\":\"\"}}}],\"scatterpolar\":[{\"type\":\"scatterpolar\",\"marker\":{\"colorbar\":{\"outlinewidth\":0,\"ticks\":\"\"}}}],\"histogram\":[{\"marker\":{\"pattern\":{\"fillmode\":\"overlay\",\"size\":10,\"solidity\":0.2}},\"type\":\"histogram\"}],\"scattergl\":[{\"type\":\"scattergl\",\"marker\":{\"colorbar\":{\"outlinewidth\":0,\"ticks\":\"\"}}}],\"scatter3d\":[{\"type\":\"scatter3d\",\"line\":{\"colorbar\":{\"outlinewidth\":0,\"ticks\":\"\"}},\"marker\":{\"colorbar\":{\"outlinewidth\":0,\"ticks\":\"\"}}}],\"scattermapbox\":[{\"type\":\"scattermapbox\",\"marker\":{\"colorbar\":{\"outlinewidth\":0,\"ticks\":\"\"}}}],\"scatterternary\":[{\"type\":\"scatterternary\",\"marker\":{\"colorbar\":{\"outlinewidth\":0,\"ticks\":\"\"}}}],\"scattercarpet\":[{\"type\":\"scattercarpet\",\"marker\":{\"colorbar\":{\"outlinewidth\":0,\"ticks\":\"\"}}}],\"carpet\":[{\"aaxis\":{\"endlinecolor\":\"#2a3f5f\",\"gridcolor\":\"white\",\"linecolor\":\"white\",\"minorgridcolor\":\"white\",\"startlinecolor\":\"#2a3f5f\"},\"baxis\":{\"endlinecolor\":\"#2a3f5f\",\"gridcolor\":\"white\",\"linecolor\":\"white\",\"minorgridcolor\":\"white\",\"startlinecolor\":\"#2a3f5f\"},\"type\":\"carpet\"}],\"table\":[{\"cells\":{\"fill\":{\"color\":\"#EBF0F8\"},\"line\":{\"color\":\"white\"}},\"header\":{\"fill\":{\"color\":\"#C8D4E3\"},\"line\":{\"color\":\"white\"}},\"type\":\"table\"}],\"barpolar\":[{\"marker\":{\"line\":{\"color\":\"#E5ECF6\",\"width\":0.5},\"pattern\":{\"fillmode\":\"overlay\",\"size\":10,\"solidity\":0.2}},\"type\":\"barpolar\"}],\"pie\":[{\"automargin\":true,\"type\":\"pie\"}]},\"layout\":{\"autotypenumbers\":\"strict\",\"colorway\":[\"#636efa\",\"#EF553B\",\"#00cc96\",\"#ab63fa\",\"#FFA15A\",\"#19d3f3\",\"#FF6692\",\"#B6E880\",\"#FF97FF\",\"#FECB52\"],\"font\":{\"color\":\"#2a3f5f\"},\"hovermode\":\"closest\",\"hoverlabel\":{\"align\":\"left\"},\"paper_bgcolor\":\"white\",\"plot_bgcolor\":\"#E5ECF6\",\"polar\":{\"bgcolor\":\"#E5ECF6\",\"angularaxis\":{\"gridcolor\":\"white\",\"linecolor\":\"white\",\"ticks\":\"\"},\"radialaxis\":{\"gridcolor\":\"white\",\"linecolor\":\"white\",\"ticks\":\"\"}},\"ternary\":{\"bgcolor\":\"#E5ECF6\",\"aaxis\":{\"gridcolor\":\"white\",\"linecolor\":\"white\",\"ticks\":\"\"},\"baxis\":{\"gridcolor\":\"white\",\"linecolor\":\"white\",\"ticks\":\"\"},\"caxis\":{\"gridcolor\":\"white\",\"linecolor\":\"white\",\"ticks\":\"\"}},\"coloraxis\":{\"colorbar\":{\"outlinewidth\":0,\"ticks\":\"\"}},\"colorscale\":{\"sequential\":[[0.0,\"#0d0887\"],[0.1111111111111111,\"#46039f\"],[0.2222222222222222,\"#7201a8\"],[0.3333333333333333,\"#9c179e\"],[0.4444444444444444,\"#bd3786\"],[0.5555555555555556,\"#d8576b\"],[0.6666666666666666,\"#ed7953\"],[0.7777777777777778,\"#fb9f3a\"],[0.8888888888888888,\"#fdca26\"],[1.0,\"#f0f921\"]],\"sequentialminus\":[[0.0,\"#0d0887\"],[0.1111111111111111,\"#46039f\"],[0.2222222222222222,\"#7201a8\"],[0.3333333333333333,\"#9c179e\"],[0.4444444444444444,\"#bd3786\"],[0.5555555555555556,\"#d8576b\"],[0.6666666666666666,\"#ed7953\"],[0.7777777777777778,\"#fb9f3a\"],[0.8888888888888888,\"#fdca26\"],[1.0,\"#f0f921\"]],\"diverging\":[[0,\"#8e0152\"],[0.1,\"#c51b7d\"],[0.2,\"#de77ae\"],[0.3,\"#f1b6da\"],[0.4,\"#fde0ef\"],[0.5,\"#f7f7f7\"],[0.6,\"#e6f5d0\"],[0.7,\"#b8e186\"],[0.8,\"#7fbc41\"],[0.9,\"#4d9221\"],[1,\"#276419\"]]},\"xaxis\":{\"gridcolor\":\"white\",\"linecolor\":\"white\",\"ticks\":\"\",\"title\":{\"standoff\":15},\"zerolinecolor\":\"white\",\"automargin\":true,\"zerolinewidth\":2},\"yaxis\":{\"gridcolor\":\"white\",\"linecolor\":\"white\",\"ticks\":\"\",\"title\":{\"standoff\":15},\"zerolinecolor\":\"white\",\"automargin\":true,\"zerolinewidth\":2},\"scene\":{\"xaxis\":{\"backgroundcolor\":\"#E5ECF6\",\"gridcolor\":\"white\",\"linecolor\":\"white\",\"showbackground\":true,\"ticks\":\"\",\"zerolinecolor\":\"white\",\"gridwidth\":2},\"yaxis\":{\"backgroundcolor\":\"#E5ECF6\",\"gridcolor\":\"white\",\"linecolor\":\"white\",\"showbackground\":true,\"ticks\":\"\",\"zerolinecolor\":\"white\",\"gridwidth\":2},\"zaxis\":{\"backgroundcolor\":\"#E5ECF6\",\"gridcolor\":\"white\",\"linecolor\":\"white\",\"showbackground\":true,\"ticks\":\"\",\"zerolinecolor\":\"white\",\"gridwidth\":2}},\"shapedefaults\":{\"line\":{\"color\":\"#2a3f5f\"}},\"annotationdefaults\":{\"arrowcolor\":\"#2a3f5f\",\"arrowhead\":0,\"arrowwidth\":1},\"geo\":{\"bgcolor\":\"white\",\"landcolor\":\"#E5ECF6\",\"subunitcolor\":\"white\",\"showland\":true,\"showlakes\":true,\"lakecolor\":\"white\"},\"title\":{\"x\":0.05},\"mapbox\":{\"style\":\"light\"}}},\"xaxis\":{\"anchor\":\"y\",\"domain\":[0.0,1.0],\"title\":{\"text\":\"test_requirement_label\"}},\"yaxis\":{\"anchor\":\"x\",\"domain\":[0.0,1.0],\"title\":{\"text\":\"midpoint_ACT\"}},\"legend\":{\"tracegroupgap\":0},\"title\":{\"text\":\"Average SAT Scores Among Different Test Requirements\"},\"barmode\":\"relative\"},                        {\"responsive\": true}                    ).then(function(){\n",
       "                            \n",
       "var gd = document.getElementById('2942e67e-e499-42fd-943c-5e27d52a8ce8');\n",
       "var x = new MutationObserver(function (mutations, observer) {{\n",
       "        var display = window.getComputedStyle(gd).display;\n",
       "        if (!display || display === 'none') {{\n",
       "            console.log([gd, 'removed!']);\n",
       "            Plotly.purge(gd);\n",
       "            observer.disconnect();\n",
       "        }}\n",
       "}});\n",
       "\n",
       "// Listen for the removal of the full notebook cells\n",
       "var notebookContainer = gd.closest('#notebook-container');\n",
       "if (notebookContainer) {{\n",
       "    x.observe(notebookContainer, {childList: true});\n",
       "}}\n",
       "\n",
       "// Listen for the clearing of the current output cell\n",
       "var outputEl = gd.closest('.output');\n",
       "if (outputEl) {{\n",
       "    x.observe(outputEl, {childList: true});\n",
       "}}\n",
       "\n",
       "                        })                };                });            </script>        </div>"
      ]
     },
     "metadata": {},
     "output_type": "display_data"
    }
   ],
   "source": [
    "# (2) ACT Scores\n",
    "bar2_fig = px.bar(group_req_df, x=\"test_requirement_label\", y=\"midpoint_ACT\", title=\"Average SAT Scores Among Different Test Requirements\")\n",
    "bar2_fig.show()"
   ]
  },
  {
   "cell_type": "markdown",
   "id": "e4059326",
   "metadata": {},
   "source": [
    "## Analysis/ML Plan:"
   ]
  },
  {
   "cell_type": "markdown",
   "id": "c793a610",
   "metadata": {},
   "source": [
    "## How will we implement machine learning\n",
    "Our project will hinge on its ability to accurately predict how likely a student is to get into a college.\n",
    "\n",
    "We could implement machine learning classificaiton techniques such as logisitic regression or gradient boosting to predict the general probibility that a user will get into a college. Data from the colleges admissions procedure and the students self inserted statistics will both be essential for effective predictions. We would have both standradized data (SAT, GPA, class rank) as well as categorical variables (race, instate vs out of state, intended major).\n",
    "\n",
    "If possible, having data on past applicants, and their statistics (including SAT, GPA, state applying from, intended major) would be greatly helpful to train our models, and develop an accurate estimate on acceptance rate. If not, we may have to resort to using a heuristic-probability based scoring system, in which we assign a \"score\" based on how well the students statisitcs line up with the colleges admission policies, then using those scores to create a list of Reach, Target, and Safety schools.\n",
    "\n",
    "More data would need to be found to develop a more specific and thorough plan to implement machine learning- however we can safely assert that machine learning will be used by taking advantage of our data on college admission policies and the user statistics, and using that information to predict the students chances of getting in those schools, and generating schools corresponding to their Reach, Target, and Safety options."
   ]
  },
  {
   "cell_type": "code",
   "execution_count": null,
   "id": "cd2f827a",
   "metadata": {},
   "outputs": [],
   "source": []
  }
 ],
 "metadata": {
  "kernelspec": {
   "display_name": "Python 3 (ipykernel)",
   "language": "python",
   "name": "python3"
  },
  "language_info": {
   "codemirror_mode": {
    "name": "ipython",
    "version": 3
   },
   "file_extension": ".py",
   "mimetype": "text/x-python",
   "name": "python",
   "nbconvert_exporter": "python",
   "pygments_lexer": "ipython3",
   "version": "3.9.12"
  }
 },
 "nbformat": 4,
 "nbformat_minor": 5
}
