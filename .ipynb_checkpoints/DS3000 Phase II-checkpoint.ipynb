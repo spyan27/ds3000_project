{
 "cells": [
  {
   "cell_type": "markdown",
   "id": "4939929c",
   "metadata": {},
   "source": [
    "# Phase II: Data Curation, Exploratory Analysis and Plotting\n",
    "## Project Title Here\n",
    "\n",
    "- Team\n",
    "- John Rotondo, Spring Yan, Anne Hu, Evan Li"
   ]
  },
  {
   "cell_type": "markdown",
   "id": "709b10b9",
   "metadata": {},
   "source": [
    "## Project Goal:\n",
    "\n",
    "We are using the College Scorecard API to gather data on various colleges. The program we are designing will allow students to input their ACT or SAT scores along with their major of interest and any other needed information. Based on this input, the program will generate a customized list of colleges categorized as reach schools, target schools, and safety schools. These categories are based on the student’s academic profile and the best fit for the chosen major, helping students make informed decisions about which colleges to apply to."
   ]
  },
  {
   "cell_type": "markdown",
   "id": "c25d2059",
   "metadata": {},
   "source": [
    "## Pipeline Overview:\n",
    "\n",
    "Explain how we would scrape here"
   ]
  },
  {
   "cell_type": "markdown",
   "id": "bc170a78",
   "metadata": {},
   "source": [
    "### Pipeline:"
   ]
  },
  {
   "cell_type": "markdown",
   "id": "d7a6e5f5",
   "metadata": {},
   "source": [
    "#### 0. Imports:"
   ]
  },
  {
   "cell_type": "code",
   "execution_count": 1,
   "id": "915d699a",
   "metadata": {},
   "outputs": [],
   "source": [
    "import requests\n",
    "import os\n",
    "import random\n",
    "import time\n",
    "import json\n",
    "import pandas as pd\n",
    "import numpy as np\n",
    "from bs4 import BeautifulSoup\n",
    "\n",
    "# For plotting\n",
    "import matplotlib.pyplot as plt\n",
    "import seaborn as sns\n",
    "import plotly.express as px"
   ]
  },
  {
   "cell_type": "markdown",
   "id": "d349e9ee",
   "metadata": {},
   "source": [
    "#### 1. Query Generation:"
   ]
  },
  {
   "cell_type": "code",
   "execution_count": null,
   "id": "7442447c",
   "metadata": {},
   "outputs": [],
   "source": []
  },
  {
   "cell_type": "markdown",
   "id": "4107f60e",
   "metadata": {},
   "source": [
    "#### 2. Selenium Crawler:"
   ]
  },
  {
   "cell_type": "code",
   "execution_count": 2,
   "id": "f17e6083",
   "metadata": {},
   "outputs": [],
   "source": [
    "# Uses selenium library\n",
    "def open_browser():\n",
    "    '''\n",
    "    Opens a new automated browser window with all tell-tales of automated browser disabled\n",
    "    '''\n",
    "    options = webdriver.ChromeOptions()\n",
    "    options.add_argument(\"start-maximized\")\n",
    "    \n",
    "    # remove all signs of this being an automated browser\n",
    "    options.add_argument('--disable-blink-features=AutomationControlled')\n",
    "    options.add_experimental_option(\"excludeSwitches\", [\"enable-automation\"])\n",
    "    options.add_experimental_option('useAutomationExtension', False)\n",
    "\n",
    "    # open the browser with the new options\n",
    "    driver = webdriver.Chrome(options=options)\n",
    "    return driver"
   ]
  },
  {
   "cell_type": "code",
   "execution_count": 3,
   "id": "b1699490",
   "metadata": {},
   "outputs": [],
   "source": [
    "def load_website(driver, attempts = 5):\n",
    "    ..."
   ]
  },
  {
   "cell_type": "markdown",
   "id": "e65216d9",
   "metadata": {},
   "source": [
    "#### 3. Webscraping:"
   ]
  },
  {
   "cell_type": "code",
   "execution_count": 4,
   "id": "838e88fd",
   "metadata": {},
   "outputs": [
    {
     "name": "stdout",
     "output_type": "stream",
     "text": [
      "   School ID         School Name       City  SAT Average  ACT Average\n",
      "0     166027  Harvard University  Cambridge         1553           35\n"
     ]
    }
   ],
   "source": [
    "def find_school(school):\n",
    "    school_info = []\n",
    "    \n",
    "    # This is the URL and the key used to get access to the API.\n",
    "    url = 'https://api.data.gov/ed/collegescorecard/v1/schools'\n",
    "    key = 'eKqjIMsTr8NFbXbKmGecMsA1oebkdIPd3TlGeEGY'\n",
    "    \n",
    "    # Parameters for the API request\n",
    "    api_req = {\n",
    "        'api_key': key,\n",
    "        'school.name': school,\n",
    "        'fields': 'id,school.name,school.city,latest.admissions.sat_scores.average.overall,latest.admissions.act_scores.midpoint.cumulative'\n",
    "    }\n",
    "\n",
    "    # Gets the data from the College Scorecard API and turns it into json format\n",
    "    response = requests.get(url, params=api_req)\n",
    "\n",
    "    data = response.json()\n",
    "    \n",
    "    # Appending data to list for a school in the results\n",
    "    for x in data.get('results', []):\n",
    "        school_info.append({\n",
    "            'School ID': x.get('id'),\n",
    "            'School Name': x.get('school.name'),\n",
    "            'City': x.get('school.city'),\n",
    "            'SAT Average': x.get('latest.admissions.sat_scores.average.overall'),\n",
    "            'ACT Average': x.get('latest.admissions.act_scores.midpoint.cumulative')\n",
    "        })\n",
    "\n",
    "    # Turn the list to a DataFrame\n",
    "    df = pd.DataFrame(school_info)\n",
    "    return df\n",
    "\n",
    "df = find_school('Harvard')\n",
    "print(df)"
   ]
  },
  {
   "cell_type": "markdown",
   "id": "fd6c4aec",
   "metadata": {},
   "source": [
    "#### 4. Cleaning the Data:"
   ]
  },
  {
   "cell_type": "code",
   "execution_count": null,
   "id": "45e276e9",
   "metadata": {},
   "outputs": [],
   "source": []
  },
  {
   "cell_type": "markdown",
   "id": "4b9b1ffb",
   "metadata": {},
   "source": [
    "## Plotting:"
   ]
  },
  {
   "cell_type": "code",
   "execution_count": 5,
   "id": "3dcaf8ec",
   "metadata": {},
   "outputs": [],
   "source": [
    "# for this we can plot the student population for each school on the recommended list"
   ]
  },
  {
   "cell_type": "markdown",
   "id": "e4059326",
   "metadata": {},
   "source": [
    "## Analysis/ML Plan:"
   ]
  },
  {
   "cell_type": "markdown",
   "id": "c793a610",
   "metadata": {},
   "source": [
    "Plan here"
   ]
  },
  {
   "cell_type": "code",
   "execution_count": null,
   "id": "cd2f827a",
   "metadata": {},
   "outputs": [],
   "source": []
  }
 ],
 "metadata": {
  "kernelspec": {
   "display_name": "Python 3 (ipykernel)",
   "language": "python",
   "name": "python3"
  },
  "language_info": {
   "codemirror_mode": {
    "name": "ipython",
    "version": 3
   },
   "file_extension": ".py",
   "mimetype": "text/x-python",
   "name": "python",
   "nbconvert_exporter": "python",
   "pygments_lexer": "ipython3",
   "version": "3.9.12"
  }
 },
 "nbformat": 4,
 "nbformat_minor": 5
}
