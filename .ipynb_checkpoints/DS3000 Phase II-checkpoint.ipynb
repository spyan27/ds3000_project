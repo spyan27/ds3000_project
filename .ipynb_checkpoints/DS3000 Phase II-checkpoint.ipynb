{
 "cells": [
  {
   "cell_type": "markdown",
   "id": "4939929c",
   "metadata": {},
   "source": [
    "# Phase II: Data Curation, Exploratory Analysis and Plotting\n",
    "## Project Title Here\n",
    "\n",
    "- Team\n",
    "- John Rotondo, Spring Yan, Anne Hu, Evan Li"
   ]
  },
  {
   "cell_type": "markdown",
   "id": "709b10b9",
   "metadata": {},
   "source": [
    "## Project Goal:\n",
    "\n",
    "We are using the College Scorecard API to gather data on various colleges. The program we are designing will allow students to input their ACT or SAT scores along with their major of interest and any other needed information. Based on this input, the program will generate a customized list of colleges categorized as reach schools, target schools, and safety schools. These categories are based on the student’s academic profile and the best fit for the chosen major, helping students make informed decisions about which colleges to apply to."
   ]
  },
  {
   "cell_type": "markdown",
   "id": "c25d2059",
   "metadata": {},
   "source": [
    "## Pipeline Overview:\n",
    "\n",
    "Explain how we would scrape here"
   ]
  },
  {
   "cell_type": "markdown",
   "id": "bc170a78",
   "metadata": {},
   "source": [
    "### Pipeline:"
   ]
  },
  {
   "cell_type": "markdown",
   "id": "d7a6e5f5",
   "metadata": {},
   "source": [
    "#### 0. Imports:"
   ]
  },
  {
   "cell_type": "code",
   "execution_count": 1,
   "id": "915d699a",
   "metadata": {},
   "outputs": [],
   "source": [
    "import requests\n",
    "import os\n",
    "import random\n",
    "import time\n",
    "import json\n",
    "import pandas as pd\n",
    "import numpy as np\n",
    "from bs4 import BeautifulSoup\n",
    "\n",
    "# For plotting\n",
    "import matplotlib.pyplot as plt\n",
    "import seaborn as sns\n",
    "import plotly.express as px"
   ]
  },
  {
   "cell_type": "markdown",
   "id": "d349e9ee",
   "metadata": {},
   "source": [
    "#### 1. Query Generation:"
   ]
  },
  {
   "cell_type": "code",
   "execution_count": null,
   "id": "7442447c",
   "metadata": {},
   "outputs": [],
   "source": []
  },
  {
   "cell_type": "markdown",
   "id": "4107f60e",
   "metadata": {},
   "source": [
    "#### 2. Selenium Crawler:"
   ]
  },
  {
   "cell_type": "code",
   "execution_count": null,
   "id": "f17e6083",
   "metadata": {},
   "outputs": [],
   "source": [
    "# Uses selenium library\n",
    "def open_browser():\n",
    "    '''\n",
    "    Opens a new automated browser window with all tell-tales of automated browser disabled\n",
    "    '''\n",
    "    options = webdriver.ChromeOptions()\n",
    "    options.add_argument(\"start-maximized\")\n",
    "    \n",
    "    # remove all signs of this being an automated browser\n",
    "    options.add_argument('--disable-blink-features=AutomationControlled')\n",
    "    options.add_experimental_option(\"excludeSwitches\", [\"enable-automation\"])\n",
    "    options.add_experimental_option('useAutomationExtension', False)\n",
    "\n",
    "    # open the browser with the new options\n",
    "    driver = webdriver.Chrome(options=options)\n",
    "    return driver"
   ]
  },
  {
   "cell_type": "code",
   "execution_count": null,
   "id": "b1699490",
   "metadata": {},
   "outputs": [],
   "source": [
    "def load_website(driver, attempts = 5):\n",
    "    ..."
   ]
  },
  {
   "cell_type": "markdown",
   "id": "e65216d9",
   "metadata": {},
   "source": [
    "#### 3. Webscraping:"
   ]
  },
  {
   "cell_type": "code",
   "execution_count": 2,
   "id": "1d04036c-25e3-48c1-a655-210658281faa",
   "metadata": {},
   "outputs": [],
   "source": [
    "# this is the API key for college scorecard\n",
    "key = 'eKqjIMsTr8NFbXbKmGecMsA1oebkdIPd3TlGeEGY'\n",
    "\n",
    "# this is the URL and the key used to get access to the API.\n",
    "url = 'https://api.data.gov/ed/collegescorecard/v1/schools'"
   ]
  },
  {
   "cell_type": "code",
   "execution_count": 3,
   "id": "838e88fd",
   "metadata": {},
   "outputs": [
    {
     "name": "stdout",
     "output_type": "stream",
     "text": [
      "   School ID         School Name       City  SAT Average  ACT Average\n",
      "0     166027  Harvard University  Cambridge         1553           35\n"
     ]
    }
   ],
   "source": [
    "def find_school(school, url, key):\n",
    "    \"\"\" add in docstring \"\"\"\n",
    "    school_info = []\n",
    "    \n",
    "    # Parameters for the API request\n",
    "    api_req = {\n",
    "        'api_key': key,\n",
    "        'school.name': school,\n",
    "        'fields': 'id,school.name,school.city,latest.admissions.sat_scores.average.overall,latest.admissions.act_scores.midpoint.cumulative'\n",
    "    }\n",
    "\n",
    "    # Gets the data from the College Scorecard API and turns it into json format\n",
    "    response = requests.get(url, params=api_req)\n",
    "\n",
    "    data = response.json()\n",
    "    \n",
    "    # Appending data to list for a school in the results\n",
    "    for x in data.get('results', []):\n",
    "        school_info.append({\n",
    "            'School ID': x.get('id'),\n",
    "            'School Name': x.get('school.name'),\n",
    "            'City': x.get('school.city'),\n",
    "            'SAT Average': x.get('latest.admissions.sat_scores.average.overall'),\n",
    "            'ACT Average': x.get('latest.admissions.act_scores.midpoint.cumulative')\n",
    "        })\n",
    "\n",
    "    # Turn the list to a DataFrame\n",
    "    df = pd.DataFrame(school_info)\n",
    "    return df\n",
    "\n",
    "df = find_school('Harvard', url, key)\n",
    "print(df)"
   ]
  },
  {
   "cell_type": "code",
   "execution_count": 4,
   "id": "17544858-bcb4-4c34-8cc0-2351fed3c6d9",
   "metadata": {},
   "outputs": [],
   "source": [
    "def get_pages_data(key, student_size=10000):\n",
    "    \"\"\"Gets the api response and applies filter on student size, making sure to go through all the pages of data \n",
    "    Params:\n",
    "    - key = api key \n",
    "    - student_size = minimum threshold (int)\n",
    "    Returns:\n",
    "    A list with the api response stored \"\"\"\n",
    "    # Base URL for the College Scorecard API\n",
    "    base_url = \"https://api.data.gov/ed/collegescorecard/v1/schools\"\n",
    "    \n",
    "    # Parameters for the API call\n",
    "    params = {\n",
    "        'api_key': key,\n",
    "        'per_page': 100,  # Number of records per page (max is usually 100)\n",
    "        'page': 0,  # Start at the first page\n",
    "        f'student.size__range': f'{student_size}..'  # Filter for schools with more than 50,000 students\n",
    "    }\n",
    "    \n",
    "    # List to store all school data\n",
    "    all_schools = []\n",
    "    \n",
    "    # Loop through pages until there are no more results\n",
    "    while True:\n",
    "        # Increment the page number\n",
    "        params['page'] += 1\n",
    "        \n",
    "        # Make the API request\n",
    "        response = requests.get(base_url, params=params)\n",
    "        \n",
    "        # Check the response status\n",
    "        if response.status_code != 200:\n",
    "            print(f\"Error: {response.status_code}, {response.text}\")\n",
    "            break\n",
    "    \n",
    "        # Get the JSON data\n",
    "        data = response.json()\n",
    "        \n",
    "        # Check if there are results\n",
    "        if 'results' in data and len(data['results']) > 0:\n",
    "            # Append the results to the all_schools list\n",
    "            all_schools.extend(data['results'])\n",
    "            print(f\"Retrieved {len(data['results'])} records from page {params['page']}\")\n",
    "        else:\n",
    "            # If there are no more results, break the loop\n",
    "            print(f\"No more records found on page {params['page']}. Stopping.\")\n",
    "            break\n",
    "    \n",
    "    # Print the total number of schools retrieved\n",
    "    print(f\"Total schools retrieved: {len(all_schools)}\")\n",
    "    return all_schools"
   ]
  },
  {
   "cell_type": "code",
   "execution_count": 5,
   "id": "352afe87-094a-4328-b218-6679dbf6e24c",
   "metadata": {
    "scrolled": true
   },
   "outputs": [
    {
     "name": "stdout",
     "output_type": "stream",
     "text": [
      "Retrieved 100 records from page 1\n",
      "Retrieved 100 records from page 2\n",
      "Retrieved 31 records from page 3\n",
      "No more records found on page 4. Stopping.\n",
      "Total schools retrieved: 231\n"
     ]
    }
   ],
   "source": [
    "data_dct = get_pages_data(key)"
   ]
  },
  {
   "cell_type": "code",
   "execution_count": 38,
   "id": "161f4737-1252-482d-a3c6-6d34288e13d8",
   "metadata": {},
   "outputs": [],
   "source": [
    "from collections import defaultdict \n",
    "\n",
    "def build_df(data_dct):\n",
    "    \"\"\"add in docstring\"\"\"\n",
    "    # intialize dictionary to store college data in \n",
    "    colleges_dct = defaultdict(list)\n",
    "\n",
    "    # loop over each \"school\" in the data_dct\n",
    "    for i in range(len(data_dct)):\n",
    "        school_data = data_dct[i]['latest']['school']\n",
    "        student_data = data_dct[i]['latest']['student']\n",
    "        admin_data = data_dct[i]['latest']['admissions']\n",
    "    \n",
    "        # append school data \n",
    "        colleges_dct['name'].append(school_data['name'])\n",
    "        colleges_dct['city'].append(school_data['city'])\n",
    "        colleges_dct['state'].append(school_data['state'])\n",
    "\n",
    "        # append student data\n",
    "        colleges_dct['size'].append(student_data['size'])\n",
    "    \n",
    "        # append admissions data \n",
    "        colleges_dct['admin_rate'].append(admin_data['admission_rate']['overall'])\n",
    "        colleges_dct['test_requirement'].append(admin_data['test_requirements'])\n",
    "        \n",
    "        # append ACT and SAT data \n",
    "        # -------- NO ACT SCORES?\n",
    "        colleges_dct['midpoint_ACT'].append(admin_data['act_scores']['midpoint']['cumulative'])\n",
    "        colleges_dct['25th_ACT'].append(admin_data['act_scores']['25th_percentile']['cumulative'])\n",
    "        colleges_dct['50th_ACT'].append(admin_data['act_scores']['25th_percentile']['cumulative'])\n",
    "        colleges_dct['75th_ACT'].append(admin_data['act_scores']['75th_percentile']['cumulative'])\n",
    "        \n",
    "        colleges_dct['avg_SAT'].append(admin_data['sat_scores']['average']['overall'])\n",
    "        colleges_dct['reading_SAT'].append(admin_data['sat_scores']['midpoint']['critical_reading'])\n",
    "        colleges_dct['writing_SAT'].append(admin_data['sat_scores']['midpoint']['writing'])\n",
    "        colleges_dct['math_SAT'].append(admin_data['sat_scores']['midpoint']['math'])\n",
    "        \n",
    "    return colleges_dct "
   ]
  },
  {
   "cell_type": "code",
   "execution_count": 39,
   "id": "d3f04c13-2819-4b9a-8bee-3616b340be6b",
   "metadata": {},
   "outputs": [
    {
     "data": {
      "text/html": [
       "<div>\n",
       "<style scoped>\n",
       "    .dataframe tbody tr th:only-of-type {\n",
       "        vertical-align: middle;\n",
       "    }\n",
       "\n",
       "    .dataframe tbody tr th {\n",
       "        vertical-align: top;\n",
       "    }\n",
       "\n",
       "    .dataframe thead th {\n",
       "        text-align: right;\n",
       "    }\n",
       "</style>\n",
       "<table border=\"1\" class=\"dataframe\">\n",
       "  <thead>\n",
       "    <tr style=\"text-align: right;\">\n",
       "      <th></th>\n",
       "      <th>name</th>\n",
       "      <th>city</th>\n",
       "      <th>state</th>\n",
       "      <th>size</th>\n",
       "      <th>admin_rate</th>\n",
       "      <th>test_requirement</th>\n",
       "      <th>midpoint_ACT</th>\n",
       "      <th>25th_ACT</th>\n",
       "      <th>50th_ACT</th>\n",
       "      <th>75th_ACT</th>\n",
       "      <th>avg_SAT</th>\n",
       "      <th>reading_SAT</th>\n",
       "      <th>writing_SAT</th>\n",
       "      <th>math_SAT</th>\n",
       "    </tr>\n",
       "  </thead>\n",
       "  <tbody>\n",
       "    <tr>\n",
       "      <th>0</th>\n",
       "      <td>Indian River State College</td>\n",
       "      <td>Fort Pierce</td>\n",
       "      <td>FL</td>\n",
       "      <td>11481</td>\n",
       "      <td>NaN</td>\n",
       "      <td>0</td>\n",
       "      <td>NaN</td>\n",
       "      <td>NaN</td>\n",
       "      <td>NaN</td>\n",
       "      <td>NaN</td>\n",
       "      <td>NaN</td>\n",
       "      <td>NaN</td>\n",
       "      <td>NaN</td>\n",
       "      <td>NaN</td>\n",
       "    </tr>\n",
       "    <tr>\n",
       "      <th>1</th>\n",
       "      <td>Keiser University-Ft Lauderdale</td>\n",
       "      <td>Fort Lauderdale</td>\n",
       "      <td>FL</td>\n",
       "      <td>16649</td>\n",
       "      <td>0.9653</td>\n",
       "      <td>3</td>\n",
       "      <td>NaN</td>\n",
       "      <td>NaN</td>\n",
       "      <td>NaN</td>\n",
       "      <td>NaN</td>\n",
       "      <td>NaN</td>\n",
       "      <td>NaN</td>\n",
       "      <td>NaN</td>\n",
       "      <td>NaN</td>\n",
       "    </tr>\n",
       "    <tr>\n",
       "      <th>2</th>\n",
       "      <td>Miami Dade College</td>\n",
       "      <td>Miami</td>\n",
       "      <td>FL</td>\n",
       "      <td>40538</td>\n",
       "      <td>NaN</td>\n",
       "      <td>0</td>\n",
       "      <td>NaN</td>\n",
       "      <td>NaN</td>\n",
       "      <td>NaN</td>\n",
       "      <td>NaN</td>\n",
       "      <td>NaN</td>\n",
       "      <td>NaN</td>\n",
       "      <td>NaN</td>\n",
       "      <td>NaN</td>\n",
       "    </tr>\n",
       "    <tr>\n",
       "      <th>3</th>\n",
       "      <td>University of Miami</td>\n",
       "      <td>Coral Gables</td>\n",
       "      <td>FL</td>\n",
       "      <td>12215</td>\n",
       "      <td>0.1894</td>\n",
       "      <td>5</td>\n",
       "      <td>32.0</td>\n",
       "      <td>30.0</td>\n",
       "      <td>30.0</td>\n",
       "      <td>33.0</td>\n",
       "      <td>1409.0</td>\n",
       "      <td>685.0</td>\n",
       "      <td>630.0</td>\n",
       "      <td>695.0</td>\n",
       "    </tr>\n",
       "    <tr>\n",
       "      <th>4</th>\n",
       "      <td>University of North Florida</td>\n",
       "      <td>Jacksonville</td>\n",
       "      <td>FL</td>\n",
       "      <td>13866</td>\n",
       "      <td>0.7050</td>\n",
       "      <td>1</td>\n",
       "      <td>23.0</td>\n",
       "      <td>18.0</td>\n",
       "      <td>18.0</td>\n",
       "      <td>25.0</td>\n",
       "      <td>1104.0</td>\n",
       "      <td>565.0</td>\n",
       "      <td>545.0</td>\n",
       "      <td>540.0</td>\n",
       "    </tr>\n",
       "    <tr>\n",
       "      <th>...</th>\n",
       "      <td>...</td>\n",
       "      <td>...</td>\n",
       "      <td>...</td>\n",
       "      <td>...</td>\n",
       "      <td>...</td>\n",
       "      <td>...</td>\n",
       "      <td>...</td>\n",
       "      <td>...</td>\n",
       "      <td>...</td>\n",
       "      <td>...</td>\n",
       "      <td>...</td>\n",
       "      <td>...</td>\n",
       "      <td>...</td>\n",
       "      <td>...</td>\n",
       "    </tr>\n",
       "    <tr>\n",
       "      <th>226</th>\n",
       "      <td>Arizona State University Digital Immersion</td>\n",
       "      <td>Scottsdale</td>\n",
       "      <td>AZ</td>\n",
       "      <td>46412</td>\n",
       "      <td>0.6448</td>\n",
       "      <td>3</td>\n",
       "      <td>NaN</td>\n",
       "      <td>NaN</td>\n",
       "      <td>NaN</td>\n",
       "      <td>NaN</td>\n",
       "      <td>NaN</td>\n",
       "      <td>NaN</td>\n",
       "      <td>NaN</td>\n",
       "      <td>NaN</td>\n",
       "    </tr>\n",
       "    <tr>\n",
       "      <th>227</th>\n",
       "      <td>University of Phoenix-Arizona</td>\n",
       "      <td>Phoenix</td>\n",
       "      <td>AZ</td>\n",
       "      <td>66792</td>\n",
       "      <td>NaN</td>\n",
       "      <td>0</td>\n",
       "      <td>NaN</td>\n",
       "      <td>NaN</td>\n",
       "      <td>NaN</td>\n",
       "      <td>NaN</td>\n",
       "      <td>NaN</td>\n",
       "      <td>NaN</td>\n",
       "      <td>NaN</td>\n",
       "      <td>NaN</td>\n",
       "    </tr>\n",
       "    <tr>\n",
       "      <th>228</th>\n",
       "      <td>Kennesaw State University</td>\n",
       "      <td>Kennesaw</td>\n",
       "      <td>GA</td>\n",
       "      <td>38051</td>\n",
       "      <td>0.6785</td>\n",
       "      <td>1</td>\n",
       "      <td>23.0</td>\n",
       "      <td>19.0</td>\n",
       "      <td>19.0</td>\n",
       "      <td>25.0</td>\n",
       "      <td>1133.0</td>\n",
       "      <td>580.0</td>\n",
       "      <td>520.0</td>\n",
       "      <td>570.0</td>\n",
       "    </tr>\n",
       "    <tr>\n",
       "      <th>229</th>\n",
       "      <td>University of the People</td>\n",
       "      <td>Pasadena</td>\n",
       "      <td>CA</td>\n",
       "      <td>16253</td>\n",
       "      <td>NaN</td>\n",
       "      <td>0</td>\n",
       "      <td>NaN</td>\n",
       "      <td>NaN</td>\n",
       "      <td>NaN</td>\n",
       "      <td>NaN</td>\n",
       "      <td>NaN</td>\n",
       "      <td>NaN</td>\n",
       "      <td>NaN</td>\n",
       "      <td>NaN</td>\n",
       "    </tr>\n",
       "    <tr>\n",
       "      <th>230</th>\n",
       "      <td>Purdue University Global</td>\n",
       "      <td>West Lafayette</td>\n",
       "      <td>IN</td>\n",
       "      <td>33339</td>\n",
       "      <td>NaN</td>\n",
       "      <td>0</td>\n",
       "      <td>NaN</td>\n",
       "      <td>NaN</td>\n",
       "      <td>NaN</td>\n",
       "      <td>NaN</td>\n",
       "      <td>NaN</td>\n",
       "      <td>NaN</td>\n",
       "      <td>NaN</td>\n",
       "      <td>NaN</td>\n",
       "    </tr>\n",
       "  </tbody>\n",
       "</table>\n",
       "<p>231 rows × 14 columns</p>\n",
       "</div>"
      ],
      "text/plain": [
       "                                           name             city state   size  \\\n",
       "0                    Indian River State College      Fort Pierce    FL  11481   \n",
       "1               Keiser University-Ft Lauderdale  Fort Lauderdale    FL  16649   \n",
       "2                            Miami Dade College            Miami    FL  40538   \n",
       "3                           University of Miami     Coral Gables    FL  12215   \n",
       "4                   University of North Florida     Jacksonville    FL  13866   \n",
       "..                                          ...              ...   ...    ...   \n",
       "226  Arizona State University Digital Immersion       Scottsdale    AZ  46412   \n",
       "227               University of Phoenix-Arizona          Phoenix    AZ  66792   \n",
       "228                   Kennesaw State University         Kennesaw    GA  38051   \n",
       "229                    University of the People         Pasadena    CA  16253   \n",
       "230                    Purdue University Global   West Lafayette    IN  33339   \n",
       "\n",
       "     admin_rate  test_requirement  midpoint_ACT  25th_ACT  50th_ACT  75th_ACT  \\\n",
       "0           NaN                 0           NaN       NaN       NaN       NaN   \n",
       "1        0.9653                 3           NaN       NaN       NaN       NaN   \n",
       "2           NaN                 0           NaN       NaN       NaN       NaN   \n",
       "3        0.1894                 5          32.0      30.0      30.0      33.0   \n",
       "4        0.7050                 1          23.0      18.0      18.0      25.0   \n",
       "..          ...               ...           ...       ...       ...       ...   \n",
       "226      0.6448                 3           NaN       NaN       NaN       NaN   \n",
       "227         NaN                 0           NaN       NaN       NaN       NaN   \n",
       "228      0.6785                 1          23.0      19.0      19.0      25.0   \n",
       "229         NaN                 0           NaN       NaN       NaN       NaN   \n",
       "230         NaN                 0           NaN       NaN       NaN       NaN   \n",
       "\n",
       "     avg_SAT  reading_SAT  writing_SAT  math_SAT  \n",
       "0        NaN          NaN          NaN       NaN  \n",
       "1        NaN          NaN          NaN       NaN  \n",
       "2        NaN          NaN          NaN       NaN  \n",
       "3     1409.0        685.0        630.0     695.0  \n",
       "4     1104.0        565.0        545.0     540.0  \n",
       "..       ...          ...          ...       ...  \n",
       "226      NaN          NaN          NaN       NaN  \n",
       "227      NaN          NaN          NaN       NaN  \n",
       "228   1133.0        580.0        520.0     570.0  \n",
       "229      NaN          NaN          NaN       NaN  \n",
       "230      NaN          NaN          NaN       NaN  \n",
       "\n",
       "[231 rows x 14 columns]"
      ]
     },
     "execution_count": 39,
     "metadata": {},
     "output_type": "execute_result"
    }
   ],
   "source": [
    "college_df = pd.DataFrame(build_df(data_dct))\n",
    "college_df"
   ]
  },
  {
   "cell_type": "markdown",
   "id": "fd6c4aec",
   "metadata": {},
   "source": [
    "#### 4. Cleaning the Data:"
   ]
  },
  {
   "cell_type": "code",
   "execution_count": 40,
   "id": "45e276e9",
   "metadata": {},
   "outputs": [
    {
     "data": {
      "text/html": [
       "<div>\n",
       "<style scoped>\n",
       "    .dataframe tbody tr th:only-of-type {\n",
       "        vertical-align: middle;\n",
       "    }\n",
       "\n",
       "    .dataframe tbody tr th {\n",
       "        vertical-align: top;\n",
       "    }\n",
       "\n",
       "    .dataframe thead th {\n",
       "        text-align: right;\n",
       "    }\n",
       "</style>\n",
       "<table border=\"1\" class=\"dataframe\">\n",
       "  <thead>\n",
       "    <tr style=\"text-align: right;\">\n",
       "      <th></th>\n",
       "      <th>name</th>\n",
       "      <th>city</th>\n",
       "      <th>state</th>\n",
       "      <th>size</th>\n",
       "      <th>admin_rate</th>\n",
       "      <th>test_requirement</th>\n",
       "      <th>midpoint_ACT</th>\n",
       "      <th>25th_ACT</th>\n",
       "      <th>50th_ACT</th>\n",
       "      <th>75th_ACT</th>\n",
       "      <th>avg_SAT</th>\n",
       "      <th>reading_SAT</th>\n",
       "      <th>writing_SAT</th>\n",
       "      <th>math_SAT</th>\n",
       "    </tr>\n",
       "  </thead>\n",
       "  <tbody>\n",
       "    <tr>\n",
       "      <th>3</th>\n",
       "      <td>University of Miami</td>\n",
       "      <td>Coral Gables</td>\n",
       "      <td>FL</td>\n",
       "      <td>12215</td>\n",
       "      <td>0.1894</td>\n",
       "      <td>5</td>\n",
       "      <td>32.0</td>\n",
       "      <td>30.0</td>\n",
       "      <td>30.0</td>\n",
       "      <td>33.0</td>\n",
       "      <td>1409.0</td>\n",
       "      <td>685.0</td>\n",
       "      <td>630.0</td>\n",
       "      <td>695.0</td>\n",
       "    </tr>\n",
       "    <tr>\n",
       "      <th>4</th>\n",
       "      <td>University of North Florida</td>\n",
       "      <td>Jacksonville</td>\n",
       "      <td>FL</td>\n",
       "      <td>13866</td>\n",
       "      <td>0.7050</td>\n",
       "      <td>1</td>\n",
       "      <td>23.0</td>\n",
       "      <td>18.0</td>\n",
       "      <td>18.0</td>\n",
       "      <td>25.0</td>\n",
       "      <td>1104.0</td>\n",
       "      <td>565.0</td>\n",
       "      <td>545.0</td>\n",
       "      <td>540.0</td>\n",
       "    </tr>\n",
       "    <tr>\n",
       "      <th>9</th>\n",
       "      <td>University of South Florida</td>\n",
       "      <td>Tampa</td>\n",
       "      <td>FL</td>\n",
       "      <td>36763</td>\n",
       "      <td>0.4393</td>\n",
       "      <td>1</td>\n",
       "      <td>27.0</td>\n",
       "      <td>24.0</td>\n",
       "      <td>24.0</td>\n",
       "      <td>29.0</td>\n",
       "      <td>1235.0</td>\n",
       "      <td>620.0</td>\n",
       "      <td>555.0</td>\n",
       "      <td>615.0</td>\n",
       "    </tr>\n",
       "    <tr>\n",
       "      <th>11</th>\n",
       "      <td>Georgia Institute of Technology-Main Campus</td>\n",
       "      <td>Atlanta</td>\n",
       "      <td>GA</td>\n",
       "      <td>17379</td>\n",
       "      <td>0.1713</td>\n",
       "      <td>1</td>\n",
       "      <td>32.0</td>\n",
       "      <td>31.0</td>\n",
       "      <td>31.0</td>\n",
       "      <td>35.0</td>\n",
       "      <td>1480.0</td>\n",
       "      <td>680.0</td>\n",
       "      <td>685.0</td>\n",
       "      <td>725.0</td>\n",
       "    </tr>\n",
       "    <tr>\n",
       "      <th>12</th>\n",
       "      <td>Georgia Southern University</td>\n",
       "      <td>Statesboro</td>\n",
       "      <td>GA</td>\n",
       "      <td>20996</td>\n",
       "      <td>0.8889</td>\n",
       "      <td>1</td>\n",
       "      <td>21.0</td>\n",
       "      <td>18.0</td>\n",
       "      <td>18.0</td>\n",
       "      <td>23.0</td>\n",
       "      <td>1057.0</td>\n",
       "      <td>555.0</td>\n",
       "      <td>525.0</td>\n",
       "      <td>540.0</td>\n",
       "    </tr>\n",
       "    <tr>\n",
       "      <th>...</th>\n",
       "      <td>...</td>\n",
       "      <td>...</td>\n",
       "      <td>...</td>\n",
       "      <td>...</td>\n",
       "      <td>...</td>\n",
       "      <td>...</td>\n",
       "      <td>...</td>\n",
       "      <td>...</td>\n",
       "      <td>...</td>\n",
       "      <td>...</td>\n",
       "      <td>...</td>\n",
       "      <td>...</td>\n",
       "      <td>...</td>\n",
       "      <td>...</td>\n",
       "    </tr>\n",
       "    <tr>\n",
       "      <th>200</th>\n",
       "      <td>Western Washington University</td>\n",
       "      <td>Bellingham</td>\n",
       "      <td>WA</td>\n",
       "      <td>13686</td>\n",
       "      <td>0.9269</td>\n",
       "      <td>5</td>\n",
       "      <td>26.0</td>\n",
       "      <td>25.0</td>\n",
       "      <td>25.0</td>\n",
       "      <td>30.0</td>\n",
       "      <td>1257.0</td>\n",
       "      <td>615.0</td>\n",
       "      <td>530.0</td>\n",
       "      <td>585.0</td>\n",
       "    </tr>\n",
       "    <tr>\n",
       "      <th>203</th>\n",
       "      <td>University of Wisconsin-Madison</td>\n",
       "      <td>Madison</td>\n",
       "      <td>WI</td>\n",
       "      <td>35184</td>\n",
       "      <td>0.4906</td>\n",
       "      <td>5</td>\n",
       "      <td>29.0</td>\n",
       "      <td>26.0</td>\n",
       "      <td>26.0</td>\n",
       "      <td>32.0</td>\n",
       "      <td>1374.0</td>\n",
       "      <td>680.0</td>\n",
       "      <td>640.0</td>\n",
       "      <td>730.0</td>\n",
       "    </tr>\n",
       "    <tr>\n",
       "      <th>206</th>\n",
       "      <td>Purdue University-Main Campus</td>\n",
       "      <td>West Lafayette</td>\n",
       "      <td>IN</td>\n",
       "      <td>38438</td>\n",
       "      <td>0.5270</td>\n",
       "      <td>1</td>\n",
       "      <td>30.0</td>\n",
       "      <td>27.0</td>\n",
       "      <td>27.0</td>\n",
       "      <td>34.0</td>\n",
       "      <td>1354.0</td>\n",
       "      <td>640.0</td>\n",
       "      <td>570.0</td>\n",
       "      <td>670.0</td>\n",
       "    </tr>\n",
       "    <tr>\n",
       "      <th>217</th>\n",
       "      <td>Florida Gulf Coast University</td>\n",
       "      <td>Fort Myers</td>\n",
       "      <td>FL</td>\n",
       "      <td>13788</td>\n",
       "      <td>0.7439</td>\n",
       "      <td>1</td>\n",
       "      <td>22.0</td>\n",
       "      <td>20.0</td>\n",
       "      <td>20.0</td>\n",
       "      <td>25.0</td>\n",
       "      <td>1114.0</td>\n",
       "      <td>560.0</td>\n",
       "      <td>520.0</td>\n",
       "      <td>535.0</td>\n",
       "    </tr>\n",
       "    <tr>\n",
       "      <th>228</th>\n",
       "      <td>Kennesaw State University</td>\n",
       "      <td>Kennesaw</td>\n",
       "      <td>GA</td>\n",
       "      <td>38051</td>\n",
       "      <td>0.6785</td>\n",
       "      <td>1</td>\n",
       "      <td>23.0</td>\n",
       "      <td>19.0</td>\n",
       "      <td>19.0</td>\n",
       "      <td>25.0</td>\n",
       "      <td>1133.0</td>\n",
       "      <td>580.0</td>\n",
       "      <td>520.0</td>\n",
       "      <td>570.0</td>\n",
       "    </tr>\n",
       "  </tbody>\n",
       "</table>\n",
       "<p>71 rows × 14 columns</p>\n",
       "</div>"
      ],
      "text/plain": [
       "                                            name            city state   size  \\\n",
       "3                            University of Miami    Coral Gables    FL  12215   \n",
       "4                    University of North Florida    Jacksonville    FL  13866   \n",
       "9                    University of South Florida           Tampa    FL  36763   \n",
       "11   Georgia Institute of Technology-Main Campus         Atlanta    GA  17379   \n",
       "12                   Georgia Southern University      Statesboro    GA  20996   \n",
       "..                                           ...             ...   ...    ...   \n",
       "200                Western Washington University      Bellingham    WA  13686   \n",
       "203              University of Wisconsin-Madison         Madison    WI  35184   \n",
       "206                Purdue University-Main Campus  West Lafayette    IN  38438   \n",
       "217                Florida Gulf Coast University      Fort Myers    FL  13788   \n",
       "228                    Kennesaw State University        Kennesaw    GA  38051   \n",
       "\n",
       "     admin_rate  test_requirement  midpoint_ACT  25th_ACT  50th_ACT  75th_ACT  \\\n",
       "3        0.1894                 5          32.0      30.0      30.0      33.0   \n",
       "4        0.7050                 1          23.0      18.0      18.0      25.0   \n",
       "9        0.4393                 1          27.0      24.0      24.0      29.0   \n",
       "11       0.1713                 1          32.0      31.0      31.0      35.0   \n",
       "12       0.8889                 1          21.0      18.0      18.0      23.0   \n",
       "..          ...               ...           ...       ...       ...       ...   \n",
       "200      0.9269                 5          26.0      25.0      25.0      30.0   \n",
       "203      0.4906                 5          29.0      26.0      26.0      32.0   \n",
       "206      0.5270                 1          30.0      27.0      27.0      34.0   \n",
       "217      0.7439                 1          22.0      20.0      20.0      25.0   \n",
       "228      0.6785                 1          23.0      19.0      19.0      25.0   \n",
       "\n",
       "     avg_SAT  reading_SAT  writing_SAT  math_SAT  \n",
       "3     1409.0        685.0        630.0     695.0  \n",
       "4     1104.0        565.0        545.0     540.0  \n",
       "9     1235.0        620.0        555.0     615.0  \n",
       "11    1480.0        680.0        685.0     725.0  \n",
       "12    1057.0        555.0        525.0     540.0  \n",
       "..       ...          ...          ...       ...  \n",
       "200   1257.0        615.0        530.0     585.0  \n",
       "203   1374.0        680.0        640.0     730.0  \n",
       "206   1354.0        640.0        570.0     670.0  \n",
       "217   1114.0        560.0        520.0     535.0  \n",
       "228   1133.0        580.0        520.0     570.0  \n",
       "\n",
       "[71 rows x 14 columns]"
      ]
     },
     "execution_count": 40,
     "metadata": {},
     "output_type": "execute_result"
    }
   ],
   "source": [
    "# drop the none values for ploting purposes \n",
    "college_df.dropna()"
   ]
  },
  {
   "cell_type": "markdown",
   "id": "4b9b1ffb",
   "metadata": {},
   "source": [
    "## Plotting:"
   ]
  },
  {
   "cell_type": "code",
   "execution_count": 41,
   "id": "3dcaf8ec",
   "metadata": {},
   "outputs": [],
   "source": [
    "# for this we can plot the student population for each school on the recommended list"
   ]
  },
  {
   "cell_type": "code",
   "execution_count": 46,
   "id": "f04707a4-a478-417d-8841-3e24cff48c7f",
   "metadata": {},
   "outputs": [
    {
     "data": {
      "application/vnd.plotly.v1+json": {
       "config": {
        "plotlyServerURL": "https://plot.ly"
       },
       "data": [
        {
         "hovertemplate": "<b>%{hovertext}</b><br><br>admin_rate=%{x}<br>avg_SAT=%{y}<br>size=%{marker.color}<extra></extra>",
         "hovertext": [
          "Indian River State College",
          "Keiser University-Ft Lauderdale",
          "Miami Dade College",
          "University of Miami",
          "University of North Florida",
          "Palm Beach State College",
          "St Petersburg College",
          "Santa Fe College",
          "Seminole State College of Florida",
          "University of South Florida",
          "Valencia College",
          "Georgia Institute of Technology-Main Campus",
          "Georgia Southern University",
          "Georgia State University",
          "University of Georgia",
          "Savannah College of Art and Design",
          "University of Hawaii at Manoa",
          "Boise State University",
          "Brigham Young University-Idaho",
          "DePaul University",
          "College of DuPage",
          "University of Illinois Chicago",
          "University of Illinois Urbana-Champaign",
          "Illinois State University",
          "Loyola University Chicago",
          "Northern Illinois University",
          "Ball State University",
          "Ivy Tech Community College",
          "Indiana University-Purdue University-Indianapolis",
          "Indiana University-Bloomington",
          "Des Moines Area Community College",
          "Iowa State University",
          "University of Iowa",
          "Ashford University",
          "Fort Hays State University",
          "Johnson County Community College",
          "University of Kansas",
          "Kansas State University",
          "Wichita State University",
          "Eastern Kentucky University",
          "University of Kentucky",
          "University of Louisville",
          "Western Kentucky University",
          "Delgado Community College",
          "Louisiana State University and Agricultural & Mechanical College",
          "University of Louisiana at Lafayette",
          "University of Maryland Global Campus",
          "University of Maryland-Baltimore County",
          "University of Maryland-College Park",
          "Montgomery College",
          "Towson University",
          "Boston University",
          "University of Massachusetts-Lowell",
          "University of Massachusetts-Amherst",
          "University of Massachusetts-Boston",
          "Northeastern University",
          "Central Michigan University",
          "Eastern Michigan University",
          "Grand Rapids Community College",
          "Grand Valley State University",
          "Macomb Community College",
          "University of Michigan-Ann Arbor",
          "Michigan State University",
          "Oakland Community College",
          "Oakland University",
          "Wayne State University",
          "Western Michigan University",
          "Minnesota State University-Mankato",
          "University of Minnesota-Twin Cities",
          "University of Mississippi",
          "Mississippi State University",
          "University of Southern Mississippi",
          "Metropolitan Community College-Kansas City",
          "University of Missouri-Columbia",
          "Saint Louis Community College",
          "Missouri State University-Springfield",
          "Montana State University",
          "Bellevue University",
          "University of Nebraska at Omaha",
          "University of Nebraska-Lincoln",
          "College of Southern Nevada",
          "University of Nevada-Las Vegas",
          "University of Nevada-Reno",
          "Southern New Hampshire University",
          "University of New Hampshire-Main Campus",
          "Bergen Community College",
          "Rowan University",
          "Kean University",
          "Montclair State University",
          "Rutgers University-New Brunswick",
          "Central New Mexico Community College",
          "University of New Mexico-Main Campus",
          "New Mexico State University-Main Campus",
          "Cornell University",
          "CUNY Bernard M Baruch College",
          "CUNY Borough of Manhattan Community College",
          "CUNY Brooklyn College",
          "CUNY City College",
          "CUNY Hunter College",
          "CUNY John Jay College of Criminal Justice",
          "CUNY Lehman College",
          "CUNY New York City College of Technology",
          "CUNY Queens College",
          "Nassau Community College",
          "New York University",
          "Rochester Institute of Technology",
          "St. John's University-New York",
          "SUNY at Albany",
          "Binghamton University",
          "University at Buffalo",
          "Stony Brook University",
          "Syracuse University",
          "Excelsior University",
          "Appalachian State University",
          "Central Piedmont Community College",
          "East Carolina University",
          "North Carolina A & T State University",
          "University of North Carolina at Chapel Hill",
          "University of North Carolina at Charlotte",
          "University of North Carolina at Greensboro",
          "North Carolina State University at Raleigh",
          "University of North Carolina Wilmington",
          "Wake Technical Community College",
          "University of Akron Main Campus",
          "Bowling Green State University-Main Campus",
          "University of Cincinnati-Main Campus",
          "Columbus State Community College",
          "Cuyahoga Community College District",
          "Eastern Gateway Community College",
          "Kent State University at Kent",
          "Miami University-Oxford",
          "Ohio State University-Main Campus",
          "Ohio University-Main Campus",
          "Sinclair Community College",
          "University of Toledo",
          "University of Central Oklahoma",
          "Oklahoma State University-Main Campus",
          "University of Oklahoma-Norman Campus",
          "Tulsa Community College",
          "Oregon State University",
          "University of Oregon",
          "Portland Community College",
          "Portland State University",
          "Drexel University",
          "Pennsylvania State University-Main Campus",
          "University of Pennsylvania",
          "Community College of Philadelphia",
          "University of Pittsburgh-Pittsburgh Campus",
          "Temple University",
          "West Chester University of Pennsylvania",
          "Community College of Rhode Island",
          "University of Rhode Island",
          "Clemson University",
          "University of South Carolina-Columbia",
          "University of Memphis",
          "Middle Tennessee State University",
          "The University of Tennessee-Knoxville",
          "Austin Community College District",
          "Baylor University",
          "Blinn College District",
          "Dallas College",
          "El Paso Community College",
          "Houston Community College",
          "University of Houston-Downtown",
          "University of Houston",
          "Lone Star College System",
          "University of North Texas",
          "The University of Texas Rio Grande Valley",
          "Sam Houston State University",
          "San Antonio College",
          "San Jacinto Community College",
          "Texas State University",
          "Tarleton State University",
          "Tarrant County College District",
          "Texas A & M University-College Station",
          "The University of Texas at Arlington",
          "The University of Texas at Austin",
          "The University of Texas at Dallas",
          "The University of Texas at El Paso",
          "Texas Christian University",
          "The University of Texas at San Antonio",
          "Texas Tech University",
          "Brigham Young University",
          "Utah State University",
          "Utah Valley University",
          "Salt Lake Community College",
          "University of Utah",
          "Weber State University",
          "University of Vermont",
          "George Mason University",
          "James Madison University",
          "Liberty University",
          "Northern Virginia Community College",
          "Old Dominion University",
          "Tidewater Community College",
          "Virginia Polytechnic Institute and State University",
          "Virginia Commonwealth University",
          "University of Virginia-Main Campus",
          "Washington State University",
          "University of Washington-Seattle Campus",
          "Western Washington University",
          "West Virginia University",
          "Milwaukee Area Technical College",
          "University of Wisconsin-Madison",
          "University of Wisconsin-Milwaukee",
          "NUC University",
          "Purdue University-Main Campus",
          "Georgia State University-Perimeter College",
          "Collin County Community College District",
          "ECPI University",
          "Suffolk County Community College",
          "California State University-San Marcos",
          "Santiago Canyon College",
          "South Texas College",
          "Capella University",
          "Northwest Vista College",
          "Western Governors University",
          "Florida Gulf Coast University",
          "Community College of Baltimore County",
          "American InterContinental University",
          "Georgia Gwinnett College",
          "American Public University System",
          "Columbia Southern University",
          "Chamberlain University-Illinois",
          "DeVry University-Illinois",
          "University of North Georgia",
          "Arizona State University Digital Immersion",
          "University of Phoenix-Arizona",
          "Kennesaw State University",
          "University of the People",
          "Purdue University Global"
         ],
         "legendgroup": "",
         "marker": {
          "color": [
           11481,
           16649,
           40538,
           12215,
           13866,
           20378,
           18984,
           11038,
           11898,
           36763,
           35867,
           17379,
           20996,
           28439,
           30566,
           13352,
           13915,
           16979,
           42213,
           13968,
           14402,
           21567,
           34031,
           18019,
           11626,
           11408,
           13466,
           51796,
           17278,
           35401,
           10110,
           24994,
           21545,
           26113,
           10066,
           10296,
           18539,
           14762,
           10304,
           11215,
           22115,
           13822,
           12149,
           11286,
           27729,
           11932,
           44458,
           10557,
           29982,
           13357,
           16734,
           17668,
           11985,
           24111,
           11749,
           16172,
           10297,
           11206,
           10272,
           18487,
           14356,
           32448,
           39021,
           11503,
           12626,
           15669,
           13264,
           11354,
           30560,
           17157,
           18154,
           10149,
           10586,
           23206,
           11240,
           13332,
           14343,
           10318,
           11866,
           19097,
           27254,
           24329,
           15896,
           138138,
           11396,
           10011,
           14914,
           10524,
           16902,
           36090,
           15556,
           15642,
           11065,
           15676,
           15554,
           16302,
           10785,
           11481,
           16549,
           11726,
           10485,
           12312,
           13513,
           10540,
           29136,
           13152,
           10081,
           12175,
           14398,
           20569,
           17406,
           15071,
           13983,
           18467,
           13522,
           20385,
           11553,
           19921,
           23063,
           13862,
           25109,
           13960,
           18002,
           10099,
           12223,
           27880,
           16212,
           11634,
           28674,
           19179,
           16721,
           45140,
           17611,
           12623,
           10787,
           10400,
           20362,
           20842,
           11481,
           28407,
           19443,
           17823,
           14299,
           13933,
           41417,
           10572,
           10821,
           19954,
           23697,
           14014,
           11271,
           13828,
           22467,
           26840,
           14181,
           16239,
           26905,
           25332,
           15134,
           15721,
           34709,
           24129,
           37871,
           12752,
           37080,
           47486,
           33023,
           26420,
           18184,
           15568,
           22790,
           33834,
           11880,
           38915,
           56792,
           30503,
           40980,
           21586,
           20123,
           10510,
           29112,
           32346,
           31411,
           20573,
           26961,
           17290,
           25392,
           15540,
           11326,
           26447,
           19968,
           48408,
           32211,
           18152,
           12161,
           30339,
           20552,
           17103,
           22265,
           30931,
           13686,
           18370,
           11082,
           35184,
           17076,
           25359,
           38438,
           12980,
           25111,
           11275,
           13825,
           13844,
           10419,
           17846,
           13275,
           12964,
           112807,
           13788,
           13223,
           10317,
           10451,
           37569,
           11208,
           11535,
           23164,
           15815,
           46412,
           66792,
           38051,
           16253,
           33339
          ],
          "coloraxis": "coloraxis",
          "symbol": "circle"
         },
         "mode": "markers",
         "name": "",
         "orientation": "v",
         "showlegend": false,
         "type": "scatter",
         "x": [
          null,
          0.9653,
          null,
          0.1894,
          0.705,
          null,
          null,
          null,
          null,
          0.4393,
          null,
          0.1713,
          0.8889,
          0.6678,
          0.4255,
          0.8173,
          0.7277,
          0.8393,
          0.9556,
          0.7017,
          null,
          0.7869,
          0.4482,
          0.8624,
          0.7915,
          0.7068,
          0.6895,
          null,
          0.8289,
          0.8241,
          null,
          0.9022,
          0.86,
          null,
          0.8802,
          null,
          0.8784,
          0.9514,
          0.9485,
          0.6431,
          0.9489,
          0.8154,
          0.9695,
          null,
          0.7572,
          0.7456,
          null,
          0.8055,
          0.4461,
          null,
          0.786,
          0.1437,
          0.8595,
          0.6352,
          0.8076,
          0.068,
          0.7895,
          0.8323,
          null,
          0.9037,
          null,
          0.1769,
          0.8795,
          null,
          0.9005,
          0.7532,
          0.8455,
          0.7068,
          0.7491,
          0.9738,
          0.7519,
          0.9884,
          null,
          0.7913,
          null,
          0.9256,
          0.7333,
          null,
          0.8586,
          0.7864,
          null,
          0.8531,
          0.8562,
          0.9637,
          0.8699,
          null,
          0.7694,
          0.826,
          0.9131,
          0.6629,
          null,
          0.9607,
          0.7805,
          0.0747,
          0.4953,
          null,
          0.5454,
          0.666,
          0.4786,
          0.5066,
          0.5531,
          0.818,
          0.6948,
          null,
          0.1246,
          0.6717,
          0.8467,
          0.679,
          0.4175,
          0.6771,
          0.4914,
          0.5175,
          null,
          0.8308,
          null,
          0.9234,
          0.5639,
          0.1711,
          0.7964,
          0.9194,
          0.4717,
          0.6883,
          null,
          0.8287,
          0.7866,
          0.8622,
          null,
          null,
          null,
          0.8802,
          0.8792,
          0.5272,
          0.8652,
          null,
          0.9223,
          0.6994,
          0.7063,
          0.7292,
          null,
          0.8253,
          0.8629,
          null,
          0.9309,
          0.7961,
          0.5521,
          0.065,
          null,
          0.4914,
          0.797,
          0.8785,
          null,
          0.7639,
          0.4298,
          0.6405,
          0.946,
          0.7254,
          0.6841,
          null,
          0.4588,
          null,
          null,
          null,
          null,
          0.8842,
          0.6624,
          null,
          0.7913,
          0.877,
          0.8463,
          null,
          null,
          0.877,
          0.8706,
          null,
          0.6265,
          0.808,
          0.3135,
          0.8474,
          0.9992,
          0.561,
          0.869,
          0.6734,
          0.6667,
          0.9373,
          null,
          null,
          0.8913,
          null,
          0.5979,
          0.9,
          0.7831,
          0.9929,
          null,
          0.9514,
          null,
          0.5698,
          0.91,
          0.1866,
          0.831,
          0.4752,
          0.9269,
          0.8838,
          null,
          0.4906,
          0.8632,
          null,
          0.527,
          0.9913,
          null,
          0.8269,
          null,
          0.9519,
          null,
          null,
          null,
          null,
          null,
          0.7439,
          null,
          null,
          0.9364,
          null,
          null,
          0.9091,
          0.4302,
          0.6963,
          0.6448,
          null,
          0.6785,
          null,
          null
         ],
         "xaxis": "x",
         "y": [
          null,
          null,
          null,
          1409,
          1104,
          null,
          null,
          null,
          null,
          1235,
          null,
          1480,
          1057,
          1127,
          1335,
          1179,
          1113,
          null,
          1107,
          1221,
          null,
          1232,
          1440,
          1111,
          1308,
          null,
          1191,
          null,
          1157,
          1322,
          null,
          1197,
          1222,
          null,
          1051,
          null,
          1192,
          null,
          1118,
          1051,
          1189,
          1153,
          1088,
          null,
          1221,
          null,
          null,
          1295,
          1461,
          null,
          1138,
          1454,
          1255,
          1376,
          1198,
          1505,
          1104,
          1056,
          null,
          1092,
          null,
          1473,
          1273,
          null,
          1140,
          1147,
          1105,
          1090,
          1355,
          1199,
          1215,
          1150,
          null,
          1249,
          null,
          1147,
          1158,
          null,
          1120,
          1192,
          null,
          1092,
          null,
          null,
          1217,
          null,
          1197,
          1016,
          1080,
          1374,
          null,
          1090,
          1031,
          1527,
          null,
          null,
          null,
          null,
          null,
          null,
          null,
          null,
          null,
          null,
          1527,
          1370,
          1218,
          1193,
          1426,
          1288,
          1410,
          1359,
          null,
          1187,
          null,
          null,
          1050,
          1449,
          1162,
          1190,
          1370,
          1266,
          null,
          1114,
          1116,
          1252,
          null,
          null,
          null,
          1093,
          1312,
          1386,
          1188,
          null,
          1199,
          1090,
          1145,
          1240,
          null,
          null,
          1271,
          null,
          null,
          1333,
          1308,
          1546,
          null,
          1380,
          null,
          1165,
          null,
          1178,
          1341,
          1304,
          1090,
          1120,
          1299,
          null,
          1347,
          null,
          null,
          null,
          null,
          1038,
          1241,
          null,
          1127,
          1020,
          1056,
          null,
          null,
          1090,
          1061,
          null,
          1281,
          1112,
          1373,
          1304,
          982,
          1307,
          1111,
          1198,
          1376,
          1187,
          null,
          null,
          1236,
          null,
          1358,
          1255,
          1241,
          null,
          null,
          1172,
          null,
          1337,
          1170,
          1487,
          null,
          null,
          1257,
          1116,
          null,
          1374,
          1090,
          null,
          1354,
          950,
          null,
          null,
          null,
          null,
          null,
          null,
          null,
          null,
          null,
          1114,
          null,
          null,
          null,
          null,
          null,
          null,
          1085,
          1083,
          null,
          null,
          1133,
          null,
          null
         ],
         "yaxis": "y"
        }
       ],
       "layout": {
        "autosize": true,
        "coloraxis": {
         "colorbar": {
          "title": {
           "text": "size"
          }
         },
         "colorscale": [
          [
           0,
           "#0d0887"
          ],
          [
           0.1111111111111111,
           "#46039f"
          ],
          [
           0.2222222222222222,
           "#7201a8"
          ],
          [
           0.3333333333333333,
           "#9c179e"
          ],
          [
           0.4444444444444444,
           "#bd3786"
          ],
          [
           0.5555555555555556,
           "#d8576b"
          ],
          [
           0.6666666666666666,
           "#ed7953"
          ],
          [
           0.7777777777777778,
           "#fb9f3a"
          ],
          [
           0.8888888888888888,
           "#fdca26"
          ],
          [
           1,
           "#f0f921"
          ]
         ]
        },
        "legend": {
         "tracegroupgap": 0
        },
        "template": {
         "data": {
          "bar": [
           {
            "error_x": {
             "color": "#2a3f5f"
            },
            "error_y": {
             "color": "#2a3f5f"
            },
            "marker": {
             "line": {
              "color": "#E5ECF6",
              "width": 0.5
             },
             "pattern": {
              "fillmode": "overlay",
              "size": 10,
              "solidity": 0.2
             }
            },
            "type": "bar"
           }
          ],
          "barpolar": [
           {
            "marker": {
             "line": {
              "color": "#E5ECF6",
              "width": 0.5
             },
             "pattern": {
              "fillmode": "overlay",
              "size": 10,
              "solidity": 0.2
             }
            },
            "type": "barpolar"
           }
          ],
          "carpet": [
           {
            "aaxis": {
             "endlinecolor": "#2a3f5f",
             "gridcolor": "white",
             "linecolor": "white",
             "minorgridcolor": "white",
             "startlinecolor": "#2a3f5f"
            },
            "baxis": {
             "endlinecolor": "#2a3f5f",
             "gridcolor": "white",
             "linecolor": "white",
             "minorgridcolor": "white",
             "startlinecolor": "#2a3f5f"
            },
            "type": "carpet"
           }
          ],
          "choropleth": [
           {
            "colorbar": {
             "outlinewidth": 0,
             "ticks": ""
            },
            "type": "choropleth"
           }
          ],
          "contour": [
           {
            "colorbar": {
             "outlinewidth": 0,
             "ticks": ""
            },
            "colorscale": [
             [
              0,
              "#0d0887"
             ],
             [
              0.1111111111111111,
              "#46039f"
             ],
             [
              0.2222222222222222,
              "#7201a8"
             ],
             [
              0.3333333333333333,
              "#9c179e"
             ],
             [
              0.4444444444444444,
              "#bd3786"
             ],
             [
              0.5555555555555556,
              "#d8576b"
             ],
             [
              0.6666666666666666,
              "#ed7953"
             ],
             [
              0.7777777777777778,
              "#fb9f3a"
             ],
             [
              0.8888888888888888,
              "#fdca26"
             ],
             [
              1,
              "#f0f921"
             ]
            ],
            "type": "contour"
           }
          ],
          "contourcarpet": [
           {
            "colorbar": {
             "outlinewidth": 0,
             "ticks": ""
            },
            "type": "contourcarpet"
           }
          ],
          "heatmap": [
           {
            "colorbar": {
             "outlinewidth": 0,
             "ticks": ""
            },
            "colorscale": [
             [
              0,
              "#0d0887"
             ],
             [
              0.1111111111111111,
              "#46039f"
             ],
             [
              0.2222222222222222,
              "#7201a8"
             ],
             [
              0.3333333333333333,
              "#9c179e"
             ],
             [
              0.4444444444444444,
              "#bd3786"
             ],
             [
              0.5555555555555556,
              "#d8576b"
             ],
             [
              0.6666666666666666,
              "#ed7953"
             ],
             [
              0.7777777777777778,
              "#fb9f3a"
             ],
             [
              0.8888888888888888,
              "#fdca26"
             ],
             [
              1,
              "#f0f921"
             ]
            ],
            "type": "heatmap"
           }
          ],
          "heatmapgl": [
           {
            "colorbar": {
             "outlinewidth": 0,
             "ticks": ""
            },
            "colorscale": [
             [
              0,
              "#0d0887"
             ],
             [
              0.1111111111111111,
              "#46039f"
             ],
             [
              0.2222222222222222,
              "#7201a8"
             ],
             [
              0.3333333333333333,
              "#9c179e"
             ],
             [
              0.4444444444444444,
              "#bd3786"
             ],
             [
              0.5555555555555556,
              "#d8576b"
             ],
             [
              0.6666666666666666,
              "#ed7953"
             ],
             [
              0.7777777777777778,
              "#fb9f3a"
             ],
             [
              0.8888888888888888,
              "#fdca26"
             ],
             [
              1,
              "#f0f921"
             ]
            ],
            "type": "heatmapgl"
           }
          ],
          "histogram": [
           {
            "marker": {
             "pattern": {
              "fillmode": "overlay",
              "size": 10,
              "solidity": 0.2
             }
            },
            "type": "histogram"
           }
          ],
          "histogram2d": [
           {
            "colorbar": {
             "outlinewidth": 0,
             "ticks": ""
            },
            "colorscale": [
             [
              0,
              "#0d0887"
             ],
             [
              0.1111111111111111,
              "#46039f"
             ],
             [
              0.2222222222222222,
              "#7201a8"
             ],
             [
              0.3333333333333333,
              "#9c179e"
             ],
             [
              0.4444444444444444,
              "#bd3786"
             ],
             [
              0.5555555555555556,
              "#d8576b"
             ],
             [
              0.6666666666666666,
              "#ed7953"
             ],
             [
              0.7777777777777778,
              "#fb9f3a"
             ],
             [
              0.8888888888888888,
              "#fdca26"
             ],
             [
              1,
              "#f0f921"
             ]
            ],
            "type": "histogram2d"
           }
          ],
          "histogram2dcontour": [
           {
            "colorbar": {
             "outlinewidth": 0,
             "ticks": ""
            },
            "colorscale": [
             [
              0,
              "#0d0887"
             ],
             [
              0.1111111111111111,
              "#46039f"
             ],
             [
              0.2222222222222222,
              "#7201a8"
             ],
             [
              0.3333333333333333,
              "#9c179e"
             ],
             [
              0.4444444444444444,
              "#bd3786"
             ],
             [
              0.5555555555555556,
              "#d8576b"
             ],
             [
              0.6666666666666666,
              "#ed7953"
             ],
             [
              0.7777777777777778,
              "#fb9f3a"
             ],
             [
              0.8888888888888888,
              "#fdca26"
             ],
             [
              1,
              "#f0f921"
             ]
            ],
            "type": "histogram2dcontour"
           }
          ],
          "mesh3d": [
           {
            "colorbar": {
             "outlinewidth": 0,
             "ticks": ""
            },
            "type": "mesh3d"
           }
          ],
          "parcoords": [
           {
            "line": {
             "colorbar": {
              "outlinewidth": 0,
              "ticks": ""
             }
            },
            "type": "parcoords"
           }
          ],
          "pie": [
           {
            "automargin": true,
            "type": "pie"
           }
          ],
          "scatter": [
           {
            "fillpattern": {
             "fillmode": "overlay",
             "size": 10,
             "solidity": 0.2
            },
            "type": "scatter"
           }
          ],
          "scatter3d": [
           {
            "line": {
             "colorbar": {
              "outlinewidth": 0,
              "ticks": ""
             }
            },
            "marker": {
             "colorbar": {
              "outlinewidth": 0,
              "ticks": ""
             }
            },
            "type": "scatter3d"
           }
          ],
          "scattercarpet": [
           {
            "marker": {
             "colorbar": {
              "outlinewidth": 0,
              "ticks": ""
             }
            },
            "type": "scattercarpet"
           }
          ],
          "scattergeo": [
           {
            "marker": {
             "colorbar": {
              "outlinewidth": 0,
              "ticks": ""
             }
            },
            "type": "scattergeo"
           }
          ],
          "scattergl": [
           {
            "marker": {
             "colorbar": {
              "outlinewidth": 0,
              "ticks": ""
             }
            },
            "type": "scattergl"
           }
          ],
          "scattermapbox": [
           {
            "marker": {
             "colorbar": {
              "outlinewidth": 0,
              "ticks": ""
             }
            },
            "type": "scattermapbox"
           }
          ],
          "scatterpolar": [
           {
            "marker": {
             "colorbar": {
              "outlinewidth": 0,
              "ticks": ""
             }
            },
            "type": "scatterpolar"
           }
          ],
          "scatterpolargl": [
           {
            "marker": {
             "colorbar": {
              "outlinewidth": 0,
              "ticks": ""
             }
            },
            "type": "scatterpolargl"
           }
          ],
          "scatterternary": [
           {
            "marker": {
             "colorbar": {
              "outlinewidth": 0,
              "ticks": ""
             }
            },
            "type": "scatterternary"
           }
          ],
          "surface": [
           {
            "colorbar": {
             "outlinewidth": 0,
             "ticks": ""
            },
            "colorscale": [
             [
              0,
              "#0d0887"
             ],
             [
              0.1111111111111111,
              "#46039f"
             ],
             [
              0.2222222222222222,
              "#7201a8"
             ],
             [
              0.3333333333333333,
              "#9c179e"
             ],
             [
              0.4444444444444444,
              "#bd3786"
             ],
             [
              0.5555555555555556,
              "#d8576b"
             ],
             [
              0.6666666666666666,
              "#ed7953"
             ],
             [
              0.7777777777777778,
              "#fb9f3a"
             ],
             [
              0.8888888888888888,
              "#fdca26"
             ],
             [
              1,
              "#f0f921"
             ]
            ],
            "type": "surface"
           }
          ],
          "table": [
           {
            "cells": {
             "fill": {
              "color": "#EBF0F8"
             },
             "line": {
              "color": "white"
             }
            },
            "header": {
             "fill": {
              "color": "#C8D4E3"
             },
             "line": {
              "color": "white"
             }
            },
            "type": "table"
           }
          ]
         },
         "layout": {
          "annotationdefaults": {
           "arrowcolor": "#2a3f5f",
           "arrowhead": 0,
           "arrowwidth": 1
          },
          "autotypenumbers": "strict",
          "coloraxis": {
           "colorbar": {
            "outlinewidth": 0,
            "ticks": ""
           }
          },
          "colorscale": {
           "diverging": [
            [
             0,
             "#8e0152"
            ],
            [
             0.1,
             "#c51b7d"
            ],
            [
             0.2,
             "#de77ae"
            ],
            [
             0.3,
             "#f1b6da"
            ],
            [
             0.4,
             "#fde0ef"
            ],
            [
             0.5,
             "#f7f7f7"
            ],
            [
             0.6,
             "#e6f5d0"
            ],
            [
             0.7,
             "#b8e186"
            ],
            [
             0.8,
             "#7fbc41"
            ],
            [
             0.9,
             "#4d9221"
            ],
            [
             1,
             "#276419"
            ]
           ],
           "sequential": [
            [
             0,
             "#0d0887"
            ],
            [
             0.1111111111111111,
             "#46039f"
            ],
            [
             0.2222222222222222,
             "#7201a8"
            ],
            [
             0.3333333333333333,
             "#9c179e"
            ],
            [
             0.4444444444444444,
             "#bd3786"
            ],
            [
             0.5555555555555556,
             "#d8576b"
            ],
            [
             0.6666666666666666,
             "#ed7953"
            ],
            [
             0.7777777777777778,
             "#fb9f3a"
            ],
            [
             0.8888888888888888,
             "#fdca26"
            ],
            [
             1,
             "#f0f921"
            ]
           ],
           "sequentialminus": [
            [
             0,
             "#0d0887"
            ],
            [
             0.1111111111111111,
             "#46039f"
            ],
            [
             0.2222222222222222,
             "#7201a8"
            ],
            [
             0.3333333333333333,
             "#9c179e"
            ],
            [
             0.4444444444444444,
             "#bd3786"
            ],
            [
             0.5555555555555556,
             "#d8576b"
            ],
            [
             0.6666666666666666,
             "#ed7953"
            ],
            [
             0.7777777777777778,
             "#fb9f3a"
            ],
            [
             0.8888888888888888,
             "#fdca26"
            ],
            [
             1,
             "#f0f921"
            ]
           ]
          },
          "colorway": [
           "#636efa",
           "#EF553B",
           "#00cc96",
           "#ab63fa",
           "#FFA15A",
           "#19d3f3",
           "#FF6692",
           "#B6E880",
           "#FF97FF",
           "#FECB52"
          ],
          "font": {
           "color": "#2a3f5f"
          },
          "geo": {
           "bgcolor": "white",
           "lakecolor": "white",
           "landcolor": "#E5ECF6",
           "showlakes": true,
           "showland": true,
           "subunitcolor": "white"
          },
          "hoverlabel": {
           "align": "left"
          },
          "hovermode": "closest",
          "mapbox": {
           "style": "light"
          },
          "paper_bgcolor": "white",
          "plot_bgcolor": "#E5ECF6",
          "polar": {
           "angularaxis": {
            "gridcolor": "white",
            "linecolor": "white",
            "ticks": ""
           },
           "bgcolor": "#E5ECF6",
           "radialaxis": {
            "gridcolor": "white",
            "linecolor": "white",
            "ticks": ""
           }
          },
          "scene": {
           "xaxis": {
            "backgroundcolor": "#E5ECF6",
            "gridcolor": "white",
            "gridwidth": 2,
            "linecolor": "white",
            "showbackground": true,
            "ticks": "",
            "zerolinecolor": "white"
           },
           "yaxis": {
            "backgroundcolor": "#E5ECF6",
            "gridcolor": "white",
            "gridwidth": 2,
            "linecolor": "white",
            "showbackground": true,
            "ticks": "",
            "zerolinecolor": "white"
           },
           "zaxis": {
            "backgroundcolor": "#E5ECF6",
            "gridcolor": "white",
            "gridwidth": 2,
            "linecolor": "white",
            "showbackground": true,
            "ticks": "",
            "zerolinecolor": "white"
           }
          },
          "shapedefaults": {
           "line": {
            "color": "#2a3f5f"
           }
          },
          "ternary": {
           "aaxis": {
            "gridcolor": "white",
            "linecolor": "white",
            "ticks": ""
           },
           "baxis": {
            "gridcolor": "white",
            "linecolor": "white",
            "ticks": ""
           },
           "bgcolor": "#E5ECF6",
           "caxis": {
            "gridcolor": "white",
            "linecolor": "white",
            "ticks": ""
           }
          },
          "title": {
           "x": 0.05
          },
          "xaxis": {
           "automargin": true,
           "gridcolor": "white",
           "linecolor": "white",
           "ticks": "",
           "title": {
            "standoff": 15
           },
           "zerolinecolor": "white",
           "zerolinewidth": 2
          },
          "yaxis": {
           "automargin": true,
           "gridcolor": "white",
           "linecolor": "white",
           "ticks": "",
           "title": {
            "standoff": 15
           },
           "zerolinecolor": "white",
           "zerolinewidth": 2
          }
         }
        },
        "title": {
         "text": "Admission Rate vs Average SAT Score"
        },
        "xaxis": {
         "anchor": "y",
         "autorange": true,
         "domain": [
          0,
          1
         ],
         "range": [
          0.008782196339434285,
          1.0554178036605657
         ],
         "title": {
          "text": "admin_rate"
         },
         "type": "linear"
        },
        "yaxis": {
         "anchor": "x",
         "autorange": true,
         "domain": [
          0,
          1
         ],
         "range": [
          900.8155339805825,
          1595.1844660194174
         ],
         "title": {
          "text": "avg_SAT"
         },
         "type": "linear"
        }
       }
      },
      "image/png": "[encoded data removed]",
      "text/html": [
       "<div>                            <div id=\"0198167d-fb68-4f35-be5e-c9216e104201\" class=\"plotly-graph-div\" style=\"height:525px; width:100%;\"></div>            <script type=\"text/javascript\">                require([\"plotly\"], function(Plotly) {                    window.PLOTLYENV=window.PLOTLYENV || {};                                    if (document.getElementById(\"0198167d-fb68-4f35-be5e-c9216e104201\")) {                    Plotly.newPlot(                        \"0198167d-fb68-4f35-be5e-c9216e104201\",                        [{\"hovertemplate\":\"\\u003cb\\u003e%{hovertext}\\u003c\\u002fb\\u003e\\u003cbr\\u003e\\u003cbr\\u003eadmin_rate=%{x}\\u003cbr\\u003eavg_SAT=%{y}\\u003cbr\\u003esize=%{marker.color}\\u003cextra\\u003e\\u003c\\u002fextra\\u003e\",\"hovertext\":[\"Indian River State College\",\"Keiser University-Ft Lauderdale\",\"Miami Dade College\",\"University of Miami\",\"University of North Florida\",\"Palm Beach State College\",\"St Petersburg College\",\"Santa Fe College\",\"Seminole State College of Florida\",\"University of South Florida\",\"Valencia College\",\"Georgia Institute of Technology-Main Campus\",\"Georgia Southern University\",\"Georgia State University\",\"University of Georgia\",\"Savannah College of Art and Design\",\"University of Hawaii at Manoa\",\"Boise State University\",\"Brigham Young University-Idaho\",\"DePaul University\",\"College of DuPage\",\"University of Illinois Chicago\",\"University of Illinois Urbana-Champaign\",\"Illinois State University\",\"Loyola University Chicago\",\"Northern Illinois University\",\"Ball State University\",\"Ivy Tech Community College\",\"Indiana University-Purdue University-Indianapolis\",\"Indiana University-Bloomington\",\"Des Moines Area Community College\",\"Iowa State University\",\"University of Iowa\",\"Ashford University\",\"Fort Hays State University\",\"Johnson County Community College\",\"University of Kansas\",\"Kansas State University\",\"Wichita State University\",\"Eastern Kentucky University\",\"University of Kentucky\",\"University of Louisville\",\"Western Kentucky University\",\"Delgado Community College\",\"Louisiana State University and Agricultural & Mechanical College\",\"University of Louisiana at Lafayette\",\"University of Maryland Global Campus\",\"University of Maryland-Baltimore County\",\"University of Maryland-College Park\",\"Montgomery College\",\"Towson University\",\"Boston University\",\"University of Massachusetts-Lowell\",\"University of Massachusetts-Amherst\",\"University of Massachusetts-Boston\",\"Northeastern University\",\"Central Michigan University\",\"Eastern Michigan University\",\"Grand Rapids Community College\",\"Grand Valley State University\",\"Macomb Community College\",\"University of Michigan-Ann Arbor\",\"Michigan State University\",\"Oakland Community College\",\"Oakland University\",\"Wayne State University\",\"Western Michigan University\",\"Minnesota State University-Mankato\",\"University of Minnesota-Twin Cities\",\"University of Mississippi\",\"Mississippi State University\",\"University of Southern Mississippi\",\"Metropolitan Community College-Kansas City\",\"University of Missouri-Columbia\",\"Saint Louis Community College\",\"Missouri State University-Springfield\",\"Montana State University\",\"Bellevue University\",\"University of Nebraska at Omaha\",\"University of Nebraska-Lincoln\",\"College of Southern Nevada\",\"University of Nevada-Las Vegas\",\"University of Nevada-Reno\",\"Southern New Hampshire University\",\"University of New Hampshire-Main Campus\",\"Bergen Community College\",\"Rowan University\",\"Kean University\",\"Montclair State University\",\"Rutgers University-New Brunswick\",\"Central New Mexico Community College\",\"University of New Mexico-Main Campus\",\"New Mexico State University-Main Campus\",\"Cornell University\",\"CUNY Bernard M Baruch College\",\"CUNY Borough of Manhattan Community College\",\"CUNY Brooklyn College\",\"CUNY City College\",\"CUNY Hunter College\",\"CUNY John Jay College of Criminal Justice\",\"CUNY Lehman College\",\"CUNY New York City College of Technology\",\"CUNY Queens College\",\"Nassau Community College\",\"New York University\",\"Rochester Institute of Technology\",\"St. John's University-New York\",\"SUNY at Albany\",\"Binghamton University\",\"University at Buffalo\",\"Stony Brook University\",\"Syracuse University\",\"Excelsior University\",\"Appalachian State University\",\"Central Piedmont Community College\",\"East Carolina University\",\"North Carolina A & T State University\",\"University of North Carolina at Chapel Hill\",\"University of North Carolina at Charlotte\",\"University of North Carolina at Greensboro\",\"North Carolina State University at Raleigh\",\"University of North Carolina Wilmington\",\"Wake Technical Community College\",\"University of Akron Main Campus\",\"Bowling Green State University-Main Campus\",\"University of Cincinnati-Main Campus\",\"Columbus State Community College\",\"Cuyahoga Community College District\",\"Eastern Gateway Community College\",\"Kent State University at Kent\",\"Miami University-Oxford\",\"Ohio State University-Main Campus\",\"Ohio University-Main Campus\",\"Sinclair Community College\",\"University of Toledo\",\"University of Central Oklahoma\",\"Oklahoma State University-Main Campus\",\"University of Oklahoma-Norman Campus\",\"Tulsa Community College\",\"Oregon State University\",\"University of Oregon\",\"Portland Community College\",\"Portland State University\",\"Drexel University\",\"Pennsylvania State University-Main Campus\",\"University of Pennsylvania\",\"Community College of Philadelphia\",\"University of Pittsburgh-Pittsburgh Campus\",\"Temple University\",\"West Chester University of Pennsylvania\",\"Community College of Rhode Island\",\"University of Rhode Island\",\"Clemson University\",\"University of South Carolina-Columbia\",\"University of Memphis\",\"Middle Tennessee State University\",\"The University of Tennessee-Knoxville\",\"Austin Community College District\",\"Baylor University\",\"Blinn College District\",\"Dallas College\",\"El Paso Community College\",\"Houston Community College\",\"University of Houston-Downtown\",\"University of Houston\",\"Lone Star College System\",\"University of North Texas\",\"The University of Texas Rio Grande Valley\",\"Sam Houston State University\",\"San Antonio College\",\"San Jacinto Community College\",\"Texas State University\",\"Tarleton State University\",\"Tarrant County College District\",\"Texas A & M University-College Station\",\"The University of Texas at Arlington\",\"The University of Texas at Austin\",\"The University of Texas at Dallas\",\"The University of Texas at El Paso\",\"Texas Christian University\",\"The University of Texas at San Antonio\",\"Texas Tech University\",\"Brigham Young University\",\"Utah State University\",\"Utah Valley University\",\"Salt Lake Community College\",\"University of Utah\",\"Weber State University\",\"University of Vermont\",\"George Mason University\",\"James Madison University\",\"Liberty University\",\"Northern Virginia Community College\",\"Old Dominion University\",\"Tidewater Community College\",\"Virginia Polytechnic Institute and State University\",\"Virginia Commonwealth University\",\"University of Virginia-Main Campus\",\"Washington State University\",\"University of Washington-Seattle Campus\",\"Western Washington University\",\"West Virginia University\",\"Milwaukee Area Technical College\",\"University of Wisconsin-Madison\",\"University of Wisconsin-Milwaukee\",\"NUC University\",\"Purdue University-Main Campus\",\"Georgia State University-Perimeter College\",\"Collin County Community College District\",\"ECPI University\",\"Suffolk County Community College\",\"California State University-San Marcos\",\"Santiago Canyon College\",\"South Texas College\",\"Capella University\",\"Northwest Vista College\",\"Western Governors University\",\"Florida Gulf Coast University\",\"Community College of Baltimore County\",\"American InterContinental University\",\"Georgia Gwinnett College\",\"American Public University System\",\"Columbia Southern University\",\"Chamberlain University-Illinois\",\"DeVry University-Illinois\",\"University of North Georgia\",\"Arizona State University Digital Immersion\",\"University of Phoenix-Arizona\",\"Kennesaw State University\",\"University of the People\",\"Purdue University Global\"],\"legendgroup\":\"\",\"marker\":{\"color\":[11481,16649,40538,12215,13866,20378,18984,11038,11898,36763,35867,17379,20996,28439,30566,13352,13915,16979,42213,13968,14402,21567,34031,18019,11626,11408,13466,51796,17278,35401,10110,24994,21545,26113,10066,10296,18539,14762,10304,11215,22115,13822,12149,11286,27729,11932,44458,10557,29982,13357,16734,17668,11985,24111,11749,16172,10297,11206,10272,18487,14356,32448,39021,11503,12626,15669,13264,11354,30560,17157,18154,10149,10586,23206,11240,13332,14343,10318,11866,19097,27254,24329,15896,138138,11396,10011,14914,10524,16902,36090,15556,15642,11065,15676,15554,16302,10785,11481,16549,11726,10485,12312,13513,10540,29136,13152,10081,12175,14398,20569,17406,15071,13983,18467,13522,20385,11553,19921,23063,13862,25109,13960,18002,10099,12223,27880,16212,11634,28674,19179,16721,45140,17611,12623,10787,10400,20362,20842,11481,28407,19443,17823,14299,13933,41417,10572,10821,19954,23697,14014,11271,13828,22467,26840,14181,16239,26905,25332,15134,15721,34709,24129,37871,12752,37080,47486,33023,26420,18184,15568,22790,33834,11880,38915,56792,30503,40980,21586,20123,10510,29112,32346,31411,20573,26961,17290,25392,15540,11326,26447,19968,48408,32211,18152,12161,30339,20552,17103,22265,30931,13686,18370,11082,35184,17076,25359,38438,12980,25111,11275,13825,13844,10419,17846,13275,12964,112807,13788,13223,10317,10451,37569,11208,11535,23164,15815,46412,66792,38051,16253,33339],\"coloraxis\":\"coloraxis\",\"symbol\":\"circle\"},\"mode\":\"markers\",\"name\":\"\",\"orientation\":\"v\",\"showlegend\":false,\"x\":[null,0.9653,null,0.1894,0.705,null,null,null,null,0.4393,null,0.1713,0.8889,0.6678,0.4255,0.8173,0.7277,0.8393,0.9556,0.7017,null,0.7869,0.4482,0.8624,0.7915,0.7068,0.6895,null,0.8289,0.8241,null,0.9022,0.86,null,0.8802,null,0.8784,0.9514,0.9485,0.6431,0.9489,0.8154,0.9695,null,0.7572,0.7456,null,0.8055,0.4461,null,0.786,0.1437,0.8595,0.6352,0.8076,0.068,0.7895,0.8323,null,0.9037,null,0.1769,0.8795,null,0.9005,0.7532,0.8455,0.7068,0.7491,0.9738,0.7519,0.9884,null,0.7913,null,0.9256,0.7333,null,0.8586,0.7864,null,0.8531,0.8562,0.9637,0.8699,null,0.7694,0.826,0.9131,0.6629,null,0.9607,0.7805,0.0747,0.4953,null,0.5454,0.666,0.4786,0.5066,0.5531,0.818,0.6948,null,0.1246,0.6717,0.8467,0.679,0.4175,0.6771,0.4914,0.5175,null,0.8308,null,0.9234,0.5639,0.1711,0.7964,0.9194,0.4717,0.6883,null,0.8287,0.7866,0.8622,null,null,null,0.8802,0.8792,0.5272,0.8652,null,0.9223,0.6994,0.7063,0.7292,null,0.8253,0.8629,null,0.9309,0.7961,0.5521,0.065,null,0.4914,0.797,0.8785,null,0.7639,0.4298,0.6405,0.946,0.7254,0.6841,null,0.4588,null,null,null,null,0.8842,0.6624,null,0.7913,0.877,0.8463,null,null,0.877,0.8706,null,0.6265,0.808,0.3135,0.8474,0.9992,0.561,0.869,0.6734,0.6667,0.9373,null,null,0.8913,null,0.5979,0.9,0.7831,0.9929,null,0.9514,null,0.5698,0.91,0.1866,0.831,0.4752,0.9269,0.8838,null,0.4906,0.8632,null,0.527,0.9913,null,0.8269,null,0.9519,null,null,null,null,null,0.7439,null,null,0.9364,null,null,0.9091,0.4302,0.6963,0.6448,null,0.6785,null,null],\"xaxis\":\"x\",\"y\":[null,null,null,1409.0,1104.0,null,null,null,null,1235.0,null,1480.0,1057.0,1127.0,1335.0,1179.0,1113.0,null,1107.0,1221.0,null,1232.0,1440.0,1111.0,1308.0,null,1191.0,null,1157.0,1322.0,null,1197.0,1222.0,null,1051.0,null,1192.0,null,1118.0,1051.0,1189.0,1153.0,1088.0,null,1221.0,null,null,1295.0,1461.0,null,1138.0,1454.0,1255.0,1376.0,1198.0,1505.0,1104.0,1056.0,null,1092.0,null,1473.0,1273.0,null,1140.0,1147.0,1105.0,1090.0,1355.0,1199.0,1215.0,1150.0,null,1249.0,null,1147.0,1158.0,null,1120.0,1192.0,null,1092.0,null,null,1217.0,null,1197.0,1016.0,1080.0,1374.0,null,1090.0,1031.0,1527.0,null,null,null,null,null,null,null,null,null,null,1527.0,1370.0,1218.0,1193.0,1426.0,1288.0,1410.0,1359.0,null,1187.0,null,null,1050.0,1449.0,1162.0,1190.0,1370.0,1266.0,null,1114.0,1116.0,1252.0,null,null,null,1093.0,1312.0,1386.0,1188.0,null,1199.0,1090.0,1145.0,1240.0,null,null,1271.0,null,null,1333.0,1308.0,1546.0,null,1380.0,null,1165.0,null,1178.0,1341.0,1304.0,1090.0,1120.0,1299.0,null,1347.0,null,null,null,null,1038.0,1241.0,null,1127.0,1020.0,1056.0,null,null,1090.0,1061.0,null,1281.0,1112.0,1373.0,1304.0,982.0,1307.0,1111.0,1198.0,1376.0,1187.0,null,null,1236.0,null,1358.0,1255.0,1241.0,null,null,1172.0,null,1337.0,1170.0,1487.0,null,null,1257.0,1116.0,null,1374.0,1090.0,null,1354.0,950.0,null,null,null,null,null,null,null,null,null,1114.0,null,null,null,null,null,null,1085.0,1083.0,null,null,1133.0,null,null],\"yaxis\":\"y\",\"type\":\"scatter\"}],                        {\"template\":{\"data\":{\"histogram2dcontour\":[{\"type\":\"histogram2dcontour\",\"colorbar\":{\"outlinewidth\":0,\"ticks\":\"\"},\"colorscale\":[[0.0,\"#0d0887\"],[0.1111111111111111,\"#46039f\"],[0.2222222222222222,\"#7201a8\"],[0.3333333333333333,\"#9c179e\"],[0.4444444444444444,\"#bd3786\"],[0.5555555555555556,\"#d8576b\"],[0.6666666666666666,\"#ed7953\"],[0.7777777777777778,\"#fb9f3a\"],[0.8888888888888888,\"#fdca26\"],[1.0,\"#f0f921\"]]}],\"choropleth\":[{\"type\":\"choropleth\",\"colorbar\":{\"outlinewidth\":0,\"ticks\":\"\"}}],\"histogram2d\":[{\"type\":\"histogram2d\",\"colorbar\":{\"outlinewidth\":0,\"ticks\":\"\"},\"colorscale\":[[0.0,\"#0d0887\"],[0.1111111111111111,\"#46039f\"],[0.2222222222222222,\"#7201a8\"],[0.3333333333333333,\"#9c179e\"],[0.4444444444444444,\"#bd3786\"],[0.5555555555555556,\"#d8576b\"],[0.6666666666666666,\"#ed7953\"],[0.7777777777777778,\"#fb9f3a\"],[0.8888888888888888,\"#fdca26\"],[1.0,\"#f0f921\"]]}],\"heatmap\":[{\"type\":\"heatmap\",\"colorbar\":{\"outlinewidth\":0,\"ticks\":\"\"},\"colorscale\":[[0.0,\"#0d0887\"],[0.1111111111111111,\"#46039f\"],[0.2222222222222222,\"#7201a8\"],[0.3333333333333333,\"#9c179e\"],[0.4444444444444444,\"#bd3786\"],[0.5555555555555556,\"#d8576b\"],[0.6666666666666666,\"#ed7953\"],[0.7777777777777778,\"#fb9f3a\"],[0.8888888888888888,\"#fdca26\"],[1.0,\"#f0f921\"]]}],\"heatmapgl\":[{\"type\":\"heatmapgl\",\"colorbar\":{\"outlinewidth\":0,\"ticks\":\"\"},\"colorscale\":[[0.0,\"#0d0887\"],[0.1111111111111111,\"#46039f\"],[0.2222222222222222,\"#7201a8\"],[0.3333333333333333,\"#9c179e\"],[0.4444444444444444,\"#bd3786\"],[0.5555555555555556,\"#d8576b\"],[0.6666666666666666,\"#ed7953\"],[0.7777777777777778,\"#fb9f3a\"],[0.8888888888888888,\"#fdca26\"],[1.0,\"#f0f921\"]]}],\"contourcarpet\":[{\"type\":\"contourcarpet\",\"colorbar\":{\"outlinewidth\":0,\"ticks\":\"\"}}],\"contour\":[{\"type\":\"contour\",\"colorbar\":{\"outlinewidth\":0,\"ticks\":\"\"},\"colorscale\":[[0.0,\"#0d0887\"],[0.1111111111111111,\"#46039f\"],[0.2222222222222222,\"#7201a8\"],[0.3333333333333333,\"#9c179e\"],[0.4444444444444444,\"#bd3786\"],[0.5555555555555556,\"#d8576b\"],[0.6666666666666666,\"#ed7953\"],[0.7777777777777778,\"#fb9f3a\"],[0.8888888888888888,\"#fdca26\"],[1.0,\"#f0f921\"]]}],\"surface\":[{\"type\":\"surface\",\"colorbar\":{\"outlinewidth\":0,\"ticks\":\"\"},\"colorscale\":[[0.0,\"#0d0887\"],[0.1111111111111111,\"#46039f\"],[0.2222222222222222,\"#7201a8\"],[0.3333333333333333,\"#9c179e\"],[0.4444444444444444,\"#bd3786\"],[0.5555555555555556,\"#d8576b\"],[0.6666666666666666,\"#ed7953\"],[0.7777777777777778,\"#fb9f3a\"],[0.8888888888888888,\"#fdca26\"],[1.0,\"#f0f921\"]]}],\"mesh3d\":[{\"type\":\"mesh3d\",\"colorbar\":{\"outlinewidth\":0,\"ticks\":\"\"}}],\"scatter\":[{\"fillpattern\":{\"fillmode\":\"overlay\",\"size\":10,\"solidity\":0.2},\"type\":\"scatter\"}],\"parcoords\":[{\"type\":\"parcoords\",\"line\":{\"colorbar\":{\"outlinewidth\":0,\"ticks\":\"\"}}}],\"scatterpolargl\":[{\"type\":\"scatterpolargl\",\"marker\":{\"colorbar\":{\"outlinewidth\":0,\"ticks\":\"\"}}}],\"bar\":[{\"error_x\":{\"color\":\"#2a3f5f\"},\"error_y\":{\"color\":\"#2a3f5f\"},\"marker\":{\"line\":{\"color\":\"#E5ECF6\",\"width\":0.5},\"pattern\":{\"fillmode\":\"overlay\",\"size\":10,\"solidity\":0.2}},\"type\":\"bar\"}],\"scattergeo\":[{\"type\":\"scattergeo\",\"marker\":{\"colorbar\":{\"outlinewidth\":0,\"ticks\":\"\"}}}],\"scatterpolar\":[{\"type\":\"scatterpolar\",\"marker\":{\"colorbar\":{\"outlinewidth\":0,\"ticks\":\"\"}}}],\"histogram\":[{\"marker\":{\"pattern\":{\"fillmode\":\"overlay\",\"size\":10,\"solidity\":0.2}},\"type\":\"histogram\"}],\"scattergl\":[{\"type\":\"scattergl\",\"marker\":{\"colorbar\":{\"outlinewidth\":0,\"ticks\":\"\"}}}],\"scatter3d\":[{\"type\":\"scatter3d\",\"line\":{\"colorbar\":{\"outlinewidth\":0,\"ticks\":\"\"}},\"marker\":{\"colorbar\":{\"outlinewidth\":0,\"ticks\":\"\"}}}],\"scattermapbox\":[{\"type\":\"scattermapbox\",\"marker\":{\"colorbar\":{\"outlinewidth\":0,\"ticks\":\"\"}}}],\"scatterternary\":[{\"type\":\"scatterternary\",\"marker\":{\"colorbar\":{\"outlinewidth\":0,\"ticks\":\"\"}}}],\"scattercarpet\":[{\"type\":\"scattercarpet\",\"marker\":{\"colorbar\":{\"outlinewidth\":0,\"ticks\":\"\"}}}],\"carpet\":[{\"aaxis\":{\"endlinecolor\":\"#2a3f5f\",\"gridcolor\":\"white\",\"linecolor\":\"white\",\"minorgridcolor\":\"white\",\"startlinecolor\":\"#2a3f5f\"},\"baxis\":{\"endlinecolor\":\"#2a3f5f\",\"gridcolor\":\"white\",\"linecolor\":\"white\",\"minorgridcolor\":\"white\",\"startlinecolor\":\"#2a3f5f\"},\"type\":\"carpet\"}],\"table\":[{\"cells\":{\"fill\":{\"color\":\"#EBF0F8\"},\"line\":{\"color\":\"white\"}},\"header\":{\"fill\":{\"color\":\"#C8D4E3\"},\"line\":{\"color\":\"white\"}},\"type\":\"table\"}],\"barpolar\":[{\"marker\":{\"line\":{\"color\":\"#E5ECF6\",\"width\":0.5},\"pattern\":{\"fillmode\":\"overlay\",\"size\":10,\"solidity\":0.2}},\"type\":\"barpolar\"}],\"pie\":[{\"automargin\":true,\"type\":\"pie\"}]},\"layout\":{\"autotypenumbers\":\"strict\",\"colorway\":[\"#636efa\",\"#EF553B\",\"#00cc96\",\"#ab63fa\",\"#FFA15A\",\"#19d3f3\",\"#FF6692\",\"#B6E880\",\"#FF97FF\",\"#FECB52\"],\"font\":{\"color\":\"#2a3f5f\"},\"hovermode\":\"closest\",\"hoverlabel\":{\"align\":\"left\"},\"paper_bgcolor\":\"white\",\"plot_bgcolor\":\"#E5ECF6\",\"polar\":{\"bgcolor\":\"#E5ECF6\",\"angularaxis\":{\"gridcolor\":\"white\",\"linecolor\":\"white\",\"ticks\":\"\"},\"radialaxis\":{\"gridcolor\":\"white\",\"linecolor\":\"white\",\"ticks\":\"\"}},\"ternary\":{\"bgcolor\":\"#E5ECF6\",\"aaxis\":{\"gridcolor\":\"white\",\"linecolor\":\"white\",\"ticks\":\"\"},\"baxis\":{\"gridcolor\":\"white\",\"linecolor\":\"white\",\"ticks\":\"\"},\"caxis\":{\"gridcolor\":\"white\",\"linecolor\":\"white\",\"ticks\":\"\"}},\"coloraxis\":{\"colorbar\":{\"outlinewidth\":0,\"ticks\":\"\"}},\"colorscale\":{\"sequential\":[[0.0,\"#0d0887\"],[0.1111111111111111,\"#46039f\"],[0.2222222222222222,\"#7201a8\"],[0.3333333333333333,\"#9c179e\"],[0.4444444444444444,\"#bd3786\"],[0.5555555555555556,\"#d8576b\"],[0.6666666666666666,\"#ed7953\"],[0.7777777777777778,\"#fb9f3a\"],[0.8888888888888888,\"#fdca26\"],[1.0,\"#f0f921\"]],\"sequentialminus\":[[0.0,\"#0d0887\"],[0.1111111111111111,\"#46039f\"],[0.2222222222222222,\"#7201a8\"],[0.3333333333333333,\"#9c179e\"],[0.4444444444444444,\"#bd3786\"],[0.5555555555555556,\"#d8576b\"],[0.6666666666666666,\"#ed7953\"],[0.7777777777777778,\"#fb9f3a\"],[0.8888888888888888,\"#fdca26\"],[1.0,\"#f0f921\"]],\"diverging\":[[0,\"#8e0152\"],[0.1,\"#c51b7d\"],[0.2,\"#de77ae\"],[0.3,\"#f1b6da\"],[0.4,\"#fde0ef\"],[0.5,\"#f7f7f7\"],[0.6,\"#e6f5d0\"],[0.7,\"#b8e186\"],[0.8,\"#7fbc41\"],[0.9,\"#4d9221\"],[1,\"#276419\"]]},\"xaxis\":{\"gridcolor\":\"white\",\"linecolor\":\"white\",\"ticks\":\"\",\"title\":{\"standoff\":15},\"zerolinecolor\":\"white\",\"automargin\":true,\"zerolinewidth\":2},\"yaxis\":{\"gridcolor\":\"white\",\"linecolor\":\"white\",\"ticks\":\"\",\"title\":{\"standoff\":15},\"zerolinecolor\":\"white\",\"automargin\":true,\"zerolinewidth\":2},\"scene\":{\"xaxis\":{\"backgroundcolor\":\"#E5ECF6\",\"gridcolor\":\"white\",\"linecolor\":\"white\",\"showbackground\":true,\"ticks\":\"\",\"zerolinecolor\":\"white\",\"gridwidth\":2},\"yaxis\":{\"backgroundcolor\":\"#E5ECF6\",\"gridcolor\":\"white\",\"linecolor\":\"white\",\"showbackground\":true,\"ticks\":\"\",\"zerolinecolor\":\"white\",\"gridwidth\":2},\"zaxis\":{\"backgroundcolor\":\"#E5ECF6\",\"gridcolor\":\"white\",\"linecolor\":\"white\",\"showbackground\":true,\"ticks\":\"\",\"zerolinecolor\":\"white\",\"gridwidth\":2}},\"shapedefaults\":{\"line\":{\"color\":\"#2a3f5f\"}},\"annotationdefaults\":{\"arrowcolor\":\"#2a3f5f\",\"arrowhead\":0,\"arrowwidth\":1},\"geo\":{\"bgcolor\":\"white\",\"landcolor\":\"#E5ECF6\",\"subunitcolor\":\"white\",\"showland\":true,\"showlakes\":true,\"lakecolor\":\"white\"},\"title\":{\"x\":0.05},\"mapbox\":{\"style\":\"light\"}}},\"xaxis\":{\"anchor\":\"y\",\"domain\":[0.0,1.0],\"title\":{\"text\":\"admin_rate\"}},\"yaxis\":{\"anchor\":\"x\",\"domain\":[0.0,1.0],\"title\":{\"text\":\"avg_SAT\"}},\"coloraxis\":{\"colorbar\":{\"title\":{\"text\":\"size\"}},\"colorscale\":[[0.0,\"#0d0887\"],[0.1111111111111111,\"#46039f\"],[0.2222222222222222,\"#7201a8\"],[0.3333333333333333,\"#9c179e\"],[0.4444444444444444,\"#bd3786\"],[0.5555555555555556,\"#d8576b\"],[0.6666666666666666,\"#ed7953\"],[0.7777777777777778,\"#fb9f3a\"],[0.8888888888888888,\"#fdca26\"],[1.0,\"#f0f921\"]]},\"legend\":{\"tracegroupgap\":0},\"title\":{\"text\":\"Admission Rate vs Average SAT Score\"}},                        {\"responsive\": true}                    ).then(function(){\n",
       "                            \n",
       "var gd = document.getElementById('0198167d-fb68-4f35-be5e-c9216e104201');\n",
       "var x = new MutationObserver(function (mutations, observer) {{\n",
       "        var display = window.getComputedStyle(gd).display;\n",
       "        if (!display || display === 'none') {{\n",
       "            console.log([gd, 'removed!']);\n",
       "            Plotly.purge(gd);\n",
       "            observer.disconnect();\n",
       "        }}\n",
       "}});\n",
       "\n",
       "// Listen for the removal of the full notebook cells\n",
       "var notebookContainer = gd.closest('#notebook-container');\n",
       "if (notebookContainer) {{\n",
       "    x.observe(notebookContainer, {childList: true});\n",
       "}}\n",
       "\n",
       "// Listen for the clearing of the current output cell\n",
       "var outputEl = gd.closest('.output');\n",
       "if (outputEl) {{\n",
       "    x.observe(outputEl, {childList: true});\n",
       "}}\n",
       "\n",
       "                        })                };                });            </script>        </div>"
      ]
     },
     "metadata": {},
     "output_type": "display_data"
    }
   ],
   "source": [
    "# ----- just a test plot using plotly \n",
    "import plotly.express as px\n",
    "\n",
    "# plot to see relationship between average SAT scores and admissions rate for colleges \n",
    "fig = px.scatter(college_df, x='admin_rate', y='avg_SAT', color='size', hover_name='name', title=\"Admission Rate vs Average SAT Score\")\n",
    "\n",
    "fig.show()"
   ]
  },
  {
   "cell_type": "markdown",
   "id": "e4059326",
   "metadata": {},
   "source": [
    "## Analysis/ML Plan:"
   ]
  },
  {
   "cell_type": "markdown",
   "id": "c793a610",
   "metadata": {},
   "source": [
    "Plan here"
   ]
  },
  {
   "cell_type": "code",
   "execution_count": null,
   "id": "cd2f827a",
   "metadata": {},
   "outputs": [],
   "source": []
  }
 ],
 "metadata": {
  "kernelspec": {
   "display_name": "Python 3 (ipykernel)",
   "language": "python",
   "name": "python3"
  },
  "language_info": {
   "codemirror_mode": {
    "name": "ipython",
    "version": 3
   },
   "file_extension": ".py",
   "mimetype": "text/x-python",
   "name": "python",
   "nbconvert_exporter": "python",
   "pygments_lexer": "ipython3",
   "version": "3.11.10"
  }
 },
 "nbformat": 4,
 "nbformat_minor": 5
}
