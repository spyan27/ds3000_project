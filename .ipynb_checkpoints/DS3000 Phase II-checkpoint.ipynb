{
 "cells": [
  {
   "cell_type": "markdown",
   "id": "4939929c",
   "metadata": {},
   "source": [
    "# Phase II: Data Curation, Exploratory Analysis and Plotting\n",
    "## Project Title Here\n",
    "\n",
    "- Team\n",
    "- John Rotondo, Spring Yan, Anne Hu, Evan Li"
   ]
  },
  {
   "cell_type": "markdown",
   "id": "709b10b9",
   "metadata": {},
   "source": [
    "## Project Goal:\n",
    "\n",
    "We are using the College Scorecard API to gather data on various colleges. The program we are designing will allow students to input their ACT or SAT scores along with their major of interest and any other needed information. Based on this input, the program will generate a customized list of colleges categorized as reach schools, target schools, and safety schools. These categories are based on the student’s academic profile and the best fit for the chosen major, helping students make informed decisions about which colleges to apply to."
   ]
  },
  {
   "cell_type": "markdown",
   "id": "c25d2059",
   "metadata": {},
   "source": [
    "## Pipeline Overview:\n",
    "\n",
    "Explain how we would scrape here"
   ]
  },
  {
   "cell_type": "markdown",
   "id": "bc170a78",
   "metadata": {},
   "source": [
    "### Pipeline:"
   ]
  },
  {
   "cell_type": "markdown",
   "id": "d7a6e5f5",
   "metadata": {},
   "source": [
    "#### 0. Imports:"
   ]
  },
  {
   "cell_type": "code",
   "execution_count": 1,
   "id": "915d699a",
   "metadata": {},
   "outputs": [],
   "source": [
    "import requests\n",
    "import os\n",
    "import random\n",
    "import time\n",
    "import json\n",
    "import pandas as pd\n",
    "import numpy as np\n",
    "from bs4 import BeautifulSoup\n",
    "\n",
    "# For plotting\n",
    "import matplotlib.pyplot as plt\n",
    "import seaborn as sns\n",
    "import plotly.express as px"
   ]
  },
  {
   "cell_type": "markdown",
   "id": "d349e9ee",
   "metadata": {},
   "source": [
    "#### 1. Query Generation:"
   ]
  },
  {
   "cell_type": "code",
   "execution_count": null,
   "id": "7442447c",
   "metadata": {},
   "outputs": [],
   "source": []
  },
  {
   "cell_type": "markdown",
   "id": "4107f60e",
   "metadata": {},
   "source": [
    "#### 2. Selenium Crawler:"
   ]
  },
  {
   "cell_type": "code",
   "execution_count": 2,
   "id": "f17e6083",
   "metadata": {},
   "outputs": [],
   "source": [
    "# Uses selenium library\n",
    "def open_browser():\n",
    "    '''\n",
    "    Opens a new automated browser window with all tell-tales of automated browser disabled\n",
    "    '''\n",
    "    options = webdriver.ChromeOptions()\n",
    "    options.add_argument(\"start-maximized\")\n",
    "    \n",
    "    # remove all signs of this being an automated browser\n",
    "    options.add_argument('--disable-blink-features=AutomationControlled')\n",
    "    options.add_experimental_option(\"excludeSwitches\", [\"enable-automation\"])\n",
    "    options.add_experimental_option('useAutomationExtension', False)\n",
    "\n",
    "    # open the browser with the new options\n",
    "    driver = webdriver.Chrome(options=options)\n",
    "    return driver"
   ]
  },
  {
   "cell_type": "code",
   "execution_count": 3,
   "id": "b1699490",
   "metadata": {},
   "outputs": [],
   "source": [
    "def load_website(driver, attempts = 5):\n",
    "    ..."
   ]
  },
  {
   "cell_type": "markdown",
   "id": "e65216d9",
   "metadata": {},
   "source": [
    "#### 3. Webscraping:"
   ]
  },
  {
   "cell_type": "code",
   "execution_count": 22,
   "id": "838e88fd",
   "metadata": {},
   "outputs": [
    {
     "name": "stdout",
     "output_type": "stream",
     "text": [
      "   School ID         School Name       City  SAT Average  ACT Average\n",
      "0     166027  Harvard University  Cambridge         1553           35\n"
     ]
    }
   ],
   "source": [
    "def find_school(school):\n",
    "    school_info = []\n",
    "    \n",
    "    # This is the URL and the key used to get access to the API.\n",
    "    url = 'https://api.data.gov/ed/collegescorecard/v1/schools'\n",
    "    key = 'eKqjIMsTr8NFbXbKmGecMsA1oebkdIPd3TlGeEGY'\n",
    "    \n",
    "    # Parameters for the API request\n",
    "    api_req = {\n",
    "        'api_key': key,\n",
    "        'school.name': school,\n",
    "        'fields': 'id,school.name,school.city,latest.admissions.sat_scores.average.overall,latest.admissions.act_scores.midpoint.cumulative'\n",
    "    }\n",
    "\n",
    "    # Gets the data from the College Scorecard API and turns it into json format\n",
    "    response = requests.get(url, params=api_req)\n",
    "\n",
    "    data = response.json()\n",
    "    \n",
    "    # Appending data to list for a school in the results\n",
    "    for x in data.get('results', []):\n",
    "        school_info.append({\n",
    "            'School ID': x.get('id'),\n",
    "            'School Name': x.get('school.name'),\n",
    "            'City': x.get('school.city'),\n",
    "            'SAT Average': x.get('latest.admissions.sat_scores.average.overall'),\n",
    "            'ACT Average': x.get('latest.admissions.act_scores.midpoint.cumulative')\n",
    "        })\n",
    "\n",
    "    # Turn the list to a DataFrame\n",
    "    df = pd.DataFrame(school_info)\n",
    "    return df\n",
    "\n",
    "df = find_school('Harvard')\n",
    "print(df)"
   ]
  },
  {
   "cell_type": "code",
   "execution_count": 32,
   "id": "b2253721-96b9-4a09-a6b7-b4e99449f437",
   "metadata": {},
   "outputs": [],
   "source": [
    "# ----- To get school dataframe\n",
    "key = 'eKqjIMsTr8NFbXbKmGecMsA1oebkdIPd3TlGeEGY'\n",
    "URL = f'https://api.data.gov/ed/collegescorecard/v1/schools?api_key={key}'"
   ]
  },
  {
   "cell_type": "code",
   "execution_count": 150,
   "id": "d38db481-0be7-412b-a5e1-b5830db574d5",
   "metadata": {},
   "outputs": [
    {
     "data": {
      "text/plain": [
       "{'legal': 0,\n",
       " 'health': 0,\n",
       " 'english': 1,\n",
       " 'history': 0,\n",
       " 'library': 0,\n",
       " 'computer': 1,\n",
       " 'language': 0,\n",
       " 'military': 0,\n",
       " 'education': 1,\n",
       " 'resources': 1,\n",
       " 'biological': 1,\n",
       " 'humanities': 1,\n",
       " 'psychology': 1,\n",
       " 'agriculture': 1,\n",
       " 'engineering': 1,\n",
       " 'mathematics': 1,\n",
       " 'architecture': 1,\n",
       " 'construction': 0,\n",
       " 'communication': 0,\n",
       " 'social_science': 1,\n",
       " 'transportation': 0,\n",
       " 'multidiscipline': 0,\n",
       " 'physical_science': 1,\n",
       " 'personal_culinary': 0,\n",
       " 'visual_performing': 1,\n",
       " 'business_marketing': 1,\n",
       " 'science_technology': 0,\n",
       " 'philosophy_religious': 0,\n",
       " 'precision_production': 0,\n",
       " 'engineering_technology': 1,\n",
       " 'ethnic_cultural_gender': 0,\n",
       " 'family_consumer_science': 1,\n",
       " 'parks_recreation_fitness': 1,\n",
       " 'security_law_enforcement': 1,\n",
       " 'communications_technology': 1,\n",
       " 'mechanic_repair_technology': 0,\n",
       " 'theology_religious_vocation': 0,\n",
       " 'public_administration_social_service': 1}"
      ]
     },
     "execution_count": 150,
     "metadata": {},
     "output_type": "execute_result"
    }
   ],
   "source": [
    "response = requests.get(URL)\n",
    "data = response.json()\n",
    "\n",
    "# --------- note: has # of students enrolled in each major, \n",
    "# -------- how to put this into a single data frame if each school has a different list of majors?\n",
    "data['results'][0]['latest']['academics']['program']['bachelors'] # ------ this gets all the major counts "
   ]
  },
  {
   "cell_type": "code",
   "execution_count": 54,
   "id": "81a725f1-a1f3-46c8-b51e-0dc5ced4bd36",
   "metadata": {},
   "outputs": [
    {
     "data": {
      "text/plain": [
       "18"
      ]
     },
     "execution_count": 54,
     "metadata": {},
     "output_type": "execute_result"
    }
   ],
   "source": [
    "# ----- interesting could be financial aid component - FAFSA applications recieved, tuition \n",
    "# --- for first college = Alabama A&M University \n",
    "data['results'][0]['latest']['admissions']['admission_rate']['overall'] # ----- get admissions rate \n",
    "data['results'][0]['latest']['admissions']['sat_scores']['average']['overall'] # --- avg sat score \n",
    "data['results'][0]['latest']['admissions']['act_scores']['midpoint']['cumulative'] # ----- avg act score"
   ]
  },
  {
   "cell_type": "code",
   "execution_count": 56,
   "id": "1deeb5f6-a3ac-4965-903a-8f057a220fa9",
   "metadata": {},
   "outputs": [
    {
     "data": {
      "text/plain": [
       "20"
      ]
     },
     "execution_count": 56,
     "metadata": {},
     "output_type": "execute_result"
    }
   ],
   "source": [
    "len(data['results'])"
   ]
  },
  {
   "cell_type": "code",
   "execution_count": 126,
   "id": "130eeb1a-33c1-4f29-9355-3585696d596f",
   "metadata": {},
   "outputs": [],
   "source": [
    "from collections import defaultdict\n",
    "\n",
    "def get_school_data(response_data):\n",
    "    # -------- this only gets the first 20 schools, how to change this? | PER PAGE LIMIT\n",
    "    \"\"\" Processes API response data and stores school names and other relevant data (i.e., avg sat & act scores)\n",
    "    Params: \n",
    "    - repsonse_data = API JSON response\n",
    "    Returns: A dictionary of lists containing schools names and extended relevant data\"\"\"\n",
    "    data_dct = defaultdict(list)\n",
    "\n",
    "    results = response_data['results']\n",
    "    for i in range(len(results)):\n",
    "        data_dct['school'].append(results[i]['school'].get('name', None))\n",
    "        data_dct['admin_rate'].append(results[i]['latest']['admissions']['admission_rate'].get('overall', None)) \n",
    "        data_dct['avg_sat'].append(results[i]['latest']['admissions']['sat_scores']['average'].get('overall', None))\n",
    "        data_dct['avg_act'].append(results[i]['latest']['admissions']['act_scores']['midpoint'].get('cumulative', None))\n",
    "        \n",
    "    return data_dct "
   ]
  },
  {
   "cell_type": "code",
   "execution_count": 128,
   "id": "bca6f9dc-41df-4a5a-b0e2-92d387f7bab1",
   "metadata": {},
   "outputs": [
    {
     "data": {
      "text/plain": [
       "20"
      ]
     },
     "execution_count": 128,
     "metadata": {},
     "output_type": "execute_result"
    }
   ],
   "source": [
    "len(data['results']) # -------- default shows 20 schools per page "
   ]
  },
  {
   "cell_type": "code",
   "execution_count": 130,
   "id": "88c090b7-3057-490f-acc0-96a1bff8b46e",
   "metadata": {},
   "outputs": [
    {
     "data": {
      "text/html": [
       "<div>\n",
       "<style scoped>\n",
       "    .dataframe tbody tr th:only-of-type {\n",
       "        vertical-align: middle;\n",
       "    }\n",
       "\n",
       "    .dataframe tbody tr th {\n",
       "        vertical-align: top;\n",
       "    }\n",
       "\n",
       "    .dataframe thead th {\n",
       "        text-align: right;\n",
       "    }\n",
       "</style>\n",
       "<table border=\"1\" class=\"dataframe\">\n",
       "  <thead>\n",
       "    <tr style=\"text-align: right;\">\n",
       "      <th></th>\n",
       "      <th>school</th>\n",
       "      <th>admin_rate</th>\n",
       "      <th>avg_sat</th>\n",
       "      <th>avg_act</th>\n",
       "    </tr>\n",
       "  </thead>\n",
       "  <tbody>\n",
       "    <tr>\n",
       "      <th>0</th>\n",
       "      <td>Alabama A &amp; M University</td>\n",
       "      <td>0.6840</td>\n",
       "      <td>920.0</td>\n",
       "      <td>18.0</td>\n",
       "    </tr>\n",
       "    <tr>\n",
       "      <th>1</th>\n",
       "      <td>University of Alabama at Birmingham</td>\n",
       "      <td>0.8668</td>\n",
       "      <td>1291.0</td>\n",
       "      <td>27.0</td>\n",
       "    </tr>\n",
       "    <tr>\n",
       "      <th>2</th>\n",
       "      <td>Amridge University</td>\n",
       "      <td>NaN</td>\n",
       "      <td>NaN</td>\n",
       "      <td>NaN</td>\n",
       "    </tr>\n",
       "    <tr>\n",
       "      <th>3</th>\n",
       "      <td>University of Alabama in Huntsville</td>\n",
       "      <td>0.7810</td>\n",
       "      <td>1259.0</td>\n",
       "      <td>28.0</td>\n",
       "    </tr>\n",
       "    <tr>\n",
       "      <th>4</th>\n",
       "      <td>Alabama State University</td>\n",
       "      <td>0.9660</td>\n",
       "      <td>963.0</td>\n",
       "      <td>18.0</td>\n",
       "    </tr>\n",
       "    <tr>\n",
       "      <th>5</th>\n",
       "      <td>The University of Alabama</td>\n",
       "      <td>0.8006</td>\n",
       "      <td>1304.0</td>\n",
       "      <td>26.0</td>\n",
       "    </tr>\n",
       "    <tr>\n",
       "      <th>6</th>\n",
       "      <td>Central Alabama Community College</td>\n",
       "      <td>NaN</td>\n",
       "      <td>NaN</td>\n",
       "      <td>NaN</td>\n",
       "    </tr>\n",
       "    <tr>\n",
       "      <th>7</th>\n",
       "      <td>Athens State University</td>\n",
       "      <td>NaN</td>\n",
       "      <td>NaN</td>\n",
       "      <td>NaN</td>\n",
       "    </tr>\n",
       "    <tr>\n",
       "      <th>8</th>\n",
       "      <td>Auburn University at Montgomery</td>\n",
       "      <td>0.9223</td>\n",
       "      <td>1051.0</td>\n",
       "      <td>21.0</td>\n",
       "    </tr>\n",
       "    <tr>\n",
       "      <th>9</th>\n",
       "      <td>Auburn University</td>\n",
       "      <td>0.4374</td>\n",
       "      <td>1292.0</td>\n",
       "      <td>NaN</td>\n",
       "    </tr>\n",
       "    <tr>\n",
       "      <th>10</th>\n",
       "      <td>Birmingham-Southern College</td>\n",
       "      <td>0.5717</td>\n",
       "      <td>1218.0</td>\n",
       "      <td>25.0</td>\n",
       "    </tr>\n",
       "    <tr>\n",
       "      <th>11</th>\n",
       "      <td>Chattahoochee Valley Community College</td>\n",
       "      <td>NaN</td>\n",
       "      <td>NaN</td>\n",
       "      <td>NaN</td>\n",
       "    </tr>\n",
       "    <tr>\n",
       "      <th>12</th>\n",
       "      <td>South University-Montgomery</td>\n",
       "      <td>NaN</td>\n",
       "      <td>NaN</td>\n",
       "      <td>NaN</td>\n",
       "    </tr>\n",
       "    <tr>\n",
       "      <th>13</th>\n",
       "      <td>Enterprise State Community College</td>\n",
       "      <td>NaN</td>\n",
       "      <td>NaN</td>\n",
       "      <td>NaN</td>\n",
       "    </tr>\n",
       "    <tr>\n",
       "      <th>14</th>\n",
       "      <td>Coastal Alabama Community College</td>\n",
       "      <td>NaN</td>\n",
       "      <td>NaN</td>\n",
       "      <td>NaN</td>\n",
       "    </tr>\n",
       "    <tr>\n",
       "      <th>15</th>\n",
       "      <td>Faulkner University</td>\n",
       "      <td>0.8241</td>\n",
       "      <td>1021.0</td>\n",
       "      <td>20.0</td>\n",
       "    </tr>\n",
       "    <tr>\n",
       "      <th>16</th>\n",
       "      <td>Gadsden State Community College</td>\n",
       "      <td>NaN</td>\n",
       "      <td>NaN</td>\n",
       "      <td>NaN</td>\n",
       "    </tr>\n",
       "    <tr>\n",
       "      <th>17</th>\n",
       "      <td>New Beginning College of Cosmetology</td>\n",
       "      <td>NaN</td>\n",
       "      <td>NaN</td>\n",
       "      <td>NaN</td>\n",
       "    </tr>\n",
       "    <tr>\n",
       "      <th>18</th>\n",
       "      <td>George C Wallace Community College-Dothan</td>\n",
       "      <td>NaN</td>\n",
       "      <td>NaN</td>\n",
       "      <td>NaN</td>\n",
       "    </tr>\n",
       "    <tr>\n",
       "      <th>19</th>\n",
       "      <td>George C Wallace State Community College-Hance...</td>\n",
       "      <td>NaN</td>\n",
       "      <td>NaN</td>\n",
       "      <td>NaN</td>\n",
       "    </tr>\n",
       "  </tbody>\n",
       "</table>\n",
       "</div>"
      ],
      "text/plain": [
       "                                               school  admin_rate  avg_sat  \\\n",
       "0                            Alabama A & M University      0.6840    920.0   \n",
       "1                 University of Alabama at Birmingham      0.8668   1291.0   \n",
       "2                                  Amridge University         NaN      NaN   \n",
       "3                 University of Alabama in Huntsville      0.7810   1259.0   \n",
       "4                            Alabama State University      0.9660    963.0   \n",
       "5                           The University of Alabama      0.8006   1304.0   \n",
       "6                   Central Alabama Community College         NaN      NaN   \n",
       "7                             Athens State University         NaN      NaN   \n",
       "8                     Auburn University at Montgomery      0.9223   1051.0   \n",
       "9                                   Auburn University      0.4374   1292.0   \n",
       "10                        Birmingham-Southern College      0.5717   1218.0   \n",
       "11             Chattahoochee Valley Community College         NaN      NaN   \n",
       "12                        South University-Montgomery         NaN      NaN   \n",
       "13                 Enterprise State Community College         NaN      NaN   \n",
       "14                  Coastal Alabama Community College         NaN      NaN   \n",
       "15                                Faulkner University      0.8241   1021.0   \n",
       "16                    Gadsden State Community College         NaN      NaN   \n",
       "17               New Beginning College of Cosmetology         NaN      NaN   \n",
       "18          George C Wallace Community College-Dothan         NaN      NaN   \n",
       "19  George C Wallace State Community College-Hance...         NaN      NaN   \n",
       "\n",
       "    avg_act  \n",
       "0      18.0  \n",
       "1      27.0  \n",
       "2       NaN  \n",
       "3      28.0  \n",
       "4      18.0  \n",
       "5      26.0  \n",
       "6       NaN  \n",
       "7       NaN  \n",
       "8      21.0  \n",
       "9       NaN  \n",
       "10     25.0  \n",
       "11      NaN  \n",
       "12      NaN  \n",
       "13      NaN  \n",
       "14      NaN  \n",
       "15     20.0  \n",
       "16      NaN  \n",
       "17      NaN  \n",
       "18      NaN  \n",
       "19      NaN  "
      ]
     },
     "execution_count": 130,
     "metadata": {},
     "output_type": "execute_result"
    }
   ],
   "source": [
    "data_dct = get_school_data(data)\n",
    "school_df = pd.DataFrame(data_dct)\n",
    "school_df"
   ]
  },
  {
   "cell_type": "markdown",
   "id": "fd6c4aec",
   "metadata": {},
   "source": [
    "#### 4. Cleaning the Data:"
   ]
  },
  {
   "cell_type": "code",
   "execution_count": null,
   "id": "45e276e9",
   "metadata": {},
   "outputs": [],
   "source": []
  },
  {
   "cell_type": "markdown",
   "id": "4b9b1ffb",
   "metadata": {},
   "source": [
    "## Plotting:"
   ]
  },
  {
   "cell_type": "code",
   "execution_count": 5,
   "id": "3dcaf8ec",
   "metadata": {},
   "outputs": [],
   "source": [
    "# for this we can plot the student population for each school on the recommended list"
   ]
  },
  {
   "cell_type": "markdown",
   "id": "e4059326",
   "metadata": {},
   "source": [
    "## Analysis/ML Plan:"
   ]
  },
  {
   "cell_type": "markdown",
   "id": "c793a610",
   "metadata": {},
   "source": [
    "Plan here"
   ]
  },
  {
   "cell_type": "code",
   "execution_count": null,
   "id": "cd2f827a",
   "metadata": {},
   "outputs": [],
   "source": []
  }
 ],
 "metadata": {
  "kernelspec": {
   "display_name": "Python 3 (ipykernel)",
   "language": "python",
   "name": "python3"
  },
  "language_info": {
   "codemirror_mode": {
    "name": "ipython",
    "version": 3
   },
   "file_extension": ".py",
   "mimetype": "text/x-python",
   "name": "python",
   "nbconvert_exporter": "python",
   "pygments_lexer": "ipython3",
   "version": "3.12.4"
  }
 },
 "nbformat": 4,
 "nbformat_minor": 5
}
