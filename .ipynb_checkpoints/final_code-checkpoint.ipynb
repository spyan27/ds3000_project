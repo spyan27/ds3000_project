{
 "cells": [
  {
   "cell_type": "markdown",
   "id": "e77913b0-b864-4fb7-9e39-f74b94282807",
   "metadata": {},
   "source": [
    "# Final Code Submission\n",
    "## Data analysis of College Admissions data \n",
    "\n",
    "- Team: John Rotondo, Spring Yan, Anne Hu, Evan Li\n",
    "\n",
    "**ML Modeling**\n",
    "- Regression Model (using numpy and linear algebra)\n",
    "- KMeans Clustering (scikit-learn)"
   ]
  },
  {
   "cell_type": "markdown",
   "id": "81ecf6cb-7e41-4d22-9826-d4470e16ef64",
   "metadata": {},
   "source": [
    "## 0. Imports"
   ]
  },
  {
   "cell_type": "code",
   "execution_count": 1,
   "id": "9695788c-0bec-4624-9c47-e26a280341ee",
   "metadata": {},
   "outputs": [],
   "source": [
    "from secret import key\n",
    "import requests\n",
    "import json\n",
    "import pandas as pd\n",
    "import numpy as np\n",
    "from bs4 import BeautifulSoup\n",
    "from collections import defaultdict\n",
    "\n",
    "from sklearn.metrics import r2_score\n",
    "from sklearn.model_selection import train_test_split\n",
    "import warnings\n",
    "warnings.simplefilter(action='ignore', category=FutureWarning)\n",
    "\n",
    "import seaborn as sns\n",
    "import matplotlib.pyplot as plt\n",
    "import plotly.express as px\n",
    "\n",
    "import time"
   ]
  },
  {
   "cell_type": "markdown",
   "id": "0b1cd8f3-6ca4-4f19-9f9c-f44e0dd1acdf",
   "metadata": {},
   "source": [
    "## 1. Fetch data from College Scorecard API"
   ]
  },
  {
   "cell_type": "code",
   "execution_count": 2,
   "id": "cd9fae9f-cc7a-49fa-ba25-3d3ec220bc21",
   "metadata": {},
   "outputs": [],
   "source": [
    "FILENAME = 'us-state-abbreviations.txt'\n",
    "with open(FILENAME, 'r') as file:\n",
    "    # Read the file contents and split by lines\n",
    "    state_abbreviations = [line.strip() for line in file.readlines()]"
   ]
  },
  {
   "cell_type": "code",
   "execution_count": 3,
   "id": "b885330b-ee10-498a-96b8-e7799a8c2f6e",
   "metadata": {},
   "outputs": [],
   "source": [
    "def get_st_df(state, student_size=1000):\n",
    "    # Base URL for the College Scorecard API\n",
    "    url = \"https://api.data.gov/ed/collegescorecard/v1/schools\"\n",
    "    \n",
    "    # Your API key (replace with your own key)\n",
    "    api_key = key\n",
    "    \n",
    "    fields = ['school.name',\n",
    "              # ---- just added this feature! \n",
    "              'school.region_id',\n",
    "              'latest.student.size',\n",
    "              'school.state',\n",
    "              'latest.admissions.admission_rate.overall',\n",
    "              'latest.admissions.sat_scores.average.overall',\n",
    "              'latest.admissions.act_scores.midpoint.cumulative',\n",
    "              'latest.admissions.test_requirements',\n",
    "              f'student.size__range={student_size}..']\n",
    "    \n",
    "    params = {\n",
    "        'api_key': api_key,\n",
    "        'school.state': state, \n",
    "        'fields': ','.join(fields), \n",
    "        'page': 0,  # Page number for pagination\n",
    "\n",
    "        'per_page': 100  # Number of records per page (you can adjust this)\n",
    "    }\n",
    "    \n",
    "    # Send the GET request\n",
    "    response = requests.get(url, params=params)\n",
    "    state_data = response.json()['results']\n",
    "\n",
    "    return state_data "
   ]
  },
  {
   "cell_type": "code",
   "execution_count": 4,
   "id": "ab45cc9f-bc2a-4dce-ab3d-0bb3e12deb22",
   "metadata": {},
   "outputs": [],
   "source": [
    "def get_all_states_data(key, st_list):\n",
    "    \"\"\" Iterates through all states and collects the data for each\n",
    "    Params:\n",
    "    - key = API key\n",
    "    Returns:\n",
    "    A dictionary with states as keys and corresponding school data as values \"\"\"\n",
    "    \n",
    "    # Dictionary to store data for all states\n",
    "    all_states_data = []\n",
    "    \n",
    "    # Loop through all states\n",
    "    for state in st_list:\n",
    "        print(f\"Retrieving data for {state}...\")\n",
    "        state_data = get_st_df(state)\n",
    "        \n",
    "        all_states_data.append(state_data)\n",
    "        \n",
    "    # # Combine all state data into a single DataFrame\n",
    "    # combined_df = pd.concat(all_states_data, ignore_index=True)\n",
    "    return all_states_data"
   ]
  },
  {
   "cell_type": "code",
   "execution_count": 5,
   "id": "949b3322-83b0-4655-844b-3117c1a1de1d",
   "metadata": {},
   "outputs": [
    {
     "name": "stdout",
     "output_type": "stream",
     "text": [
      "Retrieving data for AK...\n",
      "Retrieving data for AL...\n",
      "Retrieving data for AZ...\n",
      "Retrieving data for AR...\n",
      "Retrieving data for CA...\n",
      "Retrieving data for CO...\n",
      "Retrieving data for CT...\n",
      "Retrieving data for DE...\n",
      "Retrieving data for FL...\n",
      "Retrieving data for GA...\n",
      "Retrieving data for HI...\n",
      "Retrieving data for ID...\n",
      "Retrieving data for IL...\n",
      "Retrieving data for IN...\n",
      "Retrieving data for IA...\n",
      "Retrieving data for KS...\n",
      "Retrieving data for KY...\n",
      "Retrieving data for LA...\n",
      "Retrieving data for ME...\n",
      "Retrieving data for MD...\n",
      "Retrieving data for MA...\n",
      "Retrieving data for MI...\n",
      "Retrieving data for MN...\n",
      "Retrieving data for MS...\n",
      "Retrieving data for MO...\n",
      "Retrieving data for MT...\n",
      "Retrieving data for NE...\n",
      "Retrieving data for NV...\n",
      "Retrieving data for NH...\n",
      "Retrieving data for NJ...\n",
      "Retrieving data for NM...\n",
      "Retrieving data for NY...\n",
      "Retrieving data for NC...\n",
      "Retrieving data for ND...\n",
      "Retrieving data for OH...\n",
      "Retrieving data for OK...\n",
      "Retrieving data for OR...\n",
      "Retrieving data for PA...\n",
      "Retrieving data for RI...\n",
      "Retrieving data for SC...\n",
      "Retrieving data for SD...\n",
      "Retrieving data for TN...\n",
      "Retrieving data for TX...\n",
      "Retrieving data for UT...\n",
      "Retrieving data for VT...\n",
      "Retrieving data for VA...\n",
      "Retrieving data for WA...\n",
      "Retrieving data for WV...\n",
      "Retrieving data for WI...\n",
      "Retrieving data for WY...\n"
     ]
    }
   ],
   "source": [
    "# gather all the state data!\n",
    "all_states = get_all_states_data(key, state_abbreviations)"
   ]
  },
  {
   "cell_type": "code",
   "execution_count": 6,
   "id": "b5500cb4-6bdd-4d94-a726-adb1cb8b708a",
   "metadata": {},
   "outputs": [
    {
     "data": {
      "text/html": [
       "<div>\n",
       "<style scoped>\n",
       "    .dataframe tbody tr th:only-of-type {\n",
       "        vertical-align: middle;\n",
       "    }\n",
       "\n",
       "    .dataframe tbody tr th {\n",
       "        vertical-align: top;\n",
       "    }\n",
       "\n",
       "    .dataframe thead th {\n",
       "        text-align: right;\n",
       "    }\n",
       "</style>\n",
       "<table border=\"1\" class=\"dataframe\">\n",
       "  <thead>\n",
       "    <tr style=\"text-align: right;\">\n",
       "      <th></th>\n",
       "      <th>latest.student.size</th>\n",
       "      <th>latest.admissions.admission_rate.overall</th>\n",
       "      <th>latest.admissions.sat_scores.average.overall</th>\n",
       "      <th>latest.admissions.act_scores.midpoint.cumulative</th>\n",
       "      <th>latest.admissions.test_requirements</th>\n",
       "      <th>school.name</th>\n",
       "      <th>school.region_id</th>\n",
       "      <th>school.state</th>\n",
       "    </tr>\n",
       "  </thead>\n",
       "  <tbody>\n",
       "    <tr>\n",
       "      <th>0</th>\n",
       "      <td>6778</td>\n",
       "      <td>0.6532</td>\n",
       "      <td>NaN</td>\n",
       "      <td>NaN</td>\n",
       "      <td>3</td>\n",
       "      <td>University of Alaska Anchorage</td>\n",
       "      <td>8</td>\n",
       "      <td>AK</td>\n",
       "    </tr>\n",
       "    <tr>\n",
       "      <th>1</th>\n",
       "      <td>31</td>\n",
       "      <td>NaN</td>\n",
       "      <td>NaN</td>\n",
       "      <td>NaN</td>\n",
       "      <td>0</td>\n",
       "      <td>Alaska Bible College</td>\n",
       "      <td>8</td>\n",
       "      <td>AK</td>\n",
       "    </tr>\n",
       "    <tr>\n",
       "      <th>2</th>\n",
       "      <td>4010</td>\n",
       "      <td>NaN</td>\n",
       "      <td>NaN</td>\n",
       "      <td>22.0</td>\n",
       "      <td>0</td>\n",
       "      <td>University of Alaska Fairbanks</td>\n",
       "      <td>8</td>\n",
       "      <td>AK</td>\n",
       "    </tr>\n",
       "    <tr>\n",
       "      <th>3</th>\n",
       "      <td>964</td>\n",
       "      <td>0.6266</td>\n",
       "      <td>NaN</td>\n",
       "      <td>NaN</td>\n",
       "      <td>3</td>\n",
       "      <td>University of Alaska Southeast</td>\n",
       "      <td>8</td>\n",
       "      <td>AK</td>\n",
       "    </tr>\n",
       "    <tr>\n",
       "      <th>4</th>\n",
       "      <td>457</td>\n",
       "      <td>0.9931</td>\n",
       "      <td>NaN</td>\n",
       "      <td>NaN</td>\n",
       "      <td>3</td>\n",
       "      <td>Alaska Pacific University</td>\n",
       "      <td>8</td>\n",
       "      <td>AK</td>\n",
       "    </tr>\n",
       "  </tbody>\n",
       "</table>\n",
       "</div>"
      ],
      "text/plain": [
       "   latest.student.size  latest.admissions.admission_rate.overall  \\\n",
       "0                 6778                                    0.6532   \n",
       "1                   31                                       NaN   \n",
       "2                 4010                                       NaN   \n",
       "3                  964                                    0.6266   \n",
       "4                  457                                    0.9931   \n",
       "\n",
       "   latest.admissions.sat_scores.average.overall  \\\n",
       "0                                           NaN   \n",
       "1                                           NaN   \n",
       "2                                           NaN   \n",
       "3                                           NaN   \n",
       "4                                           NaN   \n",
       "\n",
       "   latest.admissions.act_scores.midpoint.cumulative  \\\n",
       "0                                               NaN   \n",
       "1                                               NaN   \n",
       "2                                              22.0   \n",
       "3                                               NaN   \n",
       "4                                               NaN   \n",
       "\n",
       "   latest.admissions.test_requirements                     school.name  \\\n",
       "0                                    3  University of Alaska Anchorage   \n",
       "1                                    0            Alaska Bible College   \n",
       "2                                    0  University of Alaska Fairbanks   \n",
       "3                                    3  University of Alaska Southeast   \n",
       "4                                    3       Alaska Pacific University   \n",
       "\n",
       "   school.region_id school.state  \n",
       "0                 8           AK  \n",
       "1                 8           AK  \n",
       "2                 8           AK  \n",
       "3                 8           AK  \n",
       "4                 8           AK  "
      ]
     },
     "execution_count": 6,
     "metadata": {},
     "output_type": "execute_result"
    }
   ],
   "source": [
    "flattened_data = [school for state_data in all_states for school in state_data]\n",
    "\n",
    "# Convert to a DataFrame\n",
    "df = pd.DataFrame(flattened_data)\n",
    "\n",
    "df.head()"
   ]
  },
  {
   "cell_type": "code",
   "execution_count": 7,
   "id": "a4cb1fa8-a934-4b22-935b-34fdd43998ac",
   "metadata": {},
   "outputs": [
    {
     "data": {
      "text/plain": [
       "latest.student.size                                    0\n",
       "latest.admissions.admission_rate.overall            2308\n",
       "latest.admissions.sat_scores.average.overall        2788\n",
       "latest.admissions.act_scores.midpoint.cumulative    2847\n",
       "latest.admissions.test_requirements                    0\n",
       "school.name                                            0\n",
       "school.region_id                                       0\n",
       "school.state                                           0\n",
       "dtype: int64"
      ]
     },
     "execution_count": 7,
     "metadata": {},
     "output_type": "execute_result"
    }
   ],
   "source": [
    "# --- analyze NaN value count \n",
    "nan_count = df.isna().sum()\n",
    "nan_count"
   ]
  },
  {
   "cell_type": "code",
   "execution_count": 8,
   "id": "c8407b6a-abc5-4a40-95dc-b42d26f0fbee",
   "metadata": {},
   "outputs": [],
   "source": [
    "# ---- need to rename the column names \n",
    "df.rename(columns={\n",
    "    'latest.student.size': 'size',\n",
    "    'latest.admissions.admission_rate.overall': 'admin_rate',\n",
    "    'latest.admissions.sat_scores.average.overall': 'avg_sat',\n",
    "    'latest.admissions.act_scores.midpoint.cumulative': 'midpoint_act',\n",
    "    'latest.admissions.test_requirements': 'test_requirements',\n",
    "    'school.name': 'name',\n",
    "    'school.state': 'state',\n",
    "    'school.region_id': 'region_id'\n",
    "}, inplace=True)"
   ]
  },
  {
   "cell_type": "code",
   "execution_count": 9,
   "id": "77ca72db-7c9f-4de8-b690-076b72594ddf",
   "metadata": {},
   "outputs": [],
   "source": [
    "# --- convert numerical requirements to strings \n",
    "test_labels = {\n",
    "        0: 'Not Required',\n",
    "        1: 'Required',\n",
    "        2: 'Recommended',\n",
    "        3: 'Niether Rec. or Req.',\n",
    "        4: 'Not Known'}\n",
    "\n",
    "df['test_requirements'] = df['test_requirements'].map(\n",
    "    lambda x: test_labels.get(x, 'Considered but not Req.'))"
   ]
  },
  {
   "cell_type": "code",
   "execution_count": 10,
   "id": "a9b332df-3b3e-44a1-842a-02cb4c589a5c",
   "metadata": {},
   "outputs": [
    {
     "data": {
      "text/html": [
       "<div>\n",
       "<style scoped>\n",
       "    .dataframe tbody tr th:only-of-type {\n",
       "        vertical-align: middle;\n",
       "    }\n",
       "\n",
       "    .dataframe tbody tr th {\n",
       "        vertical-align: top;\n",
       "    }\n",
       "\n",
       "    .dataframe thead th {\n",
       "        text-align: right;\n",
       "    }\n",
       "</style>\n",
       "<table border=\"1\" class=\"dataframe\">\n",
       "  <thead>\n",
       "    <tr style=\"text-align: right;\">\n",
       "      <th></th>\n",
       "      <th>test_Considered but not Req.</th>\n",
       "      <th>test_Niether Rec. or Req.</th>\n",
       "      <th>test_Not Required</th>\n",
       "      <th>test_Required</th>\n",
       "    </tr>\n",
       "  </thead>\n",
       "  <tbody>\n",
       "    <tr>\n",
       "      <th>0</th>\n",
       "      <td>0.0</td>\n",
       "      <td>1.0</td>\n",
       "      <td>0.0</td>\n",
       "      <td>0.0</td>\n",
       "    </tr>\n",
       "    <tr>\n",
       "      <th>1</th>\n",
       "      <td>0.0</td>\n",
       "      <td>0.0</td>\n",
       "      <td>1.0</td>\n",
       "      <td>0.0</td>\n",
       "    </tr>\n",
       "    <tr>\n",
       "      <th>2</th>\n",
       "      <td>0.0</td>\n",
       "      <td>0.0</td>\n",
       "      <td>1.0</td>\n",
       "      <td>0.0</td>\n",
       "    </tr>\n",
       "    <tr>\n",
       "      <th>3</th>\n",
       "      <td>0.0</td>\n",
       "      <td>1.0</td>\n",
       "      <td>0.0</td>\n",
       "      <td>0.0</td>\n",
       "    </tr>\n",
       "    <tr>\n",
       "      <th>4</th>\n",
       "      <td>0.0</td>\n",
       "      <td>1.0</td>\n",
       "      <td>0.0</td>\n",
       "      <td>0.0</td>\n",
       "    </tr>\n",
       "    <tr>\n",
       "      <th>...</th>\n",
       "      <td>...</td>\n",
       "      <td>...</td>\n",
       "      <td>...</td>\n",
       "      <td>...</td>\n",
       "    </tr>\n",
       "    <tr>\n",
       "      <th>3606</th>\n",
       "      <td>0.0</td>\n",
       "      <td>0.0</td>\n",
       "      <td>1.0</td>\n",
       "      <td>0.0</td>\n",
       "    </tr>\n",
       "    <tr>\n",
       "      <th>3607</th>\n",
       "      <td>0.0</td>\n",
       "      <td>0.0</td>\n",
       "      <td>1.0</td>\n",
       "      <td>0.0</td>\n",
       "    </tr>\n",
       "    <tr>\n",
       "      <th>3608</th>\n",
       "      <td>0.0</td>\n",
       "      <td>0.0</td>\n",
       "      <td>1.0</td>\n",
       "      <td>0.0</td>\n",
       "    </tr>\n",
       "    <tr>\n",
       "      <th>3609</th>\n",
       "      <td>0.0</td>\n",
       "      <td>0.0</td>\n",
       "      <td>1.0</td>\n",
       "      <td>0.0</td>\n",
       "    </tr>\n",
       "    <tr>\n",
       "      <th>3610</th>\n",
       "      <td>0.0</td>\n",
       "      <td>1.0</td>\n",
       "      <td>0.0</td>\n",
       "      <td>0.0</td>\n",
       "    </tr>\n",
       "  </tbody>\n",
       "</table>\n",
       "<p>3611 rows × 4 columns</p>\n",
       "</div>"
      ],
      "text/plain": [
       "      test_Considered but not Req.  test_Niether Rec. or Req.  \\\n",
       "0                              0.0                        1.0   \n",
       "1                              0.0                        0.0   \n",
       "2                              0.0                        0.0   \n",
       "3                              0.0                        1.0   \n",
       "4                              0.0                        1.0   \n",
       "...                            ...                        ...   \n",
       "3606                           0.0                        0.0   \n",
       "3607                           0.0                        0.0   \n",
       "3608                           0.0                        0.0   \n",
       "3609                           0.0                        0.0   \n",
       "3610                           0.0                        1.0   \n",
       "\n",
       "      test_Not Required  test_Required  \n",
       "0                   0.0            0.0  \n",
       "1                   1.0            0.0  \n",
       "2                   1.0            0.0  \n",
       "3                   0.0            0.0  \n",
       "4                   0.0            0.0  \n",
       "...                 ...            ...  \n",
       "3606                1.0            0.0  \n",
       "3607                1.0            0.0  \n",
       "3608                1.0            0.0  \n",
       "3609                1.0            0.0  \n",
       "3610                0.0            0.0  \n",
       "\n",
       "[3611 rows x 4 columns]"
      ]
     },
     "execution_count": 10,
     "metadata": {},
     "output_type": "execute_result"
    }
   ],
   "source": [
    "# ----- do hot-encoding instead of mapping numbers \n",
    "df_encoded = pd.get_dummies(df['test_requirements'], prefix='test', dtype=float)\n",
    "df_encoded"
   ]
  },
  {
   "cell_type": "code",
   "execution_count": 11,
   "id": "8fc59348-81dd-4963-a49e-18728439a685",
   "metadata": {},
   "outputs": [
    {
     "data": {
      "text/html": [
       "<div>\n",
       "<style scoped>\n",
       "    .dataframe tbody tr th:only-of-type {\n",
       "        vertical-align: middle;\n",
       "    }\n",
       "\n",
       "    .dataframe tbody tr th {\n",
       "        vertical-align: top;\n",
       "    }\n",
       "\n",
       "    .dataframe thead th {\n",
       "        text-align: right;\n",
       "    }\n",
       "</style>\n",
       "<table border=\"1\" class=\"dataframe\">\n",
       "  <thead>\n",
       "    <tr style=\"text-align: right;\">\n",
       "      <th></th>\n",
       "      <th>size</th>\n",
       "      <th>admin_rate</th>\n",
       "      <th>avg_sat</th>\n",
       "      <th>midpoint_act</th>\n",
       "      <th>test_requirements</th>\n",
       "      <th>name</th>\n",
       "      <th>region_id</th>\n",
       "      <th>state</th>\n",
       "      <th>test_Considered but not Req.</th>\n",
       "      <th>test_Niether Rec. or Req.</th>\n",
       "      <th>test_Not Required</th>\n",
       "      <th>test_Required</th>\n",
       "    </tr>\n",
       "  </thead>\n",
       "  <tbody>\n",
       "    <tr>\n",
       "      <th>0</th>\n",
       "      <td>6778</td>\n",
       "      <td>0.6532</td>\n",
       "      <td>NaN</td>\n",
       "      <td>NaN</td>\n",
       "      <td>Niether Rec. or Req.</td>\n",
       "      <td>University of Alaska Anchorage</td>\n",
       "      <td>8</td>\n",
       "      <td>AK</td>\n",
       "      <td>0.0</td>\n",
       "      <td>1.0</td>\n",
       "      <td>0.0</td>\n",
       "      <td>0.0</td>\n",
       "    </tr>\n",
       "    <tr>\n",
       "      <th>1</th>\n",
       "      <td>31</td>\n",
       "      <td>NaN</td>\n",
       "      <td>NaN</td>\n",
       "      <td>NaN</td>\n",
       "      <td>Not Required</td>\n",
       "      <td>Alaska Bible College</td>\n",
       "      <td>8</td>\n",
       "      <td>AK</td>\n",
       "      <td>0.0</td>\n",
       "      <td>0.0</td>\n",
       "      <td>1.0</td>\n",
       "      <td>0.0</td>\n",
       "    </tr>\n",
       "    <tr>\n",
       "      <th>2</th>\n",
       "      <td>4010</td>\n",
       "      <td>NaN</td>\n",
       "      <td>NaN</td>\n",
       "      <td>22.0</td>\n",
       "      <td>Not Required</td>\n",
       "      <td>University of Alaska Fairbanks</td>\n",
       "      <td>8</td>\n",
       "      <td>AK</td>\n",
       "      <td>0.0</td>\n",
       "      <td>0.0</td>\n",
       "      <td>1.0</td>\n",
       "      <td>0.0</td>\n",
       "    </tr>\n",
       "    <tr>\n",
       "      <th>3</th>\n",
       "      <td>964</td>\n",
       "      <td>0.6266</td>\n",
       "      <td>NaN</td>\n",
       "      <td>NaN</td>\n",
       "      <td>Niether Rec. or Req.</td>\n",
       "      <td>University of Alaska Southeast</td>\n",
       "      <td>8</td>\n",
       "      <td>AK</td>\n",
       "      <td>0.0</td>\n",
       "      <td>1.0</td>\n",
       "      <td>0.0</td>\n",
       "      <td>0.0</td>\n",
       "    </tr>\n",
       "    <tr>\n",
       "      <th>4</th>\n",
       "      <td>457</td>\n",
       "      <td>0.9931</td>\n",
       "      <td>NaN</td>\n",
       "      <td>NaN</td>\n",
       "      <td>Niether Rec. or Req.</td>\n",
       "      <td>Alaska Pacific University</td>\n",
       "      <td>8</td>\n",
       "      <td>AK</td>\n",
       "      <td>0.0</td>\n",
       "      <td>1.0</td>\n",
       "      <td>0.0</td>\n",
       "      <td>0.0</td>\n",
       "    </tr>\n",
       "  </tbody>\n",
       "</table>\n",
       "</div>"
      ],
      "text/plain": [
       "   size  admin_rate  avg_sat  midpoint_act     test_requirements  \\\n",
       "0  6778      0.6532      NaN           NaN  Niether Rec. or Req.   \n",
       "1    31         NaN      NaN           NaN          Not Required   \n",
       "2  4010         NaN      NaN          22.0          Not Required   \n",
       "3   964      0.6266      NaN           NaN  Niether Rec. or Req.   \n",
       "4   457      0.9931      NaN           NaN  Niether Rec. or Req.   \n",
       "\n",
       "                             name  region_id state  \\\n",
       "0  University of Alaska Anchorage          8    AK   \n",
       "1            Alaska Bible College          8    AK   \n",
       "2  University of Alaska Fairbanks          8    AK   \n",
       "3  University of Alaska Southeast          8    AK   \n",
       "4       Alaska Pacific University          8    AK   \n",
       "\n",
       "   test_Considered but not Req.  test_Niether Rec. or Req.  test_Not Required  \\\n",
       "0                           0.0                        1.0                0.0   \n",
       "1                           0.0                        0.0                1.0   \n",
       "2                           0.0                        0.0                1.0   \n",
       "3                           0.0                        1.0                0.0   \n",
       "4                           0.0                        1.0                0.0   \n",
       "\n",
       "   test_Required  \n",
       "0            0.0  \n",
       "1            0.0  \n",
       "2            0.0  \n",
       "3            0.0  \n",
       "4            0.0  "
      ]
     },
     "execution_count": 11,
     "metadata": {},
     "output_type": "execute_result"
    }
   ],
   "source": [
    "# merge the dataframes together! \n",
    "df_merged = pd.concat([df, df_encoded], axis=1)\n",
    "\n",
    "# don't need the test_requirements column anymore\n",
    "df_merged.drop(\"test_requirements\", axis=1)\n",
    "\n",
    "df_merged.head()"
   ]
  },
  {
   "cell_type": "code",
   "execution_count": 12,
   "id": "f5e26ab6-6da0-4d54-85f1-dee54ecc148d",
   "metadata": {},
   "outputs": [],
   "source": [
    "def get_state_average(df, state, column):\n",
    "    \"\"\" add in docstring \"\"\"\n",
    "    if state is None:\n",
    "        print(\"State is None.\")\n",
    "        return None\n",
    "    state_avg = df.groupby('state')[column].mean()\n",
    "    return state_avg.get(state, None)\n",
    "\n",
    "def fill_missing_values(df):\n",
    "    \"\"\" add in docstring \"\"\"\n",
    "    for index, row in df.iterrows():\n",
    "        for column in ['admin_rate', 'avg_sat', 'midpoint_act']:\n",
    "            if pd.isna(row[column]):\n",
    "                avg = get_state_average(df, row['state'], column)\n",
    "                df.at[index, column] = avg\n",
    "    return df"
   ]
  },
  {
   "cell_type": "code",
   "execution_count": 13,
   "id": "74a3f99f-3304-4e17-94f4-80dd204c668b",
   "metadata": {},
   "outputs": [],
   "source": [
    "def clean_nan(data, drop=False):\n",
    "    \"\"\" add in docstring \"\"\"\n",
    "    if drop is True:\n",
    "        drop_df = data.dropna()\n",
    "    else: \n",
    "        # drop rows that have more than 1 NaN value\n",
    "        drop_df = data.dropna(thresh=len(data.columns) - 1)\n",
    "        # fill with state averages\n",
    "        drop_df = fill_missing_values(drop_df)\n",
    "    return drop_df"
   ]
  },
  {
   "cell_type": "markdown",
   "id": "c28ceffb-0c14-4f35-9855-2570c45da50d",
   "metadata": {},
   "source": [
    "# Regression Model \n",
    "1. Simple Linear Regresion\n",
    "2. Multiple "
   ]
  },
  {
   "cell_type": "markdown",
   "id": "61a77d10-3563-4f79-b651-797ce1eb364e",
   "metadata": {},
   "source": [
    "# Regression Functions "
   ]
  },
  {
   "cell_type": "code",
   "execution_count": 14,
   "id": "54e7e071-dc0a-40e2-b5e3-0e279c25cd3e",
   "metadata": {},
   "outputs": [],
   "source": [
    "def add_bias_column(X):\n",
    "    \"\"\"\n",
    "    Args:\n",
    "        X (array): can be either 1-d or 2-d\n",
    "    \n",
    "    Returns:\n",
    "        Xnew (array): the same array, but 2-d with a column of 1's in the first spot\n",
    "    \"\"\"\n",
    "    \n",
    "    # If the array is 1-d\n",
    "    if len(X.shape) == 1:\n",
    "        Xnew = np.column_stack([np.ones(X.shape[0]), X])\n",
    "    \n",
    "    # If the array is 2-d\n",
    "    elif len(X.shape) == 2:\n",
    "        bias_col = np.ones((X.shape[0], 1))\n",
    "        Xnew = np.hstack([bias_col, X])\n",
    "        \n",
    "    else:\n",
    "        raise ValueError(\"Input array must be either 1-d or 2-d\")\n",
    "\n",
    "    return Xnew"
   ]
  },
  {
   "cell_type": "code",
   "execution_count": 15,
   "id": "1822b401-39d3-4362-97f2-697d7829ee44",
   "metadata": {},
   "outputs": [],
   "source": [
    "def line_of_best_fit(X, y):\n",
    "    \"\"\" Args: \n",
    "            X (array): either 1d or 2d with the predictor values \n",
    "            y (array): 1d and corresponding response values to 'X'\n",
    "        Returns: \n",
    "            m (vector): vector with the slope and intercept term of the line of best fit\"\"\"\n",
    "    # first call the add_bias_column for line of best fit calculation \n",
    "    Xnew = add_bias_column(X)\n",
    "    \n",
    "    # get the inverse of X transpose \n",
    "    XtXinv = np.linalg.inv(np.matmul(Xnew.T, Xnew))\n",
    "    \n",
    "    # get the vector with the slope and intercept term\n",
    "    m = np.matmul(XtXinv, np.matmul(Xnew.T, y))\n",
    "\n",
    "    return m"
   ]
  },
  {
   "cell_type": "code",
   "execution_count": 16,
   "id": "522bfd84-0d30-4491-b915-1bdca2e0de6e",
   "metadata": {},
   "outputs": [],
   "source": [
    "def linreg_predict(Xnew, ynew, m):\n",
    "    \"\"\" Args: \n",
    "            Xnew (array): 1d or 2d with all predictor values, not including bias term\n",
    "            ynew (array): 1d with all corresponding response values to 'Xnew'\n",
    "            m (array): 1d array that contains the coefficents form the line_of_best_fit function\n",
    "        Returns:\n",
    "            result_dict (dct): A dct with 4 key-value pairs - ypreds, resids, mse, and r2\"\"\"\n",
    "    \n",
    "    # add bias column \n",
    "    Xnew = add_bias_column(Xnew)\n",
    "\n",
    "    # fetch all the calculations\n",
    "    ypreds = np.matmul(Xnew, m)\n",
    "\n",
    "    resids = ynew - ypreds\n",
    "    \n",
    "    mse = np.mean(resids ** 2)\n",
    "\n",
    "    # use of sklearn built-in r2_score function \n",
    "    r2 = r2_score(ynew, ypreds)\n",
    "\n",
    "    # set up key-value pairs in the resulting dictionary \n",
    "    result_dict = {'ypreds': ypreds,\n",
    "                  'resids': resids,\n",
    "                  'mse': mse,\n",
    "                  'r2': r2}\n",
    "\n",
    "    return result_dict"
   ]
  },
  {
   "cell_type": "markdown",
   "id": "15e02e24-bf2e-4095-9da4-b34480469962",
   "metadata": {},
   "source": [
    "## Regression Modeling\n",
    "1. Multiple regression w/ categorical variable \n",
    "2. Multiple regression w/ PCA\n",
    "3. Polynomial regression (Multiple) | Do I need to also use PCA here? "
   ]
  },
  {
   "cell_type": "code",
   "execution_count": 17,
   "id": "2a1513c7-0219-4272-ac4e-f744a1ee47ad",
   "metadata": {},
   "outputs": [
    {
     "data": {
      "text/html": [
       "<div>\n",
       "<style scoped>\n",
       "    .dataframe tbody tr th:only-of-type {\n",
       "        vertical-align: middle;\n",
       "    }\n",
       "\n",
       "    .dataframe tbody tr th {\n",
       "        vertical-align: top;\n",
       "    }\n",
       "\n",
       "    .dataframe thead th {\n",
       "        text-align: right;\n",
       "    }\n",
       "</style>\n",
       "<table border=\"1\" class=\"dataframe\">\n",
       "  <thead>\n",
       "    <tr style=\"text-align: right;\">\n",
       "      <th></th>\n",
       "      <th>size</th>\n",
       "      <th>admin_rate</th>\n",
       "      <th>avg_sat</th>\n",
       "      <th>midpoint_act</th>\n",
       "      <th>test_requirements</th>\n",
       "      <th>name</th>\n",
       "      <th>region_id</th>\n",
       "      <th>state</th>\n",
       "      <th>test_Considered but not Req.</th>\n",
       "      <th>test_Niether Rec. or Req.</th>\n",
       "      <th>test_Not Required</th>\n",
       "      <th>test_Required</th>\n",
       "    </tr>\n",
       "  </thead>\n",
       "  <tbody>\n",
       "    <tr>\n",
       "      <th>9</th>\n",
       "      <td>5196</td>\n",
       "      <td>0.6840</td>\n",
       "      <td>920.0</td>\n",
       "      <td>18.0</td>\n",
       "      <td>Considered but not Req.</td>\n",
       "      <td>Alabama A &amp; M University</td>\n",
       "      <td>5</td>\n",
       "      <td>AL</td>\n",
       "      <td>1.0</td>\n",
       "      <td>0.0</td>\n",
       "      <td>0.0</td>\n",
       "      <td>0.0</td>\n",
       "    </tr>\n",
       "    <tr>\n",
       "      <th>10</th>\n",
       "      <td>12776</td>\n",
       "      <td>0.8668</td>\n",
       "      <td>1291.0</td>\n",
       "      <td>27.0</td>\n",
       "      <td>Considered but not Req.</td>\n",
       "      <td>University of Alabama at Birmingham</td>\n",
       "      <td>5</td>\n",
       "      <td>AL</td>\n",
       "      <td>1.0</td>\n",
       "      <td>0.0</td>\n",
       "      <td>0.0</td>\n",
       "      <td>0.0</td>\n",
       "    </tr>\n",
       "    <tr>\n",
       "      <th>12</th>\n",
       "      <td>6985</td>\n",
       "      <td>0.7810</td>\n",
       "      <td>1259.0</td>\n",
       "      <td>28.0</td>\n",
       "      <td>Considered but not Req.</td>\n",
       "      <td>University of Alabama in Huntsville</td>\n",
       "      <td>5</td>\n",
       "      <td>AL</td>\n",
       "      <td>1.0</td>\n",
       "      <td>0.0</td>\n",
       "      <td>0.0</td>\n",
       "      <td>0.0</td>\n",
       "    </tr>\n",
       "    <tr>\n",
       "      <th>13</th>\n",
       "      <td>3296</td>\n",
       "      <td>0.9660</td>\n",
       "      <td>963.0</td>\n",
       "      <td>18.0</td>\n",
       "      <td>Considered but not Req.</td>\n",
       "      <td>Alabama State University</td>\n",
       "      <td>5</td>\n",
       "      <td>AL</td>\n",
       "      <td>1.0</td>\n",
       "      <td>0.0</td>\n",
       "      <td>0.0</td>\n",
       "      <td>0.0</td>\n",
       "    </tr>\n",
       "    <tr>\n",
       "      <th>14</th>\n",
       "      <td>31360</td>\n",
       "      <td>0.8006</td>\n",
       "      <td>1304.0</td>\n",
       "      <td>26.0</td>\n",
       "      <td>Considered but not Req.</td>\n",
       "      <td>The University of Alabama</td>\n",
       "      <td>5</td>\n",
       "      <td>AL</td>\n",
       "      <td>1.0</td>\n",
       "      <td>0.0</td>\n",
       "      <td>0.0</td>\n",
       "      <td>0.0</td>\n",
       "    </tr>\n",
       "  </tbody>\n",
       "</table>\n",
       "</div>"
      ],
      "text/plain": [
       "     size  admin_rate  avg_sat  midpoint_act        test_requirements  \\\n",
       "9    5196      0.6840    920.0          18.0  Considered but not Req.   \n",
       "10  12776      0.8668   1291.0          27.0  Considered but not Req.   \n",
       "12   6985      0.7810   1259.0          28.0  Considered but not Req.   \n",
       "13   3296      0.9660    963.0          18.0  Considered but not Req.   \n",
       "14  31360      0.8006   1304.0          26.0  Considered but not Req.   \n",
       "\n",
       "                                   name  region_id state  \\\n",
       "9              Alabama A & M University          5    AL   \n",
       "10  University of Alabama at Birmingham          5    AL   \n",
       "12  University of Alabama in Huntsville          5    AL   \n",
       "13             Alabama State University          5    AL   \n",
       "14            The University of Alabama          5    AL   \n",
       "\n",
       "    test_Considered but not Req.  test_Niether Rec. or Req.  \\\n",
       "9                            1.0                        0.0   \n",
       "10                           1.0                        0.0   \n",
       "12                           1.0                        0.0   \n",
       "13                           1.0                        0.0   \n",
       "14                           1.0                        0.0   \n",
       "\n",
       "    test_Not Required  test_Required  \n",
       "9                 0.0            0.0  \n",
       "10                0.0            0.0  \n",
       "12                0.0            0.0  \n",
       "13                0.0            0.0  \n",
       "14                0.0            0.0  "
      ]
     },
     "execution_count": 17,
     "metadata": {},
     "output_type": "execute_result"
    }
   ],
   "source": [
    "# Address NaN Values here1\n",
    "drop_df = clean_nan(df_merged, True) # set to true if drop all the missing values\n",
    "drop_df.head()"
   ]
  },
  {
   "cell_type": "code",
   "execution_count": 18,
   "id": "eb451bcf-c9b2-4933-9902-f443bf6735b1",
   "metadata": {},
   "outputs": [
    {
     "data": {
      "text/plain": [
       "((681, 12), (3611, 8))"
      ]
     },
     "execution_count": 18,
     "metadata": {},
     "output_type": "execute_result"
    }
   ],
   "source": [
    "# ------ CHECK THE SHAPE!\n",
    "drop_df.shape, df.shape"
   ]
  },
  {
   "cell_type": "code",
   "execution_count": 19,
   "id": "ea9b8087-6df8-4234-8876-c4d312186a8c",
   "metadata": {},
   "outputs": [
    {
     "data": {
      "text/plain": [
       "size                            0\n",
       "admin_rate                      0\n",
       "avg_sat                         0\n",
       "midpoint_act                    0\n",
       "test_requirements               0\n",
       "name                            0\n",
       "region_id                       0\n",
       "state                           0\n",
       "test_Considered but not Req.    0\n",
       "test_Niether Rec. or Req.       0\n",
       "test_Not Required               0\n",
       "test_Required                   0\n",
       "dtype: int64"
      ]
     },
     "execution_count": 19,
     "metadata": {},
     "output_type": "execute_result"
    }
   ],
   "source": [
    "nan_count = drop_df.isna().sum()\n",
    "nan_count"
   ]
  },
  {
   "cell_type": "markdown",
   "id": "34274cde-e2e9-4a90-abea-e6171a5d6ca2",
   "metadata": {},
   "source": [
    "### I. Check with Simple Regression Model"
   ]
  },
  {
   "cell_type": "code",
   "execution_count": 20,
   "id": "e86efa03-adb1-4991-8c37-1ad28716cd84",
   "metadata": {},
   "outputs": [],
   "source": [
    "# want a way to store mse and r2 scores \n",
    "\n",
    "results_dct = defaultdict(list)"
   ]
  },
  {
   "cell_type": "code",
   "execution_count": 21,
   "id": "53766f59-196f-42d5-a0e6-4f3c10717fda",
   "metadata": {},
   "outputs": [
    {
     "name": "stdout",
     "output_type": "stream",
     "text": [
      "MSE: 0.03620526144903808, R^2: 0.3137551044258331\n"
     ]
    }
   ],
   "source": [
    "# CROSS-FOLD VALIDATION\n",
    "X = drop_df['avg_sat']\n",
    "y = drop_df['admin_rate']\n",
    "\n",
    "X_train, X_test, y_train, y_test = train_test_split(X, y, test_size=0.30, random_state=42)\n",
    "\n",
    "# now fit model using line_of_best_fit function\n",
    "m_train = line_of_best_fit(X_train, y_train)\n",
    "\n",
    "# use test data to evaulate the model using the linreg_predict function, get \"m\" param from fitting the model above \n",
    "results = linreg_predict(X_test, y_test, m_train)\n",
    "\n",
    "print(f\"MSE: {results['mse']}, R^2: {results['r2']}\")\n",
    "\n",
    "# store results into dct \n",
    "results_dct['simple'].append(results['mse'])\n",
    "results_dct['simple'].append(results['r2'])"
   ]
  },
  {
   "cell_type": "code",
   "execution_count": 22,
   "id": "86d86a8a-59b5-4665-a6c6-fe84b0889fc4",
   "metadata": {},
   "outputs": [
    {
     "data": {
      "text/plain": [
       "defaultdict(list,\n",
       "            {'simple': [np.float64(0.03620526144903808), 0.3137551044258331]})"
      ]
     },
     "execution_count": 22,
     "metadata": {},
     "output_type": "execute_result"
    }
   ],
   "source": [
    "results_dct"
   ]
  },
  {
   "cell_type": "code",
   "execution_count": 23,
   "id": "f54246b3-e72f-4df6-8f5f-3fc89b28ede8",
   "metadata": {},
   "outputs": [],
   "source": [
    "# fit the regression model to the full data set \n",
    "m_full = line_of_best_fit(drop_df[\"avg_sat\"], drop_df[\"admin_rate\"])\n",
    "slope = m_full[1]\n",
    "intercept = m_full[0]\n",
    "\n",
    "\n",
    "X = drop_df[\"avg_sat\"]\n",
    "\n",
    "y_pred = slope * X + intercept"
   ]
  },
  {
   "cell_type": "code",
   "execution_count": 24,
   "id": "776da82a-e424-4c9f-8cb3-adf06c8b19eb",
   "metadata": {},
   "outputs": [
    {
     "data": {
      "image/png": "[encoded data removed]",
      "text/plain": [
       "<Figure size 640x480 with 1 Axes>"
      ]
     },
     "metadata": {},
     "output_type": "display_data"
    }
   ],
   "source": [
    "# --- INTIAL PLOT to see fit of the simple regression \n",
    "plt.scatter(X, drop_df[\"admin_rate\"], label='data', alpha=0.5)\n",
    "\n",
    "plt.plot(X, y_pred, color='black',label='linear fit')\n",
    "\n",
    "plt.xlabel(\"Average SAT Score\")\n",
    "plt.ylabel(\"Admission Rate\")\n",
    "plt.title(\"Simple Regression Plot\")\n",
    "plt.show()"
   ]
  },
  {
   "cell_type": "markdown",
   "id": "5942c6f6-61c0-487b-93b6-ee507e2b8349",
   "metadata": {},
   "source": [
    "Still, the performance of the **simple linear regression model is sub-optimal** with the improved handling of NaN values. This further motivates the use of multiple and polynomial regression models."
   ]
  },
  {
   "cell_type": "markdown",
   "id": "278ae43c-e5a5-41ff-a8d6-effee2960554",
   "metadata": {},
   "source": [
    "### Multiple regression w/ categorical variable \n",
    "- Need to double check this variable naming "
   ]
  },
  {
   "cell_type": "code",
   "execution_count": 25,
   "id": "c3dc0776-3215-474e-bfbd-48d8fc40b091",
   "metadata": {},
   "outputs": [
    {
     "data": {
      "text/plain": [
       "Index(['size', 'admin_rate', 'avg_sat', 'midpoint_act', 'test_requirements',\n",
       "       'name', 'region_id', 'state', 'test_Considered but not Req.',\n",
       "       'test_Niether Rec. or Req.', 'test_Not Required', 'test_Required'],\n",
       "      dtype='object')"
      ]
     },
     "execution_count": 25,
     "metadata": {},
     "output_type": "execute_result"
    }
   ],
   "source": [
    "drop_df.columns"
   ]
  },
  {
   "cell_type": "code",
   "execution_count": 26,
   "id": "9885970a-be33-4fb4-94de-8797a44bc028",
   "metadata": {},
   "outputs": [
    {
     "data": {
      "text/plain": [
       "size                            0\n",
       "admin_rate                      0\n",
       "avg_sat                         0\n",
       "midpoint_act                    0\n",
       "test_requirements               0\n",
       "name                            0\n",
       "region_id                       0\n",
       "state                           0\n",
       "test_Considered but not Req.    0\n",
       "test_Niether Rec. or Req.       0\n",
       "test_Not Required               0\n",
       "test_Required                   0\n",
       "dtype: int64"
      ]
     },
     "execution_count": 26,
     "metadata": {},
     "output_type": "execute_result"
    }
   ],
   "source": [
    "nan_count = drop_df.isna().sum()\n",
    "nan_count"
   ]
  },
  {
   "cell_type": "code",
   "execution_count": 27,
   "id": "9c6bd2db-8f01-44ca-8d84-d6c2ec88ba3c",
   "metadata": {},
   "outputs": [],
   "source": [
    "# need to take a different approach to standarization\n",
    "from sklearn.preprocessing import StandardScaler\n",
    "\n",
    "# Instantiate StandardScaler\n",
    "scaler = StandardScaler()\n",
    "\n",
    "feat_list = ['size', 'avg_sat', 'midpoint_act','test_Considered but not Req.',\n",
    "       'test_Niether Rec. or Req.', 'test_Not Required', 'test_Required']\n",
    "\n",
    "X_multi = drop_df[feat_list]\n",
    "\n",
    "# Standardize the data\n",
    "standardized_features = scaler.fit_transform(X_multi)\n",
    "\n",
    "# Convert back to DataFrame for interpretability\n",
    "standardized_df = pd.DataFrame(standardized_features, columns=X_multi.columns)\n",
    "\n",
    "X_scaled = np.array(standardized_df)"
   ]
  },
  {
   "cell_type": "code",
   "execution_count": 28,
   "id": "c063bc30-92c6-438f-b7fb-1d1ae27c7fb6",
   "metadata": {},
   "outputs": [
    {
     "data": {
      "text/plain": [
       "array([[-0.05791523, -1.79373765, -1.57976191, ...,  0.        ,\n",
       "         0.        , -0.37255333],\n",
       "       [ 0.91985851,  0.87293065,  0.63638841, ...,  0.        ,\n",
       "         0.        , -0.37255333],\n",
       "       [ 0.17285485,  0.64292152,  0.88262733, ...,  0.        ,\n",
       "         0.        , -0.37255333],\n",
       "       ...,\n",
       "       [ 0.03547635, -0.14054706, -0.34856729, ...,  0.        ,\n",
       "         0.        , -0.37255333],\n",
       "       [-0.17001093, -0.57181417, -0.59480621, ...,  0.        ,\n",
       "         0.        , -0.37255333],\n",
       "       [ 0.17414479, -0.35618061, -0.59480621, ...,  0.        ,\n",
       "         0.        , -0.37255333]])"
      ]
     },
     "execution_count": 28,
     "metadata": {},
     "output_type": "execute_result"
    }
   ],
   "source": [
    "X_scaled"
   ]
  },
  {
   "cell_type": "markdown",
   "id": "e9182edb-3af6-41f5-9b36-6917096d1a77",
   "metadata": {},
   "source": [
    "The cell below does not run properly bc it is single-cross fold and there are some outliers -> \"Considered but not Req.\" and \"Required\"!"
   ]
  },
  {
   "cell_type": "markdown",
   "id": "e3ba60a2-ebbf-44a3-8171-f32ab712ac11",
   "metadata": {},
   "source": [
    "## LOO Cross Validation "
   ]
  },
  {
   "cell_type": "code",
   "execution_count": 29,
   "id": "813602a1-2906-4943-9eb5-65038eeff86a",
   "metadata": {},
   "outputs": [],
   "source": [
    "# ---- REORGANIZE THIS CODE!\n",
    "def get_ypreds(Xnew, m):\n",
    "    \"\"\"add in docstring! \"\"\"\n",
    "    # add bias column \n",
    "    Xnew = add_bias_column(Xnew)\n",
    "\n",
    "    # fetch all the calculations\n",
    "    ypreds = np.matmul(Xnew, m)\n",
    "    \n",
    "    return ypreds"
   ]
  },
  {
   "cell_type": "code",
   "execution_count": 30,
   "id": "e54baaca-6454-4aee-901a-9f184a44bb5a",
   "metadata": {},
   "outputs": [],
   "source": [
    "# turn this code block into a function \n",
    "def loo_cv(X_new, y):\n",
    "    \"\"\" add in docstring here! \"\"\"\n",
    "    y_preds = np.empty(len(y))\n",
    "\n",
    "    # this is extracted from the linreg_predict function \n",
    "\n",
    "    # loop through each observation\n",
    "    for obs in range(len(y)):\n",
    "        # the below excludes the single row/true y belonging to obs as well as the bias column\n",
    "        loocv_trainX = np.concatenate((X_new[:obs, 1].reshape(-1,1), X_new[obs+1:, 1].reshape(-1,1)))\n",
    "        loocv_trainy = np.concatenate((y[:obs], y[obs+1:]))\n",
    "\n",
    "        m = line_of_best_fit(loocv_trainX, loocv_trainy)\n",
    "\n",
    "        # Xnew = add_bias_column(X_new) # --- this might be unecessary \n",
    "        # ypreds = np.matmul(Xnew, m)\n",
    "\n",
    "        # y_preds[obs] = linreg_predict(X_new[obs,1].reshape(-1,1), None, m)['ypreds'][0]\n",
    "        y_preds[obs] = get_ypreds(X_new[obs,1].reshape(-1,1), m)[0]\n",
    "\n",
    "    # save the scores \n",
    "    r_squared = r2_score(y, y_preds)\n",
    "    mse = ((y - y_preds)**2).mean()\n",
    "    \n",
    "    return r_squared, mse "
   ]
  },
  {
   "cell_type": "code",
   "execution_count": 31,
   "id": "f9c4c7fe-0c39-4d05-a32d-3763142b329f",
   "metadata": {},
   "outputs": [
    {
     "name": "stdout",
     "output_type": "stream",
     "text": [
      "R^2: 0.30728971689858975, MSE: 0.03361953774805577\n"
     ]
    }
   ],
   "source": [
    "r_squaredA, mseA = loo_cv(X_scaled, y)\n",
    "print(f\"R^2: {r_squaredA}, MSE: {mseA}\")\n",
    "\n",
    "# store info\n",
    "results_dct['multiple w/ categorical'].append(r_squaredA)\n",
    "results_dct['multiple w/ categorical'].append(mseA)"
   ]
  },
  {
   "cell_type": "markdown",
   "id": "99340dd4-6b09-498c-8ec1-b170f3d5e635",
   "metadata": {},
   "source": [
    "### Multiple regression w/ PCA"
   ]
  },
  {
   "cell_type": "code",
   "execution_count": 32,
   "id": "2ca4d46e-788f-4634-a528-9bd49c7a36d9",
   "metadata": {},
   "outputs": [],
   "source": [
    "feat_list2 = ['avg_sat', 'midpoint_act', 'size']\n",
    "\n",
    "X_multi = drop_df[feat_list2]\n",
    "\n",
    "# scale the features using standardization\n",
    "df_scaled = pd.DataFrame()\n",
    "\n",
    "for feat in X_multi.columns:\n",
    "    df_scaled[f'{feat}_scaled'] = ((X_multi[feat] - X_multi[feat].mean()) / X_multi[feat].std())\n",
    "\n",
    "# convert dataframe to numpy array \n",
    "X_scaled = np.array(df_scaled)"
   ]
  },
  {
   "cell_type": "code",
   "execution_count": 33,
   "id": "a73d3c0b-4c8d-403f-b1f5-942fb560503c",
   "metadata": {},
   "outputs": [],
   "source": [
    "# PCA implementation \n",
    "from sklearn.decomposition import PCA\n",
    "\n",
    "pca = PCA(n_components = 2)\n",
    "X_pca = pca.fit_transform(X_scaled)"
   ]
  },
  {
   "cell_type": "code",
   "execution_count": 34,
   "id": "cf22d426-5a1e-4031-a1df-e182ffd44d7e",
   "metadata": {},
   "outputs": [
    {
     "name": "stdout",
     "output_type": "stream",
     "text": [
      "MSE: 0.0371742794014393, R^2: 0.29538806060566647\n"
     ]
    }
   ],
   "source": [
    "# CROSS VALIDATION\n",
    "X_train, X_test, y_train, y_test = train_test_split(X_pca, y, test_size=0.3, random_state=42)\n",
    "\n",
    "# now fit model using line_of_best_fit function\n",
    "m_multi_pca = line_of_best_fit(X_train, y_train)\n",
    "\n",
    "# use test data to evaulate the model using the linreg_predict function, get \"m\" param from fitting the model above \n",
    "results = linreg_predict(X_test, y_test, m_multi_pca)\n",
    "\n",
    "print(f\"MSE: {results['mse']}, R^2: {results['r2']}\")"
   ]
  },
  {
   "cell_type": "markdown",
   "id": "368c9680-32b6-49b3-af44-a7a2fa999dee",
   "metadata": {},
   "source": [
    "Using PCA does not improve the performance of the model! When used n_components = 1, R^2 is **negative**. "
   ]
  },
  {
   "cell_type": "code",
   "execution_count": 35,
   "id": "77cebac2-4112-40ce-afea-21b4e1c28520",
   "metadata": {},
   "outputs": [
    {
     "name": "stdout",
     "output_type": "stream",
     "text": [
      "R^2: 0.04434030855113413, MSE: 0.046381348530171784\n"
     ]
    }
   ],
   "source": [
    "# LOO-CV\n",
    "r_squaredB, mseB = loo_cv(X_pca, y)\n",
    "print(f\"R^2: {r_squaredB}, MSE: {mseB}\")\n",
    "\n",
    "# store info\n",
    "results_dct['multiple w/ pca'].append(r_squaredB)\n",
    "results_dct['multiple w/ pca'].append(mseB)"
   ]
  },
  {
   "cell_type": "markdown",
   "id": "627c97ae-23e1-4b16-a2ae-b94f33a099b0",
   "metadata": {},
   "source": [
    "The R^2 using LOO-CV is signifcantly smaller! "
   ]
  },
  {
   "cell_type": "markdown",
   "id": "b87cc04f-e34d-42c1-9297-bd1edfd9edfc",
   "metadata": {},
   "source": [
    "## Polynomial Regression - 1 Feature\n",
    "- still should play around with the degrees"
   ]
  },
  {
   "cell_type": "code",
   "execution_count": 36,
   "id": "a8d0fab4-b1cf-4370-97d9-e4d3f6c42d48",
   "metadata": {},
   "outputs": [],
   "source": [
    "from sklearn.preprocessing import PolynomialFeatures\n",
    "\n",
    "# ------- this is a single poly regression test \n",
    "X_scores = np.array(drop_df['avg_sat']).reshape(-1,1)"
   ]
  },
  {
   "cell_type": "code",
   "execution_count": 58,
   "id": "4e2e9360-f058-4276-95a1-a6542daf0b41",
   "metadata": {},
   "outputs": [
    {
     "data": {
      "text/plain": [
       "array([[9.20000000e+02, 8.46400000e+05, 7.78688000e+08],\n",
       "       [1.29100000e+03, 1.66668100e+06, 2.15168517e+09],\n",
       "       [1.25900000e+03, 1.58508100e+06, 1.99561698e+09],\n",
       "       ...,\n",
       "       [1.15000000e+03, 1.32250000e+06, 1.52087500e+09],\n",
       "       [1.09000000e+03, 1.18810000e+06, 1.29502900e+09],\n",
       "       [1.12000000e+03, 1.25440000e+06, 1.40492800e+09]])"
      ]
     },
     "execution_count": 58,
     "metadata": {},
     "output_type": "execute_result"
    }
   ],
   "source": [
    "# setting up the cubic model\n",
    "poly = PolynomialFeatures(3)\n",
    "X_poly = poly.fit_transform(X_scores)\n",
    "\n",
    "# drop the last bias column \n",
    "X_poly = X_poly[:, 1:]\n",
    "X_poly"
   ]
  },
  {
   "cell_type": "code",
   "execution_count": 59,
   "id": "0ffd2a0c-2433-4c49-b4ee-90e42a1c33dc",
   "metadata": {},
   "outputs": [
    {
     "name": "stdout",
     "output_type": "stream",
     "text": [
      "MSE: 0.02555672694952048, R^2: 0.5155904773294451\n"
     ]
    }
   ],
   "source": [
    "# perform single-fold cross validation \n",
    "Xtrain, Xtest, ytrain, ytest = train_test_split(X_poly, drop_df['admin_rate'], test_size=0.30, random_state=42)\n",
    "\n",
    "# fit to training data \n",
    "m_poly = line_of_best_fit(Xtrain, ytrain)\n",
    "\n",
    "# pass testing data \n",
    "poly_rlst = linreg_predict(Xtest, ytest, m_poly)\n",
    "\n",
    "\n",
    "print(f\"MSE: {poly_rlst['mse']}, R^2: {poly_rlst['r2']}\")"
   ]
  },
  {
   "cell_type": "code",
   "execution_count": 60,
   "id": "f28f55cc-8ac6-4cc2-8be3-01eba7a851a3",
   "metadata": {},
   "outputs": [
    {
     "name": "stdout",
     "output_type": "stream",
     "text": [
      "R^2: 0.3443715874167258, MSE: 0.031819831036512\n"
     ]
    }
   ],
   "source": [
    "r_squaredP, mseP = loo_cv(X_poly, drop_df['admin_rate'])\n",
    "print(f\"R^2: {r_squaredP}, MSE: {mseP}\")\n",
    "\n",
    "# store info\n",
    "results_dct['polynomial'].append(r_squaredP)\n",
    "results_dct['polynomial'].append(mseP)"
   ]
  },
  {
   "cell_type": "markdown",
   "id": "019cf028-753a-4144-971a-5eaf0c29f0bd",
   "metadata": {},
   "source": [
    "# Assumption Testing!"
   ]
  },
  {
   "cell_type": "code",
   "execution_count": 69,
   "id": "1cccb001-0dec-4d36-a84c-e606c4b7fd0c",
   "metadata": {},
   "outputs": [
    {
     "data": {
      "image/png": "[encoded data removed]",
      "text/plain": [
       "<Figure size 640x480 with 1 Axes>"
      ]
     },
     "metadata": {},
     "output_type": "display_data"
    }
   ],
   "source": [
    "# plot residuals - on the full dataset \n",
    "\n",
    "# pass full data \n",
    "full_rlst = linreg_predict(X_poly, drop_df['admin_rate'], m_poly)\n",
    "\n",
    "sns.residplot(x=y, y=full_rlst['resids'], scatter_kws={'alpha': 0.5})\n",
    "plt.xlabel(\"Predicted\")\n",
    "plt.ylabel(\"Residuals\")\n",
    "\n",
    "plt.title(\"Residuals vs Predicted Values - Polynomial\")\n",
    "plt.show()"
   ]
  },
  {
   "cell_type": "code",
   "execution_count": 70,
   "id": "9d091540-249b-4ec9-8aa6-00eb0b5d0bab",
   "metadata": {},
   "outputs": [
    {
     "data": {
      "image/png": "[encoded data removed]",
      "text/plain": [
       "<Figure size 640x480 with 1 Axes>"
      ]
     },
     "metadata": {},
     "output_type": "display_data"
    }
   ],
   "source": [
    "# Normality Check \n",
    "sns.histplot(full_rlst['resids'], kde=False)\n",
    "plt.xlabel(\"Residuals\")\n",
    "plt.title(\"Histogram of Polynomial Regression Residuals\")\n",
    "plt.show()"
   ]
  },
  {
   "cell_type": "code",
   "execution_count": 71,
   "id": "546107fc-acc8-4632-a8ac-655d1e6a9213",
   "metadata": {},
   "outputs": [
    {
     "data": {
      "image/png": "[encoded data removed]",
      "text/plain": [
       "<Figure size 640x480 with 1 Axes>"
      ]
     },
     "metadata": {},
     "output_type": "display_data"
    }
   ],
   "source": [
    "# Check for independence \n",
    "plt.scatter(pd.Series(range(len(full_rlst['resids']))), full_rlst['resids'])\n",
    "plt.xlabel('Index')\n",
    "plt.ylabel('Residuals')\n",
    "plt.title('Polynomial Regression Residuals vs. Indices')\n",
    "plt.show()"
   ]
  },
  {
   "cell_type": "markdown",
   "id": "c7a04327-c83b-402b-8fdd-0628d4e3f85e",
   "metadata": {},
   "source": [
    "# Multiple Polynomial Regression "
   ]
  },
  {
   "cell_type": "code",
   "execution_count": null,
   "id": "8b3db91e-b07b-44a2-80c4-2cc57862edcb",
   "metadata": {},
   "outputs": [],
   "source": [
    "# now let's try multiple poly! \n",
    "poly = PolynomialFeatures(3)\n",
    "Xm_poly = poly.fit_transform(X_scaled)\n",
    "\n",
    "# drop the last bias column \n",
    "Xm_poly = Xm_poly[:, 1:]\n",
    "Xm_poly"
   ]
  },
  {
   "cell_type": "code",
   "execution_count": null,
   "id": "4d09d835-b7dd-4337-a857-f3dae2c56da2",
   "metadata": {},
   "outputs": [],
   "source": [
    "# perform single-fold cross validation \n",
    "Xtrain, Xtest, ytrain, ytest = train_test_split(Xm_poly, drop_df['admin_rate'], test_size=0.30, random_state=42)\n",
    "\n",
    "# fit to training data \n",
    "m_poly = line_of_best_fit(Xtrain, ytrain)\n",
    "\n",
    "# pass testing data \n",
    "poly_rlst = linreg_predict(Xtest, ytest, m_poly)\n",
    "\n",
    "\n",
    "print(f\"MSE: {poly_rlst['mse']}, R^2: {poly_rlst['r2']}\")"
   ]
  },
  {
   "cell_type": "code",
   "execution_count": null,
   "id": "5dbe44d5-4d8d-4f32-97a9-3edc383ff5af",
   "metadata": {},
   "outputs": [],
   "source": [
    "# LOO-CV\n",
    "r_squaredMP, mseMP = loo_cv(Xm_poly, y)\n",
    "print(f\"R^2: {r_squaredMP}, MSE: {mseMP}\")\n",
    "\n",
    "# store info\n",
    "results_dct['multiple polynomial'].append(r_squaredMP)\n",
    "results_dct['multiple polynomial'].append(mseMP)"
   ]
  },
  {
   "cell_type": "code",
   "execution_count": null,
   "id": "bba50046-1368-452d-8698-5e293d5a0cc5",
   "metadata": {},
   "outputs": [],
   "source": [
    "full_rlst2 = linreg_predict(Xm_poly, drop_df['admin_rate'], m_poly)\n",
    "\n",
    "sns.residplot(x=y, y=full_rlst2['resids'], scatter_kws={'alpha': 0.5})\n",
    "plt.xlabel(\"Predicted\")\n",
    "plt.ylabel(\"Residuals\")\n",
    "\n",
    "plt.title(\"Residuals vs Predicted Values - Multiple Polynomial\")\n",
    "plt.show()"
   ]
  },
  {
   "cell_type": "markdown",
   "id": "669dde6c-10b8-44e2-9d07-3d41932d6e51",
   "metadata": {},
   "source": [
    "# Regression Results"
   ]
  },
  {
   "cell_type": "code",
   "execution_count": null,
   "id": "3795ffa0-ab0e-42da-a0bd-327567da95bc",
   "metadata": {},
   "outputs": [],
   "source": [
    "# -- convert results dct to dataframe \n",
    "results_df = pd.DataFrame.from_dict(results_dct, orient='index', columns=['R2', 'MSE']).reset_index()\n",
    "\n",
    "# Rename columns\n",
    "results_df.rename(columns={'index': 'Model Name'}, inplace=True)\n",
    "\n",
    "# Display the DataFrame\n",
    "results_df"
   ]
  },
  {
   "cell_type": "code",
   "execution_count": null,
   "id": "2a1f8d11-ed87-41c3-bde6-579e7b97ad0a",
   "metadata": {},
   "outputs": [],
   "source": [
    "# plot the results using a bar chart - R^2 Scores \n",
    "\n",
    "# Add a short index column for the x-axis\n",
    "results_df['Model Index'] = range(1, len(results_df) + 1)\n",
    "\n",
    "# Plot using the short index as the x-axis\n",
    "sns.barplot(data=results_df, x=\"Model Index\", y=\"R2\", hue='Model Name')\n",
    "\n",
    "# Customize x-axis and y-axis\n",
    "plt.xticks(ticks=range(len(results_df)), labels=results_df['Model Index'])\n",
    "plt.xlabel('Model Index')\n",
    "plt.ylabel('R2 Score')\n",
    "\n",
    "# Show the plot\n",
    "plt.legend(bbox_to_anchor=(1.05, 1),loc='upper left')\n",
    "plt.title(\"R^2 Scores Across Regression Models - LOO CV\")\n",
    "plt.show()"
   ]
  },
  {
   "cell_type": "markdown",
   "id": "ce77c1cf-57c6-4337-816f-be7504f35c69",
   "metadata": {},
   "source": [
    "# KMeans Clustering "
   ]
  },
  {
   "cell_type": "code",
   "execution_count": null,
   "id": "7f7670b1-7264-4add-8e7c-19c1feb060c7",
   "metadata": {},
   "outputs": [],
   "source": [
    "# pick out features \n",
    "drop_df.columns"
   ]
  },
  {
   "cell_type": "markdown",
   "id": "7e3d6a62-8ac2-4c05-92e2-b24d1cbbebae",
   "metadata": {},
   "source": [
    "First try with these features:\n",
    "- admin_rate\n",
    "- school size\n",
    "- avg_sat "
   ]
  },
  {
   "cell_type": "code",
   "execution_count": null,
   "id": "e5b63708-a527-40de-bc80-2bac2aff64e7",
   "metadata": {},
   "outputs": [],
   "source": [
    "import matplotlib.cm as cm\n",
    "from sklearn.cluster import KMeans"
   ]
  },
  {
   "cell_type": "code",
   "execution_count": null,
   "id": "a97a01c7-c0a5-4b4d-b089-4737c358e663",
   "metadata": {},
   "outputs": [],
   "source": [
    "k_means_feat = ['size', 'admin_rate', 'avg_sat']\n",
    "X = drop_df[k_means_feat]\n",
    "\n",
    "# need to standarize the data! \n",
    "X_scaled = pd.DataFrame()\n",
    "\n",
    "for feat in X.columns:\n",
    "    X_scaled[f'{feat}_scaled'] = ((X[feat] - X[feat].mean()) / X[feat].std())"
   ]
  },
  {
   "cell_type": "code",
   "execution_count": null,
   "id": "d87e454c-66bf-4a8b-a06e-12f35d6dc987",
   "metadata": {},
   "outputs": [],
   "source": [
    "#Find optimum number of cluster\n",
    "\n",
    "sse = [] #SUM OF SQUARED ERROR\n",
    "for k in range(1,11):\n",
    "    km = KMeans(n_clusters=k, random_state=2)\n",
    "    km.fit(X)\n",
    "    sse.append(km.inertia_)"
   ]
  },
  {
   "cell_type": "code",
   "execution_count": null,
   "id": "b87d51ea-dbea-4ce7-9a1a-cb807f3acaba",
   "metadata": {},
   "outputs": [],
   "source": [
    "# plot the SSE against different k-values | ELBOW METHOD\n",
    "plt.scatter(range(1,11), sse)\n",
    "plt.plot(range(1,11), sse)\n",
    "\n",
    "plt.xlabel(\"Number of cluster (k)\") \n",
    "plt.ylabel(\"Sum Squared Error\") \n",
    "plt.title('Elbow Method')\n",
    "\n",
    "plt.show()"
   ]
  },
  {
   "cell_type": "code",
   "execution_count": null,
   "id": "502de19c-4422-47e0-bc48-5392e54a0309",
   "metadata": {},
   "outputs": [],
   "source": [
    "# ELBOW seems to be 3\n",
    "kmeans = KMeans(n_clusters = 3, random_state = 42)\n",
    "kmeans.fit(X_scaled)\n",
    "\n",
    "# find the cluster centers \n",
    "kmeans.cluster_centers_\n",
    "\n",
    "pred = kmeans.fit_predict(X_scaled)\n",
    "# pred"
   ]
  },
  {
   "cell_type": "code",
   "execution_count": null,
   "id": "e92b0322-4ee8-4868-aabe-0fa25fb723af",
   "metadata": {},
   "outputs": [],
   "source": [
    "kmeans_df = X_scaled.copy()\n",
    "kmeans_df['cluster'] = pred\n",
    "\n",
    "kmeans_df.head()"
   ]
  },
  {
   "cell_type": "code",
   "execution_count": null,
   "id": "a8f40a70-bb68-4d3a-b415-f9577a63bdc1",
   "metadata": {},
   "outputs": [],
   "source": [
    "def map_features(X):\n",
    "    \"\"\"Maps feature names to their corresponding column index in the DataFrame.\"\"\"\n",
    "    return {col: idx for idx, col in enumerate(X.columns)}"
   ]
  },
  {
   "cell_type": "code",
   "execution_count": null,
   "id": "507cd1cd-abce-4e41-994d-7318754b101e",
   "metadata": {},
   "outputs": [],
   "source": [
    "from itertools import combinations\n",
    "\n",
    "def plot_clustering(X):\n",
    "    \"\"\"Function to plot clustering results\"\"\"\n",
    "    \n",
    "    # Correctly remove 'cluster' column from columns list\n",
    "    cols = [col for col in X.columns if col != 'cluster']\n",
    "    \n",
    "    # Now, X_actual should contain all columns except 'cluster'\n",
    "    X_actual = X[cols]\n",
    "    \n",
    "    # Get the predictions (cluster labels)\n",
    "    pred = X['cluster']\n",
    "    \n",
    "    # Plot combinations of columns\n",
    "    for combo in list(combinations(X_actual.columns, 2)): \n",
    "        sns.scatterplot(x=X_actual[combo[0]], y=X_actual[combo[1]], hue=pred, palette='colorblind')\n",
    "        plt.grid(True)\n",
    "\n",
    "        # Plot cluster centers\n",
    "        for center in kmeans.cluster_centers_:\n",
    "            i = map_features(X_actual).get(combo[0])\n",
    "            j = map_features(X_actual).get(combo[1])\n",
    "            center = [center[i], center[j]] \n",
    "            plt.scatter(center[0], center[1], marker='^', c='red')\n",
    "            \n",
    "        plt.xlabel(f\"{combo[0]}\")\n",
    "        plt.ylabel(f\"{combo[1]}\")\n",
    "\n",
    "        plt.title('KMeans Clustering Scatterplot')\n",
    "        plt.legend()\n",
    "        plt.show()"
   ]
  },
  {
   "cell_type": "code",
   "execution_count": null,
   "id": "ca60c016-f9e6-4177-a3ad-cf032a1b3e39",
   "metadata": {},
   "outputs": [],
   "source": [
    "# plot the clustering! \n",
    "plot_clustering(kmeans_df)"
   ]
  },
  {
   "cell_type": "markdown",
   "id": "ba1c3bca-5c52-4b9c-a52b-e00160f277ae",
   "metadata": {},
   "source": [
    "## Violin Plots to look at distribution \n",
    "\n",
    "**Interpretation**:\n",
    "- add in!"
   ]
  },
  {
   "cell_type": "code",
   "execution_count": null,
   "id": "368e5652-7664-420e-84d1-caf5f3f208ec",
   "metadata": {},
   "outputs": [],
   "source": [
    "# Violin Plots \n",
    "cols = list(kmeans_df.columns)[:3]\n",
    "print(cols)\n",
    "\n",
    "# make one for each fature!\n",
    "for name in cols:\n",
    "    sns.violinplot(x=\"cluster\", y=name, data=kmeans_df, hue='cluster', palette=\"colorblind\")\n",
    "    plt.title(f\"Violin plot for {name}\")\n",
    "    plt.legend()\n",
    "    \n",
    "    plt.show()"
   ]
  },
  {
   "cell_type": "markdown",
   "id": "e59062c4-a24a-4959-b3c3-98b705b78f7c",
   "metadata": {},
   "source": [
    "# Clustering w/ PCA \n",
    "- lower the dimensionality of the three features "
   ]
  },
  {
   "cell_type": "code",
   "execution_count": null,
   "id": "89c1a766-385b-4c8c-9e91-850e26bd90bf",
   "metadata": {},
   "outputs": [],
   "source": [
    "# Step 1: Apply PCA\n",
    "from sklearn.decomposition import PCA\n",
    "\n",
    "pca = PCA(n_components=2)\n",
    "X_pca = pca.fit_transform(X_scaled)"
   ]
  },
  {
   "cell_type": "code",
   "execution_count": null,
   "id": "2687cf8c-e3d0-4dc0-b35b-0e81070b4507",
   "metadata": {},
   "outputs": [],
   "source": [
    "# See the coefficents of how much each orginal variable makes up the PCA componenets\n",
    "\n",
    "loadsings = pca.components_.T * np.sqrt(pca.explained_variance_)\n",
    "loading_df = pd.DataFrame(loadings, \n",
    "                        columns=[\"PC1\", \"PC2\"],\n",
    "                       index=X_scaled.columns)\n",
    "\n",
    "loading_df"
   ]
  },
  {
   "cell_type": "code",
   "execution_count": null,
   "id": "b7541086-0fcd-411c-8eeb-e3cb82337f33",
   "metadata": {},
   "outputs": [],
   "source": [
    "# plot the loadings to better visualize\n",
    "for i, col in enumerate(loadings.columns):\n",
    "    plt.bar(loading_df.index, loadings[col], label=f'{col}')\n",
    "    \n",
    "plt.axhline(0, color='grey', linestyle='--')\n",
    "plt.title(\"PCA Loadings\")\n",
    "plt.ylabel(\"Loading Value\")\n",
    "plt.xlabel(\"Features\")\n",
    "plt.legend()\n",
    "plt.show()"
   ]
  },
  {
   "cell_type": "code",
   "execution_count": null,
   "id": "b6ca1289-a3e7-4555-90be-acfe3b060b75",
   "metadata": {},
   "outputs": [],
   "source": [
    "# Plot heatmap of loadings to see feature importance \n",
    "sns.heatmap(loadings, annot=True, cmap='coolwarm')\n",
    "plt.title('Feature Importance in Principal Components')\n",
    "plt.show()"
   ]
  },
  {
   "cell_type": "code",
   "execution_count": null,
   "id": "92a2fc4e-28c3-4f7b-a3d5-cd6fe28fcb82",
   "metadata": {},
   "outputs": [],
   "source": [
    "sse = [] #SUM OF SQUARED ERROR\n",
    "for k in range(1,11):\n",
    "    km = KMeans(n_clusters=k, random_state=2)\n",
    "    km.fit(X)\n",
    "    sse.append(km.inertia_)\n",
    "\n",
    "sns.set_style(\"whitegrid\")\n",
    "g=sns.lineplot(x=range(1,11), y=sse)\n",
    "\n",
    "g.set(xlabel =\"Number of cluster (k)\", \n",
    "      ylabel = \"Sum Squared Error\", \n",
    "      title ='Elbow Method')\n",
    "\n",
    "plt.show()"
   ]
  },
  {
   "cell_type": "code",
   "execution_count": null,
   "id": "5acd190f-df8d-412a-9c55-82fc8352f3c8",
   "metadata": {},
   "outputs": [],
   "source": [
    "pca_df = pd.DataFrame(X_pca, columns=['pca1', 'pca2'])\n",
    "\n",
    "# store the cluster assignments\n",
    "pred2 = kmeans.fit_predict(X_pca)\n",
    "pca_df['cluster'] = pred2\n",
    "\n",
    "pca_df.head()"
   ]
  },
  {
   "cell_type": "code",
   "execution_count": null,
   "id": "2d080882-4bca-406a-a4c7-9ec2a333e8df",
   "metadata": {},
   "outputs": [],
   "source": [
    "# Step 2: Perform k-means clustering on PCA-transformed data\n",
    "kmeans = KMeans(n_clusters=3, random_state=42)\n",
    "kmeans.fit(X_pca)\n",
    "\n",
    "# Step 3: Retrieve results\n",
    "print(\"Explained Variance Ratio:\", pca.explained_variance_ratio_)\n",
    "print(\"Number of components:\", pca.n_components_)\n",
    "print(\"Cluster Centers (PCA space):\\n\", kmeans.cluster_centers_)\n",
    "\n",
    "scatter = plt.scatter(X_pca[:, 0], X_pca[:, 1], c=kmeans.labels_, cmap='viridis', s=50)\n",
    "plt.scatter(kmeans.cluster_centers_[:, 0], kmeans.cluster_centers_[:, 1], s=200, c='red', marker='X')\n",
    "plt.title(\"Clustering after PCA\")\n",
    "\n",
    "# Add the legend\n",
    "plt.legend(*scatter.legend_elements(), title=\"Clusters\")\n",
    "plt.xlabel(\"pca1\")\n",
    "plt.xlabel(\"pca2\")\n",
    "\n",
    "plt.show()"
   ]
  },
  {
   "cell_type": "markdown",
   "id": "88a037f1-5afb-428c-a2b2-c185b71c2c09",
   "metadata": {},
   "source": [
    "# Violin Plots \n",
    "\n",
    "Interpretation:\n",
    "- add in"
   ]
  },
  {
   "cell_type": "code",
   "execution_count": null,
   "id": "3c0fc946-2fa6-4d11-b053-c5328cc482a2",
   "metadata": {},
   "outputs": [],
   "source": [
    "# plot for both pca1 and pca2\n",
    "for name in list(pca_df.columns)[:2]:\n",
    "    sns.violinplot(x=\"cluster\", y=name, data=pca_df, hue='cluster', palette=\"viridis\")\n",
    "    plt.title(f\"Violin plot for {name}\")\n",
    "    plt.legend()\n",
    "    \n",
    "    plt.show()"
   ]
  },
  {
   "cell_type": "code",
   "execution_count": null,
   "id": "57913041-2232-430a-90cf-65bf8f56436a",
   "metadata": {},
   "outputs": [],
   "source": []
  },
  {
   "cell_type": "code",
   "execution_count": null,
   "id": "7a3de8ca-0b1d-4dd4-9c68-d2745da06c46",
   "metadata": {},
   "outputs": [],
   "source": []
  },
  {
   "cell_type": "code",
   "execution_count": null,
   "id": "68b96574-4aa2-47f9-bdcd-df3ab5a6b535",
   "metadata": {},
   "outputs": [],
   "source": []
  },
  {
   "cell_type": "markdown",
   "id": "ac4cf663-b420-4e10-afdc-7229a8076a7f",
   "metadata": {},
   "source": [
    "# RUN CODE "
   ]
  },
  {
   "cell_type": "code",
   "execution_count": null,
   "id": "044388fb",
   "metadata": {},
   "outputs": [],
   "source": [
    "# Running the code\n",
    "def test_type() -> int, str:\n",
    "    if sat_or_act.lower() == \"sat\":\n",
    "        sat_score = input(\"SAT Score: \")\n",
    "        return sat_score, \"act\"\n",
    "    elif sat_or_act.lower() == \"act\":\n",
    "        act_score = input(\"ACT Score: \")\n",
    "        return act_score, \"sat\"\n",
    "    else:\n",
    "        raise ValueError(f\"{sat_or_act} is an invalid test.\")\n",
    "\n",
    "def ask_for_state(df) -> DataFrame:\n",
    "    state = input(\"What state would you like to look at? (e.g. AZ, MA, ...): \")\n",
    "    \n",
    "    if state.upper() in df['school.state'].unique():\n",
    "        state_df = get_state_df(df, state)\n",
    "        return state_df\n",
    "    else:\n",
    "        raise ValueError(f\"{state} is an invalid state.\")\n",
    "        \n",
    "def get_state_df(df, state) -> DataFrame:\n",
    "    state_dfs = []\n",
    "\n",
    "    for school in df['school.state'].unique():\n",
    "        state_specific_df = df[df['school.state'] == state]\n",
    "    \n",
    "        state_dfs.append(state_specific_df)\n",
    "\n",
    "    state_df = pd.concat(state_dfs, ignore_index=True)\n",
    "    \n",
    "    return state_df\n",
    "\n",
    "def get_reach(state_df, score):\n",
    "    reach_schools = []\n",
    "    school = []\n",
    "    +100\n",
    "    \n",
    "    for index in state_df['latest.admissions.sat_scores.average.overall'].unique():\n",
    "        if df['latest.admissions.sat_scores.average.overall'].unique() >= score+100:\n",
    "            school.append(df['school.name'].unique())\n",
    "            school.append(df['latest.admissions.sat_scores.average.overall'].unique())\n",
    "    \n",
    "def run():\n",
    "    sat_or_act = input(\"What test would you like to use? (ACT or SAT): \")\n",
    "    score, test = test_type()\n",
    "    \n",
    "    print(\"Fetching all college data...\")\n",
    "    all_states = get_all_states_data(key, state_abbreviations)\n",
    "    flattened_data = [school for state_data in all_states for school in state_data]\n",
    "\n",
    "    df = pd.DataFrame(flattened_data)\n",
    "    \n",
    "    state_df = ask_for_state(df)\n",
    "    \n",
    "    \n",
    "    print(state_df)\n",
    "              \n",
    "    \n",
    "        \n",
    "run()\n",
    "    "
   ]
  },
  {
   "cell_type": "code",
   "execution_count": null,
   "id": "0dd236b4",
   "metadata": {},
   "outputs": [],
   "source": [
    "# Run this cell to run the project!\n",
    "run()"
   ]
  }
 ],
 "metadata": {
  "kernelspec": {
   "display_name": "Python 3 (ipykernel)",
   "language": "python",
   "name": "python3"
  },
  "language_info": {
   "codemirror_mode": {
    "name": "ipython",
    "version": 3
   },
   "file_extension": ".py",
   "mimetype": "text/x-python",
   "name": "python",
   "nbconvert_exporter": "python",
   "pygments_lexer": "ipython3",
   "version": "3.11.10"
  }
 },
 "nbformat": 4,
 "nbformat_minor": 5
}
