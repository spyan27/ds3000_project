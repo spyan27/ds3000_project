{
 "cells": [
  {
   "cell_type": "markdown",
   "id": "4939929c",
   "metadata": {},
   "source": [
    "# Phase II: Data Curation, Exploratory Analysis and Plotting\n",
    "## Project Title Here\n",
    "\n",
    "- Team\n",
    "- John Rotondo, Spring Yan, Anne Hu, Evan Li"
   ]
  },
  {
   "cell_type": "markdown",
   "id": "709b10b9",
   "metadata": {},
   "source": [
    "## Project Goal:\n",
    "\n",
    "Project goal here."
   ]
  },
  {
   "cell_type": "markdown",
   "id": "c25d2059",
   "metadata": {},
   "source": [
    "## Pipeline Overview:\n",
    "\n",
    "Explain how we would scrape here"
   ]
  },
  {
   "cell_type": "markdown",
   "id": "bc170a78",
   "metadata": {},
   "source": [
    "### Pipeline:"
   ]
  },
  {
   "cell_type": "markdown",
   "id": "d7a6e5f5",
   "metadata": {},
   "source": [
    "#### 0. Imports:"
   ]
  },
  {
   "cell_type": "code",
   "execution_count": 1,
   "id": "915d699a",
   "metadata": {},
   "outputs": [],
   "source": [
    "import requests\n",
    "import os\n",
    "import random\n",
    "import time\n",
    "import json\n",
    "import pandas as pd\n",
    "import numpy as np\n",
    "from bs4 import BeautifulSoup\n",
    "\n",
    "# For automating web browsers\n",
    "# This library mainly used for websites with dynamic content. \n",
    "# I included what professor had just in case we do pick a dynamic website.\n",
    "# We could also just use requests, BeautifulSoup, or lxml if a static website (completly dependent on our topic website).\n",
    "from selenium import webdriver\n",
    "from selenium.webdriver.common.by import By\n",
    "from selenium.webdriver.common.action_chains import ActionChains\n",
    "from selenium.webdriver.common.keys import Keys\n",
    "from selenium.webdriver.support.ui import WebDriverWait\n",
    "from selenium.webdriver.support import expected_conditions as EC\n",
    "from selenium.webdriver.support.ui import WebDriverWait\n",
    "from selenium.webdriver.support import expected_conditions as EC\n",
    "from selenium.common.exceptions import TimeoutException\n",
    "\n",
    "# For plotting\n",
    "import matplotlib.pyplot as plt\n",
    "import seaborn as sns\n",
    "import plotly.express as px"
   ]
  },
  {
   "cell_type": "markdown",
   "id": "d349e9ee",
   "metadata": {},
   "source": [
    "#### 1. Query Generation:"
   ]
  },
  {
   "cell_type": "code",
   "execution_count": null,
   "id": "7442447c",
   "metadata": {},
   "outputs": [],
   "source": []
  },
  {
   "cell_type": "markdown",
   "id": "4107f60e",
   "metadata": {},
   "source": [
    "#### 2. Selenium Crawler:"
   ]
  },
  {
   "cell_type": "code",
   "execution_count": null,
   "id": "f17e6083",
   "metadata": {},
   "outputs": [],
   "source": [
    "# Uses selenium library\n",
    "def open_browser():\n",
    "    '''\n",
    "    Opens a new automated browser window with all tell-tales of automated browser disabled\n",
    "    '''\n",
    "    options = webdriver.ChromeOptions()\n",
    "    options.add_argument(\"start-maximized\")\n",
    "    \n",
    "    # remove all signs of this being an automated browser\n",
    "    options.add_argument('--disable-blink-features=AutomationControlled')\n",
    "    options.add_experimental_option(\"excludeSwitches\", [\"enable-automation\"])\n",
    "    options.add_experimental_option('useAutomationExtension', False)\n",
    "\n",
    "    # open the browser with the new options\n",
    "    driver = webdriver.Chrome(options=options)\n",
    "    return driver"
   ]
  },
  {
   "cell_type": "code",
   "execution_count": 2,
   "id": "b1699490",
   "metadata": {},
   "outputs": [],
   "source": [
    "def load_website(driver, attempts = 5):\n",
    "    ..."
   ]
  },
  {
   "cell_type": "markdown",
   "id": "e65216d9",
   "metadata": {},
   "source": [
    "#### 3. Webscraping:"
   ]
  },
  {
   "cell_type": "code",
   "execution_count": null,
   "id": "838e88fd",
   "metadata": {},
   "outputs": [],
   "source": []
  },
  {
   "cell_type": "markdown",
   "id": "fd6c4aec",
   "metadata": {},
   "source": [
    "#### 4. Cleaning the Data:"
   ]
  },
  {
   "cell_type": "code",
   "execution_count": null,
   "id": "45e276e9",
   "metadata": {},
   "outputs": [],
   "source": []
  },
  {
   "cell_type": "markdown",
   "id": "4b9b1ffb",
   "metadata": {},
   "source": [
    "## Plotting:"
   ]
  },
  {
   "cell_type": "code",
   "execution_count": null,
   "id": "3dcaf8ec",
   "metadata": {},
   "outputs": [],
   "source": [
    "# for this we can plot the student population for each school on the recommended list"
   ]
  },
  {
   "cell_type": "markdown",
   "id": "e4059326",
   "metadata": {},
   "source": [
    "## Analysis/ML Plan:"
   ]
  },
  {
   "cell_type": "markdown",
   "id": "c793a610",
   "metadata": {},
   "source": [
    "Plan here"
   ]
  }
 ],
 "metadata": {
  "kernelspec": {
   "display_name": "Python 3 (ipykernel)",
   "language": "python",
   "name": "python3"
  },
  "language_info": {
   "codemirror_mode": {
    "name": "ipython",
    "version": 3
   },
   "file_extension": ".py",
   "mimetype": "text/x-python",
   "name": "python",
   "nbconvert_exporter": "python",
   "pygments_lexer": "ipython3",
   "version": "3.9.12"
  }
 },
 "nbformat": 4,
 "nbformat_minor": 5
}
