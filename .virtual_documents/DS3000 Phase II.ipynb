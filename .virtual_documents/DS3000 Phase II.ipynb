














import requests
import os
import random
import time
import json
import pandas as pd
import numpy as np
from bs4 import BeautifulSoup

# For plotting
import matplotlib.pyplot as plt
import seaborn as sns
import plotly.express as px





# this is the API key for college scorecard
key = 'eKqjIMsTr8NFbXbKmGecMsA1oebkdIPd3TlGeEGY'

# this is the URL and the key used to get access to the API.
url = 'https://api.data.gov/ed/collegescorecard/v1/schools'






def get_school_ids(schools: tuple[str]) -> dict:
    """
    Gets the school ids from College ScoreCard
    Params:
        Schools (tuple(str)) is a collection of the school names you want the ids for
    Return:
        A Dictionary where the key is the name of the school and the ids are the values
    """
    dc = {}
    for school in schools:
        params = {
            'school.name': school,
            'fields': 'id,school.name,school.city,school.state',
            'api_key': 'eKqjIMsTr8NFbXbKmGecMsA1oebkdIPd3TlGeEGY'
        }
        response = requests.get('https://api.data.gov/ed/collegescorecard/v1/schools', params=params)
        data = response.json()

        if 'results' in data:
            for result in data['results']:
                school_name = result.get('school.name', 'N/A')
                if school_name != school:
                    continue
                dc[school] = result.get('id')
        else:
            raise ValueError(school + "data not found")
    return dc



def find_school(schoolID: str):
    """
    Finds a school based on id and returns a dataframe containing its relevant details

    Args:
        school (str) the name of the school
    
    Returns:
        returns a dataframe containing details for that school
    """
    school_info = []
    
    # This is the URL and the key used to get access to the API.
    url = 'https://api.data.gov/ed/collegescorecard/v1/schools'
    key = 'eKqjIMsTr8NFbXbKmGecMsA1oebkdIPd3TlGeEGY'
    
    # Parameters for the API request
    api_req = {
        'api_key': key,
        'id': schoolID,
        'fields': 'id,school.name,school.city,latest.admissions.sat_scores.average.overall,latest.admissions.act_scores.midpoint.cumulative'
    }

    # Gets the data from the College Scorecard API and turns it into json format
    response = requests.get(url, params=api_req)

    data = response.json()
    
    # Appending data to list for a school in the results
    for x in data.get('results', []):
        school_info.append({
            'School ID': x.get('id'),
            'School Name': x.get('school.name'),
            'City': x.get('school.city'),
            'SAT Average': x.get('latest.admissions.sat_scores.average.overall'),
            'ACT Average': x.get('latest.admissions.act_scores.midpoint.cumulative')
        })
    # Turn the list to a DataFrame
    df = pd.DataFrame(school_info)
    return df

ids = get_school_ids(("Northeastern University", "Northwestern University"))
print(ids)
df = find_school('167358')
print(df)





def get_pages_data(key, student_size=10000):
    """Gets the api response and applies filter on student size, making sure to go through all the pages of data 
    Params:
    - key = api key 
    - student_size = minimum threshold (int)
    Returns:
    A list with the api response stored """
    # Base URL for the College Scorecard API
    base_url = "https://api.data.gov/ed/collegescorecard/v1/schools"
    
    # Parameters for the API call
    params = {
        'api_key': key,
        'per_page': 100,  # Number of records per page (max is usually 100)
        'page': 0,  # Start at the first page
        f'student.size__range': f'{student_size}..'  # Filter for schools with more than 50,000 students
    }
    
    # List to store all school data
    all_schools = []
    
    # Loop through pages until there are no more results
    while True:
        # Increment the page number
        params['page'] += 1
        
        # Make the API request
        response = requests.get(base_url, params=params)
        
        # Check the response status
        if response.status_code != 200:
            print(f"Error: {response.status_code}, {response.text}")
            break
    
        # Get the JSON data
        data = response.json()
        
        # Check if there are results
        if 'results' in data and len(data['results']) > 0:
            # Append the results to the all_schools list
            all_schools.extend(data['results'])
            print(f"Retrieved {len(data['results'])} records from page {params['page']}")
        else:
            # If there are no more results, break the loop
            print(f"No more records found on page {params['page']}. Stopping.")
            break
    
    # Print the total number of schools retrieved
    print(f"Total schools retrieved: {len(all_schools)}")
    return all_schools


data_dct = get_pages_data(key, 5000)





from collections import defaultdict 

def get_all_sat_scores(data_dct):
    """
    Extracts all valid SAT scores from the dataset and returns their rounded average for schools that do not require test scores.
    """
    # iterates through all schools' SAT scores that are not None and stores them in a list
    sat_scores = [
        school['latest']['admissions']['sat_scores']['average']['overall']
        for school in data_dct
        if school['latest']['admissions']['sat_scores']['average']['overall'] is not None
    ]
    
    if len(sat_scores) > 0:
        avg_sat = round(sum(sat_scores) / len(sat_scores))
    else:
        avg_sat = None

    return avg_sat

def get_all_act_scores(data_dct):
    """
    Extracts all valid ACT midpoint scores from the dataset and returns their rounded average.
    """
    # iterates through all schools' ACT scores that are not None and stores them in a list
    act_scores = [
        school['latest']['admissions']['act_scores']['midpoint']['cumulative']
        for school in data_dct
        if school['latest']['admissions']['act_scores']['midpoint']['cumulative'] is not None
    ]

    if len(act_scores) > 0:
        avg_act = round(sum(act_scores) / len(act_scores))
    else:
        avg_act = None

    return avg_act

def build_df(data_dct):
    """ Given the json response, gather the data in the colleges_dct and conduct cleaning/filling in missing values for 
        test scores
    """

    # initialize dictionary to store college data
    colleges_dct = defaultdict(list)

    # gets the average SAT and ACT scores across all schools in the data set for missing values
    overall_avg_sat = get_all_sat_scores(data_dct)
    overall_avg_act = get_all_act_scores(data_dct)

    # loop over each "school" in the data_dct
    for i in range(len(data_dct)):
        school_data = data_dct[i]['latest']['school']
        student_data = data_dct[i]['latest']['student']
        admin_data = data_dct[i]['latest']['admissions']

        # append school data
        colleges_dct['name'].append(school_data.get('name'))
        colleges_dct['city'].append(school_data.get('city'))
        colleges_dct['state'].append(school_data.get('state'))

        # append student data
        colleges_dct['size'].append(student_data.get('size'))

        # append admissions data
        colleges_dct['admin_rate'].append(admin_data.get('admission_rate', {}).get('overall'))

        # appends test requirement status based on integers given (0-5)
        test_requirement = admin_data.get('test_requirements')
        if test_requirement == 0:
            colleges_dct['test_requirement'].append('Not Required')
        elif test_requirement == 1:
            colleges_dct['test_requirement'].append('Required')
        elif test_requirement == 2:
            colleges_dct['test_requirement'].append('Recommended')
        elif test_requirement == 3:
            colleges_dct['test_requirement'].append('Niether Rec. or Req.')
        elif test_requirement == 4:
            colleges_dct['test_requirement'].append('Not Known')
        else:
            colleges_dct['test_requirement'].append('Considered but not Req.')

        # if a school does not require test scores appends average of data set ACT test scores
        midpoint_act = admin_data.get('act_scores', {}).get('midpoint', {}).get('cumulative')
        if midpoint_act is None:
            colleges_dct['midpoint_ACT'].append(overall_avg_act)
        else:
            colleges_dct['midpoint_ACT'].append(round(midpoint_act))

        # if a school does not require test scores appends average of data set SAT test scores
        average_sat = admin_data.get('sat_scores', {}).get('average', {}).get('overall')
        if average_sat is None:
            colleges_dct['avg_SAT'].append(overall_avg_sat)
        else:
            colleges_dct['avg_SAT'].append(round(average_sat))

    return colleges_dct


college_df = pd.DataFrame(build_df(data_dct))
college_df








# for this we can plot the student population for each school on the recommended list


# ----- just a test plot using plotly 
import plotly.express as px

# plot to see relationship between average SAT scores and admissions rate for colleges 
fig = px.scatter(college_df, x='admin_rate', y='avg_SAT', color='size', hover_name='name', title="Admission Rate vs Average SAT Score")

fig.show()


# plot to see average test scores depending what state a college is in - could be helpful to students deciding whether to stay in-state or out-of-state

group_df = college_df.groupby(by="state")['avg_SAT'].mean().reset_index()

score_fig = px.choropleth(group_df, locations="state", locationmode="USA-states", color="avg_SAT", color_continuous_scale="Viridis",
                          scope="usa",labels={'avg_SAT': 'Average SAT Score'}, title="Average SAT Scores by State")
score_fig.show()



import matplotlib.pyplot as plt
# Analyze the average SAT scores thorugh a box plot

# Assuming college_df is your DataFrame with 'avg_SAT' and 'midpoint_ACT' columns
SAT_scores = college_df["avg_SAT"].tolist()
ACT_scores = college_df["midpoint_ACT"].tolist()
test_scores = [SAT_scores, ACT_scores]

# Create the boxplot
plt.figure(figsize=(10, 6))
plt.boxplot(SAT_scores, showfliers=False)

# Add titles and labels
plt.title('Boxplot of College Average SAT Scores')
plt.xlabel('SAT')
plt.ylabel('Scores')
plt.grid(axis='y') 

# Show the plot
plt.show()



# compare the different test requirements amongst 
group_req_df = college_df.groupby(by='test_requirement')[['avg_SAT', 'midpoint_ACT']].mean().reset_index()

# Answer the question: How does the test requirement influence the average test scores?

# (1) SAT Scores
bar_fig = px.bar(group_req_df, x="test_requirement", y="avg_SAT", title="Average SAT Scores Among Different Test Requirements")
bar_fig.show()


# (2) ACT Scores
bar2_fig = px.bar(group_req_df, x="test_requirement", y="midpoint_ACT", title="Average SAT Scores Among Different Test Requirements")
bar2_fig.show()









