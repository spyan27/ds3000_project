{
 "cells": [
  {
   "cell_type": "code",
   "execution_count": 7,
   "id": "e1fba09e-7d7e-4feb-a290-10d11cce0c59",
   "metadata": {},
   "outputs": [],
   "source": [
    "from secret import key\n",
    "import requests\n",
    "import json\n",
    "import pandas as pd\n",
    "import numpy as np\n",
    "from bs4 import BeautifulSoup"
   ]
  },
  {
   "cell_type": "code",
   "execution_count": 10,
   "id": "d28124c5-8342-4888-9a6f-7a0fd6820b47",
   "metadata": {},
   "outputs": [
    {
     "data": {
      "text/plain": [
       "<html>\n",
       "<head>\n",
       "<title>Laney's Fake Web page</title>\n",
       "</head>\n",
       "<body>\n",
       "<h1>Header!</h1>\n",
       "<p>Hello I am a paragraph of some content. Content content content.</p>\n",
       "<p>I am the second paragraph, with more information. <a href=\"index.html\">click here</a>.</p>\n",
       "<img src=\"https://i0.wp.com/news.northeastern.edu/wp-content/uploads/2022/07/072822_AS_Sarge_001.jpg?w=1400&amp;ssl=1\" width=\"100\"/>\n",
       "<img alt=\"Cooper, Northeastern's community dog\" height=\"100\" src=\"https://i0.wp.com/news.northeastern.edu/wp-content/uploads/2021/06/062421_MM_cooper_039.jpg?w=1400&amp;ssl=1\" width=\"100\"/>\n",
       "<img alt=\"Paws, of the Howlin Huskies\" src=\"https://huntnewsnu.com/wp-content/uploads/2014/05/1565016743_c8982ca545_z.jpg\" width=\"100\"/>\n",
       "<h2>Smaller Header</h2>\n",
       "<p>More content. <a href=\"index.html\">click here also</a>.\n",
       "\t</p>\n",
       "</body>\n",
       "</html>"
      ]
     },
     "execution_count": 10,
     "metadata": {},
     "output_type": "execute_result"
    }
   ],
   "source": [
    "# need to add in a website we can actually use! \n",
    "url = \"need to add!\n",
    "response = requests.get(url)\n",
    "soup = BeautifulSoup(response.text)\n",
    "\n",
    "soup"
   ]
  },
  {
   "cell_type": "code",
   "execution_count": null,
   "id": "4b599ee7-29b3-4231-b02f-4e71bd77738b",
   "metadata": {},
   "outputs": [],
   "source": []
  }
 ],
 "metadata": {
  "kernelspec": {
   "display_name": "Python 3 (ipykernel)",
   "language": "python",
   "name": "python3"
  },
  "language_info": {
   "codemirror_mode": {
    "name": "ipython",
    "version": 3
   },
   "file_extension": ".py",
   "mimetype": "text/x-python",
   "name": "python",
   "nbconvert_exporter": "python",
   "pygments_lexer": "ipython3",
   "version": "3.11.10"
  }
 },
 "nbformat": 4,
 "nbformat_minor": 5
}
